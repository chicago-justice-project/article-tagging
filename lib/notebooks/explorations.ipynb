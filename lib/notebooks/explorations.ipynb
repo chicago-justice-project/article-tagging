{
 "cells": [
  {
   "cell_type": "code",
   "execution_count": 1,
   "metadata": {
    "collapsed": true
   },
   "outputs": [],
   "source": [
    "# Allows us to import packages that exist one level up in the file system\n",
    "# See https://stackoverflow.com/questions/34478398\n",
    "import os\n",
    "import sys\n",
    "module_path = os.path.abspath(os.path.join('..'))\n",
    "if module_path not in sys.path:\n",
    "    sys.path.append(module_path)"
   ]
  },
  {
   "cell_type": "code",
   "execution_count": 2,
   "metadata": {
    "collapsed": true
   },
   "outputs": [],
   "source": [
    "from tagnews.utils import load_data as ld\n",
    "import matplotlib\n",
    "import matplotlib.pyplot as plt\n",
    "import numpy as np\n",
    "import pandas as pd\n",
    "import sklearn\n",
    "import sklearn.feature_extraction.text\n",
    "import sklearn.multiclass\n",
    "import sklearn.linear_model\n",
    "% matplotlib inline\n",
    "plt.rcParams['figure.figsize'] = 12, 8"
   ]
  },
  {
   "cell_type": "code",
   "execution_count": 3,
   "metadata": {},
   "outputs": [
    {
     "name": "stderr",
     "output_type": "stream",
     "text": [
      "/home/kevin/miniconda3/envs/cjp/lib/python3.6/site-packages/IPython/core/interactiveshell.py:2862: DtypeWarning: Columns (3) have mixed types. Specify dtype option on import or set low_memory=False.\n",
      "  exec(code_obj, self.user_global_ns, self.user_ns)\n"
     ]
    }
   ],
   "source": [
    "df = ld.load_data()"
   ]
  },
  {
   "cell_type": "markdown",
   "metadata": {},
   "source": [
    "# Article Tags Exploration"
   ]
  },
  {
   "cell_type": "code",
   "execution_count": 7,
   "metadata": {},
   "outputs": [
    {
     "name": "stdout",
     "output_type": "stream",
     "text": [
      "Number total articles   : 271808\n",
      "Number tagged articles  : 196703\n",
      "# articles tagged but not relevant : 2733\n"
     ]
    }
   ],
   "source": [
    "print('Number total articles   :', df.shape[0])\n",
    "print('Number tagged articles  :', df.loc[:, 'OEMC':'TASR'].any(1).sum() + (~df['relevant']).sum())\n",
    "\n",
    "# this number should be 0, but it isn't...\n",
    "print('# articles tagged but not relevant :', (~df['relevant'] & df.loc[:, 'OEMC':'TASR'].any(1)).sum())"
   ]
  },
  {
   "cell_type": "code",
   "execution_count": 8,
   "metadata": {},
   "outputs": [
    {
     "data": {
      "text/html": [
       "<div>\n",
       "<style>\n",
       "    .dataframe thead tr:only-child th {\n",
       "        text-align: right;\n",
       "    }\n",
       "\n",
       "    .dataframe thead th {\n",
       "        text-align: left;\n",
       "    }\n",
       "\n",
       "    .dataframe tbody tr th {\n",
       "        vertical-align: top;\n",
       "    }\n",
       "</style>\n",
       "<table border=\"1\" class=\"dataframe\">\n",
       "  <thead>\n",
       "    <tr style=\"text-align: right;\">\n",
       "      <th></th>\n",
       "      <th>category_name</th>\n",
       "      <th>counts</th>\n",
       "    </tr>\n",
       "    <tr>\n",
       "      <th>abbreviation</th>\n",
       "      <th></th>\n",
       "      <th></th>\n",
       "    </tr>\n",
       "  </thead>\n",
       "  <tbody>\n",
       "    <tr>\n",
       "      <th>ENVI</th>\n",
       "      <td>Environmental Crimes</td>\n",
       "      <td>49</td>\n",
       "    </tr>\n",
       "    <tr>\n",
       "      <th>TASR</th>\n",
       "      <td>Police Use of Taser</td>\n",
       "      <td>119</td>\n",
       "    </tr>\n",
       "    <tr>\n",
       "      <th>OEMC</th>\n",
       "      <td>Office of Emergency Management &amp; Communications</td>\n",
       "      <td>127</td>\n",
       "    </tr>\n",
       "    <tr>\n",
       "      <th>REEN</th>\n",
       "      <td>Re-Entry</td>\n",
       "      <td>129</td>\n",
       "    </tr>\n",
       "    <tr>\n",
       "      <th>CPBD</th>\n",
       "      <td>Chicago Police Board</td>\n",
       "      <td>155</td>\n",
       "    </tr>\n",
       "    <tr>\n",
       "      <th>ILSC</th>\n",
       "      <td>Illinois State Court</td>\n",
       "      <td>179</td>\n",
       "    </tr>\n",
       "    <tr>\n",
       "      <th>IMMG</th>\n",
       "      <td>Immigration</td>\n",
       "      <td>218</td>\n",
       "    </tr>\n",
       "    <tr>\n",
       "      <th>CPUB</th>\n",
       "      <td>Cook County Public Defender's Office</td>\n",
       "      <td>222</td>\n",
       "    </tr>\n",
       "    <tr>\n",
       "      <th>IDOC</th>\n",
       "      <td>Illinois Department of Corrections</td>\n",
       "      <td>300</td>\n",
       "    </tr>\n",
       "    <tr>\n",
       "      <th>PROB</th>\n",
       "      <td>Probation</td>\n",
       "      <td>312</td>\n",
       "    </tr>\n",
       "    <tr>\n",
       "      <th>IPRA</th>\n",
       "      <td>Independent Police Review Authority</td>\n",
       "      <td>359</td>\n",
       "    </tr>\n",
       "    <tr>\n",
       "      <th>BEAT</th>\n",
       "      <td>Beat Realignment / Police Resouce Allocation</td>\n",
       "      <td>377</td>\n",
       "    </tr>\n",
       "    <tr>\n",
       "      <th>ARSN</th>\n",
       "      <td>Arson</td>\n",
       "      <td>387</td>\n",
       "    </tr>\n",
       "    <tr>\n",
       "      <th>PARL</th>\n",
       "      <td>Parole</td>\n",
       "      <td>395</td>\n",
       "    </tr>\n",
       "    <tr>\n",
       "      <th>GLBTQ</th>\n",
       "      <td>GLBTQ</td>\n",
       "      <td>510</td>\n",
       "    </tr>\n",
       "    <tr>\n",
       "      <th>POLB</th>\n",
       "      <td>Police Brutality</td>\n",
       "      <td>573</td>\n",
       "    </tr>\n",
       "    <tr>\n",
       "      <th>CPLY</th>\n",
       "      <td>Criminal Justice Policy</td>\n",
       "      <td>581</td>\n",
       "    </tr>\n",
       "    <tr>\n",
       "      <th>CCJ</th>\n",
       "      <td>Cook County Jail</td>\n",
       "      <td>897</td>\n",
       "    </tr>\n",
       "    <tr>\n",
       "      <th>ILSP</th>\n",
       "      <td>Illinois State Police</td>\n",
       "      <td>972</td>\n",
       "    </tr>\n",
       "    <tr>\n",
       "      <th>POLM</th>\n",
       "      <td>Police Misconduct</td>\n",
       "      <td>1068</td>\n",
       "    </tr>\n",
       "    <tr>\n",
       "      <th>DUI</th>\n",
       "      <td>Driving Under the Influence</td>\n",
       "      <td>1264</td>\n",
       "    </tr>\n",
       "    <tr>\n",
       "      <th>BURG</th>\n",
       "      <td>Burlgary</td>\n",
       "      <td>1325</td>\n",
       "    </tr>\n",
       "    <tr>\n",
       "      <th>CCSP</th>\n",
       "      <td>Cook County Sheriff's Police</td>\n",
       "      <td>1450</td>\n",
       "    </tr>\n",
       "    <tr>\n",
       "      <th>FRUD</th>\n",
       "      <td>Fraud</td>\n",
       "      <td>1557</td>\n",
       "    </tr>\n",
       "    <tr>\n",
       "      <th>CPS</th>\n",
       "      <td>Chicago Public Schools</td>\n",
       "      <td>1698</td>\n",
       "    </tr>\n",
       "    <tr>\n",
       "      <th>DOMV</th>\n",
       "      <td>Domestic Violence</td>\n",
       "      <td>1765</td>\n",
       "    </tr>\n",
       "    <tr>\n",
       "      <th>DRUG</th>\n",
       "      <td>Drugs</td>\n",
       "      <td>2502</td>\n",
       "    </tr>\n",
       "    <tr>\n",
       "      <th>SEXA</th>\n",
       "      <td>Sexual Assault</td>\n",
       "      <td>2521</td>\n",
       "    </tr>\n",
       "    <tr>\n",
       "      <th>CCCC</th>\n",
       "      <td>Cook County Circuit Court</td>\n",
       "      <td>2546</td>\n",
       "    </tr>\n",
       "    <tr>\n",
       "      <th>SAO</th>\n",
       "      <td>Cook County State's Attorney's Office</td>\n",
       "      <td>3387</td>\n",
       "    </tr>\n",
       "    <tr>\n",
       "      <th>GANG</th>\n",
       "      <td>Gangs</td>\n",
       "      <td>3411</td>\n",
       "    </tr>\n",
       "    <tr>\n",
       "      <th>JUVE</th>\n",
       "      <td>Juvenile</td>\n",
       "      <td>3643</td>\n",
       "    </tr>\n",
       "    <tr>\n",
       "      <th>ROBB</th>\n",
       "      <td>Robbery</td>\n",
       "      <td>4937</td>\n",
       "    </tr>\n",
       "    <tr>\n",
       "      <th>UNSPC</th>\n",
       "      <td>Unspecified Crime</td>\n",
       "      <td>9508</td>\n",
       "    </tr>\n",
       "    <tr>\n",
       "      <th>HOMI</th>\n",
       "      <td>Homicides</td>\n",
       "      <td>11105</td>\n",
       "    </tr>\n",
       "    <tr>\n",
       "      <th>GUNV</th>\n",
       "      <td>Gun Violence</td>\n",
       "      <td>13494</td>\n",
       "    </tr>\n",
       "    <tr>\n",
       "      <th>VIOL</th>\n",
       "      <td>Violence</td>\n",
       "      <td>15350</td>\n",
       "    </tr>\n",
       "    <tr>\n",
       "      <th>CPD</th>\n",
       "      <td>Chicago Police Department</td>\n",
       "      <td>18362</td>\n",
       "    </tr>\n",
       "  </tbody>\n",
       "</table>\n",
       "</div>"
      ],
      "text/plain": [
       "                                                category_name  counts\n",
       "abbreviation                                                         \n",
       "ENVI                                     Environmental Crimes      49\n",
       "TASR                                      Police Use of Taser     119\n",
       "OEMC          Office of Emergency Management & Communications     127\n",
       "REEN                                                 Re-Entry     129\n",
       "CPBD                                     Chicago Police Board     155\n",
       "ILSC                                     Illinois State Court     179\n",
       "IMMG                                              Immigration     218\n",
       "CPUB                     Cook County Public Defender's Office     222\n",
       "IDOC                       Illinois Department of Corrections     300\n",
       "PROB                                                Probation     312\n",
       "IPRA                      Independent Police Review Authority     359\n",
       "BEAT             Beat Realignment / Police Resouce Allocation     377\n",
       "ARSN                                                    Arson     387\n",
       "PARL                                                   Parole     395\n",
       "GLBTQ                                                   GLBTQ     510\n",
       "POLB                                         Police Brutality     573\n",
       "CPLY                                  Criminal Justice Policy     581\n",
       "CCJ                                          Cook County Jail     897\n",
       "ILSP                                    Illinois State Police     972\n",
       "POLM                                        Police Misconduct    1068\n",
       "DUI                               Driving Under the Influence    1264\n",
       "BURG                                                 Burlgary    1325\n",
       "CCSP                             Cook County Sheriff's Police    1450\n",
       "FRUD                                                    Fraud    1557\n",
       "CPS                                    Chicago Public Schools    1698\n",
       "DOMV                                        Domestic Violence    1765\n",
       "DRUG                                                    Drugs    2502\n",
       "SEXA                                           Sexual Assault    2521\n",
       "CCCC                                Cook County Circuit Court    2546\n",
       "SAO                     Cook County State's Attorney's Office    3387\n",
       "GANG                                                    Gangs    3411\n",
       "JUVE                                                 Juvenile    3643\n",
       "ROBB                                                  Robbery    4937\n",
       "UNSPC                                       Unspecified Crime    9508\n",
       "HOMI                                                Homicides   11105\n",
       "GUNV                                             Gun Violence   13494\n",
       "VIOL                                                 Violence   15350\n",
       "CPD                                 Chicago Police Department   18362"
      ]
     },
     "execution_count": 8,
     "metadata": {},
     "output_type": "execute_result"
    }
   ],
   "source": [
    "categories_df = ld.load_categories()\n",
    "categories_df = categories_df.loc[:, ['abbreviation', 'category_name']]\n",
    "categories_df.set_index('abbreviation', drop=True, inplace=True)\n",
    "\n",
    "categories_df['counts'] = df.loc[:, 'OEMC':'TASR'].apply(sum, reduce=True)\n",
    "categories_df.sort_values(by='counts')"
   ]
  },
  {
   "cell_type": "code",
   "execution_count": 10,
   "metadata": {},
   "outputs": [
    {
     "data": {
      "image/png": "[encoded data removed]",
      "text/plain": [
       "<matplotlib.figure.Figure at 0x7fca13d34128>"
      ]
     },
     "metadata": {},
     "output_type": "display_data"
    }
   ],
   "source": [
    "df.loc[:, 'OEMC':'TASR'].apply(sum, reduce=True).sort_values().plot(kind='bar');"
   ]
  },
  {
   "cell_type": "code",
   "execution_count": 11,
   "metadata": {},
   "outputs": [
    {
     "data": {
      "image/png": "[encoded data removed]",
      "text/plain": [
       "<matplotlib.figure.Figure at 0x7fca13d349b0>"
      ]
     },
     "metadata": {},
     "output_type": "display_data"
    }
   ],
   "source": [
    "corrs = df.loc[:, 'OEMC':'TASR'].corr()\n",
    "for i in range(corrs.shape[0]):\n",
    "    corrs.iloc[i, i] = np.nan\n",
    "\n",
    "cmap = matplotlib.cm.viridis\n",
    "cmap.set_bad((.3, .3, .3),1.)\n",
    "\n",
    "fig, ax = plt.subplots(figsize=(8, 8))\n",
    "ax.matshow(np.ma.masked_invalid(corrs.values), cmap=cmap)\n",
    "\n",
    "ax.grid(True, color=(.9, .9, .9), alpha=.1)\n",
    "\n",
    "plt.xticks(range(len(corrs.columns)), corrs.columns, rotation=90);\n",
    "plt.yticks(range(len(corrs.columns)), corrs.columns);"
   ]
  },
  {
   "cell_type": "markdown",
   "metadata": {},
   "source": [
    "# Text Contents Exploration"
   ]
  },
  {
   "cell_type": "code",
   "execution_count": 12,
   "metadata": {},
   "outputs": [
    {
     "name": "stdout",
     "output_type": "stream",
     "text": [
      "ARTICLE ID: 126531 \n",
      "------------------\n",
      "##  Breaking Bad Finale Review\n",
      "\n",
      "![][1]\n",
      "\n",
      "[ Tweet ][2]\n",
      "\n",
      "By  Devin Mainville  , September 29, 2013 at 11:10 pm\n",
      "\n",
      "![Breaking Bad Finale Review][3]\n",
      "\n",
      "** Spoiler Alert: Do not read if you haven’t seen the _ Breaking Bad _ series fi\n",
      "nale entitled “Felina”. **\n",
      "\n",
      "_ “I did it for me. I liked it. I was good at it. I was really… I was alive.”\n",
      "– Walter White _\n",
      "\n",
      "Vince Gilligan promised us a satisfying ending and, as usual, he delivered.\n",
      "There were no lingering questions or loose strings. Not only was everything\n",
      "answered, but it also placated everyone. For those who wanted Walt to succeed,\n",
      "he did, he made enough money to help his family and actually managed to get\n",
      "the money to them. For those who wanted Walt to die, well he did that too.\n",
      "\n",
      "There was never a scenario where Walt wouldn’t die. Even if the closing shot\n",
      "had been him sipping a margarita in Mexico and counting his millions his\n",
      "cancer would still be there. The show could have ended in any way, but from\n",
      "the pilot when Walt first got his diagnosis, this story could never end with\n",
      "him living.\n",
      "\n",
      "The fact that he essentially killed himself? That he tried to once again\n",
      "manipulate Jesse into doing his dirty work, but Jesse refused? That he died\n",
      "surrounded by the only thing that has mattered to him for the last year _ and\n",
      "_ that he finally understood that was all that mattered to him? That is pure\n",
      "poetry.\n",
      "\n",
      "Going in to the finale there were certain threads that needed to be dealt\n",
      "with. Some were dealt with precisely as you’d imagine. Lidia ended up on the\n",
      "receiving end of Chekov’s Ricin and the assault rifle in the trunk took out\n",
      "the Aryan brotherhood. But Walt’s last moment of brilliance truly has to be in\n",
      "his solution of how to get his money to his family.\n",
      "\n",
      "Elliot and Gretchen’s interview last week looked like the catalyst for Walt\n",
      "forgoing a more typical surrender and opting instead for a blaze of glory.\n",
      "Perhaps that was his initial response when he saw his former partners and\n",
      "friends denounce his last hold on brilliance. But those months of solitude\n",
      "provided Walt with more clarity than he’s ever had post Heisenberg. So seeing\n",
      "Elliot and Gretchen may have ignited his fury, but it also gave him an idea.\n",
      "\n",
      "Will Skyler see through the generous benefactor ruse? Perhaps, but I don’t\n",
      "think she’ll refuse the money even if she knows its coming from Walt. Walt\n",
      "undoubtedly ruined their lives, but he also did everything in his power to\n",
      "make it right. He finally offered her the one factor that could ever come\n",
      "close to making anything right again to Skyler and for us: the truth.\n",
      "\n",
      "He finally saw what we’ve all seen; his family was never his top priority. He\n",
      "liked being a big shot. He liked having people fear him. He got to live out a\n",
      "fantasy of living in gangster movie. Who wouldn’t want that? Isn’t that why we\n",
      "all loved him when this started? The fantasy was fun for a while, but the\n",
      "majority of this tale has been about what happens when the camera usually\n",
      "stops rolling. It took a long time for Walt to see his sins and take\n",
      "responsibility, but in the end he did.\n",
      "\n",
      "He realized his truth and cleaned up his mess. It’s hard to have that same\n",
      "rabid hatred of someone so clearly self-aware and penitent.\n",
      "\n",
      "But if one is feeling a little too lenient on Walt, one only has to look to\n",
      "Jesse to be reminded why Walt deserved to die.\n",
      "\n",
      "Back in season four when Jesse was attending AA meetings he talked about his\n",
      "love of woodworking. He told a story about making a box for a class and how\n",
      "much time and effort he put into making the box perfect. He admitted that if\n",
      "he could do anything, that’s what he would do. So was there any imagery sadder\n",
      "than Jesse fantasizing about making a box rather than accept his reality of\n",
      "being chained up and forced to cook meth?\n",
      "\n",
      "Walt’s missed life was being a billionaire scientist with respect and\n",
      "recognition from his peers. Jesse’s missed life was making little wooden\n",
      "boxes.\n",
      "\n",
      "Of course Jesse still has a chance at making some more little boxes. From\n",
      "about season four on I have vowed that no ending would satisfy me unless it\n",
      "included Walt dead and Jesse alive. But just last week I admitted Jesse would\n",
      "be better off dead. After all he’s seen and all he’s done there was not enough\n",
      "therapy in the world to make him whole again.\n",
      "\n",
      "So I have mixed feelings about his escape. Yes, I love that he got to kill\n",
      "Todd. I love that he finally stood up to Walt and refused to do something just\n",
      "because he told him to. But it’s hard to read his escape as a happy ending.\n",
      "\n",
      "There were many theories floating around the Internet about how _ Breaking Bad\n",
      "_ would end and a lot of them included Jesse and Skyler dead. Obviously they\n",
      "are not physically dead, but take a look at Skyer’s defeated posture and\n",
      "Jesse’s wracked body. They have both suffered emotional deaths at the hands of\n",
      "Heisenberg.\n",
      "\n",
      "None of my predictions proved accurate except that one. No one was whole at\n",
      "the end of this story. By the end every single character had endured great\n",
      "pain. Every single character’s life had been irrevocably changed for the\n",
      "worse. This wasn’t a movie and there were no happy endings.\n",
      "\n",
      "And we loved every minute of it.\n",
      "\n",
      "Enjoy this post? There's plenty more where this came from. Like us on [\n",
      "Facebook ][4] so you never miss out!\n",
      "\n",
      "_ ** Type your email address in the box and click the \"create subscription\"\n",
      "button. My list is completely spam free, and you can opt out at any time. ** _\n",
      "\n",
      "  *   * Filed under: [ Breaking Bad ][5] , [ TV; Recaps ][6]\n",
      "\n",
      "Tags: [ AMC ][7] , [ Breaking Bad ][8]\n",
      "\n",
      "[ Tweet ][2]\n",
      "\n",
      "   [1]: http://www.chicagonow.com/avatar/user-78387-32.png\n",
      "   [2]: http://twitter.com/share?url=http%3A%2F%2Fwww.chicagonow.com%2Fcouple-cr\n",
      "itics%2F2013%2F09%2Fbreaking-bad-finale-review%2F\n",
      "   [3]: http://www.chicagonow.com/couple-critics/files/2013/09/breaking-bad-feat\n",
      "-624x199.jpg\n",
      "   [4]: https://www.facebook.com/pages/A-Couple-of-Critics/472272919512822\n",
      "   [5]: http://www.chicagonow.com/couple-critics/category/breaking-bad/\n",
      "   [6]: http://www.chicagonow.com/couple-critics/category/tv-recaps/\n",
      "   [7]: http://www.chicagonow.com/couple-critics/tag/amc/\n",
      "   [8]: http://www.chicagonow.com/couple-critics/tag/breaking-bad/\n",
      "\n"
     ]
    }
   ],
   "source": [
    "# Print a random article just to see what they look like.\n",
    "i = np.random.choice(df.shape[0])\n",
    "print('ARTICLE ID:', df.index[i], '\\n------------------')\n",
    "print(df.iloc[i]['bodytext'])"
   ]
  },
  {
   "cell_type": "markdown",
   "metadata": {},
   "source": [
    "## Some questions:\n",
    "\n",
    "* How to handle articles that talk about more than one crime (i.e. a summary of weekend violence)?\n",
    "* Would we want the scraper to keep any more information going forward? Author name, for example?\n",
    "* Do we want to have manually-defined cleaning built around the format? I.e. specifically remove the links at the bottom that are result of RSS format? "
   ]
  },
  {
   "cell_type": "code",
   "execution_count": 13,
   "metadata": {},
   "outputs": [],
   "source": [
    "import nltk\n",
    "# you may need to run nltk.download()\n",
    "# and get the \"punkt\" dataset under the \"Models\" tab\n",
    "# to use the word_tokenize function. Other models might\n",
    "# be necessary as well."
   ]
  },
  {
   "cell_type": "code",
   "execution_count": 14,
   "metadata": {},
   "outputs": [],
   "source": [
    "def all_words():\n",
    "    counter = 0\n",
    "    for txt in df['bodytext']:\n",
    "        tokens = nltk.tokenize.word_tokenize(txt)\n",
    "        for t in tokens:\n",
    "            if t[0] not in '[](){},.\\'\"`*:;/\\\\-+=_':\n",
    "                yield t.lower()\n",
    "                counter += 1\n",
    "            if counter > 5e6: # at some point will need to run fully, but truncate for now\n",
    "                return"
   ]
  },
  {
   "cell_type": "code",
   "execution_count": 15,
   "metadata": {},
   "outputs": [],
   "source": [
    "word_freqs = nltk.FreqDist(all_words())"
   ]
  },
  {
   "cell_type": "code",
   "execution_count": 16,
   "metadata": {},
   "outputs": [
    {
     "name": "stdout",
     "output_type": "stream",
     "text": [
      "\"the\": 229843\n",
      "\"to\": 115787\n",
      "\"a\": 111580\n",
      "\"and\": 107410\n",
      "\"of\": 96346\n",
      "\"in\": 86582\n",
      "\"that\": 44345\n",
      "\"for\": 40958\n",
      "\"was\": 40470\n",
      "\"said\": 38846\n",
      "\"on\": 34827\n",
      "\"he\": 34234\n",
      "\"is\": 30465\n",
      "\"with\": 28751\n",
      "\"http\": 26944\n",
      "\"at\": 26815\n",
      "\"it\": 26757\n",
      "\"his\": 23698\n",
      "\"1\": 22834\n",
      "\"2\": 22318\n",
      "\"i\": 21964\n",
      "\"as\": 20555\n",
      "\"by\": 20505\n",
      "\"3\": 19494\n",
      "\"from\": 18430\n",
      "\"be\": 18401\n",
      "\"#\": 18345\n",
      "\"this\": 18178\n",
      "\"4\": 18035\n",
      "\"not\": 16950\n",
      "\"5\": 16806\n",
      "\"have\": 16678\n",
      "\"but\": 16231\n",
      "\"chicago\": 15932\n",
      "\"an\": 15851\n",
      "\"’\": 15706\n",
      "\"they\": 15564\n",
      "\"police\": 15522\n",
      "\"6\": 15274\n",
      "\"who\": 15085\n"
     ]
    },
    {
     "data": {
      "image/png": "[encoded data removed]",
      "text/plain": [
       "<matplotlib.figure.Figure at 0x7fca13b62da0>"
      ]
     },
     "metadata": {},
     "output_type": "display_data"
    }
   ],
   "source": [
    "for pair in word_freqs.most_common(40):\n",
    "    print('\"{}\": {}'.format(pair[0], pair[1]))\n",
    "word_freqs.plot(40, cumulative=True)"
   ]
  },
  {
   "cell_type": "code",
   "execution_count": 17,
   "metadata": {},
   "outputs": [
    {
     "name": "stdout",
     "output_type": "stream",
     "text": [
      "The word \"the\" is 173.3 times more common than \"gun\".\n"
     ]
    }
   ],
   "source": [
    "print('The word \"the\" is {0:.4} times more common than \"gun\".'.format(\n",
    "    word_freqs.freq('the') / word_freqs.freq('gun')\n",
    "))"
   ]
  },
  {
   "cell_type": "code",
   "execution_count": 18,
   "metadata": {},
   "outputs": [
    {
     "name": "stdout",
     "output_type": "stream",
     "text": [
      "Confusion matrix using existence of \"gun\" to predict \"GUNV\" tag:\n"
     ]
    },
    {
     "data": {
      "text/html": [
       "<div>\n",
       "<style>\n",
       "    .dataframe thead tr:only-child th {\n",
       "        text-align: right;\n",
       "    }\n",
       "\n",
       "    .dataframe thead th {\n",
       "        text-align: left;\n",
       "    }\n",
       "\n",
       "    .dataframe tbody tr th {\n",
       "        vertical-align: top;\n",
       "    }\n",
       "</style>\n",
       "<table border=\"1\" class=\"dataframe\">\n",
       "  <thead>\n",
       "    <tr style=\"text-align: right;\">\n",
       "      <th>GUNV</th>\n",
       "      <th>0</th>\n",
       "      <th>1</th>\n",
       "    </tr>\n",
       "    <tr>\n",
       "      <th>bodytext</th>\n",
       "      <th></th>\n",
       "      <th></th>\n",
       "    </tr>\n",
       "  </thead>\n",
       "  <tbody>\n",
       "    <tr>\n",
       "      <th>False</th>\n",
       "      <td>238193</td>\n",
       "      <td>4347</td>\n",
       "    </tr>\n",
       "    <tr>\n",
       "      <th>True</th>\n",
       "      <td>20121</td>\n",
       "      <td>9147</td>\n",
       "    </tr>\n",
       "  </tbody>\n",
       "</table>\n",
       "</div>"
      ],
      "text/plain": [
       "GUNV           0     1\n",
       "bodytext              \n",
       "False     238193  4347\n",
       "True       20121  9147"
      ]
     },
     "execution_count": 18,
     "metadata": {},
     "output_type": "execute_result"
    }
   ],
   "source": [
    "print('Confusion matrix using existence of \"gun\" to predict \"GUNV\" tag:')\n",
    "pd.crosstab(df['bodytext'].str.contains('gun'), df['GUNV'])"
   ]
  },
  {
   "cell_type": "code",
   "execution_count": null,
   "metadata": {
    "collapsed": true
   },
   "outputs": [],
   "source": []
  }
 ],
 "metadata": {
  "anaconda-cloud": {},
  "kernelspec": {
   "display_name": "Python 3",
   "language": "python",
   "name": "python3"
  },
  "language_info": {
   "codemirror_mode": {
    "name": "ipython",
    "version": 3
   },
   "file_extension": ".py",
   "mimetype": "text/x-python",
   "name": "python",
   "nbconvert_exporter": "python",
   "pygments_lexer": "ipython3",
   "version": "3.6.2"
  }
 },
 "nbformat": 4,
 "nbformat_minor": 2
}
