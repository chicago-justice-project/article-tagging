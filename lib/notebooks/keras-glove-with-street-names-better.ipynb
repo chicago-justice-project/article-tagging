{
 "cells": [
  {
   "cell_type": "code",
   "execution_count": 1,
   "metadata": {},
   "outputs": [
    {
     "name": "stdout",
     "output_type": "stream",
     "text": [
      "/Users/josh/Documents/chihack/article-tagging/lib\n"
     ]
    }
   ],
   "source": [
    "cd '/Users/josh/Documents/chihack/article-tagging/lib'"
   ]
  },
  {
   "cell_type": "code",
   "execution_count": 2,
   "metadata": {},
   "outputs": [
    {
     "name": "stderr",
     "output_type": "stream",
     "text": [
      "/anaconda3/lib/python3.6/importlib/_bootstrap.py:219: RuntimeWarning: compiletime version 3.5 of module 'tensorflow.python.framework.fast_tensor_util' does not match runtime version 3.6\n",
      "  return f(*args, **kwds)\n"
     ]
    }
   ],
   "source": [
    "from numpy.random import seed\n",
    "seed(1)\n",
    "from tensorflow import set_random_seed\n",
    "set_random_seed(2)"
   ]
  },
  {
   "cell_type": "code",
   "execution_count": 3,
   "metadata": {
    "collapsed": true
   },
   "outputs": [],
   "source": [
    "import os\n",
    "import tagnews\n",
    "import pandas as pd\n",
    "from keras.models import Sequential\n",
    "from keras.layers import LSTM, Dense, TimeDistributed\n",
    "from keras.utils import to_categorical\n",
    "from keras.callbacks import ModelCheckpoint\n",
    "import numpy as np\n",
    "import json\n",
    "import requests\n",
    "import keras\n",
    "import shutil"
   ]
  },
  {
   "cell_type": "code",
   "execution_count": 4,
   "metadata": {
    "collapsed": true
   },
   "outputs": [],
   "source": [
    "glove = tagnews.load_glove('tagnews/data/glove.6B.50d.txt')"
   ]
  },
  {
   "cell_type": "code",
   "execution_count": 5,
   "metadata": {},
   "outputs": [
    {
     "data": {
      "text/plain": [
       "(400000, 50)"
      ]
     },
     "execution_count": 5,
     "metadata": {},
     "output_type": "execute_result"
    }
   ],
   "source": [
    "glove.shape"
   ]
  },
  {
   "cell_type": "code",
   "execution_count": 6,
   "metadata": {
    "collapsed": true
   },
   "outputs": [],
   "source": [
    "glove.loc['address_vec'] = glove.loc[['street', 'avenue', 'place', 'road', 'block', 'main', 'city', 'west', 'east', 'north', 'south']].mean()\n",
    "glove.loc['neighborhood_vec'] = glove.loc[['neighborhood', 'burrough', 'community', 'area']].mean()"
   ]
  },
  {
   "cell_type": "code",
   "execution_count": 7,
   "metadata": {
    "collapsed": true
   },
   "outputs": [],
   "source": [
    "with open('tagnews/data/Chicago_Street_Names.csv') as street_names:\n",
    "    streets = street_names.read().splitlines()[1:]\n",
    "streets = [i.lower() for i in streets]\n",
    "\n",
    "with open('tagnews/data/chicago_neighborhoods.csv') as neighborhoods:\n",
    "    hoods = neighborhoods.read().splitlines()\n",
    "hoods = list(set([j.lower().replace('\\\"', '') for j in hoods]))\n",
    "\n",
    "for name in streets:\n",
    "    glove.loc[name] = glove.loc['address_vec']\n",
    "for hood in hoods:\n",
    "    glove.loc[hood] = glove.loc['neighborhood_vec']"
   ]
  },
  {
   "cell_type": "code",
   "execution_count": 8,
   "metadata": {
    "collapsed": true
   },
   "outputs": [],
   "source": [
    "with open('tagnews/data/training.txt', encoding='utf-8') as f:\n",
    "    our_training_data = f.read()\n",
    "    \n",
    "training_df = pd.DataFrame([x.split() for x in our_training_data.split('\\n') if x],\n",
    "                           columns=['word', 'tag'])\n",
    "\n",
    "training_df.iloc[:,1] = training_df.iloc[:,1].apply(int)\n",
    "training_df['all_tags'] = 'NA'\n",
    "\n",
    "# If you want to join our data w/ kaggle data, you can do this.\n",
    "# ner = tagnews.load_ner_data('tagnews/data/')\n",
    "# pd.concat([training_df, ner]).reset_index(drop=True)\n",
    "\n",
    "# If you just want to use our data, you can do this.\n",
    "ner = training_df\n",
    "\n",
    "ner = ner[['word', 'all_tags', 'tag']]"
   ]
  },
  {
   "cell_type": "code",
   "execution_count": 9,
   "metadata": {
    "collapsed": true
   },
   "outputs": [],
   "source": [
    "# pd.DataFrame(glove.loc[ner.loc[ner['word'] == 'Woodlawn']['word'].str.lower()].values)"
   ]
  },
  {
   "cell_type": "code",
   "execution_count": 10,
   "metadata": {
    "collapsed": true
   },
   "outputs": [],
   "source": [
    "ner = pd.concat([ner,\n",
    "                 pd.DataFrame(ner['word'].str[0].str.isupper().values),\n",
    "                 pd.DataFrame(glove.loc[ner['word'].str.lower()].values),\n",
    "                 pd.DataFrame(ner['word'].str.isnumeric().values),\n",
    "                 pd.DataFrame(ner['word'].str.len().values)],\n",
    "                 axis='columns')\n",
    "ner.fillna(value=0.0, inplace=True)\n",
    "\n",
    "data_dim = 53\n",
    "timesteps = 25 # only during training, testing can take arbitrary length.\n",
    "num_classes = 2\n",
    "\n",
    "train_val_split = int(19 * ner.shape[0] / 20.)\n",
    "\n",
    "ner_train_idxs = range(0, train_val_split - timesteps, timesteps)\n",
    "x_train = np.array([ner.iloc[i:i+timesteps, 3:].values\n",
    "                    for i in ner_train_idxs])\n",
    "y_train = np.array([to_categorical(ner.iloc[i:i+timesteps, 2].values, 2)\n",
    "                    for i in ner_train_idxs])\n",
    "\n",
    "ner_val_idxs = range(train_val_split, ner.shape[0] - timesteps, timesteps)\n",
    "x_val = np.array([ner.iloc[i:i+timesteps, 3:].values\n",
    "                  for i in ner_val_idxs])\n",
    "y_val = np.array([to_categorical(ner.iloc[i:i+timesteps, 2].values, 2)\n",
    "                  for i in ner_val_idxs])"
   ]
  },
  {
   "cell_type": "code",
   "execution_count": 11,
   "metadata": {},
   "outputs": [
    {
     "name": "stdout",
     "output_type": "stream",
     "text": [
      "____________________________________________________________________________________________________\n",
      "Layer (type)                                 Output Shape                            Param #        \n",
      "====================================================================================================\n",
      "lstm_1 (LSTM)                                (None, None, 32)                        11008          \n",
      "____________________________________________________________________________________________________\n",
      "lstm_2 (LSTM)                                (None, None, 8)                         1312           \n",
      "____________________________________________________________________________________________________\n",
      "time_distributed_1 (TimeDistributed)         (None, None, 2)                         18             \n",
      "====================================================================================================\n",
      "Total params: 12,338\n",
      "Trainable params: 12,338\n",
      "Non-trainable params: 0\n",
      "____________________________________________________________________________________________________\n",
      "None\n"
     ]
    }
   ],
   "source": [
    "model = Sequential()\n",
    "model.add(LSTM(32, return_sequences=True, input_shape=(None, data_dim)))\n",
    "model.add(LSTM(8, return_sequences=True))\n",
    "model.add(TimeDistributed(Dense(2, activation='softmax')))\n",
    "model.compile(loss='categorical_crossentropy',\n",
    "              optimizer='adam',\n",
    "              metrics=['categorical_accuracy'])\n",
    "print(model.summary(100))"
   ]
  },
  {
   "cell_type": "code",
   "execution_count": 12,
   "metadata": {
    "collapsed": true
   },
   "outputs": [],
   "source": [
    "os.makedirs('tmp', exist_ok=True)\n",
    "checkpointer = ModelCheckpoint(filepath='./tmp/weights-{epoch:02d}.hdf5',\n",
    "                               monitor='val_categorical_accuracy',\n",
    "                               verbose=1,\n",
    "                               save_best_only=True)\n",
    "\n",
    "class OurAUC(keras.callbacks.Callback):\n",
    "    def on_epoch_end(self, epoch, logs={}):\n",
    "        # Go to https://geo-extract-tester.herokuapp.com/ and download\n",
    "        # the validation data (validation.txt).\n",
    "        '''with open('validation.txt', encoding='utf-8') as f:\n",
    "            s = f.read()\n",
    "\n",
    "        gloved_data = pd.concat([pd.DataFrame([[w[0].isupper()] for w in s.split('\\n') if w]),\n",
    "                                 glove.loc[[w for w in s.split('\\n') if w]].fillna(0).reset_index(drop=True)],\n",
    "                                 axis='columns')\n",
    "        glove_time_size = 100\n",
    "        preds_batched = []\n",
    "        i = 0\n",
    "        while gloved_data[i:i+glove_time_size].size:\n",
    "            preds_batched.append(model.predict(np.expand_dims(gloved_data[i:i+glove_time_size],\n",
    "                                                              axis=0))[0][:,1])\n",
    "            i += glove_time_size\n",
    "\n",
    "        with open('guesses-{epoch:02d}.txt'.format(epoch=epoch), 'w') as f:\n",
    "            for prob in [p for pred in preds_batched for p in pred]:\n",
    "                f.write(str(prob) + '\\n')'''\n",
    "\n",
    "        with open('validation.txt', encoding='utf-8') as f:\n",
    "            s = f.read()\n",
    "\n",
    "        gloved_data = pd.concat([pd.DataFrame([[w[0].isupper()] for w in s.split('\\n') if w]),\n",
    "                                 glove.loc[[w for w in s.split('\\n') if w]].fillna(0).reset_index(drop=True),\n",
    "                                 pd.DataFrame([[w[0].isnumeric()] for w in s.split('\\n') if w]),\n",
    "                                 pd.DataFrame([[len(w[0])] for w in s.split('\\n') if w])],\n",
    "                                 axis='columns')\n",
    "        glove_time_size = 100\n",
    "        preds_batched = []\n",
    "        i = 0\n",
    "        while gloved_data[i:i+glove_time_size].size:\n",
    "            preds_batched.append(model.predict(np.expand_dims(gloved_data[i:i+glove_time_size],\n",
    "                                                              axis=0))[0][:,1])\n",
    "            i += glove_time_size\n",
    "\n",
    "        with open('guesses-{epoch:02d}.txt'.format(epoch=epoch), 'w') as f:\n",
    "            for prob in [p for pred in preds_batched for p in pred]:\n",
    "                f.write(str(prob) + '\\n')\n",
    "\n",
    "        with open('guesses-{epoch:02d}.txt'.format(epoch=epoch), 'rb') as f:\n",
    "            url = 'https://geo-extract-tester.herokuapp.com/api/score'\n",
    "            r = requests.post(url, files={'file': f})\n",
    "            try:\n",
    "                print('AUC: {:.5f}'.format(json.loads(r.text)['auc']))\n",
    "            except KeyError:\n",
    "                raise ValueError('Problem retrieving AUC from API. Is your validation set up to date?')\n",
    "\n",
    "our_auc = OurAUC()"
   ]
  },
  {
   "cell_type": "code",
   "execution_count": 13,
   "metadata": {},
   "outputs": [
    {
     "name": "stdout",
     "output_type": "stream",
     "text": [
      "Train on 6271 samples, validate on 330 samples\n",
      "Epoch 1/20\n",
      "Epoch 00001: val_categorical_accuracy improved from -inf to 0.97697, saving model to ./tmp/weights-01.hdf5\n",
      "AUC: 0.92249\n",
      " - 60s - loss: 0.1762 - categorical_accuracy: 0.9638 - val_loss: 0.0828 - val_categorical_accuracy: 0.9770\n",
      "Epoch 2/20\n",
      "Epoch 00002: val_categorical_accuracy improved from 0.97697 to 0.97867, saving model to ./tmp/weights-02.hdf5\n",
      "AUC: 0.94973\n",
      " - 58s - loss: 0.0841 - categorical_accuracy: 0.9666 - val_loss: 0.0573 - val_categorical_accuracy: 0.9787\n",
      "Epoch 3/20\n",
      "Epoch 00003: val_categorical_accuracy improved from 0.97867 to 0.98048, saving model to ./tmp/weights-03.hdf5\n",
      "AUC: 0.95489\n",
      " - 59s - loss: 0.0708 - categorical_accuracy: 0.9734 - val_loss: 0.0526 - val_categorical_accuracy: 0.9805\n",
      "Epoch 4/20\n",
      "Epoch 00004: val_categorical_accuracy did not improve\n",
      "AUC: 0.95848\n",
      " - 59s - loss: 0.0666 - categorical_accuracy: 0.9751 - val_loss: 0.0506 - val_categorical_accuracy: 0.9792\n",
      "Epoch 5/20\n",
      "Epoch 00005: val_categorical_accuracy did not improve\n",
      "AUC: 0.95974\n",
      " - 61s - loss: 0.0639 - categorical_accuracy: 0.9760 - val_loss: 0.0487 - val_categorical_accuracy: 0.9805\n",
      "Epoch 6/20\n",
      "Epoch 00006: val_categorical_accuracy did not improve\n",
      "AUC: 0.96138\n",
      " - 63s - loss: 0.0623 - categorical_accuracy: 0.9765 - val_loss: 0.0483 - val_categorical_accuracy: 0.9804\n",
      "Epoch 7/20\n",
      "Epoch 00007: val_categorical_accuracy improved from 0.98048 to 0.98109, saving model to ./tmp/weights-07.hdf5\n",
      "AUC: 0.95850\n",
      " - 61s - loss: 0.0609 - categorical_accuracy: 0.9769 - val_loss: 0.0490 - val_categorical_accuracy: 0.9811\n",
      "Epoch 8/20\n",
      "Epoch 00008: val_categorical_accuracy did not improve\n",
      "AUC: 0.96303\n",
      " - 63s - loss: 0.0598 - categorical_accuracy: 0.9772 - val_loss: 0.0462 - val_categorical_accuracy: 0.9807\n",
      "Epoch 9/20\n",
      "Epoch 00009: val_categorical_accuracy did not improve\n",
      "AUC: 0.96292\n",
      " - 62s - loss: 0.0589 - categorical_accuracy: 0.9774 - val_loss: 0.0468 - val_categorical_accuracy: 0.9808\n",
      "Epoch 10/20\n",
      "Epoch 00010: val_categorical_accuracy did not improve\n",
      "AUC: 0.96326\n",
      " - 59s - loss: 0.0581 - categorical_accuracy: 0.9774 - val_loss: 0.0462 - val_categorical_accuracy: 0.9806\n",
      "Epoch 11/20\n",
      "Epoch 00011: val_categorical_accuracy did not improve\n",
      "AUC: 0.96347\n",
      " - 63s - loss: 0.0569 - categorical_accuracy: 0.9778 - val_loss: 0.0456 - val_categorical_accuracy: 0.9800\n",
      "Epoch 12/20\n",
      "Epoch 00012: val_categorical_accuracy did not improve\n",
      "AUC: 0.96203\n",
      " - 60s - loss: 0.0563 - categorical_accuracy: 0.9781 - val_loss: 0.0449 - val_categorical_accuracy: 0.9802\n",
      "Epoch 13/20\n",
      "Epoch 00013: val_categorical_accuracy did not improve\n",
      "AUC: 0.96189\n",
      " - 61s - loss: 0.0553 - categorical_accuracy: 0.9784 - val_loss: 0.0458 - val_categorical_accuracy: 0.9808\n",
      "Epoch 14/20\n",
      "Epoch 00014: val_categorical_accuracy did not improve\n",
      "AUC: 0.95982\n",
      " - 60s - loss: 0.0544 - categorical_accuracy: 0.9784 - val_loss: 0.0457 - val_categorical_accuracy: 0.9810\n",
      "Epoch 15/20\n",
      "Epoch 00015: val_categorical_accuracy did not improve\n",
      "AUC: 0.96014\n",
      " - 64s - loss: 0.0536 - categorical_accuracy: 0.9788 - val_loss: 0.0465 - val_categorical_accuracy: 0.9806\n",
      "Epoch 16/20\n",
      "Epoch 00016: val_categorical_accuracy did not improve\n",
      "AUC: 0.96055\n",
      " - 62s - loss: 0.0529 - categorical_accuracy: 0.9790 - val_loss: 0.0462 - val_categorical_accuracy: 0.9808\n",
      "Epoch 17/20\n",
      "Epoch 00017: val_categorical_accuracy did not improve\n",
      "AUC: 0.96207\n",
      " - 63s - loss: 0.0522 - categorical_accuracy: 0.9793 - val_loss: 0.0464 - val_categorical_accuracy: 0.9802\n",
      "Epoch 18/20\n",
      "Epoch 00018: val_categorical_accuracy improved from 0.98109 to 0.98145, saving model to ./tmp/weights-18.hdf5\n",
      "AUC: 0.96180\n",
      " - 64s - loss: 0.0511 - categorical_accuracy: 0.9798 - val_loss: 0.0459 - val_categorical_accuracy: 0.9815\n",
      "Epoch 19/20\n",
      "Epoch 00019: val_categorical_accuracy did not improve\n",
      "AUC: 0.95842\n",
      " - 59s - loss: 0.0508 - categorical_accuracy: 0.9803 - val_loss: 0.0470 - val_categorical_accuracy: 0.9804\n",
      "Epoch 20/20\n",
      "Epoch 00020: val_categorical_accuracy did not improve\n",
      "AUC: 0.95720\n",
      " - 61s - loss: 0.0498 - categorical_accuracy: 0.9802 - val_loss: 0.0467 - val_categorical_accuracy: 0.9810\n"
     ]
    },
    {
     "data": {
      "text/plain": [
       "<keras.callbacks.History at 0x1a1731ce10>"
      ]
     },
     "execution_count": 13,
     "metadata": {},
     "output_type": "execute_result"
    }
   ],
   "source": [
    "model.fit(x_train, y_train,\n",
    "          epochs=20,\n",
    "          validation_data=(x_val, y_val),\n",
    "          callbacks=[checkpointer, our_auc],\n",
    "          verbose=2)"
   ]
  },
  {
   "cell_type": "code",
   "execution_count": null,
   "metadata": {
    "collapsed": true
   },
   "outputs": [],
   "source": []
  },
  {
   "cell_type": "code",
   "execution_count": null,
   "metadata": {
    "collapsed": true
   },
   "outputs": [],
   "source": []
  }
 ],
 "metadata": {
  "kernelspec": {
   "display_name": "Python 3",
   "language": "python",
   "name": "python3"
  },
  "language_info": {
   "codemirror_mode": {
    "name": "ipython",
    "version": 3
   },
   "file_extension": ".py",
   "mimetype": "text/x-python",
   "name": "python",
   "nbconvert_exporter": "python",
   "pygments_lexer": "ipython3",
   "version": "3.6.3"
  }
 },
 "nbformat": 4,
 "nbformat_minor": 2
}
