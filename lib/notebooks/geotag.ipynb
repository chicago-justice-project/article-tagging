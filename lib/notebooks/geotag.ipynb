{
 "cells": [
  {
   "cell_type": "markdown",
   "metadata": {},
   "source": [
    "# Geotagging Addresses\n",
    "## This notebook contains code to load the lat/long address locations of the articles."
   ]
  },
  {
   "cell_type": "markdown",
   "metadata": {},
   "source": [
    "# Set GOOGLE_API_KEY in your environment\n",
    "Run the following line of code to set you api_key as an environment variable:\n",
    "\n",
    "```\n",
    "        export GOOGLE_API_KEY=A...\n",
    "```"
   ]
  },
  {
   "cell_type": "code",
   "execution_count": 1,
   "metadata": {
    "collapsed": true
   },
   "outputs": [],
   "source": [
    "import numpy as np\n",
    "import pandas as pd\n",
    "import pickle\n",
    "import os\n",
    "import gmaps"
   ]
  },
  {
   "cell_type": "markdown",
   "metadata": {},
   "source": [
    "# To enable jupyter to display gmaps in the notebook run the following line, close and halt the notebook, and logout of jupyter. Restart jupyter and open this notebook again.\n"
   ]
  },
  {
   "cell_type": "code",
   "execution_count": 2,
   "metadata": {},
   "outputs": [
    {
     "name": "stdout",
     "output_type": "stream",
     "text": [
      "Enabling notebook extension jupyter-js-widgets/extension...\r\n",
      "      - Validating: \u001b[32mOK\u001b[0m\r\n"
     ]
    }
   ],
   "source": [
    "!jupyter nbextension enable --py --sys-prefix widgetsnbextension"
   ]
  },
  {
   "cell_type": "markdown",
   "metadata": {},
   "source": [
    "# Load api_key"
   ]
  },
  {
   "cell_type": "code",
   "execution_count": 3,
   "metadata": {
    "collapsed": true
   },
   "outputs": [],
   "source": [
    "gmaps.configure(api_key=os.environ[\"GOOGLE_API_KEY\"])"
   ]
  },
  {
   "cell_type": "markdown",
   "metadata": {},
   "source": [
    "# Load address list to geotag"
   ]
  },
  {
   "cell_type": "code",
   "execution_count": 4,
   "metadata": {
    "collapsed": true
   },
   "outputs": [],
   "source": [
    "addr_geotag = pd.read_pickle('addr_geotag_list.pkl')"
   ]
  },
  {
   "cell_type": "code",
   "execution_count": 5,
   "metadata": {},
   "outputs": [
    {
     "data": {
      "text/plain": [
       "198122    [{'start': 69, 'end': 83, 'text': 'Southwest S...\n",
       "208118    [{'start': 331, 'end': 342, 'text': 'Rogers Pa...\n",
       "210368    [{'start': 140, 'end': 146, 'text': 'Uptown', ...\n",
       "210741    [{'start': 164, 'end': 175, 'text': 'South Sho...\n",
       "212073    [{'start': 191, 'end': 202, 'text': 'Irving Pa...\n",
       "dtype: object"
      ]
     },
     "execution_count": 5,
     "metadata": {},
     "output_type": "execute_result"
    }
   ],
   "source": [
    "addr_geotag.head()"
   ]
  },
  {
   "cell_type": "markdown",
   "metadata": {},
   "source": [
    "# Get lat/long coordinates"
   ]
  },
  {
   "cell_type": "code",
   "execution_count": 6,
   "metadata": {
    "scrolled": true
   },
   "outputs": [
    {
     "data": {
      "text/plain": [
       "[(41.7977249, -87.7172616),\n",
       " (41.7732183, -87.7201869),\n",
       " (41.7786783, -87.7203155),\n",
       " (42.010636, -87.6695529),\n",
       " (41.966542, -87.6533226),\n",
       " (41.900306, -87.6334451),\n",
       " (41.9654304, -87.6561926),\n",
       " (41.76, -87.57418799999999),\n",
       " (41.95296039999999, -87.7212413),\n",
       " (41.9466801, -87.71550359999999),\n",
       " (41.6852899, -87.709114),\n",
       " (41.9480301, -87.7402524),\n",
       " (41.94838860000001, -87.7127637),\n",
       " (41.9483462, -87.7164363),\n",
       " (41.94838860000001, -87.7127637),\n",
       " (41.8831001, -87.7181852),\n",
       " (41.775305, -87.6416419),\n",
       " (41.7795472, -87.6569514),\n",
       " (41.9397024, -88.1899749),\n",
       " (41.796372, -87.61653),\n",
       " (41.9415055, -87.70248509999999),\n",
       " (41.9362034, -87.6931374),\n",
       " (41.8758559, -87.6252111),\n",
       " (41.8929529, -87.7615618),\n",
       " (41.8810644, -87.663045),\n",
       " (41.8952093, -87.7609288),\n",
       " (41.9740049, -87.6988581),\n",
       " (41.9681851, -87.68030279999999),\n",
       " (41.7358669, -87.65820459999999),\n",
       " (41.7433773, -87.6561995)]"
      ]
     },
     "execution_count": 6,
     "metadata": {},
     "output_type": "execute_result"
    }
   ],
   "source": [
    "coords = []\n",
    "for i,j in addr_geotag.iteritems():\n",
    "    for k in j:\n",
    "        coords.append(k['lat_long'][1])\n",
    "coords"
   ]
  },
  {
   "cell_type": "markdown",
   "metadata": {},
   "source": [
    "# Load coordinates into gmaps and display map"
   ]
  },
  {
   "cell_type": "code",
   "execution_count": 7,
   "metadata": {},
   "outputs": [
    {
     "data": {
      "application/vnd.jupyter.widget-view+json": {
       "model_id": "11a4ff1df4bc4ca59e122775c06e9039",
       "version_major": 2,
       "version_minor": 0
      },
      "text/plain": [
       "A Jupyter Widget"
      ]
     },
     "metadata": {},
     "output_type": "display_data"
    }
   ],
   "source": [
    "fig = gmaps.figure(center = (41.8781,-87.6298), zoom_level=11)\n",
    "markers = gmaps.marker_layer(coords)\n",
    "fig.add_layer(markers)\n",
    "fig"
   ]
  },
  {
   "cell_type": "code",
   "execution_count": null,
   "metadata": {
    "collapsed": true
   },
   "outputs": [],
   "source": []
  }
 ],
 "metadata": {
  "kernelspec": {
   "display_name": "Python 3",
   "language": "python",
   "name": "python3"
  },
  "language_info": {
   "codemirror_mode": {
    "name": "ipython",
    "version": 3
   },
   "file_extension": ".py",
   "mimetype": "text/x-python",
   "name": "python",
   "nbconvert_exporter": "python",
   "pygments_lexer": "ipython3",
   "version": "3.6.3"
  }
 },
 "nbformat": 4,
 "nbformat_minor": 2
}
