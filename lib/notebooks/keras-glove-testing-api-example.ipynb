{
 "cells": [
  {
   "cell_type": "code",
   "execution_count": 1,
   "metadata": {},
   "outputs": [
    {
     "name": "stdout",
     "output_type": "stream",
     "text": [
      "/home/kevin/Documents/github/article-tagging/lib\n"
     ]
    }
   ],
   "source": [
    "cd .."
   ]
  },
  {
   "cell_type": "code",
   "execution_count": 2,
   "metadata": {},
   "outputs": [
    {
     "name": "stderr",
     "output_type": "stream",
     "text": [
      "Using TensorFlow backend.\n"
     ]
    }
   ],
   "source": [
    "import os\n",
    "import tagnews\n",
    "import pandas as pd\n",
    "from keras.models import Sequential\n",
    "from keras.layers import LSTM, Dense, TimeDistributed\n",
    "from keras.utils import to_categorical\n",
    "from keras.callbacks import ModelCheckpoint\n",
    "import numpy as np\n",
    "import json\n",
    "import requests\n",
    "import keras"
   ]
  },
  {
   "cell_type": "code",
   "execution_count": 3,
   "metadata": {},
   "outputs": [],
   "source": [
    "glove = tagnews.load_glove('tagnews/data/glove.6B.50d.txt')\n"
   ]
  },
  {
   "cell_type": "code",
   "execution_count": 4,
   "metadata": {},
   "outputs": [],
   "source": [
    "with open('tagnews/data/training.txt', encoding='utf-8') as f:\n",
    "    our_training_data = f.read()\n",
    "    \n",
    "training_df = pd.DataFrame([x.split() for x in our_training_data.split('\\n')],\n",
    "                           columns=['word', 'tag'])\n",
    "training_df.iloc[:,1] = training_df.iloc[:,1].apply(int)\n",
    "training_df['all_tags'] = 'NA'\n",
    "\n",
    "# If you want to join our data w/ kaggle data, you can do this.\n",
    "# ner = tagnews.load_ner_data('tagnews/data/')\n",
    "# pd.concat([training_df, ner]).reset_index(drop=True)\n",
    "\n",
    "# If you just want to use our data, you can do this.\n",
    "ner = training_df\n",
    "\n",
    "ner = ner[['word', 'all_tags', 'tag']]"
   ]
  },
  {
   "cell_type": "code",
   "execution_count": 5,
   "metadata": {},
   "outputs": [],
   "source": [
    "ner = pd.concat([ner,\n",
    "                 pd.DataFrame(ner['word'].str[0].str.isupper().values),\n",
    "                 pd.DataFrame(glove.loc[ner['word'].str.lower()].values)],\n",
    "                axis='columns')\n",
    "ner.fillna(value=0.0, inplace=True)\n",
    "\n",
    "data_dim = 51\n",
    "timesteps = 25 # only during training, testing can take arbitrary length.\n",
    "num_classes = 2\n",
    "\n",
    "train_val_split = int(19 * ner.shape[0] / 20.)\n",
    "\n",
    "ner_train_idxs = range(0, train_val_split - timesteps, timesteps)\n",
    "x_train = np.array([ner.iloc[i:i+timesteps, 3:].values\n",
    "                    for i in ner_train_idxs])\n",
    "y_train = np.array([to_categorical(ner.iloc[i:i+timesteps, 2].values, 2)\n",
    "                    for i in ner_train_idxs])\n",
    "\n",
    "ner_val_idxs = range(train_val_split, ner.shape[0] - timesteps, timesteps)\n",
    "x_val = np.array([ner.iloc[i:i+timesteps, 3:].values\n",
    "                  for i in ner_val_idxs])\n",
    "y_val = np.array([to_categorical(ner.iloc[i:i+timesteps, 2].values, 2)\n",
    "                  for i in ner_val_idxs])"
   ]
  },
  {
   "cell_type": "code",
   "execution_count": 6,
   "metadata": {},
   "outputs": [
    {
     "name": "stdout",
     "output_type": "stream",
     "text": [
      "____________________________________________________________________________________________________\n",
      "Layer (type)                                 Output Shape                            Param #        \n",
      "====================================================================================================\n",
      "lstm_1 (LSTM)                                (None, None, 32)                        10752          \n",
      "____________________________________________________________________________________________________\n",
      "lstm_2 (LSTM)                                (None, None, 8)                         1312           \n",
      "____________________________________________________________________________________________________\n",
      "time_distributed_1 (TimeDistributed)         (None, None, 2)                         18             \n",
      "====================================================================================================\n",
      "Total params: 12,082\n",
      "Trainable params: 12,082\n",
      "Non-trainable params: 0\n",
      "____________________________________________________________________________________________________\n",
      "None\n"
     ]
    }
   ],
   "source": [
    "model = Sequential()\n",
    "model.add(LSTM(32, return_sequences=True, input_shape=(None, data_dim)))\n",
    "model.add(LSTM(8, return_sequences=True))\n",
    "model.add(TimeDistributed(Dense(2, activation='softmax')))\n",
    "model.compile(loss='categorical_crossentropy',\n",
    "              optimizer='adam',\n",
    "              metrics=['categorical_accuracy'])\n",
    "print(model.summary(100))"
   ]
  },
  {
   "cell_type": "code",
   "execution_count": 7,
   "metadata": {
    "collapsed": true
   },
   "outputs": [],
   "source": [
    "os.makedirs('tmp', exist_ok=True)\n",
    "checkpointer = ModelCheckpoint(filepath='./tmp/weights-{epoch:02d}.hdf5',\n",
    "                               monitor='val_categorical_accuracy',\n",
    "                               verbose=1,\n",
    "                               save_best_only=True)\n",
    "\n",
    "class OurAUC(keras.callbacks.Callback):\n",
    "    def on_epoch_end(self, epoch, logs={}):\n",
    "        # Go to https://geo-extract-tester.herokuapp.com/ and download\n",
    "        # the validation data (validation.txt).\n",
    "        with open('validation.txt', encoding='utf-8') as f:\n",
    "            s = f.read()\n",
    "\n",
    "        gloved_data = pd.concat([pd.DataFrame([[w[0].isupper()] for w in s.split('\\n') if w]),\n",
    "                                 glove.loc[[w for w in s.split('\\n') if w]].fillna(0).reset_index(drop=True)],\n",
    "                               axis='columns')\n",
    "        glove_time_size = 100\n",
    "        preds_batched = []\n",
    "        i = 0\n",
    "        while gloved_data[i:i+glove_time_size].size:\n",
    "            preds_batched.append(model.predict(np.expand_dims(gloved_data[i:i+glove_time_size],\n",
    "                                                              axis=0))[0][:,1])\n",
    "            i += glove_time_size\n",
    "\n",
    "        with open('guesses-{epoch:02d}.txt'.format(epoch=epoch), 'w') as f:\n",
    "            for prob in [p for pred in preds_batched for p in pred]:\n",
    "                f.write(str(prob) + '\\n')\n",
    "\n",
    "        with open('guesses-{epoch:02d}.txt'.format(epoch=epoch), 'rb') as f:\n",
    "            url = 'https://geo-extract-tester.herokuapp.com/api/score'\n",
    "            r = requests.post(url, files={'file': f})\n",
    "            try:\n",
    "                print('AUC: {:.5f}'.format(json.loads(r.text)['auc']))\n",
    "            except KeyError:\n",
    "                raise ValueError('Problem retrieving AUC from API. Is your validation set up to date?')\n",
    "\n",
    "our_auc = OurAUC()"
   ]
  },
  {
   "cell_type": "code",
   "execution_count": 8,
   "metadata": {},
   "outputs": [
    {
     "name": "stdout",
     "output_type": "stream",
     "text": [
      "Train on 2467 samples, validate on 129 samples\n",
      "Epoch 1/20\n",
      "Epoch 00000: val_categorical_accuracy improved from -inf to 0.93054, saving model to ./tmp/weights-00.hdf5\n",
      "AUC: 0.88599\n",
      "27s - loss: 0.3390 - categorical_accuracy: 0.9053 - val_loss: 0.2362 - val_categorical_accuracy: 0.9305\n",
      "Epoch 2/20\n",
      "Epoch 00001: val_categorical_accuracy did not improve\n",
      "AUC: 0.93386\n",
      "26s - loss: 0.2037 - categorical_accuracy: 0.9177 - val_loss: 0.1728 - val_categorical_accuracy: 0.9271\n",
      "Epoch 3/20\n",
      "Epoch 00002: val_categorical_accuracy did not improve\n",
      "AUC: 0.94096\n",
      "26s - loss: 0.1584 - categorical_accuracy: 0.9369 - val_loss: 0.1627 - val_categorical_accuracy: 0.9253\n",
      "Epoch 4/20\n",
      "Epoch 00003: val_categorical_accuracy did not improve\n",
      "AUC: 0.94627\n",
      "26s - loss: 0.1458 - categorical_accuracy: 0.9429 - val_loss: 0.1583 - val_categorical_accuracy: 0.9243\n",
      "Epoch 5/20\n",
      "Epoch 00004: val_categorical_accuracy did not improve\n",
      "AUC: 0.94879\n",
      "27s - loss: 0.1399 - categorical_accuracy: 0.9448 - val_loss: 0.1532 - val_categorical_accuracy: 0.9262\n",
      "Epoch 6/20\n",
      "Epoch 00005: val_categorical_accuracy did not improve\n",
      "AUC: 0.95070\n",
      "26s - loss: 0.1351 - categorical_accuracy: 0.9465 - val_loss: 0.1526 - val_categorical_accuracy: 0.9287\n",
      "Epoch 7/20\n",
      "Epoch 00006: val_categorical_accuracy did not improve\n",
      "AUC: 0.95202\n",
      "26s - loss: 0.1326 - categorical_accuracy: 0.9467 - val_loss: 0.1512 - val_categorical_accuracy: 0.9281\n",
      "Epoch 8/20\n",
      "Epoch 00007: val_categorical_accuracy did not improve\n",
      "AUC: 0.95270\n",
      "27s - loss: 0.1301 - categorical_accuracy: 0.9488 - val_loss: 0.1527 - val_categorical_accuracy: 0.9281\n",
      "Epoch 9/20\n",
      "Epoch 00008: val_categorical_accuracy did not improve\n",
      "AUC: 0.95297\n",
      "27s - loss: 0.1276 - categorical_accuracy: 0.9493 - val_loss: 0.1465 - val_categorical_accuracy: 0.9274\n",
      "Epoch 10/20\n",
      "Epoch 00009: val_categorical_accuracy did not improve\n",
      "AUC: 0.95275\n",
      "28s - loss: 0.1255 - categorical_accuracy: 0.9493 - val_loss: 0.1444 - val_categorical_accuracy: 0.9287\n",
      "Epoch 11/20\n",
      "Epoch 00010: val_categorical_accuracy did not improve\n",
      "AUC: 0.95273\n",
      "27s - loss: 0.1241 - categorical_accuracy: 0.9496 - val_loss: 0.1439 - val_categorical_accuracy: 0.9281\n",
      "Epoch 12/20\n",
      "Epoch 00011: val_categorical_accuracy did not improve\n",
      "AUC: 0.95465\n",
      "27s - loss: 0.1231 - categorical_accuracy: 0.9498 - val_loss: 0.1443 - val_categorical_accuracy: 0.9268\n",
      "Epoch 13/20\n",
      "Epoch 00012: val_categorical_accuracy did not improve\n",
      "AUC: 0.95379\n",
      "27s - loss: 0.1211 - categorical_accuracy: 0.9507 - val_loss: 0.1492 - val_categorical_accuracy: 0.9284\n",
      "Epoch 14/20\n",
      "Epoch 00013: val_categorical_accuracy did not improve\n",
      "AUC: 0.95501\n",
      "27s - loss: 0.1195 - categorical_accuracy: 0.9510 - val_loss: 0.1436 - val_categorical_accuracy: 0.9274\n",
      "Epoch 15/20\n",
      "Epoch 00014: val_categorical_accuracy did not improve\n",
      "AUC: 0.95443\n",
      "27s - loss: 0.1170 - categorical_accuracy: 0.9527 - val_loss: 0.1405 - val_categorical_accuracy: 0.9290\n",
      "Epoch 16/20\n",
      "Epoch 00015: val_categorical_accuracy did not improve\n",
      "AUC: 0.95387\n",
      "26s - loss: 0.1151 - categorical_accuracy: 0.9536 - val_loss: 0.1395 - val_categorical_accuracy: 0.9281\n",
      "Epoch 17/20\n",
      "Epoch 00016: val_categorical_accuracy did not improve\n",
      "AUC: 0.95428\n",
      "27s - loss: 0.1135 - categorical_accuracy: 0.9538 - val_loss: 0.1402 - val_categorical_accuracy: 0.9278\n",
      "Epoch 18/20\n",
      "Epoch 00017: val_categorical_accuracy did not improve\n",
      "AUC: 0.95323\n",
      "27s - loss: 0.1120 - categorical_accuracy: 0.9546 - val_loss: 0.1450 - val_categorical_accuracy: 0.9287\n",
      "Epoch 19/20\n",
      "Epoch 00018: val_categorical_accuracy improved from 0.93054 to 0.93240, saving model to ./tmp/weights-18.hdf5\n",
      "AUC: 0.95366\n",
      "27s - loss: 0.1107 - categorical_accuracy: 0.9557 - val_loss: 0.1386 - val_categorical_accuracy: 0.9324\n",
      "Epoch 20/20\n",
      "Epoch 00019: val_categorical_accuracy improved from 0.93240 to 0.93240, saving model to ./tmp/weights-19.hdf5\n",
      "AUC: 0.95260\n",
      "27s - loss: 0.1078 - categorical_accuracy: 0.9570 - val_loss: 0.1414 - val_categorical_accuracy: 0.9324\n"
     ]
    },
    {
     "data": {
      "text/plain": [
       "<keras.callbacks.History at 0x7f9ca60245f8>"
      ]
     },
     "execution_count": 8,
     "metadata": {},
     "output_type": "execute_result"
    }
   ],
   "source": [
    "model.fit(x_train, y_train,\n",
    "          epochs=20,\n",
    "          validation_data=(x_val, y_val),\n",
    "          callbacks=[checkpointer, our_auc],\n",
    "          verbose=2)"
   ]
  },
  {
   "cell_type": "code",
   "execution_count": null,
   "metadata": {},
   "outputs": [],
   "source": [
    "# Go to https://geo-extract-tester.herokuapp.com/ and download\n",
    "# the validation data (validation.txt).\n",
    "with open('validation.txt', encoding='utf-8') as f:\n",
    "    s = f.read()\n",
    "\n",
    "gloved_data = glove.loc[[w for w in s.split('\\n') if w]].fillna(0)\n",
    "glove_time_size = 100\n",
    "preds_batched = []\n",
    "i = 0\n",
    "while gloved_data[i:i+glove_time_size].size:\n",
    "    preds_batched.append(model.predict(np.expand_dims(gloved_data[i:i+glove_time_size], axis=0))[0][:,1])\n",
    "    i += glove_time_size\n",
    "\n",
    "preds = [p for pred in preds_batched for p in pred]\n",
    "\n",
    "print('\\n'.join(['{:>15} {:>9.4f}'.format(w, p) for (w, p) in zip(words, preds)][400:500]))\n",
    "    \n",
    "with open('guesses.txt', 'w') as f:\n",
    "    for prob in [p for pred in preds_batched for p in pred]:\n",
    "        f.write(str(prob) + '\\n')\n",
    "\n",
    "# Now go to https://geo-extract-tester.herokuapp.com/ and upload `guesses.txt` to see how you did!"
   ]
  },
  {
   "cell_type": "code",
   "execution_count": null,
   "metadata": {
    "collapsed": true
   },
   "outputs": [],
   "source": []
  }
 ],
 "metadata": {
  "kernelspec": {
   "display_name": "Python 3",
   "language": "python",
   "name": "python3"
  },
  "language_info": {
   "codemirror_mode": {
    "name": "ipython",
    "version": 3
   },
   "file_extension": ".py",
   "mimetype": "text/x-python",
   "name": "python",
   "nbconvert_exporter": "python",
   "pygments_lexer": "ipython3",
   "version": "3.6.1"
  }
 },
 "nbformat": 4,
 "nbformat_minor": 2
}
