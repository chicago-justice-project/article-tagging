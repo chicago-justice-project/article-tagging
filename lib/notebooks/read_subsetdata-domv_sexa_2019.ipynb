{
 "cells": [
  {
   "cell_type": "code",
   "execution_count": 1,
   "metadata": {
    "scrolled": true
   },
   "outputs": [
    {
     "name": "stdout",
     "output_type": "stream",
     "text": [
      "/Users/mchladek/Dev/article-tagging/lib/tagnews\n"
     ]
    }
   ],
   "source": [
    "%cd /Users/mchladek/Dev/article-tagging/lib/tagnews/\n",
    "\n",
    "from utils.utils import load_data_subset\n",
    "import pandas as pd\n",
    "import numpy as np"
   ]
  },
  {
   "cell_type": "markdown",
   "metadata": {},
   "source": [
    "LOAD DATA"
   ]
  },
  {
   "cell_type": "code",
   "execution_count": 2,
   "metadata": {},
   "outputs": [
    {
     "name": "stdout",
     "output_type": "stream",
     "text": [
      "/Users/mchladek/Dev/chicago-justice-data/data_subset\n",
      "news sources loaded. size: (38, 4)\n",
      "articles loaded. size: (50000, 10)\n",
      "categories loaded. size: (40, 6)\n",
      "trainedcategoryrelevance loaded. size: (53970, 4)\n",
      "trainedlocation loaded. size: (12396, 8)\n",
      "trainedcoding loaded. size: (25000, 8)\n",
      "usercoding loaded. size: (25000, 7)\n",
      "usercoding_categories loaded. size: (13191, 3)\n"
     ]
    }
   ],
   "source": [
    "%cd /Users/mchladek/Dev/chicago-justice-data/data_subset\n",
    "\n",
    "newssource_df, articles_df, categories_df, trainedcategoryrelevance_df, trainedcoding_df, usercoding_df,  usercoding_categories_df, trainedlocation_df = load_data_subset()"
   ]
  },
  {
   "cell_type": "markdown",
   "metadata": {},
   "source": [
    "GET CRIME CATEGORY IDs"
   ]
  },
  {
   "cell_type": "code",
   "execution_count": 3,
   "metadata": {},
   "outputs": [],
   "source": [
    "domv_cat = int(categories_df.loc[categories_df['abbreviation']=='DOMV', 'id'].squeeze())"
   ]
  },
  {
   "cell_type": "code",
   "execution_count": 4,
   "metadata": {},
   "outputs": [],
   "source": [
    "sexa_cat = int(categories_df.loc[categories_df['abbreviation']=='SEXA', 'id'].squeeze())"
   ]
  },
  {
   "cell_type": "markdown",
   "metadata": {},
   "source": [
    "USERCODING"
   ]
  },
  {
   "cell_type": "markdown",
   "metadata": {},
   "source": [
    "Get user codings with relevant crime categories"
   ]
  },
  {
   "cell_type": "code",
   "execution_count": 5,
   "metadata": {},
   "outputs": [],
   "source": [
    "# Can drop 'id' column from categories because not needed\n",
    "rel_usercoded_df = pd.merge(left=usercoding_df,\n",
    "              right=usercoding_categories_df.drop(columns=['id']),\n",
    "              left_on=\"id\",\n",
    "              right_on=\"usercoding_id\")\n",
    "rel_usercoded_df = rel_usercoded_df[(rel_usercoded_df[\"relevant\"] == \"t\") &\n",
    "                                    ((rel_usercoded_df[\"category_id\"] == domv_cat) |\n",
    "                                     (rel_usercoded_df[\"category_id\"] == sexa_cat))]"
   ]
  },
  {
   "cell_type": "code",
   "execution_count": 6,
   "metadata": {},
   "outputs": [
    {
     "name": "stdout",
     "output_type": "stream",
     "text": [
      "(510, 7)\n"
     ]
    },
    {
     "data": {
      "text/html": [
       "<div>\n",
       "<style scoped>\n",
       "    .dataframe tbody tr th:only-of-type {\n",
       "        vertical-align: middle;\n",
       "    }\n",
       "\n",
       "    .dataframe tbody tr th {\n",
       "        vertical-align: top;\n",
       "    }\n",
       "\n",
       "    .dataframe thead th {\n",
       "        text-align: right;\n",
       "    }\n",
       "</style>\n",
       "<table border=\"1\" class=\"dataframe\">\n",
       "  <thead>\n",
       "    <tr style=\"text-align: right;\">\n",
       "      <th></th>\n",
       "      <th>article_id</th>\n",
       "      <th>relevant</th>\n",
       "      <th>user_id</th>\n",
       "      <th>locations</th>\n",
       "      <th>sentiment</th>\n",
       "      <th>usercoding_id</th>\n",
       "      <th>category_id</th>\n",
       "    </tr>\n",
       "  </thead>\n",
       "  <tbody>\n",
       "    <tr>\n",
       "      <th>0</th>\n",
       "      <td>42</td>\n",
       "      <td>t</td>\n",
       "      <td>NaN</td>\n",
       "      <td>[]</td>\n",
       "      <td>NaN</td>\n",
       "      <td>42</td>\n",
       "      <td>SEXA</td>\n",
       "    </tr>\n",
       "    <tr>\n",
       "      <th>1</th>\n",
       "      <td>145</td>\n",
       "      <td>t</td>\n",
       "      <td>NaN</td>\n",
       "      <td>[]</td>\n",
       "      <td>NaN</td>\n",
       "      <td>145</td>\n",
       "      <td>SEXA</td>\n",
       "    </tr>\n",
       "    <tr>\n",
       "      <th>2</th>\n",
       "      <td>205</td>\n",
       "      <td>t</td>\n",
       "      <td>NaN</td>\n",
       "      <td>[]</td>\n",
       "      <td>NaN</td>\n",
       "      <td>205</td>\n",
       "      <td>SEXA</td>\n",
       "    </tr>\n",
       "    <tr>\n",
       "      <th>3</th>\n",
       "      <td>965</td>\n",
       "      <td>t</td>\n",
       "      <td>NaN</td>\n",
       "      <td>[]</td>\n",
       "      <td>NaN</td>\n",
       "      <td>965</td>\n",
       "      <td>DOMV</td>\n",
       "    </tr>\n",
       "    <tr>\n",
       "      <th>4</th>\n",
       "      <td>1070</td>\n",
       "      <td>t</td>\n",
       "      <td>NaN</td>\n",
       "      <td>[]</td>\n",
       "      <td>NaN</td>\n",
       "      <td>1070</td>\n",
       "      <td>DOMV</td>\n",
       "    </tr>\n",
       "  </tbody>\n",
       "</table>\n",
       "</div>"
      ],
      "text/plain": [
       "   article_id relevant  user_id locations  sentiment  usercoding_id  \\\n",
       "0          42        t      NaN        []        NaN             42   \n",
       "1         145        t      NaN        []        NaN            145   \n",
       "2         205        t      NaN        []        NaN            205   \n",
       "3         965        t      NaN        []        NaN            965   \n",
       "4        1070        t      NaN        []        NaN           1070   \n",
       "\n",
       "  category_id  \n",
       "0        SEXA  \n",
       "1        SEXA  \n",
       "2        SEXA  \n",
       "3        DOMV  \n",
       "4        DOMV  "
      ]
     },
     "metadata": {},
     "output_type": "display_data"
    }
   ],
   "source": [
    "rel_usercoded_df.loc[rel_usercoded_df['category_id'] == domv_cat, 'category_id'] = 'DOMV'\n",
    "rel_usercoded_df.loc[rel_usercoded_df['category_id'] == sexa_cat, 'category_id'] = 'SEXA'\n",
    "rel_usercoded_df = rel_usercoded_df.groupby('article_id').agg({'relevant':'first',\n",
    "                                                               'user_id':'first',\n",
    "                                                               'locations':'first',\n",
    "                                                               'sentiment':'first',\n",
    "                                                               'usercoding_id':'first',\n",
    "                                                               'category_id':', '.join}).reset_index()\n",
    "print(rel_usercoded_df.shape)\n",
    "display(rel_usercoded_df.head())"
   ]
  },
  {
   "cell_type": "markdown",
   "metadata": {},
   "source": [
    "Merge news source names into articles DF"
   ]
  },
  {
   "cell_type": "code",
   "execution_count": 7,
   "metadata": {},
   "outputs": [],
   "source": [
    "articles_merge_df = pd.merge(left=articles_df,\n",
    "                      right=newssource_df,\n",
    "                      left_on='news_source_id',\n",
    "                      right_on='source_id')"
   ]
  },
  {
   "cell_type": "code",
   "execution_count": 8,
   "metadata": {},
   "outputs": [],
   "source": [
    "# Can drop columns from newsource DF that are no longer needed\n",
    "articles_merge_df = articles_merge_df.drop(['feedname',\n",
    "                                            'source_id',\n",
    "                                            'legacy_feed_id',\n",
    "                                            'news_source_id',\n",
    "                                            ], axis=1)"
   ]
  },
  {
   "cell_type": "code",
   "execution_count": 9,
   "metadata": {
    "scrolled": true
   },
   "outputs": [],
   "source": [
    "# Reorder DF so news source name is first after id\n",
    "articles_merge_df = articles_merge_df[['id','source_name','short_name','url','title','bodytext',\n",
    "                                       'relevant','created','last_modified','author']]"
   ]
  },
  {
   "cell_type": "code",
   "execution_count": 10,
   "metadata": {},
   "outputs": [],
   "source": [
    "articles_user_merge_df = pd.merge(left=articles_merge_df,\n",
    "                                 right=rel_usercoded_df,\n",
    "                                 left_on='id',\n",
    "                                 right_on='article_id')"
   ]
  },
  {
   "cell_type": "code",
   "execution_count": 11,
   "metadata": {},
   "outputs": [
    {
     "name": "stdout",
     "output_type": "stream",
     "text": [
      "(510, 17)\n"
     ]
    }
   ],
   "source": [
    "print(articles_user_merge_df.shape)"
   ]
  },
  {
   "cell_type": "code",
   "execution_count": 12,
   "metadata": {},
   "outputs": [
    {
     "name": "stdout",
     "output_type": "stream",
     "text": [
      "(14, 17)\n"
     ]
    }
   ],
   "source": [
    "save = articles_user_merge_df[\n",
    "    (pd.to_datetime(articles_user_merge_df[\"created\"]) >= pd.to_datetime('2019-01-01 00:00:00.000000+0000')) &\n",
    "    (pd.to_datetime(articles_user_merge_df[\"created\"]) < pd.to_datetime('2020-01-01 00:00:00.000000+0000'))]\n",
    "print(save.shape)\n",
    "save.to_excel(\"/Users/mchladek/Downloads/usercoded_sexa_dv_85_2019.xlsx\")"
   ]
  },
  {
   "cell_type": "markdown",
   "metadata": {},
   "source": [
    "TRAINED CODING"
   ]
  },
  {
   "cell_type": "markdown",
   "metadata": {},
   "source": [
    "Rename columns so column names are unique after merge"
   ]
  },
  {
   "cell_type": "code",
   "execution_count": 13,
   "metadata": {},
   "outputs": [],
   "source": [
    "trainedcoding_df.columns = ['id', 'date', 'model_info', 'overall_relevance',\n",
    "                            'article_id', 'sentiment', 'bin', 'sentiment_processed']"
   ]
  },
  {
   "cell_type": "code",
   "execution_count": 14,
   "metadata": {},
   "outputs": [],
   "source": [
    "trainedcategoryrelevance_df.columns = ['id','cat_relevance','category_id','coding_id']"
   ]
  },
  {
   "cell_type": "markdown",
   "metadata": {},
   "source": [
    "Get trained codings with relevant crime categories"
   ]
  },
  {
   "cell_type": "code",
   "execution_count": 15,
   "metadata": {},
   "outputs": [],
   "source": [
    "# Can drop sentiment related columns from trained coding; can drop 'id' column from categories\n",
    "rel_trained_df = pd.merge(left=trainedcoding_df.drop(columns=['sentiment','bin','sentiment_processed']),\n",
    "                         right=trainedcategoryrelevance_df.drop(columns=['id']),\n",
    "                         left_on='id',\n",
    "                         right_on='coding_id')\n",
    "rel_trained_df = rel_trained_df[(rel_trained_df['cat_relevance'] >= 0.85) &\n",
    "                               ((rel_trained_df['category_id'] == domv_cat) |\n",
    "                               (rel_trained_df['category_id'] == sexa_cat))]"
   ]
  },
  {
   "cell_type": "code",
   "execution_count": 16,
   "metadata": {},
   "outputs": [],
   "source": [
    "# Put each categories' relevance in a category-specific column\n",
    "rel_trained_df.loc[rel_trained_df['category_id'] == domv_cat, 'category_id'] = 'DOMV'\n",
    "rel_trained_df.loc[rel_trained_df['category_id'] == sexa_cat, 'category_id'] = 'SEXA'\n",
    "rel_trained_df['sexa_relevance'] = np.where(rel_trained_df['category_id'].isin(['SEXA']), rel_trained_df['cat_relevance'], np.nan)\n",
    "rel_trained_df['domv_relevance'] = np.where(rel_trained_df['category_id'].isin(['DOMV']), rel_trained_df['cat_relevance'], np.nan)"
   ]
  },
  {
   "cell_type": "code",
   "execution_count": 17,
   "metadata": {},
   "outputs": [
    {
     "name": "stdout",
     "output_type": "stream",
     "text": [
      "(445, 6)\n"
     ]
    },
    {
     "data": {
      "text/html": [
       "<div>\n",
       "<style scoped>\n",
       "    .dataframe tbody tr th:only-of-type {\n",
       "        vertical-align: middle;\n",
       "    }\n",
       "\n",
       "    .dataframe tbody tr th {\n",
       "        vertical-align: top;\n",
       "    }\n",
       "\n",
       "    .dataframe thead th {\n",
       "        text-align: right;\n",
       "    }\n",
       "</style>\n",
       "<table border=\"1\" class=\"dataframe\">\n",
       "  <thead>\n",
       "    <tr style=\"text-align: right;\">\n",
       "      <th></th>\n",
       "      <th>article_id</th>\n",
       "      <th>model_info</th>\n",
       "      <th>overall_relevance</th>\n",
       "      <th>coding_id</th>\n",
       "      <th>sexa_relevance</th>\n",
       "      <th>domv_relevance</th>\n",
       "    </tr>\n",
       "  </thead>\n",
       "  <tbody>\n",
       "    <tr>\n",
       "      <th>0</th>\n",
       "      <td>23181</td>\n",
       "      <td>tagnews 1.2.4</td>\n",
       "      <td>0.900334</td>\n",
       "      <td>1609121</td>\n",
       "      <td>0.894120</td>\n",
       "      <td>NaN</td>\n",
       "    </tr>\n",
       "    <tr>\n",
       "      <th>1</th>\n",
       "      <td>23352</td>\n",
       "      <td>tagnews 1.2.4</td>\n",
       "      <td>0.989070</td>\n",
       "      <td>1609292</td>\n",
       "      <td>NaN</td>\n",
       "      <td>0.98907</td>\n",
       "    </tr>\n",
       "    <tr>\n",
       "      <th>2</th>\n",
       "      <td>76369</td>\n",
       "      <td>tagnews 1.2.4</td>\n",
       "      <td>0.920908</td>\n",
       "      <td>1662312</td>\n",
       "      <td>0.920908</td>\n",
       "      <td>NaN</td>\n",
       "    </tr>\n",
       "    <tr>\n",
       "      <th>3</th>\n",
       "      <td>76814</td>\n",
       "      <td>tagnews 1.2.4</td>\n",
       "      <td>0.999996</td>\n",
       "      <td>1662757</td>\n",
       "      <td>0.999996</td>\n",
       "      <td>NaN</td>\n",
       "    </tr>\n",
       "    <tr>\n",
       "      <th>4</th>\n",
       "      <td>81333</td>\n",
       "      <td>tagnews 1.2.4</td>\n",
       "      <td>0.999989</td>\n",
       "      <td>1667276</td>\n",
       "      <td>0.999989</td>\n",
       "      <td>NaN</td>\n",
       "    </tr>\n",
       "  </tbody>\n",
       "</table>\n",
       "</div>"
      ],
      "text/plain": [
       "   article_id     model_info  overall_relevance  coding_id  sexa_relevance  \\\n",
       "0       23181  tagnews 1.2.4           0.900334    1609121        0.894120   \n",
       "1       23352  tagnews 1.2.4           0.989070    1609292             NaN   \n",
       "2       76369  tagnews 1.2.4           0.920908    1662312        0.920908   \n",
       "3       76814  tagnews 1.2.4           0.999996    1662757        0.999996   \n",
       "4       81333  tagnews 1.2.4           0.999989    1667276        0.999989   \n",
       "\n",
       "   domv_relevance  \n",
       "0             NaN  \n",
       "1         0.98907  \n",
       "2             NaN  \n",
       "3             NaN  \n",
       "4             NaN  "
      ]
     },
     "metadata": {},
     "output_type": "display_data"
    }
   ],
   "source": [
    "# Can drop category id's and relevance category now that transformed into their own columns\n",
    "rel_trained_df = rel_trained_df.groupby('article_id').agg({'model_info':'first',\n",
    "                                                           'overall_relevance':'first',\n",
    "                                                           'coding_id':'first',\n",
    "                                                           'sexa_relevance':'max',\n",
    "                                                           'domv_relevance':'max'}).reset_index()\n",
    "print(rel_trained_df.shape)\n",
    "display(rel_trained_df.head())"
   ]
  },
  {
   "cell_type": "code",
   "execution_count": 18,
   "metadata": {},
   "outputs": [
    {
     "name": "stdout",
     "output_type": "stream",
     "text": [
      "(445, 16)\n"
     ]
    }
   ],
   "source": [
    "articles_trained_merge_df = pd.merge(left=articles_merge_df,\n",
    "                                     right=rel_trained_df,\n",
    "                                     left_on='id',\n",
    "                                     right_on='article_id')\n",
    "print(articles_trained_merge_df.shape)"
   ]
  },
  {
   "cell_type": "code",
   "execution_count": 19,
   "metadata": {},
   "outputs": [
    {
     "name": "stdout",
     "output_type": "stream",
     "text": [
      "(136, 16)\n"
     ]
    }
   ],
   "source": [
    "save = articles_trained_merge_df[\n",
    "    (pd.to_datetime(articles_trained_merge_df[\"created\"]) >= pd.to_datetime('2019-01-01 00:00:00.000000+0000')) &\n",
    "    (pd.to_datetime(articles_trained_merge_df[\"created\"]) < pd.to_datetime('2020-01-01 00:00:00.000000+0000'))]\n",
    "print(save.shape)\n",
    "save.to_excel(\"/Users/mchladek/Downloads/traincoded_sexa_dv_85_2019.xlsx\")"
   ]
  },
  {
   "cell_type": "code",
   "execution_count": null,
   "metadata": {},
   "outputs": [],
   "source": []
  }
 ],
 "metadata": {
  "kernelspec": {
   "display_name": "Python 3 (ipykernel)",
   "language": "python",
   "name": "python3"
  },
  "language_info": {
   "codemirror_mode": {
    "name": "ipython",
    "version": 3
   },
   "file_extension": ".py",
   "mimetype": "text/x-python",
   "name": "python",
   "nbconvert_exporter": "python",
   "pygments_lexer": "ipython3",
   "version": "3.8.20"
  }
 },
 "nbformat": 4,
 "nbformat_minor": 4
}
