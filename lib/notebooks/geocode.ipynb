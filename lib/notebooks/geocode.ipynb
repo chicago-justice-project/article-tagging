{
 "cells": [
  {
   "cell_type": "markdown",
   "metadata": {},
   "source": [
    "# Geocoding Addresses\n",
    "## This notebook contains code to retrieve addresses from the articles dataframe and send them to Google's Geocoding service to receive lat/long coordinates for locating in a mapping service.\n",
    "# Load articles data"
   ]
  },
  {
   "cell_type": "code",
   "execution_count": 1,
   "metadata": {
    "collapsed": true
   },
   "outputs": [],
   "source": [
    "# Allows us to import packages that exist one level up in the file system\n",
    "# See https://stackoverflow.com/questions/34478398\n",
    "import os\n",
    "import sys\n",
    "module_path = os.path.abspath(os.path.join('..'))\n",
    "if module_path not in sys.path:\n",
    "    sys.path = [module_path] + sys.path"
   ]
  },
  {
   "cell_type": "code",
   "execution_count": 2,
   "metadata": {
    "collapsed": true
   },
   "outputs": [],
   "source": [
    "from tagnews.utils import load_data as ld\n",
    "import numpy as np\n",
    "import pandas as pd\n",
    "import pickle"
   ]
  },
  {
   "cell_type": "code",
   "execution_count": 3,
   "metadata": {
    "collapsed": true
   },
   "outputs": [],
   "source": [
    "df = ld.load_data()"
   ]
  },
  {
   "cell_type": "code",
   "execution_count": 4,
   "metadata": {},
   "outputs": [
    {
     "data": {
      "text/html": [
       "<div>\n",
       "<style>\n",
       "    .dataframe thead tr:only-child th {\n",
       "        text-align: right;\n",
       "    }\n",
       "\n",
       "    .dataframe thead th {\n",
       "        text-align: left;\n",
       "    }\n",
       "\n",
       "    .dataframe tbody tr th {\n",
       "        vertical-align: top;\n",
       "    }\n",
       "</style>\n",
       "<table border=\"1\" class=\"dataframe\">\n",
       "  <thead>\n",
       "    <tr style=\"text-align: right;\">\n",
       "      <th></th>\n",
       "      <th>feedname</th>\n",
       "      <th>url</th>\n",
       "      <th>title</th>\n",
       "      <th>bodytext</th>\n",
       "      <th>relevant</th>\n",
       "      <th>created</th>\n",
       "      <th>last_modified</th>\n",
       "      <th>news_source_id</th>\n",
       "      <th>author</th>\n",
       "      <th>locations</th>\n",
       "      <th>...</th>\n",
       "      <th>UNSPC</th>\n",
       "      <th>ILSC</th>\n",
       "      <th>ARSN</th>\n",
       "      <th>BURG</th>\n",
       "      <th>DUI</th>\n",
       "      <th>FRUD</th>\n",
       "      <th>ROBB</th>\n",
       "      <th>TASR</th>\n",
       "      <th>COPA</th>\n",
       "      <th>DIGP</th>\n",
       "    </tr>\n",
       "    <tr>\n",
       "      <th>article_id</th>\n",
       "      <th></th>\n",
       "      <th></th>\n",
       "      <th></th>\n",
       "      <th></th>\n",
       "      <th></th>\n",
       "      <th></th>\n",
       "      <th></th>\n",
       "      <th></th>\n",
       "      <th></th>\n",
       "      <th></th>\n",
       "      <th></th>\n",
       "      <th></th>\n",
       "      <th></th>\n",
       "      <th></th>\n",
       "      <th></th>\n",
       "      <th></th>\n",
       "      <th></th>\n",
       "      <th></th>\n",
       "      <th></th>\n",
       "      <th></th>\n",
       "      <th></th>\n",
       "    </tr>\n",
       "  </thead>\n",
       "  <tbody>\n",
       "    <tr>\n",
       "      <th>195256</th>\n",
       "      <td>L</td>\n",
       "      <td>http://chicago.cbslocal.com/2015/01/26/city-sa...</td>\n",
       "      <td>City Says Reports Of Potholes Down From A Year...</td>\n",
       "      <td>**CHICAGO (CBS) **- The city of Chicago is sta...</td>\n",
       "      <td>False</td>\n",
       "      <td>2015-01-26 18:55:18.051663+00</td>\n",
       "      <td>2015-02-09 18:56:05.593997+00</td>\n",
       "      <td>100</td>\n",
       "      <td>NaN</td>\n",
       "      <td>[]</td>\n",
       "      <td>...</td>\n",
       "      <td>0</td>\n",
       "      <td>0</td>\n",
       "      <td>0</td>\n",
       "      <td>0</td>\n",
       "      <td>0</td>\n",
       "      <td>0</td>\n",
       "      <td>0</td>\n",
       "      <td>0</td>\n",
       "      <td>0</td>\n",
       "      <td>0</td>\n",
       "    </tr>\n",
       "    <tr>\n",
       "      <th>195257</th>\n",
       "      <td>L</td>\n",
       "      <td>http://chicago.cbslocal.com/2015/01/26/browns-...</td>\n",
       "      <td>Browns WR Josh Gordon Fails Another Drug Test</td>\n",
       "      <td>**CLEVELAND (AP)** -- Josh Gordon's troubles h...</td>\n",
       "      <td>False</td>\n",
       "      <td>2015-01-26 18:55:19.088182+00</td>\n",
       "      <td>2015-02-09 18:56:05.478395+00</td>\n",
       "      <td>100</td>\n",
       "      <td>NaN</td>\n",
       "      <td>[]</td>\n",
       "      <td>...</td>\n",
       "      <td>0</td>\n",
       "      <td>0</td>\n",
       "      <td>0</td>\n",
       "      <td>0</td>\n",
       "      <td>0</td>\n",
       "      <td>0</td>\n",
       "      <td>0</td>\n",
       "      <td>0</td>\n",
       "      <td>0</td>\n",
       "      <td>0</td>\n",
       "    </tr>\n",
       "    <tr>\n",
       "      <th>195258</th>\n",
       "      <td>L</td>\n",
       "      <td>http://chicago.cbslocal.com/2015/01/26/chicago...</td>\n",
       "      <td>Chicago-Based Medical Technology Company Expan...</td>\n",
       "      <td>**Chicago (CBS)** -- A medical industry techno...</td>\n",
       "      <td>False</td>\n",
       "      <td>2015-01-26 18:55:20.116429+00</td>\n",
       "      <td>2015-02-09 18:56:05.579096+00</td>\n",
       "      <td>100</td>\n",
       "      <td>NaN</td>\n",
       "      <td>[]</td>\n",
       "      <td>...</td>\n",
       "      <td>0</td>\n",
       "      <td>0</td>\n",
       "      <td>0</td>\n",
       "      <td>0</td>\n",
       "      <td>0</td>\n",
       "      <td>0</td>\n",
       "      <td>0</td>\n",
       "      <td>0</td>\n",
       "      <td>0</td>\n",
       "      <td>0</td>\n",
       "    </tr>\n",
       "    <tr>\n",
       "      <th>195259</th>\n",
       "      <td>L</td>\n",
       "      <td>http://chicago.cbslocal.com/2015/01/26/emmas-b...</td>\n",
       "      <td>Emma’s Big Ten Power Rankings: Conference Race...</td>\n",
       "      <td>By Chris Emma-\\n\\n**(CBS)** With win No. 1,000...</td>\n",
       "      <td>False</td>\n",
       "      <td>2015-01-26 18:55:21.141739+00</td>\n",
       "      <td>2015-02-09 18:56:05.469932+00</td>\n",
       "      <td>100</td>\n",
       "      <td>NaN</td>\n",
       "      <td>[]</td>\n",
       "      <td>...</td>\n",
       "      <td>0</td>\n",
       "      <td>0</td>\n",
       "      <td>0</td>\n",
       "      <td>0</td>\n",
       "      <td>0</td>\n",
       "      <td>0</td>\n",
       "      <td>0</td>\n",
       "      <td>0</td>\n",
       "      <td>0</td>\n",
       "      <td>0</td>\n",
       "    </tr>\n",
       "    <tr>\n",
       "      <th>195260</th>\n",
       "      <td>L</td>\n",
       "      <td>http://chicago.cbslocal.com/2015/01/26/14-year...</td>\n",
       "      <td>14-Year-Old Boy Fatally Shot In Riverdale</td>\n",
       "      <td>**(CBS)** -- A 14-year-old boy was fatally sho...</td>\n",
       "      <td>True</td>\n",
       "      <td>2015-01-26 18:55:22.162578+00</td>\n",
       "      <td>2015-02-09 18:56:04.852817+00</td>\n",
       "      <td>100</td>\n",
       "      <td>NaN</td>\n",
       "      <td>[]</td>\n",
       "      <td>...</td>\n",
       "      <td>0</td>\n",
       "      <td>0</td>\n",
       "      <td>0</td>\n",
       "      <td>0</td>\n",
       "      <td>0</td>\n",
       "      <td>0</td>\n",
       "      <td>0</td>\n",
       "      <td>0</td>\n",
       "      <td>0</td>\n",
       "      <td>0</td>\n",
       "    </tr>\n",
       "  </tbody>\n",
       "</table>\n",
       "<p>5 rows × 50 columns</p>\n",
       "</div>"
      ],
      "text/plain": [
       "           feedname                                                url  \\\n",
       "article_id                                                               \n",
       "195256            L  http://chicago.cbslocal.com/2015/01/26/city-sa...   \n",
       "195257            L  http://chicago.cbslocal.com/2015/01/26/browns-...   \n",
       "195258            L  http://chicago.cbslocal.com/2015/01/26/chicago...   \n",
       "195259            L  http://chicago.cbslocal.com/2015/01/26/emmas-b...   \n",
       "195260            L  http://chicago.cbslocal.com/2015/01/26/14-year...   \n",
       "\n",
       "                                                        title  \\\n",
       "article_id                                                      \n",
       "195256      City Says Reports Of Potholes Down From A Year...   \n",
       "195257          Browns WR Josh Gordon Fails Another Drug Test   \n",
       "195258      Chicago-Based Medical Technology Company Expan...   \n",
       "195259      Emma’s Big Ten Power Rankings: Conference Race...   \n",
       "195260              14-Year-Old Boy Fatally Shot In Riverdale   \n",
       "\n",
       "                                                     bodytext  relevant  \\\n",
       "article_id                                                                \n",
       "195256      **CHICAGO (CBS) **- The city of Chicago is sta...     False   \n",
       "195257      **CLEVELAND (AP)** -- Josh Gordon's troubles h...     False   \n",
       "195258      **Chicago (CBS)** -- A medical industry techno...     False   \n",
       "195259      By Chris Emma-\\n\\n**(CBS)** With win No. 1,000...     False   \n",
       "195260      **(CBS)** -- A 14-year-old boy was fatally sho...      True   \n",
       "\n",
       "                                  created                  last_modified  \\\n",
       "article_id                                                                 \n",
       "195256      2015-01-26 18:55:18.051663+00  2015-02-09 18:56:05.593997+00   \n",
       "195257      2015-01-26 18:55:19.088182+00  2015-02-09 18:56:05.478395+00   \n",
       "195258      2015-01-26 18:55:20.116429+00  2015-02-09 18:56:05.579096+00   \n",
       "195259      2015-01-26 18:55:21.141739+00  2015-02-09 18:56:05.469932+00   \n",
       "195260      2015-01-26 18:55:22.162578+00  2015-02-09 18:56:04.852817+00   \n",
       "\n",
       "            news_source_id author locations  ...   UNSPC  ILSC  ARSN  BURG  \\\n",
       "article_id                                   ...                             \n",
       "195256                 100    NaN        []  ...       0     0     0     0   \n",
       "195257                 100    NaN        []  ...       0     0     0     0   \n",
       "195258                 100    NaN        []  ...       0     0     0     0   \n",
       "195259                 100    NaN        []  ...       0     0     0     0   \n",
       "195260                 100    NaN        []  ...       0     0     0     0   \n",
       "\n",
       "            DUI  FRUD  ROBB  TASR  COPA  DIGP  \n",
       "article_id                                     \n",
       "195256        0     0     0     0     0     0  \n",
       "195257        0     0     0     0     0     0  \n",
       "195258        0     0     0     0     0     0  \n",
       "195259        0     0     0     0     0     0  \n",
       "195260        0     0     0     0     0     0  \n",
       "\n",
       "[5 rows x 50 columns]"
      ]
     },
     "execution_count": 4,
     "metadata": {},
     "output_type": "execute_result"
    }
   ],
   "source": [
    "df.head()"
   ]
  },
  {
   "cell_type": "markdown",
   "metadata": {},
   "source": [
    "# Count total number of articles."
   ]
  },
  {
   "cell_type": "code",
   "execution_count": 5,
   "metadata": {},
   "outputs": [
    {
     "data": {
      "text/plain": [
       "40009"
      ]
     },
     "execution_count": 5,
     "metadata": {},
     "output_type": "execute_result"
    }
   ],
   "source": [
    "df.loc[:, 'OEMC':].any(axis=1).sum()"
   ]
  },
  {
   "cell_type": "markdown",
   "metadata": {},
   "source": [
    "# Count all the articles with addressses transcribed from the articles."
   ]
  },
  {
   "cell_type": "code",
   "execution_count": 6,
   "metadata": {},
   "outputs": [
    {
     "data": {
      "text/plain": [
       "354"
      ]
     },
     "execution_count": 6,
     "metadata": {},
     "output_type": "execute_result"
    }
   ],
   "source": [
    "df['locations'].apply(lambda x: bool(x)).sum()"
   ]
  },
  {
   "cell_type": "code",
   "execution_count": 7,
   "metadata": {
    "collapsed": true,
    "scrolled": true
   },
   "outputs": [],
   "source": [
    "addr_list = df.locations[df.locations.apply(lambda x: bool(x))]"
   ]
  },
  {
   "cell_type": "code",
   "execution_count": 8,
   "metadata": {
    "scrolled": true
   },
   "outputs": [
    {
     "data": {
      "text/plain": [
       "article_id\n",
       "198122    [{'start': 69, 'end': 83, 'text': 'Southwest S...\n",
       "208118    [{'start': 331, 'end': 342, 'text': 'Rogers Pa...\n",
       "210368    [{'start': 140, 'end': 146, 'text': 'Uptown', ...\n",
       "210741    [{'start': 164, 'end': 175, 'text': 'South Sho...\n",
       "212073    [{'start': 191, 'end': 202, 'text': 'Irving Pa...\n",
       "Name: locations, dtype: object"
      ]
     },
     "execution_count": 8,
     "metadata": {},
     "output_type": "execute_result"
    }
   ],
   "source": [
    "addr_list.head()"
   ]
  },
  {
   "cell_type": "markdown",
   "metadata": {},
   "source": [
    "# Count the total number of addresses transcribed from the articles to be geocoded."
   ]
  },
  {
   "cell_type": "code",
   "execution_count": 9,
   "metadata": {
    "scrolled": true
   },
   "outputs": [
    {
     "data": {
      "text/plain": [
       "1147"
      ]
     },
     "execution_count": 9,
     "metadata": {},
     "output_type": "execute_result"
    }
   ],
   "source": [
    "addr_list.apply(lambda x: len(x)).sum()"
   ]
  },
  {
   "cell_type": "code",
   "execution_count": 10,
   "metadata": {},
   "outputs": [
    {
     "data": {
      "text/plain": [
       "1147"
      ]
     },
     "execution_count": 10,
     "metadata": {},
     "output_type": "execute_result"
    }
   ],
   "source": [
    "count = 0\n",
    "for i,j in addr_list.iteritems():\n",
    "    if 'lat_long' not in j[0].keys():\n",
    "        count += len(j)\n",
    "count"
   ]
  },
  {
   "cell_type": "markdown",
   "metadata": {},
   "source": [
    "# Run following 2 lines if making changes to lat_long.py. They allow this notebook to automatically update those changes for testing."
   ]
  },
  {
   "cell_type": "code",
   "execution_count": 11,
   "metadata": {
    "collapsed": true
   },
   "outputs": [],
   "source": [
    "%load_ext autoreload"
   ]
  },
  {
   "cell_type": "code",
   "execution_count": 12,
   "metadata": {
    "collapsed": true
   },
   "outputs": [],
   "source": [
    "%autoreload 2"
   ]
  },
  {
   "cell_type": "markdown",
   "metadata": {},
   "source": [
    "#  Please also note that you will need to supply an api_key from Google's Geocoding API site.\n",
    "In the shell you launched this notebook from enter the following code with your geocode api key from Google:\n",
    "```\n",
    "        export GOOGLE_GEOCODE_API_KEY=api...\n",
    "```\n"
   ]
  },
  {
   "cell_type": "code",
   "execution_count": 13,
   "metadata": {
    "collapsed": true
   },
   "outputs": [],
   "source": [
    "import lat_long as ll\n",
    "api_key = os.environ[\"GOOGLE_API_KEY\"]"
   ]
  },
  {
   "cell_type": "markdown",
   "metadata": {},
   "source": [
    "# Main program to gather available locations data that does not yet have lat/long coordinates. \n",
    "### Set `test = True` to run smaller batches to prevent reaching Google's query limits too quickly."
   ]
  },
  {
   "cell_type": "code",
   "execution_count": 14,
   "metadata": {
    "scrolled": true
   },
   "outputs": [
    {
     "name": "stderr",
     "output_type": "stream",
     "text": [
      "\r",
      "N/A% (0 of 1147) |                       | Elapsed Time: 0:00:00 ETA:  --:--:--"
     ]
    },
    {
     "name": "stdout",
     "output_type": "stream",
     "text": [
      "354 articles with 1147 addresses will be processed.\n"
     ]
    },
    {
     "name": "stderr",
     "output_type": "stream",
     "text": [
      "100% (1147 of 1147) |#####################| Elapsed Time: 0:05:29 Time: 0:05:29\n"
     ]
    }
   ],
   "source": [
    "latlong_data = ll.get_lat_long(df, api_key, test=False)"
   ]
  },
  {
   "cell_type": "code",
   "execution_count": 15,
   "metadata": {
    "scrolled": true
   },
   "outputs": [
    {
     "data": {
      "text/plain": [
       "[{'cleaned span': (60, 74),\n",
       "  'cleaned text': 'Southwest Side',\n",
       "  'end': 83,\n",
       "  'lat_long': Location(Southwest Side, Chicago, IL, USA, (41.7977249, -87.7172616, 0.0)),\n",
       "  'start': 69,\n",
       "  'text': 'Southwest Side'},\n",
       " {'cleaned span': (402, 433),\n",
       "  'cleaned text': '6600 block of South Springfield',\n",
       "  'end': 442,\n",
       "  'lat_long': Location(6600 S Springfield Ave, Chicago, IL 60629, USA, (41.7732183, -87.7201869, 0.0)),\n",
       "  'start': 411,\n",
       "  'text': '6600 block of South Springfield'},\n",
       " {'cleaned span': (466, 497),\n",
       "  'cleaned text': '6300 block of South Springfield',\n",
       "  'end': 506,\n",
       "  'lat_long': Location(6300 S Springfield Ave, Chicago, IL 60629, USA, (41.7786783, -87.7203155, 0.0)),\n",
       "  'start': 475,\n",
       "  'text': '6300 block of South Springfield'}]"
      ]
     },
     "execution_count": 15,
     "metadata": {},
     "output_type": "execute_result"
    }
   ],
   "source": [
    "latlong_data.iloc[0]"
   ]
  },
  {
   "cell_type": "code",
   "execution_count": 16,
   "metadata": {},
   "outputs": [
    {
     "data": {
      "text/plain": [
       "354"
      ]
     },
     "execution_count": 16,
     "metadata": {},
     "output_type": "execute_result"
    }
   ],
   "source": [
    "len(latlong_data)"
   ]
  },
  {
   "cell_type": "code",
   "execution_count": 17,
   "metadata": {},
   "outputs": [
    {
     "data": {
      "text/plain": [
       "1147"
      ]
     },
     "execution_count": 17,
     "metadata": {},
     "output_type": "execute_result"
    }
   ],
   "source": [
    "latlong_data.apply(lambda x: len(x)).sum()"
   ]
  },
  {
   "cell_type": "code",
   "execution_count": 18,
   "metadata": {
    "collapsed": true
   },
   "outputs": [],
   "source": [
    "latlong_data.to_pickle('addr_geotag_list.pkl')"
   ]
  },
  {
   "cell_type": "markdown",
   "metadata": {},
   "source": [
    "# Can see from running code block below that some of the queries didn't return results for a variety of reasons."
   ]
  },
  {
   "cell_type": "code",
   "execution_count": 19,
   "metadata": {
    "scrolled": true
   },
   "outputs": [
    {
     "name": "stdout",
     "output_type": "stream",
     "text": [
      "Number of addresses that didn't recieve lat/log coords: 22.\n"
     ]
    },
    {
     "data": {
      "text/plain": [
       "[{'cleaned span': (834, 840),\n",
       "  'cleaned text': 'Austin',\n",
       "  'end': 849,\n",
       "  'start': 843,\n",
       "  'text': 'Austin'},\n",
       " {'cleaned span': (173, 190),\n",
       "  'cleaned text': 'Back of the Yards',\n",
       "  'end': 207,\n",
       "  'start': 190,\n",
       "  'text': 'Back of the Yards'},\n",
       " {'cleaned span': (233, 241),\n",
       "  'cleaned text': 'Lawndale',\n",
       "  'end': 250,\n",
       "  'start': 242,\n",
       "  'text': 'Lawndale'},\n",
       " {'cleaned span': (84, 94),\n",
       "  'cleaned text': 'South Side',\n",
       "  'end': 111,\n",
       "  'start': 101,\n",
       "  'text': 'South Side'},\n",
       " {'cleaned span': (1807, 1833),\n",
       "  'cleaned text': '4000 block of South Kedzie',\n",
       "  'end': 1850,\n",
       "  'start': 1824,\n",
       "  'text': '4000 block of South Kedzie'},\n",
       " {'cleaned span': (166, 203),\n",
       "  'cleaned text': '800 block of North Springfield Avenue',\n",
       "  'end': 220,\n",
       "  'start': 183,\n",
       "  'text': '800 block of North Springfield Avenue'},\n",
       " {'cleaned span': (195, 224),\n",
       "  'cleaned text': '2200 block of West 18th Place',\n",
       "  'end': 242,\n",
       "  'start': 212,\n",
       "  'text': '2200 block of West 18th Place '},\n",
       " {'cleaned span': (763, 797),\n",
       "  'cleaned text': '4800 block of North Central Avenue',\n",
       "  'end': 814,\n",
       "  'start': 780,\n",
       "  'text': '4800 block of North Central Avenue'},\n",
       " {'cleaned span': (193, 205),\n",
       "  'cleaned text': 'Ogden Avenue',\n",
       "  'end': 222,\n",
       "  'start': 210,\n",
       "  'text': 'Ogden Avenue'},\n",
       " {'cleaned span': (3114, 3132),\n",
       "  'cleaned text': 'West Garfield Park',\n",
       "  'end': 3141,\n",
       "  'start': 3123,\n",
       "  'text': 'West Garfield Park'},\n",
       " {'cleaned span': (489, 496),\n",
       "  'cleaned text': 'Pilsen.',\n",
       "  'end': 513,\n",
       "  'start': 506,\n",
       "  'text': 'Pilsen.'},\n",
       " {'cleaned span': (718, 729),\n",
       "  'cleaned text': '43rd Street',\n",
       "  'end': 749,\n",
       "  'start': 737,\n",
       "  'text': '43rd Street '},\n",
       " {'cleaned span': (65, 79),\n",
       "  'cleaned text': 'Near West Side',\n",
       "  'end': 88,\n",
       "  'start': 74,\n",
       "  'text': 'Near West Side'},\n",
       " {'cleaned span': (864, 875),\n",
       "  'cleaned text': 'Des Plaines',\n",
       "  'end': 892,\n",
       "  'start': 881,\n",
       "  'text': 'Des Plaines'},\n",
       " {'cleaned span': (675, 693),\n",
       "  'cleaned text': 'East Garfield Park',\n",
       "  'end': 710,\n",
       "  'start': 692,\n",
       "  'text': 'East Garfield Park'},\n",
       " {'cleaned span': (82, 109),\n",
       "  'cleaned text': 'Auburn Gresham neighborhood',\n",
       "  'end': 126,\n",
       "  'start': 99,\n",
       "  'text': 'Auburn Gresham neighborhood'},\n",
       " {'cleaned span': (479, 494),\n",
       "  'cleaned text': 'Parkway Gardens',\n",
       "  'end': 511,\n",
       "  'start': 496,\n",
       "  'text': 'Parkway Gardens'},\n",
       " {'cleaned span': (141, 151),\n",
       "  'cleaned text': 'Barrington',\n",
       "  'end': 168,\n",
       "  'start': 158,\n",
       "  'text': 'Barrington'},\n",
       " {'cleaned span': (1124, 1139),\n",
       "  'cleaned text': 'Western Springs',\n",
       "  'end': 1156,\n",
       "  'start': 1141,\n",
       "  'text': 'Western Springs'},\n",
       " {'cleaned span': (1027, 1040),\n",
       "  'cleaned text': 'Humboldt Park',\n",
       "  'end': 2562,\n",
       "  'start': 2549,\n",
       "  'text': 'Humboldt Park'},\n",
       " {'cleaned span': (332, 348),\n",
       "  'cleaned text': '2632 W. 11th ST.',\n",
       "  'end': 357,\n",
       "  'start': 341,\n",
       "  'text': '2632 W. 11th ST.'},\n",
       " {'cleaned span': (494, 504),\n",
       "  'cleaned text': 'South Loop',\n",
       "  'end': 513,\n",
       "  'start': 503,\n",
       "  'text': 'South Loop'}]"
      ]
     },
     "execution_count": 19,
     "metadata": {},
     "output_type": "execute_result"
    }
   ],
   "source": [
    "count = 0\n",
    "no_results = []\n",
    "for i in latlong_data:\n",
    "    for j in i:\n",
    "        if 'lat_long' not in j.keys():\n",
    "            count += 1\n",
    "            no_results.append(j)\n",
    "print('Number of addresses that didn\\'t recieve lat/log coords: {}.'.format(count))\n",
    "no_results"
   ]
  },
  {
   "cell_type": "markdown",
   "metadata": {},
   "source": [
    "# Code block below can be run to see how the query works. You will need to supply your own api_key."
   ]
  },
  {
   "cell_type": "code",
   "execution_count": null,
   "metadata": {
    "collapsed": true
   },
   "outputs": [],
   "source": [
    "from geopy.geocoders import GoogleV3\n",
    "api_key = ''\n",
    "g = GoogleV3(api_key = api_key, timeout = 10)"
   ]
  },
  {
   "cell_type": "code",
   "execution_count": null,
   "metadata": {
    "collapsed": true
   },
   "outputs": [],
   "source": [
    "latlong_data[0][1]['lat_long'][1][0]"
   ]
  },
  {
   "cell_type": "code",
   "execution_count": null,
   "metadata": {
    "collapsed": true
   },
   "outputs": [],
   "source": [
    "addr = addr_list[0][2]['cleaned text']\n",
    "location = g.geocode(addr, components={'locality':'Chicago'})\n",
    "location"
   ]
  },
  {
   "cell_type": "markdown",
   "metadata": {
    "collapsed": true
   },
   "source": [
    "# Code to construct URL for displaying lat/longs in Google Static Map\n",
    "\n",
    "Was not able to get this work. Can get the map to output, but with no markers. Abandoning this for now."
   ]
  },
  {
   "cell_type": "code",
   "execution_count": null,
   "metadata": {
    "collapsed": true
   },
   "outputs": [],
   "source": [
    "import mapper as m\n",
    "import webbrowser"
   ]
  },
  {
   "cell_type": "code",
   "execution_count": null,
   "metadata": {
    "collapsed": true
   },
   "outputs": [],
   "source": [
    "mapURL = m.mapper(addr_list, api_key='')\n",
    "webbrowser.open(mapURL)"
   ]
  },
  {
   "cell_type": "code",
   "execution_count": null,
   "metadata": {
    "collapsed": true
   },
   "outputs": [],
   "source": [
    "len(mapURL)"
   ]
  },
  {
   "cell_type": "code",
   "execution_count": null,
   "metadata": {
    "collapsed": true
   },
   "outputs": [],
   "source": [
    "baseURL = 'http://maps.googleapis.com/maps/api/staticmap?center=Chicago,IL&zoom=12&size=640x640&scale=2'\n",
    "#markers = '&markers=size:mid&color:red'\n",
    "#markers += '%7C' + str(latlong_data[0][1]['lat_long'][1][1]) + ',' + str(latlong_data[29][0]['lat_long'][1][1])\n",
    "markers = '&markers=' + str(latlong_data[0][1]['lat_long'][1][0]) + ',' + str(latlong_data[0][1]['lat_long'][1][1])\n",
    "mapURL = baseURL + markers + '&key='\n",
    "webbrowser.open(mapURL)"
   ]
  },
  {
   "cell_type": "code",
   "execution_count": null,
   "metadata": {
    "collapsed": true
   },
   "outputs": [],
   "source": [
    "mapURL"
   ]
  },
  {
   "cell_type": "code",
   "execution_count": null,
   "metadata": {
    "collapsed": true
   },
   "outputs": [],
   "source": []
  }
 ],
 "metadata": {
  "kernelspec": {
   "display_name": "Python 3",
   "language": "python",
   "name": "python3"
  },
  "language_info": {
   "codemirror_mode": {
    "name": "ipython",
    "version": 3
   },
   "file_extension": ".py",
   "mimetype": "text/x-python",
   "name": "python",
   "nbconvert_exporter": "python",
   "pygments_lexer": "ipython3",
   "version": "3.6.3"
  }
 },
 "nbformat": 4,
 "nbformat_minor": 2
}
