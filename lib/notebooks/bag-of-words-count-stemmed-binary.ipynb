{
 "cells": [
  {
   "cell_type": "code",
   "execution_count": 1,
   "metadata": {
    "collapsed": true
   },
   "outputs": [],
   "source": [
    "# Allows us to import packages that exist one level up in the file system\n",
    "# See https://stackoverflow.com/questions/34478398\n",
    "import os\n",
    "import sys\n",
    "module_path = os.path.abspath(os.path.join('..'))\n",
    "if module_path not in sys.path:\n",
    "    sys.path = [module_path] + sys.path"
   ]
  },
  {
   "cell_type": "code",
   "execution_count": 2,
   "metadata": {
    "collapsed": true
   },
   "outputs": [],
   "source": [
    "from tagnews.utils import load_data as ld\n",
    "import matplotlib\n",
    "import matplotlib.pyplot as plt\n",
    "import numpy as np\n",
    "import pandas as pd\n",
    "import sklearn\n",
    "import sklearn.feature_extraction.text\n",
    "import sklearn.multiclass\n",
    "import sklearn.linear_model\n",
    "% matplotlib inline\n",
    "plt.rcParams['figure.figsize'] = 12, 8"
   ]
  },
  {
   "cell_type": "code",
   "execution_count": 3,
   "metadata": {
    "collapsed": true
   },
   "outputs": [],
   "source": [
    "df = ld.load_data()"
   ]
  },
  {
   "cell_type": "code",
   "execution_count": 4,
   "metadata": {
    "collapsed": true
   },
   "outputs": [],
   "source": [
    "# TODO: Augment training data with not relevant"
   ]
  },
  {
   "cell_type": "code",
   "execution_count": 5,
   "metadata": {},
   "outputs": [
    {
     "name": "stdout",
     "output_type": "stream",
     "text": [
      "(40008, 50)\n",
      "(43008, 50)\n",
      "(30105, 50)\n",
      "(12903, 50)\n"
     ]
    }
   ],
   "source": [
    "crime_df = df.loc[df.loc[:, 'OEMC':'TASR'].any(1), :]\n",
    "print(crime_df.shape)\n",
    "crime_df = crime_df.append(df.loc[~df['relevant'], :].sample(n=3000, axis=0))\n",
    "print(crime_df.shape)\n",
    "\n",
    "idx = np.random.permutation(crime_df.shape[0])\n",
    "trn = crime_df.iloc[idx[:int(crime_df.shape[0] * 0.7)], :]\n",
    "tst = crime_df.iloc[idx[int(crime_df.shape[0] * 0.7):], :]\n",
    "print(trn.shape)\n",
    "print(tst.shape)"
   ]
  },
  {
   "cell_type": "code",
   "execution_count": 6,
   "metadata": {
    "collapsed": true
   },
   "outputs": [],
   "source": [
    "# vectorize data\n",
    "from nltk import word_tokenize          \n",
    "from nltk.stem import WordNetLemmatizer \n",
    "class LemmaTokenizer(object):\n",
    "    def __init__(self):\n",
    "        self.wnl = WordNetLemmatizer()\n",
    "    def __call__(self, doc):\n",
    "        return [self.wnl.lemmatize(t) for t in word_tokenize(doc)]\n",
    "\n",
    "vectorizer = sklearn.feature_extraction.text.CountVectorizer(tokenizer=LemmaTokenizer(),\n",
    "                                                             binary=True)\n",
    "X = vectorizer.fit_transform(trn['bodytext'].values)\n",
    "\n",
    "Y = trn.loc[:, 'OEMC':'TASR'].values"
   ]
  },
  {
   "cell_type": "code",
   "execution_count": 7,
   "metadata": {},
   "outputs": [
    {
     "data": {
      "text/plain": [
       "(30105, 219345)"
      ]
     },
     "execution_count": 7,
     "metadata": {},
     "output_type": "execute_result"
    }
   ],
   "source": [
    "X.shape"
   ]
  },
  {
   "cell_type": "code",
   "execution_count": 8,
   "metadata": {
    "collapsed": true
   },
   "outputs": [],
   "source": [
    "from tagnews.crimetype import benchmark as bt"
   ]
  },
  {
   "cell_type": "code",
   "execution_count": 9,
   "metadata": {
    "collapsed": true
   },
   "outputs": [],
   "source": [
    "bench_results = bt.benchmark(\n",
    "    lambda: sklearn.multiclass.OneVsRestClassifier(\n",
    "        sklearn.linear_model.LogisticRegression()\n",
    "    ),\n",
    "    vectorizer.transform(crime_df['bodytext'].values),\n",
    "    crime_df.loc[:, 'OEMC':'TASR'].values\n",
    ")"
   ]
  },
  {
   "cell_type": "code",
   "execution_count": 10,
   "metadata": {
    "collapsed": true
   },
   "outputs": [],
   "source": [
    "fpr = pd.DataFrame(bench_results['fpr'], columns=df.loc[:, 'OEMC':'TASR'].columns.values).T\n",
    "\n",
    "tpr = pd.DataFrame(bench_results['tpr'], columns=df.loc[:, 'OEMC':'TASR'].columns.values).T\n",
    "\n",
    "ppv = pd.DataFrame(bench_results['ppv'], columns=df.loc[:, 'OEMC':'TASR'].columns.values).T"
   ]
  },
  {
   "cell_type": "code",
   "execution_count": 11,
   "metadata": {
    "scrolled": false
   },
   "outputs": [
    {
     "data": {
      "text/plain": [
       "{'acc': array([ 0.96645177,  0.96644443,  0.96686296,  0.96649828]),\n",
       " 'clfs': [OneVsRestClassifier(estimator=LogisticRegression(C=1.0, class_weight=None, dual=False, fit_intercept=True,\n",
       "            intercept_scaling=1, max_iter=100, multi_class='ovr', n_jobs=1,\n",
       "            penalty='l2', random_state=None, solver='liblinear', tol=0.0001,\n",
       "            verbose=0, warm_start=False),\n",
       "            n_jobs=1),\n",
       "  OneVsRestClassifier(estimator=LogisticRegression(C=1.0, class_weight=None, dual=False, fit_intercept=True,\n",
       "            intercept_scaling=1, max_iter=100, multi_class='ovr', n_jobs=1,\n",
       "            penalty='l2', random_state=None, solver='liblinear', tol=0.0001,\n",
       "            verbose=0, warm_start=False),\n",
       "            n_jobs=1),\n",
       "  OneVsRestClassifier(estimator=LogisticRegression(C=1.0, class_weight=None, dual=False, fit_intercept=True,\n",
       "            intercept_scaling=1, max_iter=100, multi_class='ovr', n_jobs=1,\n",
       "            penalty='l2', random_state=None, solver='liblinear', tol=0.0001,\n",
       "            verbose=0, warm_start=False),\n",
       "            n_jobs=1),\n",
       "  OneVsRestClassifier(estimator=LogisticRegression(C=1.0, class_weight=None, dual=False, fit_intercept=True,\n",
       "            intercept_scaling=1, max_iter=100, multi_class='ovr', n_jobs=1,\n",
       "            penalty='l2', random_state=None, solver='liblinear', tol=0.0001,\n",
       "            verbose=0, warm_start=False),\n",
       "            n_jobs=1)],\n",
       " 'fpr': array([[  4.66461424e-04,   1.66666667e-01,   1.96118075e-02,\n",
       "           1.83732247e-02,   4.65381328e-03,   8.07692308e-03,\n",
       "           1.12222950e-03,   1.49644594e-03,   9.10323455e-03,\n",
       "           5.95060994e-03,   2.45421937e-03,   5.84011489e-03,\n",
       "           4.22356751e-02,   1.88536953e-03,   2.62080262e-02,\n",
       "           2.79981335e-04,   1.62671491e-01,   1.78186252e-03,\n",
       "           1.12412178e-03,   1.22123062e-03,   5.76396107e-03,\n",
       "           1.35268562e-02,   4.06543413e-03,   1.81818182e-02,\n",
       "           2.95378752e-03,   4.98138400e-02,   1.69077588e-03,\n",
       "           9.34579439e-05,   6.55062699e-04,   9.31358853e-05,\n",
       "           9.81743441e-02,   2.80242877e-04,   2.81769513e-04,\n",
       "           6.09284333e-03,   3.26045263e-03,   8.96385542e-03,\n",
       "           1.90811214e-02,   3.73203956e-04],\n",
       "        [  1.86532363e-04,   1.70179682e-01,   2.62786951e-02,\n",
       "           1.71953750e-02,   3.61422865e-03,   8.09482509e-03,\n",
       "           4.67071462e-04,   8.43881857e-04,   1.00175063e-02,\n",
       "           6.43373255e-03,   2.92563231e-03,   6.10978520e-03,\n",
       "           4.68839337e-02,   1.97721495e-03,   3.09120588e-02,\n",
       "           3.73378139e-04,   1.64911225e-01,   1.97349873e-03,\n",
       "           1.21791269e-03,   1.31430717e-03,   2.93088778e-03,\n",
       "           1.14257327e-02,   4.85389768e-03,   1.92366412e-02,\n",
       "           3.90773923e-03,   4.64817668e-02,   1.50333553e-03,\n",
       "           5.60224090e-04,   7.48362956e-04,   9.30578820e-05,\n",
       "           9.64965450e-02,   1.86863496e-04,   3.75763269e-04,\n",
       "           6.16392180e-03,   4.50450450e-03,   6.36942675e-03,\n",
       "           2.01869953e-02,   9.33271115e-05],\n",
       "        [  2.79850746e-04,   1.64934401e-01,   2.27873856e-02,\n",
       "           2.06083424e-02,   5.13405590e-03,   6.37127136e-03,\n",
       "           4.67858145e-04,   6.56044986e-04,   7.86484125e-03,\n",
       "           6.05218772e-03,   1.79533214e-03,   5.36347093e-03,\n",
       "           3.95184136e-02,   2.72505168e-03,   2.86797091e-02,\n",
       "           4.66897003e-04,   1.57490975e-01,   2.34653651e-03,\n",
       "           8.43723634e-04,   1.78437265e-03,   3.59814412e-03,\n",
       "           1.09835741e-02,   5.14463211e-03,   1.85053381e-02,\n",
       "           3.71181117e-03,   5.16491946e-02,   2.34235922e-03,\n",
       "           7.46407912e-04,   6.54511454e-04,   0.00000000e+00,\n",
       "           1.01050344e-01,   7.47314339e-04,   9.38614605e-04,\n",
       "           6.07287449e-03,   2.87797391e-03,   6.58340594e-03,\n",
       "           2.26018676e-02,   9.32227091e-05],\n",
       "        [  2.79929085e-04,   1.77356575e-01,   2.39393939e-02,\n",
       "           2.04404068e-02,   4.56403917e-03,   5.59143931e-03,\n",
       "           7.48083037e-04,   1.03083122e-03,   8.07314464e-03,\n",
       "           5.15617253e-03,   2.54837187e-03,   4.87851540e-03,\n",
       "           4.30092060e-02,   1.88430375e-03,   3.17476626e-02,\n",
       "           5.59597090e-04,   1.74413323e-01,   2.63009581e-03,\n",
       "           9.36768150e-04,   1.40778977e-03,   5.85734530e-03,\n",
       "           1.09977212e-02,   5.73149407e-03,   1.79222357e-02,\n",
       "           3.62249762e-03,   5.10467821e-02,   1.97035091e-03,\n",
       "           7.47104968e-04,   1.12327998e-03,   0.00000000e+00,\n",
       "           9.89908698e-02,   6.53838969e-04,   1.31393712e-03,\n",
       "           7.00643056e-03,   3.84172109e-03,   7.37148400e-03,\n",
       "           2.06382979e-02,   2.79798545e-04]]),\n",
       " 'ppv': array([[ 0.61538462,  0.80326547,  0.74270557,  0.6177686 ,  0.71676301,\n",
       "          0.75221239,  0.625     ,  0.6       ,  0.7283237 ,  0.90196078,\n",
       "          0.73737374,  0.73362445,  0.91542148,  0.80769231,  0.63943662,\n",
       "          0.625     ,  0.72704275,  0.63461538,  0.71428571,  0.75      ,\n",
       "          0.36458333,  0.75535714,  0.88365651,  0.78715815,  0.82485876,\n",
       "          0.8651373 ,  0.76      ,  0.75      ,  0.86      ,  0.85714286,\n",
       "          0.63124432,  0.76923077,  0.95081967,  0.77256318,  0.88194444,\n",
       "          0.73504274,  0.84983221,  0.71428571],\n",
       "        [ 0.71428571,  0.80560489,  0.66495507,  0.61504425,  0.7816092 ,\n",
       "          0.75221239,  0.77272727,  0.76923077,  0.74378109,  0.89130435,\n",
       "          0.73275862,  0.72765957,  0.91060234,  0.75862069,  0.5986755 ,\n",
       "          0.55555556,  0.72938272,  0.6557377 ,  0.66666667,  0.76666667,\n",
       "          0.59210526,  0.79965157,  0.86413043,  0.78225806,  0.75882353,\n",
       "          0.87289326,  0.81395349,  0.14285714,  0.83673469,  0.66666667,\n",
       "          0.62873134,  0.83333333,  0.94520548,  0.76642336,  0.83450704,\n",
       "          0.79878049,  0.83952703,  0.93333333],\n",
       "        [ 0.7       ,  0.80732484,  0.71573604,  0.6119403 ,  0.71122995,\n",
       "          0.7962963 ,  0.8       ,  0.78787879,  0.76521739,  0.90177134,\n",
       "          0.81372549,  0.74193548,  0.92204526,  0.7184466 ,  0.63109354,\n",
       "          0.44444444,  0.73693467,  0.609375  ,  0.78571429,  0.71641791,\n",
       "          0.51898734,  0.78776291,  0.86513995,  0.78537736,  0.77456647,\n",
       "          0.86150154,  0.69879518,  0.11111111,  0.78787879,  1.        ,\n",
       "          0.61763362,  0.46666667,  0.87012987,  0.77816901,  0.89323843,\n",
       "          0.80116959,  0.8279483 ,  0.83333333],\n",
       "        [ 0.76923077,  0.79052568,  0.69419355,  0.59332024,  0.71764706,\n",
       "          0.82153846,  0.68      ,  0.73809524,  0.77197802,  0.91216216,\n",
       "          0.76106195,  0.75362319,  0.91979614,  0.8       ,  0.62317073,\n",
       "          0.5       ,  0.72240964,  0.57575758,  0.71428571,  0.75806452,\n",
       "          0.40952381,  0.78816794,  0.85783133,  0.77707809,  0.80512821,\n",
       "          0.86527967,  0.73417722,  0.2       ,  0.78571429,  1.        ,\n",
       "          0.62219166,  0.53333333,  0.82051282,  0.73161765,  0.8630137 ,\n",
       "          0.80661578,  0.84442662,  0.8125    ]]),\n",
       " 'tpr': array([[ 0.24242424,  0.81392974,  0.65116279,  0.43777452,  0.55605381,\n",
       "          0.72443182,  0.33898305,  0.4       ,  0.5915493 ,  0.82511211,\n",
       "          0.46202532,  0.54723127,  0.88983283,  0.58333333,  0.46138211,\n",
       "          0.13513514,  0.69774217,  0.37078652,  0.38961039,  0.36448598,\n",
       "          0.20710059,  0.67788462,  0.75771971,  0.72987872,  0.56809339,\n",
       "          0.840027  ,  0.53773585,  0.05769231,  0.65151515,  0.4       ,\n",
       "          0.56025796,  0.21276596,  0.55238095,  0.51941748,  0.78395062,\n",
       "          0.68435013,  0.73887673,  0.29411765],\n",
       "        [ 0.16666667,  0.82232071,  0.63170732,  0.43917852,  0.57142857,\n",
       "          0.68      ,  0.36170213,  0.34482759,  0.63617021,  0.82126348,\n",
       "          0.54487179,  0.61732852,  0.88951012,  0.50381679,  0.47578947,\n",
       "          0.12820513,  0.71943497,  0.36036036,  0.33333333,  0.46      ,\n",
       "          0.25714286,  0.66812227,  0.70509978,  0.73247033,  0.49615385,\n",
       "          0.83873144,  0.64220183,  0.02380952,  0.66129032,  0.33333333,\n",
       "          0.53855374,  0.20408163,  0.64485981,  0.56910569,  0.74528302,\n",
       "          0.67179487,  0.74179104,  0.37837838],\n",
       "        [ 0.21875   ,  0.8306369 ,  0.61171367,  0.49772382,  0.56837607,\n",
       "          0.65648855,  0.30769231,  0.31707317,  0.58278146,  0.8320951 ,\n",
       "          0.49112426,  0.51768489,  0.89382449,  0.67272727,  0.4843276 ,\n",
       "          0.09302326,  0.71466862,  0.39795918,  0.38823529,  0.46153846,\n",
       "          0.21465969,  0.6377709 ,  0.75555556,  0.72628135,  0.54693878,\n",
       "          0.85767918,  0.73417722,  0.02941176,  0.45614035,  0.22222222,\n",
       "          0.54759012,  0.14893617,  0.68367347,  0.58465608,  0.7652439 ,\n",
       "          0.64775414,  0.77183735,  0.2       ],\n",
       "        [ 0.28571429,  0.81664258,  0.6314554 ,  0.4832    ,  0.51914894,\n",
       "          0.70448549,  0.29310345,  0.38271605,  0.59660297,  0.8095952 ,\n",
       "          0.5477707 ,  0.52348993,  0.90236842,  0.57971014,  0.50147203,\n",
       "          0.2       ,  0.72293224,  0.35849057,  0.32467532,  0.48453608,\n",
       "          0.25748503,  0.62670713,  0.77729258,  0.7043379 ,  0.59923664,\n",
       "          0.84173855,  0.61702128,  0.04545455,  0.63768116,  0.58333333,\n",
       "          0.55889621,  0.17391304,  0.65979381,  0.5975976 ,  0.74117647,\n",
       "          0.71719457,  0.77884615,  0.43333333]])}"
      ]
     },
     "execution_count": 11,
     "metadata": {},
     "output_type": "execute_result"
    }
   ],
   "source": [
    "bench_results"
   ]
  },
  {
   "cell_type": "code",
   "execution_count": 12,
   "metadata": {
    "scrolled": false
   },
   "outputs": [
    {
     "data": {
      "image/png": "[encoded data removed]",
      "text/plain": [
       "<matplotlib.figure.Figure at 0x1a1abe8438>"
      ]
     },
     "metadata": {},
     "output_type": "display_data"
    }
   ],
   "source": [
    "f, axs = plt.subplots(3,1)\n",
    "tpr.mean(axis=1).plot(kind='bar', ax=axs[0])\n",
    "axs[0].set_ylabel('TPR')\n",
    "axs[0].set_xticklabels([])\n",
    "axs[0].set_ylim([0, 1])\n",
    "ppv.mean(axis=1).plot(kind='bar', ax=axs[1])\n",
    "axs[1].set_ylabel('PPV')\n",
    "axs[1].set_xticklabels([])\n",
    "axs[1].set_ylim([0, 1])\n",
    "(1 - fpr).mean(axis=1).plot(kind='bar', ax=axs[2])\n",
    "axs[2].set_ylabel('1 - FPR')\n",
    "axs[2].set_ylim([0, 1])\n",
    "plt.tight_layout()\n",
    "plt.show()"
   ]
  },
  {
   "cell_type": "code",
   "execution_count": 13,
   "metadata": {},
   "outputs": [
    {
     "data": {
      "text/plain": [
       "Index(['OEMC', 'CPD', 'SAO', 'CCCC', 'CCJ', 'CCSP', 'CPUB', 'IDOC', 'DOMV',\n",
       "       'SEXA', 'POLB', 'POLM', 'GUNV', 'GLBTQ', 'JUVE', 'REEN', 'VIOL', 'BEAT',\n",
       "       'PROB', 'PARL', 'CPLY', 'DRUG', 'CPS', 'GANG', 'ILSP', 'HOMI', 'IPRA',\n",
       "       'CPBD', 'IMMG', 'ENVI', 'UNSPC', 'ILSC', 'ARSN', 'BURG', 'DUI', 'FRUD',\n",
       "       'ROBB', 'TASR', 'COPA', 'DIGP'],\n",
       "      dtype='object')"
      ]
     },
     "execution_count": 13,
     "metadata": {},
     "output_type": "execute_result"
    }
   ],
   "source": [
    "df.loc[:, 'OEMC'::].columns"
   ]
  },
  {
   "cell_type": "code",
   "execution_count": 14,
   "metadata": {
    "collapsed": true,
    "scrolled": false
   },
   "outputs": [],
   "source": [
    "# this will write 10 files to the notebooks directory\n",
    "bt.predict_articles(bench_results['clfs'][0], vectorizer, df, n=10)"
   ]
  },
  {
   "cell_type": "code",
   "execution_count": 15,
   "metadata": {},
   "outputs": [
    {
     "data": {
      "text/html": [
       "<div>\n",
       "<style>\n",
       "    .dataframe thead tr:only-child th {\n",
       "        text-align: right;\n",
       "    }\n",
       "\n",
       "    .dataframe thead th {\n",
       "        text-align: left;\n",
       "    }\n",
       "\n",
       "    .dataframe tbody tr th {\n",
       "        vertical-align: top;\n",
       "    }\n",
       "</style>\n",
       "<table border=\"1\" class=\"dataframe\">\n",
       "  <thead>\n",
       "    <tr style=\"text-align: right;\">\n",
       "      <th></th>\n",
       "      <th>0</th>\n",
       "    </tr>\n",
       "  </thead>\n",
       "  <tbody>\n",
       "    <tr>\n",
       "      <th>DRUG</th>\n",
       "      <td>0.883640</td>\n",
       "    </tr>\n",
       "    <tr>\n",
       "      <th>CPS</th>\n",
       "      <td>0.279387</td>\n",
       "    </tr>\n",
       "    <tr>\n",
       "      <th>ENVI</th>\n",
       "      <td>0.233220</td>\n",
       "    </tr>\n",
       "    <tr>\n",
       "      <th>UNSPC</th>\n",
       "      <td>0.223360</td>\n",
       "    </tr>\n",
       "    <tr>\n",
       "      <th>TASR</th>\n",
       "      <td>0.198768</td>\n",
       "    </tr>\n",
       "    <tr>\n",
       "      <th>DUI</th>\n",
       "      <td>0.195687</td>\n",
       "    </tr>\n",
       "    <tr>\n",
       "      <th>OEMC</th>\n",
       "      <td>0.193447</td>\n",
       "    </tr>\n",
       "    <tr>\n",
       "      <th>VIOL</th>\n",
       "      <td>0.190172</td>\n",
       "    </tr>\n",
       "    <tr>\n",
       "      <th>GLBTQ</th>\n",
       "      <td>0.189032</td>\n",
       "    </tr>\n",
       "    <tr>\n",
       "      <th>IMMG</th>\n",
       "      <td>0.186872</td>\n",
       "    </tr>\n",
       "    <tr>\n",
       "      <th>CPUB</th>\n",
       "      <td>0.178900</td>\n",
       "    </tr>\n",
       "    <tr>\n",
       "      <th>CPLY</th>\n",
       "      <td>0.178638</td>\n",
       "    </tr>\n",
       "    <tr>\n",
       "      <th>ARSN</th>\n",
       "      <td>0.175348</td>\n",
       "    </tr>\n",
       "    <tr>\n",
       "      <th>IDOC</th>\n",
       "      <td>0.169739</td>\n",
       "    </tr>\n",
       "    <tr>\n",
       "      <th>IPRA</th>\n",
       "      <td>0.169063</td>\n",
       "    </tr>\n",
       "    <tr>\n",
       "      <th>REEN</th>\n",
       "      <td>0.167150</td>\n",
       "    </tr>\n",
       "    <tr>\n",
       "      <th>BURG</th>\n",
       "      <td>0.165184</td>\n",
       "    </tr>\n",
       "    <tr>\n",
       "      <th>PARL</th>\n",
       "      <td>0.164373</td>\n",
       "    </tr>\n",
       "    <tr>\n",
       "      <th>BEAT</th>\n",
       "      <td>0.162780</td>\n",
       "    </tr>\n",
       "    <tr>\n",
       "      <th>PROB</th>\n",
       "      <td>0.162569</td>\n",
       "    </tr>\n",
       "    <tr>\n",
       "      <th>ILSC</th>\n",
       "      <td>0.156446</td>\n",
       "    </tr>\n",
       "    <tr>\n",
       "      <th>GUNV</th>\n",
       "      <td>0.156422</td>\n",
       "    </tr>\n",
       "    <tr>\n",
       "      <th>CCJ</th>\n",
       "      <td>0.152446</td>\n",
       "    </tr>\n",
       "    <tr>\n",
       "      <th>POLM</th>\n",
       "      <td>0.144488</td>\n",
       "    </tr>\n",
       "    <tr>\n",
       "      <th>CPD</th>\n",
       "      <td>0.143835</td>\n",
       "    </tr>\n",
       "    <tr>\n",
       "      <th>POLB</th>\n",
       "      <td>0.141899</td>\n",
       "    </tr>\n",
       "    <tr>\n",
       "      <th>SEXA</th>\n",
       "      <td>0.140799</td>\n",
       "    </tr>\n",
       "    <tr>\n",
       "      <th>FRUD</th>\n",
       "      <td>0.138884</td>\n",
       "    </tr>\n",
       "    <tr>\n",
       "      <th>ILSP</th>\n",
       "      <td>0.138523</td>\n",
       "    </tr>\n",
       "    <tr>\n",
       "      <th>SAO</th>\n",
       "      <td>0.120675</td>\n",
       "    </tr>\n",
       "    <tr>\n",
       "      <th>CPBD</th>\n",
       "      <td>0.120584</td>\n",
       "    </tr>\n",
       "    <tr>\n",
       "      <th>CCSP</th>\n",
       "      <td>0.116287</td>\n",
       "    </tr>\n",
       "    <tr>\n",
       "      <th>HOMI</th>\n",
       "      <td>0.106819</td>\n",
       "    </tr>\n",
       "    <tr>\n",
       "      <th>GANG</th>\n",
       "      <td>0.104043</td>\n",
       "    </tr>\n",
       "    <tr>\n",
       "      <th>CCCC</th>\n",
       "      <td>0.102096</td>\n",
       "    </tr>\n",
       "    <tr>\n",
       "      <th>ROBB</th>\n",
       "      <td>0.095261</td>\n",
       "    </tr>\n",
       "    <tr>\n",
       "      <th>DOMV</th>\n",
       "      <td>0.094469</td>\n",
       "    </tr>\n",
       "    <tr>\n",
       "      <th>JUVE</th>\n",
       "      <td>0.084212</td>\n",
       "    </tr>\n",
       "  </tbody>\n",
       "</table>\n",
       "</div>"
      ],
      "text/plain": [
       "             0\n",
       "DRUG  0.883640\n",
       "CPS   0.279387\n",
       "ENVI  0.233220\n",
       "UNSPC 0.223360\n",
       "TASR  0.198768\n",
       "DUI   0.195687\n",
       "OEMC  0.193447\n",
       "VIOL  0.190172\n",
       "GLBTQ 0.189032\n",
       "IMMG  0.186872\n",
       "CPUB  0.178900\n",
       "CPLY  0.178638\n",
       "ARSN  0.175348\n",
       "IDOC  0.169739\n",
       "IPRA  0.169063\n",
       "REEN  0.167150\n",
       "BURG  0.165184\n",
       "PARL  0.164373\n",
       "BEAT  0.162780\n",
       "PROB  0.162569\n",
       "ILSC  0.156446\n",
       "GUNV  0.156422\n",
       "CCJ   0.152446\n",
       "POLM  0.144488\n",
       "CPD   0.143835\n",
       "POLB  0.141899\n",
       "SEXA  0.140799\n",
       "FRUD  0.138884\n",
       "ILSP  0.138523\n",
       "SAO   0.120675\n",
       "CPBD  0.120584\n",
       "CCSP  0.116287\n",
       "HOMI  0.106819\n",
       "GANG  0.104043\n",
       "CCCC  0.102096\n",
       "ROBB  0.095261\n",
       "DOMV  0.094469\n",
       "JUVE  0.084212"
      ]
     },
     "execution_count": 15,
     "metadata": {},
     "output_type": "execute_result"
    }
   ],
   "source": [
    "# sanity check\n",
    "clf = bench_results['clfs'][0]\n",
    "pd.DataFrame(\n",
    "    clf.predict_proba(vectorizer.transform(['marijuana'])),\n",
    "    columns=df.loc[:, 'OEMC':'TASR'].columns\n",
    ").T.sort_values(0, ascending=False)"
   ]
  },
  {
   "cell_type": "code",
   "execution_count": 16,
   "metadata": {
    "collapsed": true
   },
   "outputs": [],
   "source": [
    "not_yet_tagged = df.loc[df['relevant'] & ~df.loc[:, 'OEMC':'TASR'].any(1), :]"
   ]
  },
  {
   "cell_type": "code",
   "execution_count": 17,
   "metadata": {
    "collapsed": true
   },
   "outputs": [],
   "source": [
    "not_yet_tagged_preds = pd.DataFrame(\n",
    "    clf.predict_proba(vectorizer.transform(not_yet_tagged.loc[:, 'bodytext'].values)),\n",
    "    columns=df.loc[:, 'OEMC':'TASR'].columns\n",
    ")"
   ]
  },
  {
   "cell_type": "code",
   "execution_count": 19,
   "metadata": {},
   "outputs": [
    {
     "data": {
      "text/plain": [
       "<matplotlib.legend.Legend at 0x28e892cfeb8>"
      ]
     },
     "execution_count": 19,
     "metadata": {},
     "output_type": "execute_result"
    },
    {
     "data": {
      "image/png": "[encoded data removed]",
      "text/plain": [
       "<matplotlib.figure.Figure at 0x28e862c06a0>"
      ]
     },
     "metadata": {},
     "output_type": "display_data"
    }
   ],
   "source": [
    "f, ax = plt.subplots(1, figsize=(8,8))\n",
    "percents = not_yet_tagged_preds.max(axis=1).sort_values().reset_index().values[:,1]\n",
    "filtered = np.linspace(0, 100, not_yet_tagged_preds.shape[0])\n",
    "\n",
    "ax.plot(percents, filtered)\n",
    "\n",
    "for filtered_p in [25, 40, 50]:\n",
    "    p = percents[np.where(filtered >= filtered_p)[0][0]]\n",
    "    plt.plot([0, p, p],\n",
    "             [filtered_p, filtered_p, 0],\n",
    "             '--',\n",
    "             label='filtered {}% of data with threshold {:.2%}'.format(filtered_p, p))\n",
    "\n",
    "ax.grid(True)\n",
    "ax.set_xlim([0, 1])\n",
    "ax.set_ylim([0, 100])\n",
    "ax.set_xlabel('Probability threshold $p$', fontsize=16)\n",
    "ax.set_title('% of data with all tags < probability $p$', fontsize=16)\n",
    "ax.legend(loc='lower right', fontsize=14)"
   ]
  },
  {
   "cell_type": "code",
   "execution_count": 20,
   "metadata": {
    "collapsed": true
   },
   "outputs": [],
   "source": [
    "import pickle\n",
    "\n",
    "curr_time = time.strftime('%Y%m%d-%H%M%S')\n",
    "with open('model-' + curr_time + '.pkl', 'wb') as f:\n",
    "    pickle.dump(bench_results['clfs'][0], f)\n",
    "with open('vectorizer-' + curr_time + '.pkl', 'wb') as f:\n",
    "    pickle.dump(vectorizer, f)"
   ]
  },
  {
   "cell_type": "code",
   "execution_count": null,
   "metadata": {
    "collapsed": true
   },
   "outputs": [],
   "source": []
  }
 ],
 "metadata": {
  "anaconda-cloud": {},
  "kernelspec": {
   "display_name": "Python 3",
   "language": "python",
   "name": "python3"
  },
  "language_info": {
   "codemirror_mode": {
    "name": "ipython",
    "version": 3
   },
   "file_extension": ".py",
   "mimetype": "text/x-python",
   "name": "python",
   "nbconvert_exporter": "python",
   "pygments_lexer": "ipython3",
   "version": "3.6.3"
  }
 },
 "nbformat": 4,
 "nbformat_minor": 2
}
