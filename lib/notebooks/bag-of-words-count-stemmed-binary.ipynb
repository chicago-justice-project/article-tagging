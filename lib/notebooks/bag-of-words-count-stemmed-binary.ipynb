{
 "cells": [
  {
   "cell_type": "code",
   "execution_count": 1,
   "metadata": {
    "collapsed": true
   },
   "outputs": [],
   "source": [
    "# Allows us to import packages that exist one level up in the file system\n",
    "# See https://stackoverflow.com/questions/34478398\n",
    "import os\n",
    "import sys\n",
    "module_path = os.path.abspath(os.path.join('..'))\n",
    "if module_path not in sys.path:\n",
    "    sys.path.append(module_path)"
   ]
  },
  {
   "cell_type": "code",
   "execution_count": 2,
   "metadata": {
    "collapsed": true
   },
   "outputs": [],
   "source": [
    "from tagnews.utils import load_data as ld\n",
    "import matplotlib\n",
    "import matplotlib.pyplot as plt\n",
    "import numpy as np\n",
    "import pandas as pd\n",
    "import sklearn\n",
    "import sklearn.feature_extraction.text\n",
    "import sklearn.multiclass\n",
    "import sklearn.linear_model\n",
    "% matplotlib inline\n",
    "plt.rcParams['figure.figsize'] = 12, 8"
   ]
  },
  {
   "cell_type": "code",
   "execution_count": 3,
   "metadata": {},
   "outputs": [
    {
     "name": "stderr",
     "output_type": "stream",
     "text": [
      "/home/kevin/miniconda3/envs/cjp/lib/python3.6/site-packages/IPython/core/interactiveshell.py:2862: DtypeWarning: Columns (3,10) have mixed types. Specify dtype option on import or set low_memory=False.\n",
      "  exec(code_obj, self.user_global_ns, self.user_ns)\n"
     ]
    }
   ],
   "source": [
    "df = ld.load_data()"
   ]
  },
  {
   "cell_type": "code",
   "execution_count": 4,
   "metadata": {
    "collapsed": true
   },
   "outputs": [],
   "source": [
    "# TODO: Augment training data with not relevant"
   ]
  },
  {
   "cell_type": "code",
   "execution_count": 5,
   "metadata": {},
   "outputs": [
    {
     "name": "stderr",
     "output_type": "stream",
     "text": [
      "/home/kevin/miniconda3/envs/cjp/lib/python3.6/site-packages/ipykernel_launcher.py:1: DeprecationWarning: \n",
      ".ix is deprecated. Please use\n",
      ".loc for label based indexing or\n",
      ".iloc for positional indexing\n",
      "\n",
      "See the documentation here:\n",
      "http://pandas.pydata.org/pandas-docs/stable/indexing.html#ix-indexer-is-deprecated\n",
      "  \"\"\"Entry point for launching an IPython kernel.\n"
     ]
    },
    {
     "name": "stdout",
     "output_type": "stream",
     "text": [
      "(37702, 47)\n",
      "(40702, 47)\n",
      "(28491, 47)\n",
      "(12211, 47)\n"
     ]
    }
   ],
   "source": [
    "crime_df = df.ix[df.loc[:, 'OEMC':'TASR'].any(1), :]\n",
    "print(crime_df.shape)\n",
    "crime_df = crime_df.append(df.ix[~df['relevant'], :].sample(n=3000, axis=0))\n",
    "print(crime_df.shape)\n",
    "\n",
    "idx = np.random.permutation(crime_df.shape[0])\n",
    "trn = crime_df.iloc[idx[:int(crime_df.shape[0] * 0.7)], :]\n",
    "tst = crime_df.iloc[idx[int(crime_df.shape[0] * 0.7):], :]\n",
    "print(trn.shape)\n",
    "print(tst.shape)"
   ]
  },
  {
   "cell_type": "code",
   "execution_count": 6,
   "metadata": {
    "collapsed": true
   },
   "outputs": [],
   "source": [
    "# vectorize data\n",
    "from nltk import word_tokenize          \n",
    "from nltk.stem import WordNetLemmatizer \n",
    "class LemmaTokenizer(object):\n",
    "    def __init__(self):\n",
    "        self.wnl = WordNetLemmatizer()\n",
    "    def __call__(self, doc):\n",
    "        return [self.wnl.lemmatize(t) for t in word_tokenize(doc)]\n",
    "\n",
    "vectorizer = sklearn.feature_extraction.text.CountVectorizer(tokenizer=LemmaTokenizer(),\n",
    "                                                             binary=True)\n",
    "X = vectorizer.fit_transform(trn['bodytext'].values)\n",
    "\n",
    "Y = trn.loc[:, 'OEMC':'TASR'].values"
   ]
  },
  {
   "cell_type": "code",
   "execution_count": 7,
   "metadata": {},
   "outputs": [
    {
     "data": {
      "text/plain": [
       "(28491, 217673)"
      ]
     },
     "execution_count": 7,
     "metadata": {},
     "output_type": "execute_result"
    }
   ],
   "source": [
    "X.shape"
   ]
  },
  {
   "cell_type": "code",
   "execution_count": 8,
   "metadata": {
    "collapsed": true
   },
   "outputs": [],
   "source": [
    "from tagnews.crimetype import benchmark as bt"
   ]
  },
  {
   "cell_type": "code",
   "execution_count": 9,
   "metadata": {
    "collapsed": true
   },
   "outputs": [],
   "source": [
    "bench_results = bt.benchmark(\n",
    "    lambda: sklearn.multiclass.OneVsRestClassifier(\n",
    "        sklearn.linear_model.LogisticRegression()\n",
    "    ),\n",
    "    vectorizer.transform(crime_df['bodytext'].values),\n",
    "    crime_df.loc[:, 'OEMC':'TASR'].values\n",
    ")"
   ]
  },
  {
   "cell_type": "code",
   "execution_count": 10,
   "metadata": {
    "collapsed": true
   },
   "outputs": [],
   "source": [
    "fpr = pd.DataFrame(bench_results['fpr'], columns=crime_df.columns.values[9:]).T\n",
    "\n",
    "tpr = pd.DataFrame(bench_results['tpr'], columns=crime_df.columns.values[9:]).T\n",
    "\n",
    "ppv = pd.DataFrame(bench_results['ppv'], columns=crime_df.columns.values[9:]).T"
   ]
  },
  {
   "cell_type": "code",
   "execution_count": 11,
   "metadata": {},
   "outputs": [
    {
     "data": {
      "text/plain": [
       "{'acc': array([ 0.96716474,  0.96676907,  0.96699599,  0.96738911]),\n",
       " 'clfs': [OneVsRestClassifier(estimator=LogisticRegression(C=1.0, class_weight=None, dual=False, fit_intercept=True,\n",
       "            intercept_scaling=1, max_iter=100, multi_class='ovr', n_jobs=1,\n",
       "            penalty='l2', random_state=None, solver='liblinear', tol=0.0001,\n",
       "            verbose=0, warm_start=False),\n",
       "            n_jobs=1),\n",
       "  OneVsRestClassifier(estimator=LogisticRegression(C=1.0, class_weight=None, dual=False, fit_intercept=True,\n",
       "            intercept_scaling=1, max_iter=100, multi_class='ovr', n_jobs=1,\n",
       "            penalty='l2', random_state=None, solver='liblinear', tol=0.0001,\n",
       "            verbose=0, warm_start=False),\n",
       "            n_jobs=1),\n",
       "  OneVsRestClassifier(estimator=LogisticRegression(C=1.0, class_weight=None, dual=False, fit_intercept=True,\n",
       "            intercept_scaling=1, max_iter=100, multi_class='ovr', n_jobs=1,\n",
       "            penalty='l2', random_state=None, solver='liblinear', tol=0.0001,\n",
       "            verbose=0, warm_start=False),\n",
       "            n_jobs=1),\n",
       "  OneVsRestClassifier(estimator=LogisticRegression(C=1.0, class_weight=None, dual=False, fit_intercept=True,\n",
       "            intercept_scaling=1, max_iter=100, multi_class='ovr', n_jobs=1,\n",
       "            penalty='l2', random_state=None, solver='liblinear', tol=0.0001,\n",
       "            verbose=0, warm_start=False),\n",
       "            n_jobs=1)],\n",
       " 'fpr': array([[  9.85221675e-05,   1.66787134e-01,   2.22174520e-02,\n",
       "           1.80501627e-02,   4.02414487e-03,   6.62116736e-03,\n",
       "           6.91426314e-04,   1.78059155e-03,   8.11755035e-03,\n",
       "           5.77306602e-03,   2.19451372e-03,   6.86175580e-03,\n",
       "           3.87608500e-02,   2.39115273e-03,   2.96559905e-02,\n",
       "           3.94438418e-04,   1.62816811e-01,   2.08106233e-03,\n",
       "           1.28687389e-03,   1.78802026e-03,   3.78901187e-03,\n",
       "           1.36082906e-02,   5.11038430e-03,   1.69837687e-02,\n",
       "           3.12216739e-03,   4.68961778e-02,   2.08064996e-03,\n",
       "           1.97297031e-04,   1.18565359e-03,   1.96850394e-04,\n",
       "           1.02468501e-01,   1.97511357e-04,   1.19012199e-03,\n",
       "           7.13194091e-03,   3.85747640e-03,   8.29493088e-03,\n",
       "           2.20505932e-02,   2.95770482e-04],\n",
       "        [  4.93339911e-04,   1.59612626e-01,   2.46940090e-02,\n",
       "           2.02731092e-02,   4.41988950e-03,   7.01718702e-03,\n",
       "           3.95413207e-04,   8.91972250e-04,   9.05349794e-03,\n",
       "           5.55788591e-03,   2.59506937e-03,   5.15985431e-03,\n",
       "           4.15856395e-02,   1.88866799e-03,   2.82436966e-02,\n",
       "           2.95828814e-04,   1.64603761e-01,   1.48824288e-03,\n",
       "           6.93618708e-04,   1.58635733e-03,   2.20000000e-03,\n",
       "           1.04832792e-02,   5.54357869e-03,   1.80151025e-02,\n",
       "           4.93702771e-03,   4.89196902e-02,   2.38048006e-03,\n",
       "           9.86387848e-04,   4.94510929e-04,   9.84058256e-05,\n",
       "           1.01195834e-01,   6.91085003e-04,   6.93893735e-04,\n",
       "           6.28102523e-03,   4.15821501e-03,   7.03794370e-03,\n",
       "           1.81512605e-02,   9.85998817e-05],\n",
       "        [  2.95566502e-04,   1.58223332e-01,   2.45471112e-02,\n",
       "           2.00962947e-02,   4.72741903e-03,   6.54530579e-03,\n",
       "           5.92768228e-04,   1.68416881e-03,   1.05847292e-02,\n",
       "           5.56255248e-03,   1.29585327e-03,   4.03632694e-03,\n",
       "           4.23054245e-02,   1.39511709e-03,   2.87387485e-02,\n",
       "           5.91482650e-04,   1.64986398e-01,   3.17177124e-03,\n",
       "           1.28611001e-03,   1.78465199e-03,   2.69246111e-03,\n",
       "           9.13577654e-03,   4.53514739e-03,   1.74193548e-02,\n",
       "           3.72270852e-03,   4.74769398e-02,   1.09083697e-03,\n",
       "           4.93388593e-04,   7.90670093e-04,   0.00000000e+00,\n",
       "           9.80115459e-02,   3.94594061e-04,   8.93300248e-04,\n",
       "           8.04644530e-03,   3.84966062e-03,   6.24679980e-03,\n",
       "           1.88317546e-02,   3.94166338e-04],\n",
       "        [  3.94477318e-04,   1.66847629e-01,   2.33204964e-02,\n",
       "           2.25130890e-02,   4.31553593e-03,   6.72097760e-03,\n",
       "           5.93061184e-04,   9.89413278e-04,   1.02711586e-02,\n",
       "           7.00763518e-03,   1.79104478e-03,   6.24937002e-03,\n",
       "           3.67767977e-02,   1.89054726e-03,   2.95202952e-02,\n",
       "           9.85610093e-05,   1.52219873e-01,   1.29147626e-03,\n",
       "           7.93021412e-04,   1.09289617e-03,   3.78372996e-03,\n",
       "           1.26675042e-02,   3.68890255e-03,   1.72839506e-02,\n",
       "           3.52644836e-03,   4.48559671e-02,   1.09094516e-03,\n",
       "           1.97277570e-04,   3.95139781e-04,   0.00000000e+00,\n",
       "           9.82257650e-02,   2.96120817e-04,   4.97067303e-04,\n",
       "           5.90330789e-03,   4.26785896e-03,   5.92501788e-03,\n",
       "           2.18100056e-02,   9.85318751e-05]]),\n",
       " 'ppv': array([[ 0.85714286,  0.80621457,  0.73011734,  0.62363239,  0.74842767,\n",
       "          0.79365079,  0.69565217,  0.63265306,  0.75617284,  0.90771812,\n",
       "          0.79439252,  0.70305677,  0.92400235,  0.8       ,  0.61484594,\n",
       "          0.5       ,  0.74001025,  0.65      ,  0.65789474,  0.73913043,\n",
       "          0.41538462,  0.75517891,  0.85337243,  0.80050505,  0.81871345,\n",
       "          0.87399854,  0.70833333,  0.5       ,  0.71428571,  0.66666667,\n",
       "          0.63033395,  0.6       ,  0.84      ,  0.73584906,  0.86851211,\n",
       "          0.78225806,  0.82958478,  0.8       ],\n",
       "        [ 0.61538462,  0.81100021,  0.7039897 ,  0.62156863,  0.73170732,\n",
       "          0.78025478,  0.81818182,  0.76315789,  0.7535014 ,  0.90862069,\n",
       "          0.77192982,  0.76497696,  0.91753189,  0.77906977,  0.63900415,\n",
       "          0.7       ,  0.73783922,  0.6875    ,  0.78787879,  0.72881356,\n",
       "          0.63934426,  0.81617647,  0.86189258,  0.79658952,  0.73655914,\n",
       "          0.86632009,  0.7       ,  0.23076923,  0.87804878,  0.8       ,\n",
       "          0.62947269,  0.5625    ,  0.875     ,  0.75396825,  0.8556338 ,\n",
       "          0.78233438,  0.85082873,  0.94117647],\n",
       "        [ 0.76923077,  0.80994215,  0.70413437,  0.59408034,  0.72352941,\n",
       "          0.81065089,  0.71428571,  0.65306122,  0.72751323,  0.90971039,\n",
       "          0.8452381 ,  0.77142857,  0.91378792,  0.85858586,  0.64619493,\n",
       "          0.33333333,  0.73317805,  0.52941176,  0.65789474,  0.69491525,\n",
       "          0.578125  ,  0.83007812,  0.88916877,  0.80122699,  0.77300613,\n",
       "          0.87070558,  0.84057971,  0.28571429,  0.82222222,  1.        ,\n",
       "          0.62948594,  0.63636364,  0.89156627,  0.70955882,  0.85271318,\n",
       "          0.81402439,  0.85541126,  0.75      ],\n",
       "        [ 0.71428571,  0.80638387,  0.69764216,  0.57      ,  0.7278481 ,\n",
       "          0.77627119,  0.80645161,  0.72972973,  0.73474801,  0.87992832,\n",
       "          0.79069767,  0.67368421,  0.92715428,  0.81553398,  0.63391655,\n",
       "          0.85714286,  0.75987686,  0.72916667,  0.78947368,  0.81967213,\n",
       "          0.525     ,  0.76908397,  0.89411765,  0.79773869,  0.80225989,\n",
       "          0.88262742,  0.85135135,  0.5       ,  0.87878788,  1.        ,\n",
       "          0.63109609,  0.8       ,  0.93506494,  0.76033058,  0.86229508,\n",
       "          0.81875   ,  0.83887043,  0.90909091]]),\n",
       " 'tpr': array([[ 0.23076923,  0.82722964,  0.65192084,  0.44049459,  0.50423729,\n",
       "          0.69637883,  0.30769231,  0.46268657,  0.5518018 ,  0.83359014,\n",
       "          0.56291391,  0.60526316,  0.9012593 ,  0.69064748,  0.48615725,\n",
       "          0.11428571,  0.73287671,  0.45882353,  0.33783784,  0.46788991,\n",
       "          0.18367347,  0.64365971,  0.74234694,  0.72623139,  0.56680162,\n",
       "          0.85775554,  0.61445783,  0.05128205,  0.54545455,  0.25      ,\n",
       "          0.56672227,  0.06      ,  0.67741935,  0.5401662 ,  0.77230769,\n",
       "          0.7080292 ,  0.77214171,  0.36363636],\n",
       "        [ 0.19512195,  0.83021739,  0.63457077,  0.48323171,  0.54298643,\n",
       "          0.71428571,  0.3       ,  0.3372093 ,  0.58991228,  0.8234375 ,\n",
       "          0.56050955,  0.56849315,  0.88599255,  0.57758621,  0.49411765,\n",
       "          0.2       ,  0.72869785,  0.34020619,  0.30952381,  0.47777778,\n",
       "          0.22159091,  0.69701727,  0.77471264,  0.7218543 ,  0.54581673,\n",
       "          0.82818601,  0.59574468,  0.07894737,  0.55384615,  0.28571429,\n",
       "          0.55731555,  0.19148936,  0.55681818,  0.62295082,  0.76898734,\n",
       "          0.66666667,  0.73860911,  0.47058824],\n",
       "        [ 0.4       ,  0.82731451,  0.64420804,  0.45249597,  0.527897  ,\n",
       "          0.69017632,  0.28301887,  0.39506173,  0.61936937,  0.82534776,\n",
       "          0.4965035 ,  0.50943396,  0.89708051,  0.60714286,  0.50733753,\n",
       "          0.09677419,  0.72159959,  0.41860465,  0.37313433,  0.46067416,\n",
       "          0.25170068,  0.65184049,  0.74630021,  0.74628571,  0.53389831,\n",
       "          0.84088477,  0.63736264,  0.04878049,  0.64912281,  0.18181818,\n",
       "          0.54537815,  0.18421053,  0.74      ,  0.54061625,  0.72368421,\n",
       "          0.65121951,  0.75592961,  0.44444444],\n",
       "        [ 0.28571429,  0.82598408,  0.60822249,  0.456     ,  0.5450237 ,\n",
       "          0.64507042,  0.43103448,  0.39705882,  0.6309795 ,  0.79967427,\n",
       "          0.544     ,  0.50393701,  0.89816408,  0.672     ,  0.49011446,\n",
       "          0.20689655,  0.73571783,  0.32110092,  0.34482759,  0.45454545,\n",
       "          0.31818182,  0.64686998,  0.73076923,  0.73837209,  0.568     ,\n",
       "          0.85233969,  0.68478261,  0.05405405,  0.55769231,  0.375     ,\n",
       "          0.54526491,  0.27272727,  0.62068966,  0.52571429,  0.78742515,\n",
       "          0.67875648,  0.7890625 ,  0.38461538]])}"
      ]
     },
     "execution_count": 11,
     "metadata": {},
     "output_type": "execute_result"
    }
   ],
   "source": [
    "bench_results"
   ]
  },
  {
   "cell_type": "code",
   "execution_count": 12,
   "metadata": {
    "scrolled": false
   },
   "outputs": [
    {
     "data": {
      "image/png": "[encoded data removed]",
      "text/plain": [
       "<matplotlib.figure.Figure at 0x7f03cfaa4da0>"
      ]
     },
     "metadata": {},
     "output_type": "display_data"
    }
   ],
   "source": [
    "f, axs = plt.subplots(3,1)\n",
    "tpr.mean(axis=1).plot(kind='bar', ax=axs[0])\n",
    "axs[0].set_ylabel('TPR')\n",
    "axs[0].set_xticklabels([])\n",
    "axs[0].set_ylim([0, 1])\n",
    "ppv.mean(axis=1).plot(kind='bar', ax=axs[1])\n",
    "axs[1].set_ylabel('PPV')\n",
    "axs[1].set_xticklabels([])\n",
    "axs[1].set_ylim([0, 1])\n",
    "(1 - fpr).mean(axis=1).plot(kind='bar', ax=axs[2])\n",
    "axs[2].set_ylabel('1 - FPR')\n",
    "axs[2].set_ylim([0, 1])\n",
    "plt.tight_layout()\n",
    "plt.show()"
   ]
  },
  {
   "cell_type": "code",
   "execution_count": 13,
   "metadata": {
    "scrolled": true
   },
   "outputs": [],
   "source": [
    "# this will write 10 files to the notebooks directory\n",
    "bt.predict_articles(bench_results['clfs'][0], vectorizer, df, n=10)"
   ]
  },
  {
   "cell_type": "code",
   "execution_count": 14,
   "metadata": {},
   "outputs": [
    {
     "data": {
      "text/html": [
       "<div>\n",
       "<style>\n",
       "    .dataframe thead tr:only-child th {\n",
       "        text-align: right;\n",
       "    }\n",
       "\n",
       "    .dataframe thead th {\n",
       "        text-align: left;\n",
       "    }\n",
       "\n",
       "    .dataframe tbody tr th {\n",
       "        vertical-align: top;\n",
       "    }\n",
       "</style>\n",
       "<table border=\"1\" class=\"dataframe\">\n",
       "  <thead>\n",
       "    <tr style=\"text-align: right;\">\n",
       "      <th></th>\n",
       "      <th>0</th>\n",
       "    </tr>\n",
       "  </thead>\n",
       "  <tbody>\n",
       "    <tr>\n",
       "      <th>DRUG</th>\n",
       "      <td>0.896390</td>\n",
       "    </tr>\n",
       "    <tr>\n",
       "      <th>ENVI</th>\n",
       "      <td>0.238251</td>\n",
       "    </tr>\n",
       "    <tr>\n",
       "      <th>CPS</th>\n",
       "      <td>0.223501</td>\n",
       "    </tr>\n",
       "    <tr>\n",
       "      <th>IDOC</th>\n",
       "      <td>0.222552</td>\n",
       "    </tr>\n",
       "    <tr>\n",
       "      <th>GUNV</th>\n",
       "      <td>0.220427</td>\n",
       "    </tr>\n",
       "    <tr>\n",
       "      <th>VIOL</th>\n",
       "      <td>0.214734</td>\n",
       "    </tr>\n",
       "    <tr>\n",
       "      <th>REEN</th>\n",
       "      <td>0.212026</td>\n",
       "    </tr>\n",
       "    <tr>\n",
       "      <th>GLBTQ</th>\n",
       "      <td>0.211759</td>\n",
       "    </tr>\n",
       "    <tr>\n",
       "      <th>OEMC</th>\n",
       "      <td>0.210385</td>\n",
       "    </tr>\n",
       "    <tr>\n",
       "      <th>IMMG</th>\n",
       "      <td>0.206201</td>\n",
       "    </tr>\n",
       "    <tr>\n",
       "      <th>TASR</th>\n",
       "      <td>0.203532</td>\n",
       "    </tr>\n",
       "    <tr>\n",
       "      <th>CCJ</th>\n",
       "      <td>0.201401</td>\n",
       "    </tr>\n",
       "    <tr>\n",
       "      <th>CPUB</th>\n",
       "      <td>0.190807</td>\n",
       "    </tr>\n",
       "    <tr>\n",
       "      <th>DUI</th>\n",
       "      <td>0.187421</td>\n",
       "    </tr>\n",
       "    <tr>\n",
       "      <th>IPRA</th>\n",
       "      <td>0.183246</td>\n",
       "    </tr>\n",
       "    <tr>\n",
       "      <th>PARL</th>\n",
       "      <td>0.179787</td>\n",
       "    </tr>\n",
       "    <tr>\n",
       "      <th>BEAT</th>\n",
       "      <td>0.176928</td>\n",
       "    </tr>\n",
       "    <tr>\n",
       "      <th>ARSN</th>\n",
       "      <td>0.173191</td>\n",
       "    </tr>\n",
       "    <tr>\n",
       "      <th>ILSC</th>\n",
       "      <td>0.166009</td>\n",
       "    </tr>\n",
       "    <tr>\n",
       "      <th>GANG</th>\n",
       "      <td>0.163502</td>\n",
       "    </tr>\n",
       "    <tr>\n",
       "      <th>CPLY</th>\n",
       "      <td>0.160843</td>\n",
       "    </tr>\n",
       "    <tr>\n",
       "      <th>SAO</th>\n",
       "      <td>0.159567</td>\n",
       "    </tr>\n",
       "    <tr>\n",
       "      <th>SEXA</th>\n",
       "      <td>0.156073</td>\n",
       "    </tr>\n",
       "    <tr>\n",
       "      <th>ILSP</th>\n",
       "      <td>0.152272</td>\n",
       "    </tr>\n",
       "    <tr>\n",
       "      <th>UNSPC</th>\n",
       "      <td>0.152136</td>\n",
       "    </tr>\n",
       "    <tr>\n",
       "      <th>PROB</th>\n",
       "      <td>0.148780</td>\n",
       "    </tr>\n",
       "    <tr>\n",
       "      <th>CPBD</th>\n",
       "      <td>0.148532</td>\n",
       "    </tr>\n",
       "    <tr>\n",
       "      <th>POLM</th>\n",
       "      <td>0.147145</td>\n",
       "    </tr>\n",
       "    <tr>\n",
       "      <th>FRUD</th>\n",
       "      <td>0.146366</td>\n",
       "    </tr>\n",
       "    <tr>\n",
       "      <th>POLB</th>\n",
       "      <td>0.145962</td>\n",
       "    </tr>\n",
       "    <tr>\n",
       "      <th>CCSP</th>\n",
       "      <td>0.131657</td>\n",
       "    </tr>\n",
       "    <tr>\n",
       "      <th>CCCC</th>\n",
       "      <td>0.121643</td>\n",
       "    </tr>\n",
       "    <tr>\n",
       "      <th>CPD</th>\n",
       "      <td>0.106429</td>\n",
       "    </tr>\n",
       "    <tr>\n",
       "      <th>HOMI</th>\n",
       "      <td>0.105522</td>\n",
       "    </tr>\n",
       "    <tr>\n",
       "      <th>DOMV</th>\n",
       "      <td>0.104130</td>\n",
       "    </tr>\n",
       "    <tr>\n",
       "      <th>BURG</th>\n",
       "      <td>0.103936</td>\n",
       "    </tr>\n",
       "    <tr>\n",
       "      <th>JUVE</th>\n",
       "      <td>0.098352</td>\n",
       "    </tr>\n",
       "    <tr>\n",
       "      <th>ROBB</th>\n",
       "      <td>0.082561</td>\n",
       "    </tr>\n",
       "  </tbody>\n",
       "</table>\n",
       "</div>"
      ],
      "text/plain": [
       "             0\n",
       "DRUG  0.896390\n",
       "ENVI  0.238251\n",
       "CPS   0.223501\n",
       "IDOC  0.222552\n",
       "GUNV  0.220427\n",
       "VIOL  0.214734\n",
       "REEN  0.212026\n",
       "GLBTQ 0.211759\n",
       "OEMC  0.210385\n",
       "IMMG  0.206201\n",
       "TASR  0.203532\n",
       "CCJ   0.201401\n",
       "CPUB  0.190807\n",
       "DUI   0.187421\n",
       "IPRA  0.183246\n",
       "PARL  0.179787\n",
       "BEAT  0.176928\n",
       "ARSN  0.173191\n",
       "ILSC  0.166009\n",
       "GANG  0.163502\n",
       "CPLY  0.160843\n",
       "SAO   0.159567\n",
       "SEXA  0.156073\n",
       "ILSP  0.152272\n",
       "UNSPC 0.152136\n",
       "PROB  0.148780\n",
       "CPBD  0.148532\n",
       "POLM  0.147145\n",
       "FRUD  0.146366\n",
       "POLB  0.145962\n",
       "CCSP  0.131657\n",
       "CCCC  0.121643\n",
       "CPD   0.106429\n",
       "HOMI  0.105522\n",
       "DOMV  0.104130\n",
       "BURG  0.103936\n",
       "JUVE  0.098352\n",
       "ROBB  0.082561"
      ]
     },
     "execution_count": 14,
     "metadata": {},
     "output_type": "execute_result"
    }
   ],
   "source": [
    "# sanity check\n",
    "clf = bench_results['clfs'][0]\n",
    "pd.DataFrame(\n",
    "    clf.predict_proba(vectorizer.transform(['marijuana'])),\n",
    "    columns=df.loc[:, 'OEMC'::].columns\n",
    ").T.sort_values(0, ascending=False)"
   ]
  },
  {
   "cell_type": "code",
   "execution_count": 22,
   "metadata": {
    "collapsed": true
   },
   "outputs": [],
   "source": [
    "not_yet_tagged = df.loc[df['relevant'] & ~df.loc[:, 'OEMC':'TASR'].any(1), :]"
   ]
  },
  {
   "cell_type": "code",
   "execution_count": null,
   "metadata": {},
   "outputs": [],
   "source": [
    "not_yet_tagged_preds = pd.DataFrame(\n",
    "    clf.predict_proba(vectorizer.transform(not_yet_tagged.loc[:, 'bodytext'].values)),\n",
    "    columns=df.loc[:, 'OEMC'::].columns\n",
    ")"
   ]
  },
  {
   "cell_type": "code",
   "execution_count": null,
   "metadata": {
    "collapsed": true
   },
   "outputs": [],
   "source": [
    "f, ax = plt.subplots(1, figsize=(8,8))\n",
    "percents = not_yet_tagged_preds.max(axis=1).sort_values().reset_index().values[:,1]\n",
    "filtered = np.linspace(0, 100, not_yet_tagged_preds.shape[0])\n",
    "\n",
    "ax.plot(percents, filtered)\n",
    "\n",
    "for filtered_p in [25, 40, 50]:\n",
    "    p = percents[np.where(filtered >= filtered_p)[0][0]]\n",
    "    plt.plot([0, p, p],\n",
    "             [filtered_p, filtered_p, 0],\n",
    "             '--',\n",
    "             label='filtered {}% of data with threshold {:.2%}'.format(filtered_p, p))\n",
    "\n",
    "ax.grid(True)\n",
    "ax.set_xlim([0, 1])\n",
    "ax.set_ylim([0, 100])\n",
    "ax.set_xlabel('Probability threshold $p$', fontsize=16)\n",
    "ax.set_title('% of data with all tags < probability $p$', fontsize=16)\n",
    "ax.legend(loc='lower right', fontsize=14)"
   ]
  },
  {
   "cell_type": "code",
   "execution_count": null,
   "metadata": {
    "collapsed": true
   },
   "outputs": [],
   "source": [
    "import pickle\n",
    "\n",
    "with open('model.pkl', 'wb') as f:\n",
    "    pickle.dump(bench_results['clfs'][0], f)\n",
    "with open('vectorizer.pkl', 'wb') as f:\n",
    "    pickle.dump(vectorizer, f)"
   ]
  },
  {
   "cell_type": "code",
   "execution_count": null,
   "metadata": {
    "collapsed": true
   },
   "outputs": [],
   "source": []
  }
 ],
 "metadata": {
  "anaconda-cloud": {},
  "kernelspec": {
   "display_name": "Python 3",
   "language": "python",
   "name": "python3"
  },
  "language_info": {
   "codemirror_mode": {
    "name": "ipython",
    "version": 3
   },
   "file_extension": ".py",
   "mimetype": "text/x-python",
   "name": "python",
   "nbconvert_exporter": "python",
   "pygments_lexer": "ipython3",
   "version": "3.6.2"
  }
 },
 "nbformat": 4,
 "nbformat_minor": 2
}
