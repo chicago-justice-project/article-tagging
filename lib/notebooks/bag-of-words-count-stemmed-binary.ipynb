{
 "cells": [
  {
   "cell_type": "code",
   "execution_count": 1,
   "metadata": {
    "collapsed": true
   },
   "outputs": [],
   "source": [
    "# Allows us to import packages that exist one level up in the file system\n",
    "# See https://stackoverflow.com/questions/34478398\n",
    "import os\n",
    "import sys\n",
    "module_path = os.path.abspath(os.path.join('..'))\n",
    "if module_path not in sys.path:\n",
    "    sys.path = [module_path] + sys.path"
   ]
  },
  {
   "cell_type": "code",
   "execution_count": 2,
   "metadata": {
    "collapsed": true
   },
   "outputs": [],
   "source": [
    "from tagnews.utils import load_data as ld\n",
    "import matplotlib\n",
    "import matplotlib.pyplot as plt\n",
    "import numpy as np\n",
    "import pandas as pd\n",
    "import sklearn\n",
    "import sklearn.feature_extraction.text\n",
    "import sklearn.multiclass\n",
    "import sklearn.linear_model\n",
    "% matplotlib inline\n",
    "plt.rcParams['figure.figsize'] = 12, 8"
   ]
  },
  {
   "cell_type": "code",
   "execution_count": 3,
   "metadata": {},
   "outputs": [],
   "source": [
    "df = ld.load_data()"
   ]
  },
  {
   "cell_type": "code",
   "execution_count": 4,
   "metadata": {
    "collapsed": true
   },
   "outputs": [],
   "source": [
    "# TODO: Augment training data with not relevant"
   ]
  },
  {
   "cell_type": "code",
   "execution_count": 5,
   "metadata": {},
   "outputs": [
    {
     "name": "stderr",
     "output_type": "stream",
     "text": [
      "C:\\Users\\kevin.rose\\AppData\\Local\\Continuum\\Anaconda2\\envs\\cjp\\lib\\site-packages\\ipykernel_launcher.py:1: DeprecationWarning: \n",
      ".ix is deprecated. Please use\n",
      ".loc for label based indexing or\n",
      ".iloc for positional indexing\n",
      "\n",
      "See the documentation here:\n",
      "http://pandas.pydata.org/pandas-docs/stable/indexing.html#ix-indexer-is-deprecated\n",
      "  \"\"\"Entry point for launching an IPython kernel.\n"
     ]
    },
    {
     "name": "stdout",
     "output_type": "stream",
     "text": [
      "(39709, 50)\n",
      "(42709, 50)\n",
      "(29896, 50)\n",
      "(12813, 50)\n"
     ]
    }
   ],
   "source": [
    "crime_df = df.ix[df.loc[:, 'OEMC':'TASR'].any(1), :]\n",
    "print(crime_df.shape)\n",
    "crime_df = crime_df.append(df.ix[~df['relevant'], :].sample(n=3000, axis=0))\n",
    "print(crime_df.shape)\n",
    "\n",
    "idx = np.random.permutation(crime_df.shape[0])\n",
    "trn = crime_df.iloc[idx[:int(crime_df.shape[0] * 0.7)], :]\n",
    "tst = crime_df.iloc[idx[int(crime_df.shape[0] * 0.7):], :]\n",
    "print(trn.shape)\n",
    "print(tst.shape)"
   ]
  },
  {
   "cell_type": "code",
   "execution_count": 6,
   "metadata": {
    "collapsed": true
   },
   "outputs": [],
   "source": [
    "# vectorize data\n",
    "from nltk import word_tokenize          \n",
    "from nltk.stem import WordNetLemmatizer \n",
    "class LemmaTokenizer(object):\n",
    "    def __init__(self):\n",
    "        self.wnl = WordNetLemmatizer()\n",
    "    def __call__(self, doc):\n",
    "        return [self.wnl.lemmatize(t) for t in word_tokenize(doc)]\n",
    "\n",
    "vectorizer = sklearn.feature_extraction.text.CountVectorizer(tokenizer=LemmaTokenizer(),\n",
    "                                                             binary=True)\n",
    "X = vectorizer.fit_transform(trn['bodytext'].values)\n",
    "\n",
    "Y = trn.loc[:, 'OEMC':'TASR'].values"
   ]
  },
  {
   "cell_type": "code",
   "execution_count": 7,
   "metadata": {},
   "outputs": [
    {
     "data": {
      "text/plain": [
       "(29896, 222883)"
      ]
     },
     "execution_count": 7,
     "metadata": {},
     "output_type": "execute_result"
    }
   ],
   "source": [
    "X.shape"
   ]
  },
  {
   "cell_type": "code",
   "execution_count": 8,
   "metadata": {
    "collapsed": true
   },
   "outputs": [],
   "source": [
    "from tagnews.crimetype import benchmark as bt"
   ]
  },
  {
   "cell_type": "code",
   "execution_count": 9,
   "metadata": {
    "collapsed": true
   },
   "outputs": [],
   "source": [
    "bench_results = bt.benchmark(\n",
    "    lambda: sklearn.multiclass.OneVsRestClassifier(\n",
    "        sklearn.linear_model.LogisticRegression()\n",
    "    ),\n",
    "    vectorizer.transform(crime_df['bodytext'].values),\n",
    "    crime_df.loc[:, 'OEMC':'TASR'].values\n",
    ")"
   ]
  },
  {
   "cell_type": "code",
   "execution_count": 10,
   "metadata": {
    "collapsed": true
   },
   "outputs": [],
   "source": [
    "fpr = pd.DataFrame(bench_results['fpr'], columns=df.loc[:, 'OEMC':'TASR'].columns.values).T\n",
    "\n",
    "tpr = pd.DataFrame(bench_results['tpr'], columns=df.loc[:, 'OEMC':'TASR'].columns.values).T\n",
    "\n",
    "ppv = pd.DataFrame(bench_results['ppv'], columns=df.loc[:, 'OEMC':'TASR'].columns.values).T"
   ]
  },
  {
   "cell_type": "code",
   "execution_count": 11,
   "metadata": {
    "scrolled": false
   },
   "outputs": [
    {
     "data": {
      "text/plain": [
       "{'acc': array([ 0.96619956,  0.96639604,  0.96683723,  0.96711327]),\n",
       " 'clfs': [OneVsRestClassifier(estimator=LogisticRegression(C=1.0, class_weight=None, dual=False, fit_intercept=True,\n",
       "            intercept_scaling=1, max_iter=100, multi_class='ovr', n_jobs=1,\n",
       "            penalty='l2', random_state=None, solver='liblinear', tol=0.0001,\n",
       "            verbose=0, warm_start=False),\n",
       "            n_jobs=1),\n",
       "  OneVsRestClassifier(estimator=LogisticRegression(C=1.0, class_weight=None, dual=False, fit_intercept=True,\n",
       "            intercept_scaling=1, max_iter=100, multi_class='ovr', n_jobs=1,\n",
       "            penalty='l2', random_state=None, solver='liblinear', tol=0.0001,\n",
       "            verbose=0, warm_start=False),\n",
       "            n_jobs=1),\n",
       "  OneVsRestClassifier(estimator=LogisticRegression(C=1.0, class_weight=None, dual=False, fit_intercept=True,\n",
       "            intercept_scaling=1, max_iter=100, multi_class='ovr', n_jobs=1,\n",
       "            penalty='l2', random_state=None, solver='liblinear', tol=0.0001,\n",
       "            verbose=0, warm_start=False),\n",
       "            n_jobs=1),\n",
       "  OneVsRestClassifier(estimator=LogisticRegression(C=1.0, class_weight=None, dual=False, fit_intercept=True,\n",
       "            intercept_scaling=1, max_iter=100, multi_class='ovr', n_jobs=1,\n",
       "            penalty='l2', random_state=None, solver='liblinear', tol=0.0001,\n",
       "            verbose=0, warm_start=False),\n",
       "            n_jobs=1)],\n",
       " 'fpr': array([[  2.81663694e-04,   1.77483216e-01,   2.22063037e-02,\n",
       "           2.26750574e-02,   4.59550024e-03,   8.06216610e-03,\n",
       "           9.42063118e-04,   8.48976512e-04,   9.70112690e-03,\n",
       "           4.60322226e-03,   2.18589622e-03,   7.79370730e-03,\n",
       "           3.55089132e-02,   2.08570345e-03,   2.73445623e-02,\n",
       "           4.70145745e-04,   1.70990745e-01,   9.45090256e-04,\n",
       "           9.42684766e-04,   1.32337650e-03,   4.00381316e-03,\n",
       "           1.10800559e-02,   5.95238095e-03,   1.87697644e-02,\n",
       "           5.08393285e-03,   4.62114367e-02,   2.17227049e-03,\n",
       "           0.00000000e+00,   2.82698832e-04,   0.00000000e+00,\n",
       "           1.00330356e-01,   5.64440263e-04,   1.13582584e-03,\n",
       "           5.92233010e-03,   3.19179805e-03,   6.21902633e-03,\n",
       "           2.23219054e-02,   0.00000000e+00],\n",
       "        [  9.39319932e-05,   1.75867373e-01,   2.13523132e-02,\n",
       "           2.10012939e-02,   5.45350172e-03,   6.32049786e-03,\n",
       "           3.76506024e-04,   1.32112862e-03,   9.95899238e-03,\n",
       "           5.89941006e-03,   2.09304538e-03,   5.20783103e-03,\n",
       "           4.40377466e-02,   2.46282088e-03,   3.20427236e-02,\n",
       "           5.63803796e-04,   1.57260525e-01,   2.45700246e-03,\n",
       "           6.61750804e-04,   1.70309395e-03,   3.32352103e-03,\n",
       "           1.14098621e-02,   4.67881860e-03,   1.78333504e-02,\n",
       "           2.87907869e-03,   4.87423433e-02,   1.70277173e-03,\n",
       "           4.70366886e-04,   7.53863551e-04,   0.00000000e+00,\n",
       "           9.55793053e-02,   4.70632530e-04,   1.13539597e-03,\n",
       "           7.09357691e-03,   4.43074552e-03,   8.08336580e-03,\n",
       "           2.01846682e-02,   2.81743050e-04],\n",
       "        [  3.75904520e-04,   1.70968301e-01,   2.60665920e-02,\n",
       "           1.99541056e-02,   4.19927467e-03,   6.20094952e-03,\n",
       "           3.76612372e-04,   1.22525919e-03,   9.18327472e-03,\n",
       "           5.29047714e-03,   1.99638749e-03,   5.77756379e-03,\n",
       "           4.47546410e-02,   2.36877013e-03,   3.02469136e-02,\n",
       "           5.63803796e-04,   1.55209288e-01,   1.89125296e-03,\n",
       "           7.54361150e-04,   2.26993285e-03,   3.80952381e-03,\n",
       "           1.00180325e-02,   5.38371182e-03,   1.82154986e-02,\n",
       "           4.60475825e-03,   4.98640073e-02,   1.79550180e-03,\n",
       "           3.76293509e-04,   6.59071651e-04,   0.00000000e+00,\n",
       "           9.62721679e-02,   1.87952260e-04,   6.61563179e-04,\n",
       "           6.29905999e-03,   3.57972136e-03,   7.50414190e-03,\n",
       "           1.90721097e-02,   1.87934599e-04],\n",
       "        [  0.00000000e+00,   1.59051273e-01,   2.41172280e-02,\n",
       "           1.83541147e-02,   3.55564098e-03,   6.30272472e-03,\n",
       "           7.53224743e-04,   1.22745728e-03,   9.98531571e-03,\n",
       "           7.26151398e-03,   2.85252448e-03,   5.30324945e-03,\n",
       "           4.29803478e-02,   1.90041809e-03,   2.99548625e-02,\n",
       "           2.81901898e-04,   1.56363636e-01,   1.60878206e-03,\n",
       "           1.03763796e-03,   1.41776938e-03,   3.62146193e-03,\n",
       "           1.17740970e-02,   4.30823460e-03,   1.93987406e-02,\n",
       "           3.07219662e-03,   4.64937067e-02,   1.41763538e-03,\n",
       "           5.63591959e-04,   7.53721500e-04,   9.37910336e-05,\n",
       "           9.99386879e-02,   5.64705882e-04,   3.77750496e-04,\n",
       "           7.46340991e-03,   4.44530344e-03,   9.15465524e-03,\n",
       "           2.01901506e-02,   9.39055310e-05]]),\n",
       " 'ppv': array([[ 0.66666667,  0.79616449,  0.71028037,  0.58727273,  0.73913043,\n",
       "          0.75588235,  0.6875    ,  0.775     ,  0.74151436,  0.92446634,\n",
       "          0.8       ,  0.66108787,  0.93063746,  0.79439252,  0.65394737,\n",
       "          0.54545455,  0.72411261,  0.77272727,  0.71428571,  0.75      ,\n",
       "          0.51724138,  0.80071813,  0.84438776,  0.77367774,  0.74019608,\n",
       "          0.87264319,  0.7125    ,  1.        ,  0.93181818,  1.        ,\n",
       "          0.61448049,  0.6       ,  0.86956522,  0.78819444,  0.88963211,\n",
       "          0.80124224,  0.82554257,  1.        ],\n",
       "        [ 0.85714286,  0.79465177,  0.71311475,  0.57373737,  0.69680851,\n",
       "          0.80182927,  0.83333333,  0.68888889,  0.72432432,  0.90343699,\n",
       "          0.77083333,  0.73529412,  0.91391839,  0.74      ,  0.60254777,\n",
       "          0.625     ,  0.73938322,  0.57377049,  0.825     ,  0.72727273,\n",
       "          0.46153846,  0.77272727,  0.86920981,  0.78491965,  0.8245614 ,\n",
       "          0.86955005,  0.78313253,  0.375     ,  0.82222222,  1.        ,\n",
       "          0.63207106,  0.70588235,  0.85882353,  0.74827586,  0.82771536,\n",
       "          0.76815642,  0.84501237,  0.78571429],\n",
       "        [ 0.69230769,  0.80463183,  0.68277571,  0.60707269,  0.74117647,\n",
       "          0.78378378,  0.75      ,  0.66666667,  0.73295455,  0.91032149,\n",
       "          0.8       ,  0.7235023 ,  0.91427784,  0.74489796,  0.61111111,\n",
       "          0.4       ,  0.7463171 ,  0.63636364,  0.76470588,  0.63076923,\n",
       "          0.5959596 ,  0.81916817,  0.86318408,  0.78978622,  0.73626374,\n",
       "          0.86673589,  0.75949367,  0.2       ,  0.84090909,  1.        ,\n",
       "          0.61708253,  0.71428571,  0.90277778,  0.75378788,  0.88141026,\n",
       "          0.78309859,  0.85029437,  0.88235294],\n",
       "        [ 1.        ,  0.81668342,  0.70848708,  0.61904762,  0.79891304,\n",
       "          0.80712166,  0.69230769,  0.72340426,  0.73368146,  0.87731092,\n",
       "          0.73684211,  0.75336323,  0.91380777,  0.82758621,  0.61477573,\n",
       "          0.25      ,  0.74128854,  0.72580645,  0.73809524,  0.75806452,\n",
       "          0.5       ,  0.78107607,  0.88688946,  0.76273292,  0.80952381,\n",
       "          0.8696435 ,  0.81707317,  0.25      ,  0.80952381,  0.83333333,\n",
       "          0.63255185,  0.625     ,  0.93442623,  0.70943396,  0.8419244 ,\n",
       "          0.74033149,  0.841841  ,  0.90909091]]),\n",
       " 'tpr': array([[ 0.22222222,  0.82706921,  0.58719647,  0.48425787,  0.58369099,\n",
       "          0.67101828,  0.34920635,  0.4025974 ,  0.60042283,  0.82189781,\n",
       "          0.58974359,  0.55438596,  0.89038152,  0.65384615,  0.46886792,\n",
       "          0.13953488,  0.72375826,  0.35051546,  0.35714286,  0.42424242,\n",
       "          0.2393617 ,  0.67575758,  0.76976744,  0.71885714,  0.59683794,\n",
       "          0.83691573,  0.63333333,  0.0212766 ,  0.62121212,  0.25      ,\n",
       "          0.52175649,  0.1875    ,  0.7079646 ,  0.6005291 ,  0.78466077,\n",
       "          0.66666667,  0.75209125,  0.44117647],\n",
       "        [ 0.19354839,  0.82511397,  0.61995249,  0.45079365,  0.58222222,\n",
       "          0.6692112 ,  0.37735849,  0.3875    ,  0.61609195,  0.81656805,\n",
       "          0.44578313,  0.48701299,  0.88786316,  0.61666667,  0.50319149,\n",
       "          0.28571429,  0.70977918,  0.36842105,  0.33333333,  0.44444444,\n",
       "          0.20547945,  0.65384615,  0.76315789,  0.69021739,  0.54863813,\n",
       "          0.82989348,  0.61320755,  0.06382979,  0.56923077,  0.33333333,\n",
       "          0.55341793,  0.22641509,  0.67592593,  0.56217617,  0.74915254,\n",
       "          0.67237164,  0.75201761,  0.37931034],\n",
       "        [ 0.25      ,  0.82891517,  0.64369159,  0.47247706,  0.63316583,\n",
       "          0.65168539,  0.21428571,  0.3880597 ,  0.58503401,  0.81638847,\n",
       "          0.53164557,  0.53767123,  0.88975322,  0.59349593,  0.48275862,\n",
       "          0.11428571,  0.72355362,  0.34313725,  0.36111111,  0.39423077,\n",
       "          0.33333333,  0.65179856,  0.7527115 ,  0.69270833,  0.52964427,\n",
       "          0.84709066,  0.63157895,  0.0212766 ,  0.66071429,  0.22222222,\n",
       "          0.53852596,  0.13888889,  0.67708333,  0.55586592,  0.80645161,\n",
       "          0.66826923,  0.75223214,  0.42857143],\n",
       "        [ 0.14285714,  0.82197046,  0.67764706,  0.45858896,  0.54243542,\n",
       "          0.74725275,  0.32142857,  0.39534884,  0.60822511,  0.83653846,\n",
       "          0.525     ,  0.54901961,  0.89428413,  0.62745098,  0.50161464,\n",
       "          0.02857143,  0.7252882 ,  0.40909091,  0.40789474,  0.48453608,\n",
       "          0.20652174,  0.64274809,  0.74353448,  0.73886883,  0.5210728 ,\n",
       "          0.83535109,  0.69791667,  0.06451613,  0.53968254,  0.33333333,\n",
       "          0.55630452,  0.19230769,  0.64772727,  0.52222222,  0.74468085,\n",
       "          0.65525672,  0.76443769,  0.35714286]])}"
      ]
     },
     "execution_count": 11,
     "metadata": {},
     "output_type": "execute_result"
    }
   ],
   "source": [
    "bench_results"
   ]
  },
  {
   "cell_type": "code",
   "execution_count": 12,
   "metadata": {
    "scrolled": false
   },
   "outputs": [
    {
     "data": {
      "image/png": "[encoded data removed]",
      "text/plain": [
       "<matplotlib.figure.Figure at 0x28e897aa940>"
      ]
     },
     "metadata": {},
     "output_type": "display_data"
    }
   ],
   "source": [
    "f, axs = plt.subplots(3,1)\n",
    "tpr.mean(axis=1).plot(kind='bar', ax=axs[0])\n",
    "axs[0].set_ylabel('TPR')\n",
    "axs[0].set_xticklabels([])\n",
    "axs[0].set_ylim([0, 1])\n",
    "ppv.mean(axis=1).plot(kind='bar', ax=axs[1])\n",
    "axs[1].set_ylabel('PPV')\n",
    "axs[1].set_xticklabels([])\n",
    "axs[1].set_ylim([0, 1])\n",
    "(1 - fpr).mean(axis=1).plot(kind='bar', ax=axs[2])\n",
    "axs[2].set_ylabel('1 - FPR')\n",
    "axs[2].set_ylim([0, 1])\n",
    "plt.tight_layout()\n",
    "plt.show()"
   ]
  },
  {
   "cell_type": "code",
   "execution_count": 13,
   "metadata": {},
   "outputs": [
    {
     "data": {
      "text/plain": [
       "Index(['OEMC', 'CPD', 'SAO', 'CCCC', 'CCJ', 'CCSP', 'CPUB', 'IDOC', 'DOMV',\n",
       "       'SEXA', 'POLB', 'POLM', 'GUNV', 'GLBTQ', 'JUVE', 'REEN', 'VIOL', 'BEAT',\n",
       "       'PROB', 'PARL', 'CPLY', 'DRUG', 'CPS', 'GANG', 'ILSP', 'HOMI', 'IPRA',\n",
       "       'CPBD', 'IMMG', 'ENVI', 'UNSPC', 'ILSC', 'ARSN', 'BURG', 'DUI', 'FRUD',\n",
       "       'ROBB', 'TASR', 'COPA', 'DIGP'],\n",
       "      dtype='object')"
      ]
     },
     "execution_count": 13,
     "metadata": {},
     "output_type": "execute_result"
    }
   ],
   "source": [
    "df.loc[:, 'OEMC'::].columns"
   ]
  },
  {
   "cell_type": "code",
   "execution_count": 14,
   "metadata": {
    "scrolled": false
   },
   "outputs": [],
   "source": [
    "# this will write 10 files to the notebooks directory\n",
    "bt.predict_articles(bench_results['clfs'][0], vectorizer, df, n=10)"
   ]
  },
  {
   "cell_type": "code",
   "execution_count": 16,
   "metadata": {},
   "outputs": [
    {
     "data": {
      "text/html": [
       "<div>\n",
       "<style>\n",
       "    .dataframe thead tr:only-child th {\n",
       "        text-align: right;\n",
       "    }\n",
       "\n",
       "    .dataframe thead th {\n",
       "        text-align: left;\n",
       "    }\n",
       "\n",
       "    .dataframe tbody tr th {\n",
       "        vertical-align: top;\n",
       "    }\n",
       "</style>\n",
       "<table border=\"1\" class=\"dataframe\">\n",
       "  <thead>\n",
       "    <tr style=\"text-align: right;\">\n",
       "      <th></th>\n",
       "      <th>0</th>\n",
       "    </tr>\n",
       "  </thead>\n",
       "  <tbody>\n",
       "    <tr>\n",
       "      <th>DRUG</th>\n",
       "      <td>0.843136</td>\n",
       "    </tr>\n",
       "    <tr>\n",
       "      <th>CPS</th>\n",
       "      <td>0.217237</td>\n",
       "    </tr>\n",
       "    <tr>\n",
       "      <th>UNSPC</th>\n",
       "      <td>0.200713</td>\n",
       "    </tr>\n",
       "    <tr>\n",
       "      <th>ENVI</th>\n",
       "      <td>0.199527</td>\n",
       "    </tr>\n",
       "    <tr>\n",
       "      <th>CPD</th>\n",
       "      <td>0.188624</td>\n",
       "    </tr>\n",
       "    <tr>\n",
       "      <th>GLBTQ</th>\n",
       "      <td>0.172057</td>\n",
       "    </tr>\n",
       "    <tr>\n",
       "      <th>IMMG</th>\n",
       "      <td>0.168124</td>\n",
       "    </tr>\n",
       "    <tr>\n",
       "      <th>TASR</th>\n",
       "      <td>0.166258</td>\n",
       "    </tr>\n",
       "    <tr>\n",
       "      <th>OEMC</th>\n",
       "      <td>0.164403</td>\n",
       "    </tr>\n",
       "    <tr>\n",
       "      <th>IDOC</th>\n",
       "      <td>0.161257</td>\n",
       "    </tr>\n",
       "    <tr>\n",
       "      <th>GANG</th>\n",
       "      <td>0.159380</td>\n",
       "    </tr>\n",
       "    <tr>\n",
       "      <th>CCJ</th>\n",
       "      <td>0.159313</td>\n",
       "    </tr>\n",
       "    <tr>\n",
       "      <th>CPUB</th>\n",
       "      <td>0.156783</td>\n",
       "    </tr>\n",
       "    <tr>\n",
       "      <th>ARSN</th>\n",
       "      <td>0.154314</td>\n",
       "    </tr>\n",
       "    <tr>\n",
       "      <th>REEN</th>\n",
       "      <td>0.151581</td>\n",
       "    </tr>\n",
       "    <tr>\n",
       "      <th>IPRA</th>\n",
       "      <td>0.151502</td>\n",
       "    </tr>\n",
       "    <tr>\n",
       "      <th>DUI</th>\n",
       "      <td>0.151309</td>\n",
       "    </tr>\n",
       "    <tr>\n",
       "      <th>CPLY</th>\n",
       "      <td>0.148890</td>\n",
       "    </tr>\n",
       "    <tr>\n",
       "      <th>SAO</th>\n",
       "      <td>0.143598</td>\n",
       "    </tr>\n",
       "    <tr>\n",
       "      <th>VIOL</th>\n",
       "      <td>0.140792</td>\n",
       "    </tr>\n",
       "    <tr>\n",
       "      <th>ILSC</th>\n",
       "      <td>0.138631</td>\n",
       "    </tr>\n",
       "    <tr>\n",
       "      <th>PARL</th>\n",
       "      <td>0.138513</td>\n",
       "    </tr>\n",
       "    <tr>\n",
       "      <th>SEXA</th>\n",
       "      <td>0.137977</td>\n",
       "    </tr>\n",
       "    <tr>\n",
       "      <th>BEAT</th>\n",
       "      <td>0.134426</td>\n",
       "    </tr>\n",
       "    <tr>\n",
       "      <th>POLM</th>\n",
       "      <td>0.134037</td>\n",
       "    </tr>\n",
       "    <tr>\n",
       "      <th>BURG</th>\n",
       "      <td>0.133109</td>\n",
       "    </tr>\n",
       "    <tr>\n",
       "      <th>ILSP</th>\n",
       "      <td>0.132706</td>\n",
       "    </tr>\n",
       "    <tr>\n",
       "      <th>GUNV</th>\n",
       "      <td>0.132261</td>\n",
       "    </tr>\n",
       "    <tr>\n",
       "      <th>PROB</th>\n",
       "      <td>0.130598</td>\n",
       "    </tr>\n",
       "    <tr>\n",
       "      <th>POLB</th>\n",
       "      <td>0.126868</td>\n",
       "    </tr>\n",
       "    <tr>\n",
       "      <th>CPBD</th>\n",
       "      <td>0.120627</td>\n",
       "    </tr>\n",
       "    <tr>\n",
       "      <th>FRUD</th>\n",
       "      <td>0.114859</td>\n",
       "    </tr>\n",
       "    <tr>\n",
       "      <th>CCSP</th>\n",
       "      <td>0.105716</td>\n",
       "    </tr>\n",
       "    <tr>\n",
       "      <th>CCCC</th>\n",
       "      <td>0.100796</td>\n",
       "    </tr>\n",
       "    <tr>\n",
       "      <th>HOMI</th>\n",
       "      <td>0.084409</td>\n",
       "    </tr>\n",
       "    <tr>\n",
       "      <th>DOMV</th>\n",
       "      <td>0.077223</td>\n",
       "    </tr>\n",
       "    <tr>\n",
       "      <th>ROBB</th>\n",
       "      <td>0.064203</td>\n",
       "    </tr>\n",
       "    <tr>\n",
       "      <th>JUVE</th>\n",
       "      <td>0.058814</td>\n",
       "    </tr>\n",
       "  </tbody>\n",
       "</table>\n",
       "</div>"
      ],
      "text/plain": [
       "             0\n",
       "DRUG  0.843136\n",
       "CPS   0.217237\n",
       "UNSPC 0.200713\n",
       "ENVI  0.199527\n",
       "CPD   0.188624\n",
       "GLBTQ 0.172057\n",
       "IMMG  0.168124\n",
       "TASR  0.166258\n",
       "OEMC  0.164403\n",
       "IDOC  0.161257\n",
       "GANG  0.159380\n",
       "CCJ   0.159313\n",
       "CPUB  0.156783\n",
       "ARSN  0.154314\n",
       "REEN  0.151581\n",
       "IPRA  0.151502\n",
       "DUI   0.151309\n",
       "CPLY  0.148890\n",
       "SAO   0.143598\n",
       "VIOL  0.140792\n",
       "ILSC  0.138631\n",
       "PARL  0.138513\n",
       "SEXA  0.137977\n",
       "BEAT  0.134426\n",
       "POLM  0.134037\n",
       "BURG  0.133109\n",
       "ILSP  0.132706\n",
       "GUNV  0.132261\n",
       "PROB  0.130598\n",
       "POLB  0.126868\n",
       "CPBD  0.120627\n",
       "FRUD  0.114859\n",
       "CCSP  0.105716\n",
       "CCCC  0.100796\n",
       "HOMI  0.084409\n",
       "DOMV  0.077223\n",
       "ROBB  0.064203\n",
       "JUVE  0.058814"
      ]
     },
     "execution_count": 16,
     "metadata": {},
     "output_type": "execute_result"
    }
   ],
   "source": [
    "# sanity check\n",
    "clf = bench_results['clfs'][0]\n",
    "pd.DataFrame(\n",
    "    clf.predict_proba(vectorizer.transform(['marijuana'])),\n",
    "    columns=df.loc[:, 'OEMC':'TASR'].columns\n",
    ").T.sort_values(0, ascending=False)"
   ]
  },
  {
   "cell_type": "code",
   "execution_count": 17,
   "metadata": {
    "collapsed": true
   },
   "outputs": [],
   "source": [
    "not_yet_tagged = df.loc[df['relevant'] & ~df.loc[:, 'OEMC':'TASR'].any(1), :]"
   ]
  },
  {
   "cell_type": "code",
   "execution_count": 18,
   "metadata": {
    "collapsed": true
   },
   "outputs": [],
   "source": [
    "not_yet_tagged_preds = pd.DataFrame(\n",
    "    clf.predict_proba(vectorizer.transform(not_yet_tagged.loc[:, 'bodytext'].values)),\n",
    "    columns=df.loc[:, 'OEMC':'TASR'].columns\n",
    ")"
   ]
  },
  {
   "cell_type": "code",
   "execution_count": 19,
   "metadata": {},
   "outputs": [
    {
     "data": {
      "text/plain": [
       "<matplotlib.legend.Legend at 0x28e892cfeb8>"
      ]
     },
     "execution_count": 19,
     "metadata": {},
     "output_type": "execute_result"
    },
    {
     "data": {
      "image/png": "[encoded data removed]",
      "text/plain": [
       "<matplotlib.figure.Figure at 0x28e862c06a0>"
      ]
     },
     "metadata": {},
     "output_type": "display_data"
    }
   ],
   "source": [
    "f, ax = plt.subplots(1, figsize=(8,8))\n",
    "percents = not_yet_tagged_preds.max(axis=1).sort_values().reset_index().values[:,1]\n",
    "filtered = np.linspace(0, 100, not_yet_tagged_preds.shape[0])\n",
    "\n",
    "ax.plot(percents, filtered)\n",
    "\n",
    "for filtered_p in [25, 40, 50]:\n",
    "    p = percents[np.where(filtered >= filtered_p)[0][0]]\n",
    "    plt.plot([0, p, p],\n",
    "             [filtered_p, filtered_p, 0],\n",
    "             '--',\n",
    "             label='filtered {}% of data with threshold {:.2%}'.format(filtered_p, p))\n",
    "\n",
    "ax.grid(True)\n",
    "ax.set_xlim([0, 1])\n",
    "ax.set_ylim([0, 100])\n",
    "ax.set_xlabel('Probability threshold $p$', fontsize=16)\n",
    "ax.set_title('% of data with all tags < probability $p$', fontsize=16)\n",
    "ax.legend(loc='lower right', fontsize=14)"
   ]
  },
  {
   "cell_type": "code",
   "execution_count": 20,
   "metadata": {
    "collapsed": true
   },
   "outputs": [],
   "source": [
    "import pickle\n",
    "\n",
    "curr_time = time.strftime('%Y%m%d-%H%M%S')\n",
    "with open('model-' + curr_time + '.pkl', 'wb') as f:\n",
    "    pickle.dump(bench_results['clfs'][0], f)\n",
    "with open('vectorizer-' + curr_time + '.pkl', 'wb') as f:\n",
    "    pickle.dump(vectorizer, f)"
   ]
  },
  {
   "cell_type": "code",
   "execution_count": null,
   "metadata": {
    "collapsed": true
   },
   "outputs": [],
   "source": []
  }
 ],
 "metadata": {
  "anaconda-cloud": {},
  "kernelspec": {
   "display_name": "Python 3",
   "language": "python",
   "name": "python3"
  },
  "language_info": {
   "codemirror_mode": {
    "name": "ipython",
    "version": 3
   },
   "file_extension": ".py",
   "mimetype": "text/x-python",
   "name": "python",
   "nbconvert_exporter": "python",
   "pygments_lexer": "ipython3",
   "version": "3.6.1"
  }
 },
 "nbformat": 4,
 "nbformat_minor": 2
}
