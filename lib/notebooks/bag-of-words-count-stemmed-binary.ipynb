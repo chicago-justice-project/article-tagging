{
 "cells": [
  {
   "cell_type": "code",
   "execution_count": 1,
   "metadata": {
    "collapsed": true
   },
   "outputs": [],
   "source": [
    "# Allows us to import packages that exist one level up in the file system\n",
    "# See https://stackoverflow.com/questions/34478398\n",
    "import os\n",
    "import sys\n",
    "module_path = os.path.abspath(os.path.join('..'))\n",
    "if module_path not in sys.path:\n",
    "    sys.path = [module_path] + sys.path"
   ]
  },
  {
   "cell_type": "code",
   "execution_count": 2,
   "metadata": {
    "collapsed": true
   },
   "outputs": [],
   "source": [
    "from tagnews.utils import load_data as ld\n",
    "import matplotlib\n",
    "import matplotlib.pyplot as plt\n",
    "import numpy as np\n",
    "import pandas as pd\n",
    "import sklearn\n",
    "import sklearn.feature_extraction.text\n",
    "import sklearn.multiclass\n",
    "import sklearn.linear_model\n",
    "% matplotlib inline\n",
    "plt.rcParams['figure.figsize'] = 12, 8"
   ]
  },
  {
   "cell_type": "code",
   "execution_count": 3,
   "metadata": {
    "collapsed": true
   },
   "outputs": [],
   "source": [
    "df = ld.load_data()"
   ]
  },
  {
   "cell_type": "code",
   "execution_count": 4,
   "metadata": {
    "collapsed": true
   },
   "outputs": [],
   "source": [
    "# TODO: Augment training data with not relevant"
   ]
  },
  {
   "cell_type": "code",
   "execution_count": 5,
   "metadata": {},
   "outputs": [
    {
     "name": "stdout",
     "output_type": "stream",
     "text": [
      "(40008, 50)\n",
      "(43008, 50)\n",
      "(30105, 50)\n",
      "(12903, 50)\n"
     ]
    }
   ],
   "source": [
    "crime_df = df.loc[df.loc[:, 'OEMC':'TASR'].any(1), :]\n",
    "print(crime_df.shape)\n",
    "crime_df = crime_df.append(df.loc[~df['relevant'], :].sample(n=3000, axis=0))\n",
    "print(crime_df.shape)\n",
    "\n",
    "idx = np.random.permutation(crime_df.shape[0])\n",
    "trn = crime_df.iloc[idx[:int(crime_df.shape[0] * 0.7)], :]\n",
    "tst = crime_df.iloc[idx[int(crime_df.shape[0] * 0.7):], :]\n",
    "print(trn.shape)\n",
    "print(tst.shape)"
   ]
  },
  {
   "cell_type": "code",
   "execution_count": 6,
   "metadata": {
    "collapsed": true
   },
   "outputs": [],
   "source": [
    "# vectorize data\n",
    "from nltk import word_tokenize          \n",
    "from nltk.stem import WordNetLemmatizer \n",
    "class LemmaTokenizer(object):\n",
    "    def __init__(self):\n",
    "        self.wnl = WordNetLemmatizer()\n",
    "    def __call__(self, doc):\n",
    "        return [self.wnl.lemmatize(t) for t in word_tokenize(doc)]\n",
    "\n",
    "vectorizer = sklearn.feature_extraction.text.CountVectorizer(tokenizer=LemmaTokenizer(),\n",
    "                                                             binary=True)\n",
    "X = vectorizer.fit_transform(trn['bodytext'].values)\n",
    "\n",
    "Y = trn.loc[:, 'OEMC':'TASR'].values"
   ]
  },
  {
   "cell_type": "code",
   "execution_count": 7,
   "metadata": {},
   "outputs": [
    {
     "data": {
      "text/plain": [
       "(30105, 225457)"
      ]
     },
     "execution_count": 7,
     "metadata": {},
     "output_type": "execute_result"
    }
   ],
   "source": [
    "X.shape"
   ]
  },
  {
   "cell_type": "code",
   "execution_count": 8,
   "metadata": {
    "collapsed": true
   },
   "outputs": [],
   "source": [
    "from tagnews.crimetype import benchmark as bt"
   ]
  },
  {
   "cell_type": "code",
   "execution_count": 9,
   "metadata": {
    "collapsed": true
   },
   "outputs": [],
   "source": [
    "bench_results = bt.benchmark(\n",
    "    lambda: sklearn.multiclass.OneVsRestClassifier(\n",
    "        sklearn.linear_model.LogisticRegression()\n",
    "    ),\n",
    "    vectorizer.transform(crime_df['bodytext'].values),\n",
    "    crime_df.loc[:, 'OEMC':'TASR'].values\n",
    ")"
   ]
  },
  {
   "cell_type": "code",
   "execution_count": 10,
   "metadata": {
    "collapsed": true
   },
   "outputs": [],
   "source": [
    "fpr = pd.DataFrame(bench_results['fpr'], columns=df.loc[:, 'OEMC':'TASR'].columns.values).T\n",
    "\n",
    "tpr = pd.DataFrame(bench_results['tpr'], columns=df.loc[:, 'OEMC':'TASR'].columns.values).T\n",
    "\n",
    "ppv = pd.DataFrame(bench_results['ppv'], columns=df.loc[:, 'OEMC':'TASR'].columns.values).T"
   ]
  },
  {
   "cell_type": "code",
   "execution_count": 11,
   "metadata": {
    "scrolled": false
   },
   "outputs": [
    {
     "data": {
      "text/plain": [
       "{'acc': array([ 0.96667205,  0.96641996,  0.96679443,  0.96653744]),\n",
       " 'clfs': [OneVsRestClassifier(estimator=LogisticRegression(C=1.0, class_weight=None, dual=False, fit_intercept=True,\n",
       "            intercept_scaling=1, max_iter=100, multi_class='ovr', n_jobs=1,\n",
       "            penalty='l2', random_state=None, solver='liblinear', tol=0.0001,\n",
       "            verbose=0, warm_start=False),\n",
       "            n_jobs=1),\n",
       "  OneVsRestClassifier(estimator=LogisticRegression(C=1.0, class_weight=None, dual=False, fit_intercept=True,\n",
       "            intercept_scaling=1, max_iter=100, multi_class='ovr', n_jobs=1,\n",
       "            penalty='l2', random_state=None, solver='liblinear', tol=0.0001,\n",
       "            verbose=0, warm_start=False),\n",
       "            n_jobs=1),\n",
       "  OneVsRestClassifier(estimator=LogisticRegression(C=1.0, class_weight=None, dual=False, fit_intercept=True,\n",
       "            intercept_scaling=1, max_iter=100, multi_class='ovr', n_jobs=1,\n",
       "            penalty='l2', random_state=None, solver='liblinear', tol=0.0001,\n",
       "            verbose=0, warm_start=False),\n",
       "            n_jobs=1),\n",
       "  OneVsRestClassifier(estimator=LogisticRegression(C=1.0, class_weight=None, dual=False, fit_intercept=True,\n",
       "            intercept_scaling=1, max_iter=100, multi_class='ovr', n_jobs=1,\n",
       "            penalty='l2', random_state=None, solver='liblinear', tol=0.0001,\n",
       "            verbose=0, warm_start=False),\n",
       "            n_jobs=1)],\n",
       " 'fpr': array([[  2.79876854e-04,   1.67719898e-01,   1.92074404e-02,\n",
       "           1.84725395e-02,   4.55883750e-03,   7.98076923e-03,\n",
       "           1.12222950e-03,   1.58997381e-03,   9.10323455e-03,\n",
       "           6.04978677e-03,   2.73739853e-03,   5.84011489e-03,\n",
       "           4.29516969e-02,   2.35693410e-03,   2.53942249e-02,\n",
       "           2.79981335e-04,   1.60687368e-01,   1.78186252e-03,\n",
       "           1.21779859e-03,   1.31517144e-03,   5.48100548e-03,\n",
       "           1.32293415e-02,   4.06740267e-03,   1.77755206e-02,\n",
       "           2.57265364e-03,   4.80225989e-02,   1.69077588e-03,\n",
       "           9.34579439e-05,   8.42144662e-04,   9.31272118e-05,\n",
       "           9.77998066e-02,   1.86828585e-04,   1.87846342e-04,\n",
       "           5.51257253e-03,   3.35602646e-03,   9.06024096e-03,\n",
       "           1.98315385e-02,   2.79902967e-04],\n",
       "        [  1.86532363e-04,   1.72026279e-01,   2.62786951e-02,\n",
       "           1.75906710e-02,   3.89919163e-03,   8.28755902e-03,\n",
       "           4.67071462e-04,   8.43881857e-04,   1.01157475e-02,\n",
       "           6.13679105e-03,   2.73688184e-03,   6.39618138e-03,\n",
       "           4.54805492e-02,   2.16572505e-03,   3.09152127e-02,\n",
       "           3.73378139e-04,   1.67318688e-01,   1.97349873e-03,\n",
       "           1.21791269e-03,   1.22042809e-03,   2.74153904e-03,\n",
       "           1.15250869e-02,   4.36978054e-03,   1.84223919e-02,\n",
       "           3.24025541e-03,   4.67505780e-02,   1.50333553e-03,\n",
       "           5.60224090e-04,   4.67683098e-04,   9.30578820e-05,\n",
       "           9.95392823e-02,   1.86863496e-04,   4.69748215e-04,\n",
       "           6.45285563e-03,   4.60034503e-03,   6.27292029e-03,\n",
       "           2.12517267e-02,   9.33271115e-05],\n",
       "        [  2.79850746e-04,   1.68966105e-01,   2.28891150e-02,\n",
       "           2.11037353e-02,   5.51435634e-03,   6.56307306e-03,\n",
       "           5.61429774e-04,   7.49765698e-04,   7.18516361e-03,\n",
       "           5.55665807e-03,   1.70084097e-03,   5.17191840e-03,\n",
       "           3.88101983e-02,   1.69157034e-03,   3.06258322e-02,\n",
       "           4.66897003e-04,   1.55582305e-01,   2.62812089e-03,\n",
       "           8.43723634e-04,   1.87828700e-03,   3.69248248e-03,\n",
       "           1.08846230e-02,   5.53344336e-03,   1.90117934e-02,\n",
       "           4.18808300e-03,   5.11378164e-02,   2.24866486e-03,\n",
       "           7.46407912e-04,   7.48152997e-04,   0.00000000e+00,\n",
       "           9.97102849e-02,   7.47314339e-04,   1.40792191e-03,\n",
       "           6.26566416e-03,   2.97390637e-03,   6.97066512e-03,\n",
       "           2.31299735e-02,   9.32227091e-05],\n",
       "        [  2.79929085e-04,   1.71544578e-01,   2.36363636e-02,\n",
       "           2.04404068e-02,   4.65912332e-03,   5.68784344e-03,\n",
       "           7.48083037e-04,   1.12454315e-03,   8.75401226e-03,\n",
       "           5.65195835e-03,   2.73714016e-03,   5.16548689e-03,\n",
       "           4.05638665e-02,   2.26137756e-03,   3.33915545e-02,\n",
       "           5.59597090e-04,   1.72899319e-01,   2.53640207e-03,\n",
       "           8.43091335e-04,   1.50164242e-03,   5.10155881e-03,\n",
       "           1.16912712e-02,   4.75820548e-03,   1.84285136e-02,\n",
       "           3.81351892e-03,   4.87205996e-02,   2.06417714e-03,\n",
       "           7.47104968e-04,   9.36066648e-04,   0.00000000e+00,\n",
       "           9.86423165e-02,   6.53838969e-04,   1.59549507e-03,\n",
       "           7.29436606e-03,   3.84172109e-03,   7.46847721e-03,\n",
       "           2.11702128e-02,   2.79798545e-04]]),\n",
       " 'ppv': array([[ 0.72727273,  0.8029695 ,  0.74666667,  0.61885246,  0.72093023,\n",
       "          0.74772036,  0.625     ,  0.58536585,  0.72910663,  0.9004894 ,\n",
       "          0.71287129,  0.73245614,  0.91439798,  0.78448276,  0.64872521,\n",
       "          0.625     ,  0.72916667,  0.63461538,  0.70454545,  0.74074074,\n",
       "          0.38947368,  0.76071429,  0.88709677,  0.79141836,  0.84210526,\n",
       "          0.86941341,  0.76      ,  0.75      ,  0.82      ,  0.83333333,\n",
       "          0.63476298,  0.83333333,  0.96666667,  0.78888889,  0.87889273,\n",
       "          0.73065903,  0.84602649,  0.76923077],\n",
       "        [ 0.71428571,  0.80451866,  0.66538462,  0.61220044,  0.76571429,\n",
       "          0.74705882,  0.7826087 ,  0.775     ,  0.74257426,  0.89527027,\n",
       "          0.74107143,  0.7112069 ,  0.91325696,  0.74444444,  0.60183968,\n",
       "          0.55555556,  0.72765124,  0.66666667,  0.675     ,  0.77586207,\n",
       "          0.5915493 ,  0.79755672,  0.87837838,  0.78904429,  0.79881657,\n",
       "          0.8722807 ,  0.81395349,  0.14285714,  0.88888889,  0.66666667,\n",
       "          0.62322166,  0.83333333,  0.93506494,  0.75547445,  0.83275261,\n",
       "          0.79750779,  0.83207389,  0.93333333],\n",
       "        [ 0.7       ,  0.80321365,  0.7133758 ,  0.60989011,  0.69148936,\n",
       "          0.79076923,  0.77777778,  0.76470588,  0.77777778,  0.90834697,\n",
       "          0.82178218,  0.75115207,  0.92335664,  0.8021978 ,  0.62007624,\n",
       "          0.44444444,  0.74039669,  0.58208955,  0.775     ,  0.70149254,\n",
       "          0.51851852,  0.78805395,  0.85606061,  0.78025852,  0.75956284,\n",
       "          0.86310746,  0.71084337,  0.2       ,  0.77777778,  1.        ,\n",
       "          0.61900369,  0.46666667,  0.8125    ,  0.77031802,  0.89007092,\n",
       "          0.79190751,  0.82504013,  0.83333333],\n",
       "        [ 0.76923077,  0.79560572,  0.69649805,  0.58846918,  0.71511628,\n",
       "          0.81677019,  0.68      ,  0.71428571,  0.75806452,  0.905     ,\n",
       "          0.75213675,  0.74285714,  0.92372194,  0.77570093,  0.61492891,\n",
       "          0.5       ,  0.72301722,  0.59090909,  0.74285714,  0.74603175,\n",
       "          0.4375    ,  0.78066914,  0.87931034,  0.77221527,  0.79591837,\n",
       "          0.87066895,  0.72839506,  0.2       ,  0.81132075,  1.        ,\n",
       "          0.62287552,  0.53333333,  0.79012346,  0.72363636,  0.86531987,\n",
       "          0.8025641 ,  0.84092726,  0.8125    ]]),\n",
       " 'tpr': array([[ 0.24242424,  0.81723504,  0.65116279,  0.44216691,  0.55605381,\n",
       "          0.69886364,  0.33898305,  0.4       ,  0.59389671,  0.82511211,\n",
       "          0.4556962 ,  0.54397394,  0.89235826,  0.62758621,  0.46450304,\n",
       "          0.13513514,  0.69694026,  0.37078652,  0.4025974 ,  0.37383178,\n",
       "          0.21764706,  0.68378812,  0.77464789,  0.73208379,  0.56031128,\n",
       "          0.84008097,  0.53773585,  0.05769231,  0.63076923,  0.35714286,\n",
       "          0.56693548,  0.21276596,  0.55238095,  0.51699029,  0.78637771,\n",
       "          0.67639257,  0.74435543,  0.29411765],\n",
       "        [ 0.16666667,  0.82427536,  0.63292683,  0.44391785,  0.56540084,\n",
       "          0.67733333,  0.38297872,  0.35632184,  0.63694268,  0.81664099,\n",
       "          0.53205128,  0.59566787,  0.89042553,  0.50757576,  0.48159832,\n",
       "          0.12820513,  0.72357526,  0.37837838,  0.34615385,  0.45      ,\n",
       "          0.24137931,  0.66521106,  0.71585903,  0.73031284,  0.52123552,\n",
       "          0.83816588,  0.64220183,  0.02380952,  0.6557377 ,  0.33333333,\n",
       "          0.54233227,  0.20408163,  0.66666667,  0.56097561,  0.75157233,\n",
       "          0.65641026,  0.73900075,  0.37837838],\n",
       "        [ 0.21875   ,  0.82954313,  0.60737527,  0.50531108,  0.55555556,\n",
       "          0.657289  ,  0.32307692,  0.31707317,  0.57174393,  0.82344214,\n",
       "          0.49112426,  0.52411576,  0.89409534,  0.65765766,  0.4934277 ,\n",
       "          0.09302326,  0.71821724,  0.39795918,  0.36470588,  0.45192308,\n",
       "          0.22105263,  0.63312693,  0.75166297,  0.72489083,  0.56504065,\n",
       "          0.86075085,  0.74683544,  0.05882353,  0.47457627,  0.16666667,\n",
       "          0.54376013,  0.14893617,  0.66326531,  0.57671958,  0.7652439 ,\n",
       "          0.64775414,  0.77467973,  0.2       ],\n",
       "        [ 0.28571429,  0.81532741,  0.63028169,  0.4736    ,  0.52340426,\n",
       "          0.6939314 ,  0.29310345,  0.37037037,  0.59872611,  0.81409295,\n",
       "          0.56050955,  0.52348993,  0.89868421,  0.5971223 ,  0.50932287,\n",
       "          0.2       ,  0.71883289,  0.36448598,  0.33766234,  0.48453608,\n",
       "          0.25149701,  0.63732929,  0.78634361,  0.7043379 ,  0.59315589,\n",
       "          0.84207034,  0.62765957,  0.04545455,  0.62318841,  0.58333333,\n",
       "          0.55825443,  0.17391304,  0.65979381,  0.5975976 ,  0.75588235,\n",
       "          0.7081448 ,  0.77810651,  0.43333333]])}"
      ]
     },
     "execution_count": 11,
     "metadata": {},
     "output_type": "execute_result"
    }
   ],
   "source": [
    "bench_results"
   ]
  },
  {
   "cell_type": "code",
   "execution_count": 12,
   "metadata": {
    "scrolled": false
   },
   "outputs": [
    {
     "data": {
      "image/png": "[encoded data removed]",
      "text/plain": [
       "<matplotlib.figure.Figure at 0x1a1b839550>"
      ]
     },
     "metadata": {},
     "output_type": "display_data"
    }
   ],
   "source": [
    "f, axs = plt.subplots(3,1)\n",
    "tpr.mean(axis=1).plot(kind='bar', ax=axs[0])\n",
    "axs[0].set_ylabel('TPR')\n",
    "axs[0].set_xticklabels([])\n",
    "axs[0].set_ylim([0, 1])\n",
    "ppv.mean(axis=1).plot(kind='bar', ax=axs[1])\n",
    "axs[1].set_ylabel('PPV')\n",
    "axs[1].set_xticklabels([])\n",
    "axs[1].set_ylim([0, 1])\n",
    "(1 - fpr).mean(axis=1).plot(kind='bar', ax=axs[2])\n",
    "axs[2].set_ylabel('1 - FPR')\n",
    "axs[2].set_ylim([0, 1])\n",
    "plt.tight_layout()\n",
    "plt.show()"
   ]
  },
  {
   "cell_type": "code",
   "execution_count": 13,
   "metadata": {},
   "outputs": [
    {
     "data": {
      "text/plain": [
       "Index(['OEMC', 'CPD', 'SAO', 'CCCC', 'CCJ', 'CCSP', 'CPUB', 'IDOC', 'DOMV',\n",
       "       'SEXA', 'POLB', 'POLM', 'GUNV', 'GLBTQ', 'JUVE', 'REEN', 'VIOL', 'BEAT',\n",
       "       'PROB', 'PARL', 'CPLY', 'DRUG', 'CPS', 'GANG', 'ILSP', 'HOMI', 'IPRA',\n",
       "       'CPBD', 'IMMG', 'ENVI', 'UNSPC', 'ILSC', 'ARSN', 'BURG', 'DUI', 'FRUD',\n",
       "       'ROBB', 'TASR', 'COPA', 'DIGP'],\n",
       "      dtype='object')"
      ]
     },
     "execution_count": 13,
     "metadata": {},
     "output_type": "execute_result"
    }
   ],
   "source": [
    "df.loc[:, 'OEMC'::].columns"
   ]
  },
  {
   "cell_type": "code",
   "execution_count": 14,
   "metadata": {
    "collapsed": true,
    "scrolled": false
   },
   "outputs": [],
   "source": [
    "# this will write 10 files to the notebooks directory\n",
    "bt.predict_articles(bench_results['clfs'][0], vectorizer, df, n=10)"
   ]
  },
  {
   "cell_type": "code",
   "execution_count": 15,
   "metadata": {},
   "outputs": [
    {
     "data": {
      "text/html": [
       "<div>\n",
       "<style>\n",
       "    .dataframe thead tr:only-child th {\n",
       "        text-align: right;\n",
       "    }\n",
       "\n",
       "    .dataframe thead th {\n",
       "        text-align: left;\n",
       "    }\n",
       "\n",
       "    .dataframe tbody tr th {\n",
       "        vertical-align: top;\n",
       "    }\n",
       "</style>\n",
       "<table border=\"1\" class=\"dataframe\">\n",
       "  <thead>\n",
       "    <tr style=\"text-align: right;\">\n",
       "      <th></th>\n",
       "      <th>0</th>\n",
       "    </tr>\n",
       "  </thead>\n",
       "  <tbody>\n",
       "    <tr>\n",
       "      <th>DRUG</th>\n",
       "      <td>0.864677</td>\n",
       "    </tr>\n",
       "    <tr>\n",
       "      <th>ENVI</th>\n",
       "      <td>0.228001</td>\n",
       "    </tr>\n",
       "    <tr>\n",
       "      <th>CPS</th>\n",
       "      <td>0.227901</td>\n",
       "    </tr>\n",
       "    <tr>\n",
       "      <th>UNSPC</th>\n",
       "      <td>0.192679</td>\n",
       "    </tr>\n",
       "    <tr>\n",
       "      <th>TASR</th>\n",
       "      <td>0.190943</td>\n",
       "    </tr>\n",
       "    <tr>\n",
       "      <th>GLBTQ</th>\n",
       "      <td>0.185953</td>\n",
       "    </tr>\n",
       "    <tr>\n",
       "      <th>OEMC</th>\n",
       "      <td>0.181800</td>\n",
       "    </tr>\n",
       "    <tr>\n",
       "      <th>VIOL</th>\n",
       "      <td>0.179344</td>\n",
       "    </tr>\n",
       "    <tr>\n",
       "      <th>IMMG</th>\n",
       "      <td>0.175331</td>\n",
       "    </tr>\n",
       "    <tr>\n",
       "      <th>CPUB</th>\n",
       "      <td>0.175017</td>\n",
       "    </tr>\n",
       "    <tr>\n",
       "      <th>DUI</th>\n",
       "      <td>0.174134</td>\n",
       "    </tr>\n",
       "    <tr>\n",
       "      <th>CPLY</th>\n",
       "      <td>0.168016</td>\n",
       "    </tr>\n",
       "    <tr>\n",
       "      <th>IPRA</th>\n",
       "      <td>0.162643</td>\n",
       "    </tr>\n",
       "    <tr>\n",
       "      <th>IDOC</th>\n",
       "      <td>0.161492</td>\n",
       "    </tr>\n",
       "    <tr>\n",
       "      <th>REEN</th>\n",
       "      <td>0.161107</td>\n",
       "    </tr>\n",
       "    <tr>\n",
       "      <th>PROB</th>\n",
       "      <td>0.159612</td>\n",
       "    </tr>\n",
       "    <tr>\n",
       "      <th>PARL</th>\n",
       "      <td>0.156219</td>\n",
       "    </tr>\n",
       "    <tr>\n",
       "      <th>ARSN</th>\n",
       "      <td>0.156125</td>\n",
       "    </tr>\n",
       "    <tr>\n",
       "      <th>BEAT</th>\n",
       "      <td>0.155040</td>\n",
       "    </tr>\n",
       "    <tr>\n",
       "      <th>ILSC</th>\n",
       "      <td>0.148013</td>\n",
       "    </tr>\n",
       "    <tr>\n",
       "      <th>CCJ</th>\n",
       "      <td>0.146693</td>\n",
       "    </tr>\n",
       "    <tr>\n",
       "      <th>BURG</th>\n",
       "      <td>0.146191</td>\n",
       "    </tr>\n",
       "    <tr>\n",
       "      <th>POLM</th>\n",
       "      <td>0.130751</td>\n",
       "    </tr>\n",
       "    <tr>\n",
       "      <th>POLB</th>\n",
       "      <td>0.130622</td>\n",
       "    </tr>\n",
       "    <tr>\n",
       "      <th>ILSP</th>\n",
       "      <td>0.128354</td>\n",
       "    </tr>\n",
       "    <tr>\n",
       "      <th>FRUD</th>\n",
       "      <td>0.125557</td>\n",
       "    </tr>\n",
       "    <tr>\n",
       "      <th>GUNV</th>\n",
       "      <td>0.125396</td>\n",
       "    </tr>\n",
       "    <tr>\n",
       "      <th>SEXA</th>\n",
       "      <td>0.123399</td>\n",
       "    </tr>\n",
       "    <tr>\n",
       "      <th>CPD</th>\n",
       "      <td>0.120370</td>\n",
       "    </tr>\n",
       "    <tr>\n",
       "      <th>CCSP</th>\n",
       "      <td>0.109191</td>\n",
       "    </tr>\n",
       "    <tr>\n",
       "      <th>SAO</th>\n",
       "      <td>0.104256</td>\n",
       "    </tr>\n",
       "    <tr>\n",
       "      <th>CPBD</th>\n",
       "      <td>0.103777</td>\n",
       "    </tr>\n",
       "    <tr>\n",
       "      <th>GANG</th>\n",
       "      <td>0.098340</td>\n",
       "    </tr>\n",
       "    <tr>\n",
       "      <th>CCCC</th>\n",
       "      <td>0.095742</td>\n",
       "    </tr>\n",
       "    <tr>\n",
       "      <th>DOMV</th>\n",
       "      <td>0.086720</td>\n",
       "    </tr>\n",
       "    <tr>\n",
       "      <th>HOMI</th>\n",
       "      <td>0.086437</td>\n",
       "    </tr>\n",
       "    <tr>\n",
       "      <th>ROBB</th>\n",
       "      <td>0.082713</td>\n",
       "    </tr>\n",
       "    <tr>\n",
       "      <th>JUVE</th>\n",
       "      <td>0.073748</td>\n",
       "    </tr>\n",
       "  </tbody>\n",
       "</table>\n",
       "</div>"
      ],
      "text/plain": [
       "             0\n",
       "DRUG  0.864677\n",
       "ENVI  0.228001\n",
       "CPS   0.227901\n",
       "UNSPC 0.192679\n",
       "TASR  0.190943\n",
       "GLBTQ 0.185953\n",
       "OEMC  0.181800\n",
       "VIOL  0.179344\n",
       "IMMG  0.175331\n",
       "CPUB  0.175017\n",
       "DUI   0.174134\n",
       "CPLY  0.168016\n",
       "IPRA  0.162643\n",
       "IDOC  0.161492\n",
       "REEN  0.161107\n",
       "PROB  0.159612\n",
       "PARL  0.156219\n",
       "ARSN  0.156125\n",
       "BEAT  0.155040\n",
       "ILSC  0.148013\n",
       "CCJ   0.146693\n",
       "BURG  0.146191\n",
       "POLM  0.130751\n",
       "POLB  0.130622\n",
       "ILSP  0.128354\n",
       "FRUD  0.125557\n",
       "GUNV  0.125396\n",
       "SEXA  0.123399\n",
       "CPD   0.120370\n",
       "CCSP  0.109191\n",
       "SAO   0.104256\n",
       "CPBD  0.103777\n",
       "GANG  0.098340\n",
       "CCCC  0.095742\n",
       "DOMV  0.086720\n",
       "HOMI  0.086437\n",
       "ROBB  0.082713\n",
       "JUVE  0.073748"
      ]
     },
     "execution_count": 15,
     "metadata": {},
     "output_type": "execute_result"
    }
   ],
   "source": [
    "# sanity check\n",
    "clf = bench_results['clfs'][0]\n",
    "pd.DataFrame(\n",
    "    clf.predict_proba(vectorizer.transform(['marijuana'])),\n",
    "    columns=df.loc[:, 'OEMC':'TASR'].columns\n",
    ").T.sort_values(0, ascending=False)"
   ]
  },
  {
   "cell_type": "code",
   "execution_count": 16,
   "metadata": {
    "collapsed": true
   },
   "outputs": [],
   "source": [
    "not_yet_tagged = df.loc[df['relevant'] & ~df.loc[:, 'OEMC':'TASR'].any(1), :]"
   ]
  },
  {
   "cell_type": "code",
   "execution_count": 17,
   "metadata": {
    "collapsed": true
   },
   "outputs": [],
   "source": [
    "not_yet_tagged_preds = pd.DataFrame(\n",
    "    clf.predict_proba(vectorizer.transform(not_yet_tagged.loc[:, 'bodytext'].values)),\n",
    "    columns=df.loc[:, 'OEMC':'TASR'].columns\n",
    ")"
   ]
  },
  {
   "cell_type": "code",
   "execution_count": 18,
   "metadata": {},
   "outputs": [
    {
     "data": {
      "text/plain": [
       "<matplotlib.legend.Legend at 0x1a1d21ee10>"
      ]
     },
     "execution_count": 18,
     "metadata": {},
     "output_type": "execute_result"
    },
    {
     "data": {
      "image/png": "[encoded data removed]",
      "text/plain": [
       "<matplotlib.figure.Figure at 0x1a1d247908>"
      ]
     },
     "metadata": {},
     "output_type": "display_data"
    }
   ],
   "source": [
    "f, ax = plt.subplots(1, figsize=(8,8))\n",
    "percents = not_yet_tagged_preds.max(axis=1).sort_values().reset_index().values[:,1]\n",
    "filtered = np.linspace(0, 100, not_yet_tagged_preds.shape[0])\n",
    "\n",
    "ax.plot(percents, filtered)\n",
    "\n",
    "for filtered_p in [25, 40, 50]:\n",
    "    p = percents[np.where(filtered >= filtered_p)[0][0]]\n",
    "    plt.plot([0, p, p],\n",
    "             [filtered_p, filtered_p, 0],\n",
    "             '--',\n",
    "             label='filtered {}% of data with threshold {:.2%}'.format(filtered_p, p))\n",
    "\n",
    "ax.grid(True)\n",
    "ax.set_xlim([0, 1])\n",
    "ax.set_ylim([0, 100])\n",
    "ax.set_xlabel('Probability threshold $p$', fontsize=16)\n",
    "ax.set_title('% of data with all tags < probability $p$', fontsize=16)\n",
    "ax.legend(loc='lower right', fontsize=14)"
   ]
  },
  {
   "cell_type": "code",
   "execution_count": 19,
   "metadata": {},
   "outputs": [
    {
     "ename": "NameError",
     "evalue": "name 'time' is not defined",
     "output_type": "error",
     "traceback": [
      "\u001b[0;31m---------------------------------------------------------------------------\u001b[0m",
      "\u001b[0;31mNameError\u001b[0m                                 Traceback (most recent call last)",
      "\u001b[0;32m<ipython-input-19-cc68de12024f>\u001b[0m in \u001b[0;36m<module>\u001b[0;34m()\u001b[0m\n\u001b[1;32m      1\u001b[0m \u001b[0;32mimport\u001b[0m \u001b[0mpickle\u001b[0m\u001b[0;34m\u001b[0m\u001b[0m\n\u001b[1;32m      2\u001b[0m \u001b[0;34m\u001b[0m\u001b[0m\n\u001b[0;32m----> 3\u001b[0;31m \u001b[0mcurr_time\u001b[0m \u001b[0;34m=\u001b[0m \u001b[0mtime\u001b[0m\u001b[0;34m.\u001b[0m\u001b[0mstrftime\u001b[0m\u001b[0;34m(\u001b[0m\u001b[0;34m'%Y%m%d-%H%M%S'\u001b[0m\u001b[0;34m)\u001b[0m\u001b[0;34m\u001b[0m\u001b[0m\n\u001b[0m\u001b[1;32m      4\u001b[0m \u001b[0;32mwith\u001b[0m \u001b[0mopen\u001b[0m\u001b[0;34m(\u001b[0m\u001b[0;34m'model-'\u001b[0m \u001b[0;34m+\u001b[0m \u001b[0mcurr_time\u001b[0m \u001b[0;34m+\u001b[0m \u001b[0;34m'.pkl'\u001b[0m\u001b[0;34m,\u001b[0m \u001b[0;34m'wb'\u001b[0m\u001b[0;34m)\u001b[0m \u001b[0;32mas\u001b[0m \u001b[0mf\u001b[0m\u001b[0;34m:\u001b[0m\u001b[0;34m\u001b[0m\u001b[0m\n\u001b[1;32m      5\u001b[0m     \u001b[0mpickle\u001b[0m\u001b[0;34m.\u001b[0m\u001b[0mdump\u001b[0m\u001b[0;34m(\u001b[0m\u001b[0mbench_results\u001b[0m\u001b[0;34m[\u001b[0m\u001b[0;34m'clfs'\u001b[0m\u001b[0;34m]\u001b[0m\u001b[0;34m[\u001b[0m\u001b[0;36m0\u001b[0m\u001b[0;34m]\u001b[0m\u001b[0;34m,\u001b[0m \u001b[0mf\u001b[0m\u001b[0;34m)\u001b[0m\u001b[0;34m\u001b[0m\u001b[0m\n",
      "\u001b[0;31mNameError\u001b[0m: name 'time' is not defined"
     ]
    }
   ],
   "source": [
    "import pickle\n",
    "\n",
    "curr_time = time.strftime('%Y%m%d-%H%M%S')\n",
    "with open('model-' + curr_time + '.pkl', 'wb') as f:\n",
    "    pickle.dump(bench_results['clfs'][0], f)\n",
    "with open('vectorizer-' + curr_time + '.pkl', 'wb') as f:\n",
    "    pickle.dump(vectorizer, f)"
   ]
  },
  {
   "cell_type": "code",
   "execution_count": null,
   "metadata": {
    "collapsed": true
   },
   "outputs": [],
   "source": []
  }
 ],
 "metadata": {
  "anaconda-cloud": {},
  "kernelspec": {
   "display_name": "Python 3",
   "language": "python",
   "name": "python3"
  },
  "language_info": {
   "codemirror_mode": {
    "name": "ipython",
    "version": 3
   },
   "file_extension": ".py",
   "mimetype": "text/x-python",
   "name": "python",
   "nbconvert_exporter": "python",
   "pygments_lexer": "ipython3",
   "version": "3.6.3"
  }
 },
 "nbformat": 4,
 "nbformat_minor": 2
}
