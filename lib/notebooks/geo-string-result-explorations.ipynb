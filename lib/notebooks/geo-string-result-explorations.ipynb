{
 "cells": [
  {
   "cell_type": "code",
   "execution_count": 1,
   "metadata": {},
   "outputs": [],
   "source": [
    "import sys\n",
    "sys.path.append('..')\n",
    "\n",
    "import tagnews\n",
    "import folium"
   ]
  },
  {
   "cell_type": "code",
   "execution_count": 2,
   "metadata": {},
   "outputs": [
    {
     "name": "stderr",
     "output_type": "stream",
     "text": [
      "..\\tagnews\\utils\\load_data.py:185: RuntimeWarning: 1 location strings were not found in the bodytext.\n",
      "  RuntimeWarning)\n"
     ]
    }
   ],
   "source": [
    "df = tagnews.load_data()"
   ]
  },
  {
   "cell_type": "code",
   "execution_count": 3,
   "metadata": {},
   "outputs": [],
   "source": [
    "crimetags = tagnews.CrimeTags()\n",
    "geoextractor = tagnews.GeoCoder()"
   ]
  },
  {
   "cell_type": "code",
   "execution_count": 57,
   "metadata": {},
   "outputs": [
    {
     "name": "stdout",
     "output_type": "stream",
     "text": [
      "['300 West Huron Street Chicago Illinois']\n"
     ]
    },
    {
     "data": {
      "text/html": [
       "<div style=\"width:100%;\"><div style=\"position:relative;width:100%;height:0;padding-bottom:60%;\"><iframe src=\"data:text/html;charset=utf-8;base64,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\" style=\"position:absolute;width:100%;height:100%;left:0;top:0;border:none !important;\" allowfullscreen webkitallowfullscreen mozallowfullscreen></iframe></div></div>"
      ],
      "text/plain": [
       "<folium.folium.Map at 0x1994d3c2630>"
      ]
     },
     "execution_count": 57,
     "metadata": {},
     "output_type": "execute_result"
    }
   ],
   "source": [
    "while True:\n",
    "    article_text = df.sample(1)['bodytext'].iloc[0]\n",
    "    if crimetags.tagtext_proba(article_text).max() < .15:\n",
    "        continue\n",
    "    # print(article_text)\n",
    "    geostrings = geoextractor.extract_geostrings(article_text, prob_thresh=0.5)\n",
    "    geostrings = [' '.join(gs) + ' Chicago Illinois' for gs in geostrings]\n",
    "    geostrings = [gs.replace('block of ', '') for gs in geostrings]\n",
    "    lat_longs, geocoder_responses = tagnews.get_lat_longs_from_geostrings(geostrings, provider='osm')\n",
    "    lat_longs_g, geocoder_responses_g = tagnews.get_lat_longs_from_geostrings(geostrings, provider='google')\n",
    "\n",
    "    if not geostrings:\n",
    "        continue\n",
    "\n",
    "    m = folium.Map(location=[41.87871, -87.6298])\n",
    "\n",
    "    for geostring, lat_long, lat_long_comparison in zip(geostrings, lat_longs, lat_longs_g):\n",
    "        if lat_long is None:\n",
    "            print('Unable to code \"{}\"'.format(geostring))\n",
    "            print('  Comparison: \"{}\"'.format(lat_long_comparison))\n",
    "            if lat_long_comparison:\n",
    "                folium.Marker(lat_long_comparison, popup='COMPARISON: ' + geostring).add_to(m)\n",
    "            continue\n",
    "        folium.Marker(lat_long, popup=geostring).add_to(m)\n",
    "    break\n",
    "\n",
    "print(geostrings)\n",
    "m"
   ]
  },
  {
   "cell_type": "code",
   "execution_count": 56,
   "metadata": {},
   "outputs": [
    {
     "name": "stdout",
     "output_type": "stream",
     "text": [
      "![][1]\n",
      "\n",
      "####  _ _ Police search for teen's body in Des Plaines River\n",
      "\n",
      "![][2]\n",
      "\n",
      "![][3]\n",
      "\n",
      "#####  Local\n",
      "\n",
      "##  Police search for teen's body in Des Plaines River\n",
      "\n",
      "Day two in the search for a missing teen who jumped into the Des Plaines River\n",
      "with friends ended in despair with no sign of the boy's body.\n",
      "\n",
      "_ _\n",
      "\n",
      "_ _\n",
      "\n",
      "MELROSE PARK (Fox 32 News) - Day two in the search for a missing teen who jumped\n",
      "into the Des Plaines River with friends ended in despair with no sign of the\n",
      "boy's body.  \n",
      "  \n",
      "Police called off the search for the day well before sundown. It was an\n",
      "announcement the family of Cameron Sanders took hard. They expressed anger and\n",
      "frustration at police, wondering why more wasn't being done to find him.  \n",
      "  \n",
      "At just 16, Sanders is the subject of a search bringing multiple agencies\n",
      "together. State police, the Cook County Sheriff's office, Cook County Forest\n",
      "Preserve Police and the Melrose Park Fire Department had no luck after an eight-\n",
      "hour day at the scene in a wooded area near 1st and North Avenues in Melrose\n",
      "Park.  \n",
      "  \n",
      "Saturday afternoon, the day before Mother's Day, Sanders and two friends jumped\n",
      "into the river off a bridge known as Rainbow Bridge for its colorful appearance.\n",
      "It's a popular spot for teens to take selfies and to party.  \n",
      "  \n",
      "\"Myself, I've only been there twice. I've seen other people there while I was\n",
      "there and they were just like sitting. I've never seen anyone even interested in\n",
      "the water,\" said Mary Desonia.  \n",
      "  \n",
      "Police searched by air and by water, using a helicopter and sonar equipment.\n",
      "They covered a span of two miles from North Avenue to Joliet Road. Local parents\n",
      "are expressing concern this Mother's Day, especially for Sanders' mother, hoping\n",
      "for some resolve in the case.  \n",
      "  \n",
      "\"Well it's tough when they are already teenagers because they are wanting to be\n",
      "independent,\" said Giedrius Kanaporis.  \n",
      "  \n",
      "Police are not saying whether the search will resume, but at this point, it is\n",
      "being called a recovery, not a rescue.\n",
      "\n",
      "   [1]: http://static.lakana.com/lakana-fox-global/theme/images/wfld\n",
      "/placeholder-4x3.jpg (Search_for_Cameron_Sanders__missing_in_D_0_20170515021557)\n",
      "\n",
      "   [2]:\n",
      "http://static.lakana.com/media.fox32chicago.com/photo/2017/05/14/Search_for_Cameron_Sanders__missing_in_D_0_3307817_ver1.0_640_360.jpg\n",
      "(Search_for_Cameron_Sanders__missing_in_D_0_20170515021557)\n",
      "\n",
      "   [3]: http://static.lakana.com/lakana-fox-global/theme/images/wfld\n",
      "/placeholder-square.jpg\n",
      "(Search_for_Cameron_Sanders__missing_in_D_0_20170515021557)\n"
     ]
    }
   ],
   "source": [
    "print(article_text)"
   ]
  },
  {
   "cell_type": "code",
   "execution_count": null,
   "metadata": {},
   "outputs": [],
   "source": []
  }
 ],
 "metadata": {
  "kernelspec": {
   "display_name": "Python 3",
   "language": "python",
   "name": "python3"
  },
  "language_info": {
   "codemirror_mode": {
    "name": "ipython",
    "version": 3
   },
   "file_extension": ".py",
   "mimetype": "text/x-python",
   "name": "python",
   "nbconvert_exporter": "python",
   "pygments_lexer": "ipython3",
   "version": "3.6.1"
  }
 },
 "nbformat": 4,
 "nbformat_minor": 2
}
