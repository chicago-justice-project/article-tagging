{
 "cells": [
  {
   "cell_type": "code",
   "execution_count": 1,
   "metadata": {},
   "outputs": [],
   "source": [
    "import sys\n",
    "import json\n",
    "sys.path.append('..')\n",
    "\n",
    "import tagnews\n",
    "import folium"
   ]
  },
  {
   "cell_type": "code",
   "execution_count": 2,
   "metadata": {},
   "outputs": [
    {
     "name": "stderr",
     "output_type": "stream",
     "text": [
      "..\\tagnews\\utils\\load_data.py:185: RuntimeWarning: 1 location strings were not found in the bodytext.\n",
      "  RuntimeWarning)\n"
     ]
    }
   ],
   "source": [
    "df = tagnews.load_data()"
   ]
  },
  {
   "cell_type": "code",
   "execution_count": 3,
   "metadata": {},
   "outputs": [],
   "source": [
    "crimetags = tagnews.CrimeTags()\n",
    "geoextractor = tagnews.GeoCoder()"
   ]
  },
  {
   "cell_type": "code",
   "execution_count": 4,
   "metadata": {},
   "outputs": [
    {
     "name": "stdout",
     "output_type": "stream",
     "text": [
      "Article ID: 205277\n",
      "south: 6.251640619617706\n",
      "Ind.,: 3.4382634669318946\n",
      "1800 block of East 222nd Place: 1.1430729818468413\n",
      "1700 block of West 220th Place,: 1.5479177721231407\n"
     ]
    },
    {
     "data": {
      "text/html": [
       "<div style=\"width:100%;\"><div style=\"position:relative;width:100%;height:0;padding-bottom:60%;\"><iframe src=\"data:text/html;charset=utf-8;base64,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\" style=\"position:absolute;width:100%;height:100%;left:0;top:0;border:none !important;\" allowfullscreen webkitallowfullscreen mozallowfullscreen></iframe></div></div>"
      ],
      "text/plain": [
       "<folium.folium.Map at 0x29cba4b0eb8>"
      ]
     },
     "execution_count": 4,
     "metadata": {},
     "output_type": "execute_result"
    }
   ],
   "source": [
    "while True:\n",
    "    random_sample = df.sample(1)\n",
    "    article_text = random_sample['bodytext'].iloc[0]\n",
    "    if crimetags.tagtext_proba(article_text).max() < .15:\n",
    "        continue\n",
    "    # print(article_text)\n",
    "    geostrings = [' '.join(gs) for gs in geoextractor.extract_geostrings(article_text, prob_thresh=0.5)]\n",
    "    geocode_results = tagnews.get_lat_longs_from_geostrings(geostrings)\n",
    "    lat_longs_raw = geocode_results.lat_longs_raw\n",
    "    lat_longs_post = geocode_results.lat_longs_post\n",
    "    \n",
    "    raw_scores = []\n",
    "    for gr in geocode_results.full_responses_raw:\n",
    "        try:\n",
    "            raw_scores.append(json.loads(gr.response.content)['result'][0]['score'])\n",
    "        except:\n",
    "            raw_scores.append(None)\n",
    "    post_scores = []\n",
    "    for gr in geocode_results.full_responses_post:\n",
    "        try:\n",
    "            post_scores.append(json.loads(gr.response.content)['result'][0]['score'])\n",
    "        except:\n",
    "            post_scores.append(None)\n",
    "\n",
    "    if not geostrings:\n",
    "        continue\n",
    "    \n",
    "    print('Article ID: {}'.format(random_sample.index[0]))\n",
    "\n",
    "    m = folium.Map(location=[41.87871, -87.6298])\n",
    "\n",
    "    for geostring, lat_long_raw, lat_long_post, raw_score, post_score in zip(geostrings, lat_longs_raw, lat_longs_post, raw_scores, post_scores):\n",
    "        if lat_long_raw is None:\n",
    "            print('  Unable to code raw \"{}\"'.format(geostring))\n",
    "        else:\n",
    "            folium.Marker(lat_long_raw, popup=geostring + ' ; RAW ; {}'.format(raw_score)).add_to(m)\n",
    "        \n",
    "        if lat_long_post is None:\n",
    "            print('  Unable to code post-processed \"{}\"'.format(geostring))\n",
    "        else:\n",
    "            folium.Marker(lat_long_post, popup=geostring + ' ; POST ; {}'.format(post_score)).add_to(m)\n",
    "        \n",
    "        try:\n",
    "            print('{}: {}'.format(geostring, raw_score / post_score))\n",
    "        except:\n",
    "            print('{}: {}'.format(geostring, 'N/A'))\n",
    "    break\n",
    "\n",
    "m"
   ]
  },
  {
   "cell_type": "code",
   "execution_count": 5,
   "metadata": {},
   "outputs": [
    {
     "name": "stdout",
     "output_type": "stream",
     "text": [
      "**CHICAGO (STMW) --** A 23-year-old man who was shot in south suburban Sauk Vill\n",
      "age died early Thursday.\n",
      "\n",
      "Manuel G. Montoya was pronounced dead at 1:19 a.m. at St. Margaret Hospital in\n",
      "Dyer, Ind., a Lake County coroner’s office statement said.\n",
      "\n",
      "He was shot in the 1800 block of East 222nd Place in Sauk Village, but police\n",
      "and a representative at the coroner’s office could not say when the shooting\n",
      "happened.\n",
      "\n",
      "He died of a gunshot wound, and his death was ruled a homicide, the coroner’s\n",
      "office said.\n",
      "\n",
      "Montoya lived in the 1700 block of West 220th Place, about half a mile\n",
      "northeast of the shooting.\n",
      "\n",
      "Sauk Village police could not provide further details early Thursday.\n",
      "\n",
      "_(Source: Sun-Times Media Wire (C) Chicago Sun-Times 2015. All Rights\n",
      "Reserved. This material may not be published, broadcast, rewritten, or\n",
      "redistributed.)_\n",
      "\n",
      "![][1]\n",
      "\n",
      "   [1]: http://pixel.wp.com/b.gif?host=chicago.cbslocal.com&blog=15116062&post=6\n",
      "49158&subd=cbschicago&ref=&feed=1\n",
      "\n"
     ]
    }
   ],
   "source": [
    "print(article_text)"
   ]
  },
  {
   "cell_type": "code",
   "execution_count": null,
   "metadata": {},
   "outputs": [],
   "source": []
  }
 ],
 "metadata": {
  "kernelspec": {
   "display_name": "Python 3",
   "language": "python",
   "name": "python3"
  },
  "language_info": {
   "codemirror_mode": {
    "name": "ipython",
    "version": 3
   },
   "file_extension": ".py",
   "mimetype": "text/x-python",
   "name": "python",
   "nbconvert_exporter": "python",
   "pygments_lexer": "ipython3",
   "version": "3.6.1"
  }
 },
 "nbformat": 4,
 "nbformat_minor": 2
}
