{
 "cells": [
  {
   "cell_type": "code",
   "execution_count": 1,
   "metadata": {
    "collapsed": true
   },
   "outputs": [],
   "source": [
    "# Allows us to import packages that exist one level up in the file system\n",
    "# See https://stackoverflow.com/questions/34478398\n",
    "import os\n",
    "import sys\n",
    "module_path = os.path.abspath(os.path.join('..'))\n",
    "if module_path not in sys.path:\n",
    "    sys.path = [module_path] + sys.path"
   ]
  },
  {
   "cell_type": "code",
   "execution_count": 2,
   "metadata": {
    "collapsed": true
   },
   "outputs": [],
   "source": [
    "from tagnews.utils import load_data as ld\n",
    "import numpy as np\n",
    "import pandas as pd"
   ]
  },
  {
   "cell_type": "code",
   "execution_count": 3,
   "metadata": {},
   "outputs": [],
   "source": [
    "df = ld.load_data()\n",
    "have_locs = df[df.locations.apply(len) > 0]"
   ]
  },
  {
   "cell_type": "code",
   "execution_count": 4,
   "metadata": {},
   "outputs": [
    {
     "data": {
      "text/plain": [
       "[{'cleaned span': (60, 74),\n",
       "  'cleaned text': 'Southwest Side',\n",
       "  'end': 83,\n",
       "  'start': 69,\n",
       "  'text': 'Southwest Side'},\n",
       " {'cleaned span': (402, 433),\n",
       "  'cleaned text': '6600 block of South Springfield',\n",
       "  'end': 442,\n",
       "  'start': 411,\n",
       "  'text': '6600 block of South Springfield'},\n",
       " {'cleaned span': (466, 497),\n",
       "  'cleaned text': '6300 block of South Springfield',\n",
       "  'end': 506,\n",
       "  'start': 475,\n",
       "  'text': '6300 block of South Springfield'}]"
      ]
     },
     "execution_count": 4,
     "metadata": {},
     "output_type": "execute_result"
    }
   ],
   "source": [
    "set_of_locs = have_locs.locations.iloc[0]\n",
    "set_of_locs"
   ]
  },
  {
   "cell_type": "code",
   "execution_count": 7,
   "metadata": {},
   "outputs": [
    {
     "name": "stdout",
     "output_type": "stream",
     "text": [
      "[{'start': 69, 'end': 83, 'text': 'Southwest Side', 'cleaned text': 'Southwest Side', 'cleaned span': (60, 74), 'latitude': 41.80546409999999, 'longitude': -87.60876379999999}, {'start': 411, 'end': 442, 'text': '6600 block of South Springfield', 'cleaned text': '6600 block of South Springfield', 'cleaned span': (402, 433), 'latitude': 37.1418398, 'longitude': -93.2930935}, {'start': 475, 'end': 506, 'text': '6300 block of South Springfield', 'cleaned text': '6300 block of South Springfield', 'cleaned span': (466, 497), 'latitude': 37.1003181, 'longitude': -93.29429630000001}]\n"
     ]
    }
   ],
   "source": [
    "import re\n",
    "from geopy import geocoders\n",
    "key ='MY KEY'\n",
    "g = geocoders.GoogleV3(api_key = key)\n",
    "\n",
    "def clean(address):\n",
    "    address = str(address)\n",
    "    text = re.sub(r'(?:\\@|https?\\://)\\S+', \"\", address)\n",
    "    return text\n",
    "\n",
    "def get_lat_longs(set_of_locs):\n",
    "    for loc in set_of_locs:\n",
    "        address = clean(loc['cleaned text']) # + ', Chicago'\n",
    "        try: \n",
    "            location = g.geocode(address, timeout=10)\n",
    "            loc['latitude'], loc['longitude'] = location.latitude, location.longitude\n",
    "        except:\n",
    "            print(address)\n",
    "\n",
    "get_lat_longs(set_of_locs)\n",
    "print(set_of_locs)"
   ]
  },
  {
   "cell_type": "code",
   "execution_count": 8,
   "metadata": {},
   "outputs": [
    {
     "name": "stdout",
     "output_type": "stream",
     "text": [
      "South Side.\n",
      "Algonquin Tailwater\n",
      "West Kamerling Avenue in the North Austin neighborhood\n",
      "West Kamerling Avenue in the North Austin neighborhood\n",
      "eastbound Eisenhower Expressway at Ashland Avenue\n",
      "South and West Side neighborhoods of Austin and Englewood\n",
      "17th/Newberry in [#Pilsen]\n",
      "Dozens of girls\n",
      "• At 9:47 a.m., a 19-year-old man was shot in\n",
      "1300 block of North Mayfield\n",
      "\n"
     ]
    }
   ],
   "source": [
    "df['locations'] = df['locations'].apply(get_lat_longs)"
   ]
  },
  {
   "cell_type": "code",
   "execution_count": 9,
   "metadata": {},
   "outputs": [
    {
     "name": "stdout",
     "output_type": "stream",
     "text": [
      "41.9039676 -87.7733236\n"
     ]
    }
   ],
   "source": [
    "location = g.geocode('1300 block of North Mayfield', timeout=10)\n",
    "print(location.latitude, location.longitude)"
   ]
  },
  {
   "cell_type": "code",
   "execution_count": null,
   "metadata": {},
   "outputs": [],
   "source": []
  },
  {
   "cell_type": "code",
   "execution_count": null,
   "metadata": {
    "collapsed": true
   },
   "outputs": [],
   "source": []
  },
  {
   "cell_type": "code",
   "execution_count": null,
   "metadata": {
    "collapsed": true
   },
   "outputs": [],
   "source": []
  },
  {
   "cell_type": "code",
   "execution_count": null,
   "metadata": {
    "scrolled": false
   },
   "outputs": [],
   "source": []
  },
  {
   "cell_type": "code",
   "execution_count": null,
   "metadata": {
    "scrolled": false
   },
   "outputs": [],
   "source": []
  },
  {
   "cell_type": "code",
   "execution_count": null,
   "metadata": {},
   "outputs": [],
   "source": []
  },
  {
   "cell_type": "code",
   "execution_count": null,
   "metadata": {
    "collapsed": true,
    "scrolled": false
   },
   "outputs": [],
   "source": []
  },
  {
   "cell_type": "code",
   "execution_count": null,
   "metadata": {},
   "outputs": [],
   "source": []
  },
  {
   "cell_type": "code",
   "execution_count": null,
   "metadata": {
    "collapsed": true
   },
   "outputs": [],
   "source": []
  },
  {
   "cell_type": "code",
   "execution_count": null,
   "metadata": {
    "collapsed": true
   },
   "outputs": [],
   "source": []
  },
  {
   "cell_type": "code",
   "execution_count": null,
   "metadata": {},
   "outputs": [],
   "source": []
  },
  {
   "cell_type": "code",
   "execution_count": null,
   "metadata": {
    "collapsed": true
   },
   "outputs": [],
   "source": []
  },
  {
   "cell_type": "code",
   "execution_count": null,
   "metadata": {
    "collapsed": true
   },
   "outputs": [],
   "source": []
  }
 ],
 "metadata": {
  "anaconda-cloud": {},
  "kernelspec": {
   "display_name": "Python 3",
   "language": "python",
   "name": "python3"
  },
  "language_info": {
   "codemirror_mode": {
    "name": "ipython",
    "version": 3
   },
   "file_extension": ".py",
   "mimetype": "text/x-python",
   "name": "python",
   "nbconvert_exporter": "python",
   "pygments_lexer": "ipython3",
   "version": "3.6.1"
  }
 },
 "nbformat": 4,
 "nbformat_minor": 2
}
