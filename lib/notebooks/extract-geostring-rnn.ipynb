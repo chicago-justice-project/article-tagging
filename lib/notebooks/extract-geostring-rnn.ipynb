{
 "cells": [
  {
   "cell_type": "code",
   "execution_count": 1,
   "metadata": {
    "collapsed": false
   },
   "outputs": [
    {
     "name": "stdout",
     "output_type": "stream",
     "text": [
      "/home/kevin/Documents/github/article-tagging/lib\n"
     ]
    }
   ],
   "source": [
    "cd .."
   ]
  },
  {
   "cell_type": "code",
   "execution_count": 2,
   "metadata": {
    "collapsed": true
   },
   "outputs": [],
   "source": [
    "import tagnews\n",
    "import pandas as pd"
   ]
  },
  {
   "cell_type": "code",
   "execution_count": 3,
   "metadata": {
    "collapsed": true
   },
   "outputs": [],
   "source": [
    "# Download (and extract if needed) a saved glove data from\n",
    "# https://github.com/stanfordnlp/GloVe\n",
    "# and save it to tagnews/data/\n",
    "glove = tagnews.load_glove('tagnews/data/glove.6B.50d.txt')"
   ]
  },
  {
   "cell_type": "code",
   "execution_count": 4,
   "metadata": {
    "collapsed": false
   },
   "outputs": [
    {
     "name": "stderr",
     "output_type": "stream",
     "text": [
      "b'Skipping line 281837: expected 25 fields, saw 34\\n'\n",
      "/home/kevin/miniconda3/envs/cjp/lib/python3.6/site-packages/numpy/lib/arraysetops.py:463: FutureWarning: elementwise comparison failed; returning scalar instead, but in the future will perform elementwise comparison\n",
      "  mask |= (ar1 == a)\n"
     ]
    }
   ],
   "source": [
    "# Download (and extract if needed) the NER data from\n",
    "# https://www.kaggle.com/abhinavwalia95/entity-annotated-corpus/data\n",
    "# and save it to tagnews/data/\n",
    "ner = tagnews.load_ner_data('tagnews/data/')"
   ]
  },
  {
   "cell_type": "code",
   "execution_count": 5,
   "metadata": {
    "collapsed": true
   },
   "outputs": [],
   "source": [
    "ner = pd.concat([ner, pd.DataFrame(glove.loc[ner['word'].str.lower()].values)], axis='columns')"
   ]
  },
  {
   "cell_type": "code",
   "execution_count": 6,
   "metadata": {
    "collapsed": false
   },
   "outputs": [],
   "source": [
    "ner.fillna(value=0.0, inplace=True)"
   ]
  },
  {
   "cell_type": "code",
   "execution_count": null,
   "metadata": {
    "collapsed": true
   },
   "outputs": [],
   "source": []
  },
  {
   "cell_type": "code",
   "execution_count": 7,
   "metadata": {
    "collapsed": false
   },
   "outputs": [
    {
     "name": "stderr",
     "output_type": "stream",
     "text": [
      "Using TensorFlow backend.\n",
      "/home/kevin/miniconda3/envs/cjp/lib/python3.6/importlib/_bootstrap.py:205: RuntimeWarning: compiletime version 3.5 of module 'tensorflow.python.framework.fast_tensor_util' does not match runtime version 3.6\n",
      "  return f(*args, **kwds)\n"
     ]
    }
   ],
   "source": [
    "from keras.models import Sequential\n",
    "from keras.layers import LSTM, Dense, TimeDistributed, Flatten\n",
    "from keras.utils import to_categorical\n",
    "from keras_tqdm import TQDMNotebookCallback\n",
    "import numpy as np"
   ]
  },
  {
   "cell_type": "code",
   "execution_count": 8,
   "metadata": {
    "collapsed": true
   },
   "outputs": [],
   "source": [
    "data_dim = 50\n",
    "timesteps = 25 # only during training, testing can take arbitrary length.\n",
    "num_classes = 2"
   ]
  },
  {
   "cell_type": "code",
   "execution_count": 9,
   "metadata": {
    "collapsed": true
   },
   "outputs": [],
   "source": [
    "train_val_split = int(19 * ner.shape[0] / 20.)"
   ]
  },
  {
   "cell_type": "code",
   "execution_count": 10,
   "metadata": {
    "collapsed": false
   },
   "outputs": [],
   "source": [
    "ner_train_idxs = range(0, train_val_split - timesteps, timesteps)\n",
    "x_train = np.array([ner.iloc[i:i+timesteps, 3:].values\n",
    "                    for i in ner_train_idxs])\n",
    "y_train = np.array([to_categorical(ner.iloc[i:i+timesteps, 2].values, 2)\n",
    "                    for i in ner_train_idxs])"
   ]
  },
  {
   "cell_type": "code",
   "execution_count": 11,
   "metadata": {
    "collapsed": false
   },
   "outputs": [],
   "source": [
    "ner_val_idxs = range(train_val_split, ner.shape[0] - timesteps, timesteps)\n",
    "x_val = np.array([ner.iloc[i:i+timesteps, 3:].values\n",
    "                  for i in ner_val_idxs])\n",
    "y_val = np.array([to_categorical(ner.iloc[i:i+timesteps, 2].values, 2)\n",
    "                  for i in ner_val_idxs])"
   ]
  },
  {
   "cell_type": "code",
   "execution_count": 12,
   "metadata": {
    "collapsed": false
   },
   "outputs": [
    {
     "name": "stdout",
     "output_type": "stream",
     "text": [
      "____________________________________________________________________________________________________\n",
      "Layer (type)                                 Output Shape                            Param #        \n",
      "====================================================================================================\n",
      "lstm_1 (LSTM)                                (None, None, 32)                        10624          \n",
      "____________________________________________________________________________________________________\n",
      "lstm_2 (LSTM)                                (None, None, 8)                         1312           \n",
      "____________________________________________________________________________________________________\n",
      "time_distributed_1 (TimeDistributed)         (None, None, 2)                         18             \n",
      "====================================================================================================\n",
      "Total params: 11,954\n",
      "Trainable params: 11,954\n",
      "Non-trainable params: 0\n",
      "____________________________________________________________________________________________________\n",
      "None\n"
     ]
    }
   ],
   "source": [
    "model = Sequential()\n",
    "model.add(LSTM(32, return_sequences=True, input_shape=(None, data_dim)))\n",
    "model.add(LSTM(8, return_sequences=True))\n",
    "model.add(TimeDistributed(Dense(2, activation='softmax')))\n",
    "model.compile(loss='categorical_crossentropy',\n",
    "              optimizer='adam',\n",
    "              metrics=['categorical_accuracy'])\n",
    "print(model.summary(100))"
   ]
  },
  {
   "cell_type": "code",
   "execution_count": 13,
   "metadata": {
    "collapsed": false
   },
   "outputs": [
    {
     "name": "stdout",
     "output_type": "stream",
     "text": [
      "\n"
     ]
    },
    {
     "data": {
      "text/plain": [
       "<keras.callbacks.History at 0x7fb087d109e8>"
      ]
     },
     "execution_count": 13,
     "metadata": {},
     "output_type": "execute_result"
    }
   ],
   "source": [
    "model.fit(x_train, y_train,\n",
    "          epochs=3,\n",
    "          validation_data=(x_val, y_val),\n",
    "          verbose=0,\n",
    "          callbacks=[TQDMNotebookCallback(leave_inner=True)])"
   ]
  },
  {
   "cell_type": "code",
   "execution_count": 14,
   "metadata": {
    "collapsed": false,
    "scrolled": false
   },
   "outputs": [],
   "source": [
    "# # Alternative approach, uses generator to save on memory, but is about 35x slower.\n",
    "\n",
    "# def train_data_gen(batch_size):\n",
    "#     while True:\n",
    "#         idxs = np.random.randint(train_val_split-timesteps, size=batch_size)\n",
    "#         x_train = np.array([ner.iloc[i:i+timesteps, 3:].values for i in idxs])\n",
    "#         y_train = np.array([to_categorical(ner.iloc[i:i+timesteps, 2].values, 2) for i in idxs])\n",
    "#         yield (x_train, y_train)\n",
    "\n",
    "# batch_size = 64\n",
    "# model.fit_generator(train_data_gen(batch_size=batch_size),\n",
    "#                     steps_per_epoch=int(train_val_split / batch_size),\n",
    "#                     epochs=15,\n",
    "#                     max_queue_size=50,\n",
    "#                     validation_data=(x_val, y_val),\n",
    "#                     verbose=0,\n",
    "#                     callbacks=[TQDMNotebookCallback(leave_inner=True)])"
   ]
  },
  {
   "cell_type": "code",
   "execution_count": 15,
   "metadata": {
    "collapsed": false,
    "scrolled": false
   },
   "outputs": [
    {
     "data": {
      "text/html": [
       "<div>\n",
       "<style>\n",
       "    .dataframe thead tr:only-child th {\n",
       "        text-align: right;\n",
       "    }\n",
       "\n",
       "    .dataframe thead th {\n",
       "        text-align: left;\n",
       "    }\n",
       "\n",
       "    .dataframe tbody tr th {\n",
       "        vertical-align: top;\n",
       "    }\n",
       "</style>\n",
       "<table border=\"1\" class=\"dataframe\">\n",
       "  <thead>\n",
       "    <tr style=\"text-align: right;\">\n",
       "      <th></th>\n",
       "      <th>word</th>\n",
       "      <th>all_tags</th>\n",
       "      <th>tag</th>\n",
       "      <th>prob_geloc</th>\n",
       "    </tr>\n",
       "  </thead>\n",
       "  <tbody>\n",
       "    <tr>\n",
       "      <th>0</th>\n",
       "      <td>said</td>\n",
       "      <td>O</td>\n",
       "      <td>False</td>\n",
       "      <td>0.000540</td>\n",
       "    </tr>\n",
       "    <tr>\n",
       "      <th>1</th>\n",
       "      <td>it</td>\n",
       "      <td>O</td>\n",
       "      <td>False</td>\n",
       "      <td>0.000040</td>\n",
       "    </tr>\n",
       "    <tr>\n",
       "      <th>2</th>\n",
       "      <td>will</td>\n",
       "      <td>O</td>\n",
       "      <td>False</td>\n",
       "      <td>0.000110</td>\n",
       "    </tr>\n",
       "    <tr>\n",
       "      <th>3</th>\n",
       "      <td>go</td>\n",
       "      <td>O</td>\n",
       "      <td>False</td>\n",
       "      <td>0.000054</td>\n",
       "    </tr>\n",
       "    <tr>\n",
       "      <th>4</th>\n",
       "      <td>ahead</td>\n",
       "      <td>O</td>\n",
       "      <td>False</td>\n",
       "      <td>0.000454</td>\n",
       "    </tr>\n",
       "    <tr>\n",
       "      <th>5</th>\n",
       "      <td>with</td>\n",
       "      <td>O</td>\n",
       "      <td>False</td>\n",
       "      <td>0.000035</td>\n",
       "    </tr>\n",
       "    <tr>\n",
       "      <th>6</th>\n",
       "      <td>a</td>\n",
       "      <td>O</td>\n",
       "      <td>False</td>\n",
       "      <td>0.000020</td>\n",
       "    </tr>\n",
       "    <tr>\n",
       "      <th>7</th>\n",
       "      <td>reconciliation</td>\n",
       "      <td>O</td>\n",
       "      <td>False</td>\n",
       "      <td>0.001117</td>\n",
       "    </tr>\n",
       "    <tr>\n",
       "      <th>8</th>\n",
       "      <td>conference</td>\n",
       "      <td>O</td>\n",
       "      <td>False</td>\n",
       "      <td>0.000635</td>\n",
       "    </tr>\n",
       "    <tr>\n",
       "      <th>9</th>\n",
       "      <td>to</td>\n",
       "      <td>O</td>\n",
       "      <td>False</td>\n",
       "      <td>0.000030</td>\n",
       "    </tr>\n",
       "    <tr>\n",
       "      <th>10</th>\n",
       "      <td>which</td>\n",
       "      <td>O</td>\n",
       "      <td>False</td>\n",
       "      <td>0.000212</td>\n",
       "    </tr>\n",
       "    <tr>\n",
       "      <th>11</th>\n",
       "      <td>more</td>\n",
       "      <td>O</td>\n",
       "      <td>False</td>\n",
       "      <td>0.000018</td>\n",
       "    </tr>\n",
       "    <tr>\n",
       "      <th>12</th>\n",
       "      <td>than</td>\n",
       "      <td>O</td>\n",
       "      <td>False</td>\n",
       "      <td>0.000018</td>\n",
       "    </tr>\n",
       "    <tr>\n",
       "      <th>13</th>\n",
       "      <td>1,300</td>\n",
       "      <td>O</td>\n",
       "      <td>False</td>\n",
       "      <td>0.000103</td>\n",
       "    </tr>\n",
       "    <tr>\n",
       "      <th>14</th>\n",
       "      <td>Somali</td>\n",
       "      <td>B-gpe</td>\n",
       "      <td>False</td>\n",
       "      <td>0.001135</td>\n",
       "    </tr>\n",
       "    <tr>\n",
       "      <th>15</th>\n",
       "      <td>elders</td>\n",
       "      <td>O</td>\n",
       "      <td>False</td>\n",
       "      <td>0.000532</td>\n",
       "    </tr>\n",
       "    <tr>\n",
       "      <th>16</th>\n",
       "      <td>,</td>\n",
       "      <td>O</td>\n",
       "      <td>False</td>\n",
       "      <td>0.000066</td>\n",
       "    </tr>\n",
       "    <tr>\n",
       "      <th>17</th>\n",
       "      <td>warlords</td>\n",
       "      <td>O</td>\n",
       "      <td>False</td>\n",
       "      <td>0.000418</td>\n",
       "    </tr>\n",
       "    <tr>\n",
       "      <th>18</th>\n",
       "      <td>and</td>\n",
       "      <td>O</td>\n",
       "      <td>False</td>\n",
       "      <td>0.000025</td>\n",
       "    </tr>\n",
       "    <tr>\n",
       "      <th>19</th>\n",
       "      <td>politicians</td>\n",
       "      <td>O</td>\n",
       "      <td>False</td>\n",
       "      <td>0.000089</td>\n",
       "    </tr>\n",
       "    <tr>\n",
       "      <th>20</th>\n",
       "      <td>are</td>\n",
       "      <td>O</td>\n",
       "      <td>False</td>\n",
       "      <td>0.000015</td>\n",
       "    </tr>\n",
       "    <tr>\n",
       "      <th>21</th>\n",
       "      <td>invited</td>\n",
       "      <td>O</td>\n",
       "      <td>False</td>\n",
       "      <td>0.000250</td>\n",
       "    </tr>\n",
       "    <tr>\n",
       "      <th>22</th>\n",
       "      <td>.</td>\n",
       "      <td>O</td>\n",
       "      <td>False</td>\n",
       "      <td>0.000044</td>\n",
       "    </tr>\n",
       "    <tr>\n",
       "      <th>23</th>\n",
       "      <td>Iraqi</td>\n",
       "      <td>B-gpe</td>\n",
       "      <td>False</td>\n",
       "      <td>0.000417</td>\n",
       "    </tr>\n",
       "    <tr>\n",
       "      <th>24</th>\n",
       "      <td>military</td>\n",
       "      <td>O</td>\n",
       "      <td>False</td>\n",
       "      <td>0.000146</td>\n",
       "    </tr>\n",
       "    <tr>\n",
       "      <th>25</th>\n",
       "      <td>officials</td>\n",
       "      <td>O</td>\n",
       "      <td>False</td>\n",
       "      <td>0.000039</td>\n",
       "    </tr>\n",
       "    <tr>\n",
       "      <th>26</th>\n",
       "      <td>say</td>\n",
       "      <td>O</td>\n",
       "      <td>False</td>\n",
       "      <td>0.000025</td>\n",
       "    </tr>\n",
       "    <tr>\n",
       "      <th>27</th>\n",
       "      <td>tanks</td>\n",
       "      <td>O</td>\n",
       "      <td>False</td>\n",
       "      <td>0.000082</td>\n",
       "    </tr>\n",
       "    <tr>\n",
       "      <th>28</th>\n",
       "      <td>and</td>\n",
       "      <td>O</td>\n",
       "      <td>False</td>\n",
       "      <td>0.000023</td>\n",
       "    </tr>\n",
       "    <tr>\n",
       "      <th>29</th>\n",
       "      <td>troops</td>\n",
       "      <td>O</td>\n",
       "      <td>False</td>\n",
       "      <td>0.000194</td>\n",
       "    </tr>\n",
       "    <tr>\n",
       "      <th>30</th>\n",
       "      <td>have</td>\n",
       "      <td>O</td>\n",
       "      <td>False</td>\n",
       "      <td>0.000017</td>\n",
       "    </tr>\n",
       "    <tr>\n",
       "      <th>31</th>\n",
       "      <td>arrived</td>\n",
       "      <td>O</td>\n",
       "      <td>False</td>\n",
       "      <td>0.000147</td>\n",
       "    </tr>\n",
       "    <tr>\n",
       "      <th>32</th>\n",
       "      <td>in</td>\n",
       "      <td>O</td>\n",
       "      <td>False</td>\n",
       "      <td>0.001023</td>\n",
       "    </tr>\n",
       "    <tr>\n",
       "      <th>33</th>\n",
       "      <td>the</td>\n",
       "      <td>O</td>\n",
       "      <td>False</td>\n",
       "      <td>0.018884</td>\n",
       "    </tr>\n",
       "    <tr>\n",
       "      <th>34</th>\n",
       "      <td>northern</td>\n",
       "      <td>O</td>\n",
       "      <td>False</td>\n",
       "      <td>0.020283</td>\n",
       "    </tr>\n",
       "    <tr>\n",
       "      <th>35</th>\n",
       "      <td>city</td>\n",
       "      <td>O</td>\n",
       "      <td>False</td>\n",
       "      <td>0.022218</td>\n",
       "    </tr>\n",
       "    <tr>\n",
       "      <th>36</th>\n",
       "      <td>Mosul</td>\n",
       "      <td>B-geo</td>\n",
       "      <td>True</td>\n",
       "      <td>0.909395</td>\n",
       "    </tr>\n",
       "    <tr>\n",
       "      <th>37</th>\n",
       "      <td>for</td>\n",
       "      <td>O</td>\n",
       "      <td>False</td>\n",
       "      <td>0.000876</td>\n",
       "    </tr>\n",
       "    <tr>\n",
       "      <th>38</th>\n",
       "      <td>a</td>\n",
       "      <td>O</td>\n",
       "      <td>False</td>\n",
       "      <td>0.000040</td>\n",
       "    </tr>\n",
       "    <tr>\n",
       "      <th>39</th>\n",
       "      <td>new</td>\n",
       "      <td>O</td>\n",
       "      <td>False</td>\n",
       "      <td>0.017345</td>\n",
       "    </tr>\n",
       "    <tr>\n",
       "      <th>40</th>\n",
       "      <td>offensive</td>\n",
       "      <td>O</td>\n",
       "      <td>False</td>\n",
       "      <td>0.002109</td>\n",
       "    </tr>\n",
       "    <tr>\n",
       "      <th>41</th>\n",
       "      <td>against</td>\n",
       "      <td>O</td>\n",
       "      <td>False</td>\n",
       "      <td>0.000370</td>\n",
       "    </tr>\n",
       "    <tr>\n",
       "      <th>42</th>\n",
       "      <td>al</td>\n",
       "      <td>B-org</td>\n",
       "      <td>False</td>\n",
       "      <td>0.008285</td>\n",
       "    </tr>\n",
       "    <tr>\n",
       "      <th>43</th>\n",
       "      <td>Qaida</td>\n",
       "      <td>I-org</td>\n",
       "      <td>False</td>\n",
       "      <td>0.001504</td>\n",
       "    </tr>\n",
       "    <tr>\n",
       "      <th>44</th>\n",
       "      <td>in</td>\n",
       "      <td>I-org</td>\n",
       "      <td>False</td>\n",
       "      <td>0.000323</td>\n",
       "    </tr>\n",
       "    <tr>\n",
       "      <th>45</th>\n",
       "      <td>Iraq</td>\n",
       "      <td>I-org</td>\n",
       "      <td>False</td>\n",
       "      <td>0.918623</td>\n",
       "    </tr>\n",
       "    <tr>\n",
       "      <th>46</th>\n",
       "      <td>fighters</td>\n",
       "      <td>O</td>\n",
       "      <td>False</td>\n",
       "      <td>0.001885</td>\n",
       "    </tr>\n",
       "    <tr>\n",
       "      <th>47</th>\n",
       "      <td>.</td>\n",
       "      <td>O</td>\n",
       "      <td>False</td>\n",
       "      <td>0.000032</td>\n",
       "    </tr>\n",
       "    <tr>\n",
       "      <th>48</th>\n",
       "      <td>Officials</td>\n",
       "      <td>O</td>\n",
       "      <td>False</td>\n",
       "      <td>0.000051</td>\n",
       "    </tr>\n",
       "  </tbody>\n",
       "</table>\n",
       "</div>"
      ],
      "text/plain": [
       "              word all_tags    tag  prob_geloc\n",
       "0             said        O  False    0.000540\n",
       "1               it        O  False    0.000040\n",
       "2             will        O  False    0.000110\n",
       "3               go        O  False    0.000054\n",
       "4            ahead        O  False    0.000454\n",
       "5             with        O  False    0.000035\n",
       "6                a        O  False    0.000020\n",
       "7   reconciliation        O  False    0.001117\n",
       "8       conference        O  False    0.000635\n",
       "9               to        O  False    0.000030\n",
       "10           which        O  False    0.000212\n",
       "11            more        O  False    0.000018\n",
       "12            than        O  False    0.000018\n",
       "13           1,300        O  False    0.000103\n",
       "14          Somali    B-gpe  False    0.001135\n",
       "15          elders        O  False    0.000532\n",
       "16               ,        O  False    0.000066\n",
       "17        warlords        O  False    0.000418\n",
       "18             and        O  False    0.000025\n",
       "19     politicians        O  False    0.000089\n",
       "20             are        O  False    0.000015\n",
       "21         invited        O  False    0.000250\n",
       "22               .        O  False    0.000044\n",
       "23           Iraqi    B-gpe  False    0.000417\n",
       "24        military        O  False    0.000146\n",
       "25       officials        O  False    0.000039\n",
       "26             say        O  False    0.000025\n",
       "27           tanks        O  False    0.000082\n",
       "28             and        O  False    0.000023\n",
       "29          troops        O  False    0.000194\n",
       "30            have        O  False    0.000017\n",
       "31         arrived        O  False    0.000147\n",
       "32              in        O  False    0.001023\n",
       "33             the        O  False    0.018884\n",
       "34        northern        O  False    0.020283\n",
       "35            city        O  False    0.022218\n",
       "36           Mosul    B-geo   True    0.909395\n",
       "37             for        O  False    0.000876\n",
       "38               a        O  False    0.000040\n",
       "39             new        O  False    0.017345\n",
       "40       offensive        O  False    0.002109\n",
       "41         against        O  False    0.000370\n",
       "42              al    B-org  False    0.008285\n",
       "43           Qaida    I-org  False    0.001504\n",
       "44              in    I-org  False    0.000323\n",
       "45            Iraq    I-org  False    0.918623\n",
       "46        fighters        O  False    0.001885\n",
       "47               .        O  False    0.000032\n",
       "48       Officials        O  False    0.000051"
      ]
     },
     "execution_count": 15,
     "metadata": {},
     "output_type": "execute_result"
    }
   ],
   "source": [
    "idx = slice(501, 550)\n",
    "pd.concat([ner.iloc[idx, :3].reset_index(drop=True),\n",
    "           pd.DataFrame(model.predict(np.expand_dims(ner.iloc[idx, 3:].values, 0))[0][:, 1:],\n",
    "                        columns=['prob_geloc'])],\n",
    "          axis='columns')"
   ]
  },
  {
   "cell_type": "code",
   "execution_count": null,
   "metadata": {
    "collapsed": true
   },
   "outputs": [],
   "source": []
  },
  {
   "cell_type": "code",
   "execution_count": 16,
   "metadata": {
    "collapsed": false
   },
   "outputs": [],
   "source": [
    "# Go to https://geo-extract-tester.herokuapp.com/ and download\n",
    "# the validation data (validation.txt).\n",
    "with open('validation.txt', encoding='utf-8') as f:\n",
    "    s = f.read()"
   ]
  },
  {
   "cell_type": "code",
   "execution_count": 17,
   "metadata": {
    "collapsed": true
   },
   "outputs": [],
   "source": [
    "gloved_data = glove.loc[[w for w in s.split('\\n') if w]].fillna(0)\n",
    "glove_time_size=100\n",
    "preds_batched = []\n",
    "i = 0\n",
    "while gloved_data[i:i+glove_time_size].size:\n",
    "    preds_batched.append(model.predict(np.expand_dims(gloved_data[i:i+glove_time_size], axis=0))[0][:,1])\n",
    "    i += glove_time_size"
   ]
  },
  {
   "cell_type": "code",
   "execution_count": 18,
   "metadata": {
    "collapsed": false
   },
   "outputs": [],
   "source": [
    "with open('guesses.txt', 'w') as f:\n",
    "    for prob in [p for pred in preds_batched for p in pred]:\n",
    "        f.write(str(prob) + '\\n')"
   ]
  },
  {
   "cell_type": "markdown",
   "metadata": {
    "collapsed": true
   },
   "source": [
    "Now go to https://geo-extract-tester.herokuapp.com/ and upload `guesses.txt` to see how you did!\n",
    "\n",
    "This model should achieve an AUC of about 80-85%."
   ]
  },
  {
   "cell_type": "code",
   "execution_count": null,
   "metadata": {
    "collapsed": true
   },
   "outputs": [],
   "source": []
  }
 ],
 "metadata": {
  "kernelspec": {
   "display_name": "Python 3",
   "language": "python",
   "name": "python3"
  },
  "language_info": {
   "codemirror_mode": {
    "name": "ipython",
    "version": 3
   },
   "file_extension": ".py",
   "mimetype": "text/x-python",
   "name": "python",
   "nbconvert_exporter": "python",
   "pygments_lexer": "ipython3",
   "version": "3.6.0"
  },
  "widgets": {
   "state": {
    "00c70c3484a54ce58e24b683f8f91ad8": {
     "views": [
      {
       "cell_index": 13
      }
     ]
    },
    "032017ab949d45b89578466326401813": {
     "views": [
      {
       "cell_index": 12
      }
     ]
    },
    "050ddd647b39421d9738a5a18e93fb43": {
     "views": [
      {
       "cell_index": 13
      }
     ]
    },
    "0840f7cbb355415cbcb50c147b4f4f5b": {
     "views": [
      {
       "cell_index": 13
      }
     ]
    },
    "0b4a441a4a0b4d4788e60e81960e9b9c": {
     "views": [
      {
       "cell_index": 13
      }
     ]
    },
    "12a40dac8ce54f39b6cc6ae045c4740b": {
     "views": [
      {
       "cell_index": 13
      }
     ]
    },
    "14a4d7359f664a63a9e235c5b669ebfe": {
     "views": [
      {
       "cell_index": 12
      }
     ]
    },
    "151b4ebd25e04f888c8b36defaf6c04b": {
     "views": [
      {
       "cell_index": 13
      }
     ]
    },
    "1695124db550421cad88da98bba2086d": {
     "views": [
      {
       "cell_index": 13
      }
     ]
    },
    "286c8ab4ebce45bbb7488258241e3c4a": {
     "views": [
      {
       "cell_index": 13
      }
     ]
    },
    "2cf0f8de35c64ee5b17898d439a4e814": {
     "views": [
      {
       "cell_index": 13
      }
     ]
    },
    "2e1c885de7174b128b8ad07f667d0216": {
     "views": [
      {
       "cell_index": 13
      }
     ]
    },
    "2ec721463ca941859156a29928a76a49": {
     "views": [
      {
       "cell_index": 13
      }
     ]
    },
    "2fcc1c6f8f584b4fab4611f2abbd2dce": {
     "views": [
      {
       "cell_index": 13
      }
     ]
    },
    "335b9a19b44e4849bf7cc0e0291d1ac8": {
     "views": [
      {
       "cell_index": 13
      }
     ]
    },
    "34fac8a0db5d491ab3025ea77127b831": {
     "views": [
      {
       "cell_index": 13
      }
     ]
    },
    "40acfb0d9a064515b7c9b89ed75f56d8": {
     "views": [
      {
       "cell_index": 13
      }
     ]
    },
    "4126ea58969245dfb13116d872fa8057": {
     "views": [
      {
       "cell_index": 14
      }
     ]
    },
    "4538df188ae9447a987cecaa99604ca5": {
     "views": [
      {
       "cell_index": 13
      }
     ]
    },
    "478759a26ccf4cb2ad17439303cf6fbc": {
     "views": [
      {
       "cell_index": 13
      }
     ]
    },
    "50f212b7fd434701a678f14dc7da37a7": {
     "views": [
      {
       "cell_index": 14
      }
     ]
    },
    "54e89e5a76b44b3c8fee0d246aba7fb2": {
     "views": [
      {
       "cell_index": 13
      }
     ]
    },
    "59c2e62c80e8405fab3c8324d7a6ca3b": {
     "views": [
      {
       "cell_index": 13
      }
     ]
    },
    "5f704922648548518ba65fbc4158267c": {
     "views": [
      {
       "cell_index": 13
      }
     ]
    },
    "6846de6faf79419496e7ac23baab7418": {
     "views": [
      {
       "cell_index": 13
      }
     ]
    },
    "68a506dc93174022b3e9c3f0d65eb548": {
     "views": [
      {
       "cell_index": 13
      }
     ]
    },
    "6b93cc5b0ec1439aa3dcbe7a8cd6c61c": {
     "views": [
      {
       "cell_index": 13
      }
     ]
    },
    "6c7912130b1a40c0a00c384dc812d97d": {
     "views": [
      {
       "cell_index": 13
      }
     ]
    },
    "6cab8f95c1aa49ab8cd11a238f72a100": {
     "views": [
      {
       "cell_index": 12
      }
     ]
    },
    "6d287de2807b4d049880e53337a40085": {
     "views": [
      {
       "cell_index": 13
      }
     ]
    },
    "6daa513e2b174b0d9567296d93b4c4d3": {
     "views": [
      {
       "cell_index": 13
      }
     ]
    },
    "6db6591a99ec4a1eacfb5d1cb20af1c9": {
     "views": [
      {
       "cell_index": 13
      }
     ]
    },
    "779d9e31ee434899b6fa963fe2c7b537": {
     "views": [
      {
       "cell_index": 13
      }
     ]
    },
    "7a6d47512f054ee8b71e10eb4e81fab7": {
     "views": [
      {
       "cell_index": 13
      }
     ]
    },
    "7a8f61a38bfd4f309103efd7d7aa8173": {
     "views": [
      {
       "cell_index": 13
      }
     ]
    },
    "8319dccee1c4412cad295869eee47f20": {
     "views": [
      {
       "cell_index": 13
      }
     ]
    },
    "8685611c14d04c0e9ff4c555c447091d": {
     "views": [
      {
       "cell_index": 13
      }
     ]
    },
    "86bdf331c1254bbc8b3553a09fba3c69": {
     "views": [
      {
       "cell_index": 13
      }
     ]
    },
    "874f54dbef994f01affeefd4be1ad691": {
     "views": [
      {
       "cell_index": 13
      }
     ]
    },
    "8b4b9bd554394f90a0ca20b53f675942": {
     "views": [
      {
       "cell_index": 13
      }
     ]
    },
    "8c08ad99e40240a99b8c607ed509cc1e": {
     "views": [
      {
       "cell_index": 12
      }
     ]
    },
    "8cb8b98ad59c44b1b3ed1a25aabf8fa4": {
     "views": [
      {
       "cell_index": 13
      }
     ]
    },
    "8ce4ae27cbd84916afac597083b8e751": {
     "views": [
      {
       "cell_index": 13
      }
     ]
    },
    "91c1f636a5c64d22afc214e06ed13003": {
     "views": [
      {
       "cell_index": 13
      }
     ]
    },
    "954069250c9040549922b0b0706911a7": {
     "views": [
      {
       "cell_index": 13
      }
     ]
    },
    "9e5faae26714400a8d0e48204e50c446": {
     "views": [
      {
       "cell_index": 13
      }
     ]
    },
    "a09f73e56cbd4e4f8def2b0cf194b2d1": {
     "views": [
      {
       "cell_index": 13
      }
     ]
    },
    "a33c5db079dd4240a45cd027b6dc28bd": {
     "views": [
      {
       "cell_index": 13
      }
     ]
    },
    "a486047c887740fba432c69e5ef238d0": {
     "views": [
      {
       "cell_index": 13
      }
     ]
    },
    "a4aded1d929d4c79a4051024713b6a30": {
     "views": [
      {
       "cell_index": 13
      }
     ]
    },
    "aa192967fe7c4548a86f03ecc3c673f2": {
     "views": [
      {
       "cell_index": 13
      }
     ]
    },
    "afb3a294470341ae848198afae236331": {
     "views": [
      {
       "cell_index": 13
      }
     ]
    },
    "b1500deda8054416b6462c1a78f70aa4": {
     "views": [
      {
       "cell_index": 13
      }
     ]
    },
    "b2947a2aaf8f4639aaf74bf853496a2c": {
     "views": [
      {
       "cell_index": 13
      }
     ]
    },
    "b38ce110c641470a96e9f59cd4213fe1": {
     "views": [
      {
       "cell_index": 12
      }
     ]
    },
    "b46763ae8cd14455935643ab16d18c2e": {
     "views": [
      {
       "cell_index": 13
      }
     ]
    },
    "c3c66476e59c43a285952806b88c61f9": {
     "views": [
      {
       "cell_index": 13
      }
     ]
    },
    "c465890f60e64c96b6cb60082cbd308e": {
     "views": [
      {
       "cell_index": 13
      }
     ]
    },
    "c572dcf41cee43d2a07996d2db4f500c": {
     "views": [
      {
       "cell_index": 13
      }
     ]
    },
    "ca63050a108c4ee1804e7e2a43424064": {
     "views": [
      {
       "cell_index": 13
      }
     ]
    },
    "cb028b3c830c4fea8ba3f580f0029462": {
     "views": [
      {
       "cell_index": 13
      }
     ]
    },
    "d05ccf4f91f04e24a77d5c4d67765297": {
     "views": [
      {
       "cell_index": 13
      }
     ]
    },
    "d0cc1c1a8cba4e7cab7051555a633f6e": {
     "views": [
      {
       "cell_index": 13
      }
     ]
    },
    "d169810ea5194977a1dbcd33ce794bff": {
     "views": [
      {
       "cell_index": 13
      }
     ]
    },
    "d2a0d3f8de0342348afaec0178209e46": {
     "views": [
      {
       "cell_index": 13
      }
     ]
    },
    "d30f26bc98924456b20f0e237db22bc5": {
     "views": [
      {
       "cell_index": 13
      }
     ]
    },
    "d558e73495f34e1a923ef5cdb8530feb": {
     "views": [
      {
       "cell_index": 13
      }
     ]
    },
    "d57b8dacab1447018e31e6fc6174a148": {
     "views": [
      {
       "cell_index": 13
      }
     ]
    },
    "d5f67ab98c734b4983a6790e66ac0a68": {
     "views": [
      {
       "cell_index": 13
      }
     ]
    },
    "d6e19525dfbb4b589847a529533d7081": {
     "views": [
      {
       "cell_index": 13
      }
     ]
    },
    "d73dbfdf3b38422797e707a62a0bca65": {
     "views": [
      {
       "cell_index": 13
      }
     ]
    },
    "da905ad85dfd41d8a10765aa11f1c656": {
     "views": [
      {
       "cell_index": 13
      }
     ]
    },
    "dc8b1029110a455dac95672e89259dfd": {
     "views": [
      {
       "cell_index": 13
      }
     ]
    },
    "ddf54117e9cf40f19699cc9ca7e5fd59": {
     "views": [
      {
       "cell_index": 13
      }
     ]
    },
    "e299ccf14a614952b05074225a0148d4": {
     "views": [
      {
       "cell_index": 13
      }
     ]
    },
    "e4dfd579ac3b457db116b93aae696e7b": {
     "views": [
      {
       "cell_index": 13
      }
     ]
    },
    "e99976c4e03a416ba818c5c62fc81f4f": {
     "views": [
      {
       "cell_index": 13
      }
     ]
    },
    "ece646e5f8504767bf54fcd86c114558": {
     "views": [
      {
       "cell_index": 13
      }
     ]
    },
    "edca07ec67594be28b3240456138a46b": {
     "views": [
      {
       "cell_index": 13
      }
     ]
    },
    "f2c14773fe2d4cc2a5a6410f7dfc19cc": {
     "views": [
      {
       "cell_index": 13
      }
     ]
    },
    "f3332a8f18754c45adff58b51bfac291": {
     "views": [
      {
       "cell_index": 12
      }
     ]
    },
    "fa8fdb4afa604de4bee54f32be8300a9": {
     "views": [
      {
       "cell_index": 13
      }
     ]
    },
    "faf9ac4822384f008477bc6c9ed16b68": {
     "views": [
      {
       "cell_index": 13
      }
     ]
    }
   },
   "version": "1.2.0"
  }
 },
 "nbformat": 4,
 "nbformat_minor": 2
}
