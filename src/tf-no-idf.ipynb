{
 "cells": [
  {
   "cell_type": "code",
   "execution_count": 1,
   "metadata": {
    "collapsed": false
   },
   "outputs": [],
   "source": [
    "import load_data as ld\n",
    "import matplotlib\n",
    "import matplotlib.pyplot as plt\n",
    "import numpy as np\n",
    "import pandas as pd\n",
    "import sklearn.feature_extraction.text\n",
    "import sklearn.multiclass\n",
    "import sklearn.linear_model\n",
    "% matplotlib inline\n",
    "plt.rcParams['figure.figsize'] = 12, 8"
   ]
  },
  {
   "cell_type": "code",
   "execution_count": 2,
   "metadata": {
    "collapsed": false
   },
   "outputs": [
    {
     "name": "stderr",
     "output_type": "stream",
     "text": [
      "C:\\Users\\kevin.rose\\AppData\\Local\\Continuum\\Anaconda2\\envs\\py35\\lib\\site-packages\\IPython\\core\\interactiveshell.py:2881: DtypeWarning: Columns (3) have mixed types. Specify dtype option on import or set low_memory=False.\n",
      "  exec(code_obj, self.user_global_ns, self.user_ns)\n"
     ]
    }
   ],
   "source": [
    "df = ld.load_data()"
   ]
  },
  {
   "cell_type": "code",
   "execution_count": 3,
   "metadata": {
    "collapsed": false
   },
   "outputs": [
    {
     "name": "stdout",
     "output_type": "stream",
     "text": [
      "(112091, 45)\n",
      "(34253, 45)\n",
      "(23977, 45)\n",
      "(10276, 45)\n"
     ]
    }
   ],
   "source": [
    "crime_df = df.ix[df['relevant'], :]\n",
    "print(crime_df.shape)\n",
    "crime_df = crime_df.ix[crime_df.loc[:, 'OEMC':'TASR'].any(1), :]\n",
    "print(crime_df.shape)\n",
    "\n",
    "idx = np.random.permutation(crime_df.shape[0])\n",
    "trn = crime_df.iloc[idx[:int(crime_df.shape[0] * 0.7)], :]\n",
    "tst = crime_df.iloc[idx[int(crime_df.shape[0] * 0.7):], :]\n",
    "print(trn.shape)\n",
    "print(tst.shape)"
   ]
  },
  {
   "cell_type": "code",
   "execution_count": 4,
   "metadata": {
    "collapsed": false
   },
   "outputs": [],
   "source": [
    "# vectorize data\n",
    "vectorizer = sklearn.feature_extraction.text.CountVectorizer(min_df=1)\n",
    "X = vectorizer.fit_transform(trn['bodytext'].values)\n",
    "\n",
    "tfidf_transformer = sklearn.feature_extraction.text.TfidfTransformer(use_idf=False)\n",
    "X = tfidf_transformer.fit_transform(X)\n",
    "\n",
    "Y = trn.loc[:, 'OEMC':'TASR'].values"
   ]
  },
  {
   "cell_type": "code",
   "execution_count": 5,
   "metadata": {
    "collapsed": false
   },
   "outputs": [
    {
     "data": {
      "text/plain": [
       "(23977, 119225)"
      ]
     },
     "execution_count": 5,
     "metadata": {},
     "output_type": "execute_result"
    }
   ],
   "source": [
    "X.shape"
   ]
  },
  {
   "cell_type": "code",
   "execution_count": 6,
   "metadata": {
    "collapsed": false
   },
   "outputs": [
    {
     "data": {
      "text/plain": [
       "OneVsRestClassifier(estimator=LogisticRegression(C=1.0, class_weight=None, dual=False, fit_intercept=True,\n",
       "          intercept_scaling=1, max_iter=100, multi_class='ovr', n_jobs=1,\n",
       "          penalty='l2', random_state=None, solver='liblinear', tol=0.0001,\n",
       "          verbose=0, warm_start=False),\n",
       "          n_jobs=1)"
      ]
     },
     "execution_count": 6,
     "metadata": {},
     "output_type": "execute_result"
    }
   ],
   "source": [
    "clf = sklearn.multiclass.OneVsRestClassifier(\n",
    "    sklearn.linear_model.LogisticRegression()\n",
    ")\n",
    "clf.fit(X, Y)"
   ]
  },
  {
   "cell_type": "code",
   "execution_count": 7,
   "metadata": {
    "collapsed": false
   },
   "outputs": [],
   "source": [
    "X_tst = tfidf_transformer.transform(vectorizer.transform(tst['bodytext'].values))\n",
    "Y_tst = tst.loc[:, 'OEMC':'TASR'].values\n",
    "\n",
    "Y_hat = clf.predict_proba(X_tst)"
   ]
  },
  {
   "cell_type": "code",
   "execution_count": 8,
   "metadata": {
    "collapsed": false,
    "scrolled": false
   },
   "outputs": [
    {
     "data": {
      "text/html": [
       "<div>\n",
       "<table border=\"1\" class=\"dataframe\">\n",
       "  <thead>\n",
       "    <tr style=\"text-align: right;\">\n",
       "      <th></th>\n",
       "      <th>TP</th>\n",
       "      <th>FP</th>\n",
       "      <th>TN</th>\n",
       "      <th>FN</th>\n",
       "      <th>TPR</th>\n",
       "      <th>FPR</th>\n",
       "      <th>PPV</th>\n",
       "    </tr>\n",
       "  </thead>\n",
       "  <tbody>\n",
       "    <tr>\n",
       "      <th>OEMC</th>\n",
       "      <td>0.0</td>\n",
       "      <td>0.0</td>\n",
       "      <td>10243.0</td>\n",
       "      <td>33.0</td>\n",
       "      <td>0.000000</td>\n",
       "      <td>0.000000</td>\n",
       "      <td>NaN</td>\n",
       "    </tr>\n",
       "    <tr>\n",
       "      <th>CPD</th>\n",
       "      <td>4428.0</td>\n",
       "      <td>1190.0</td>\n",
       "      <td>3751.0</td>\n",
       "      <td>907.0</td>\n",
       "      <td>0.829991</td>\n",
       "      <td>0.240842</td>\n",
       "      <td>0.788181</td>\n",
       "    </tr>\n",
       "    <tr>\n",
       "      <th>SAO</th>\n",
       "      <td>311.0</td>\n",
       "      <td>113.0</td>\n",
       "      <td>9165.0</td>\n",
       "      <td>687.0</td>\n",
       "      <td>0.311623</td>\n",
       "      <td>0.012179</td>\n",
       "      <td>0.733491</td>\n",
       "    </tr>\n",
       "    <tr>\n",
       "      <th>CCCC</th>\n",
       "      <td>70.0</td>\n",
       "      <td>34.0</td>\n",
       "      <td>9511.0</td>\n",
       "      <td>661.0</td>\n",
       "      <td>0.095759</td>\n",
       "      <td>0.003562</td>\n",
       "      <td>0.673077</td>\n",
       "    </tr>\n",
       "    <tr>\n",
       "      <th>CCJ</th>\n",
       "      <td>37.0</td>\n",
       "      <td>9.0</td>\n",
       "      <td>9997.0</td>\n",
       "      <td>233.0</td>\n",
       "      <td>0.137037</td>\n",
       "      <td>0.000899</td>\n",
       "      <td>0.804348</td>\n",
       "    </tr>\n",
       "    <tr>\n",
       "      <th>CCSP</th>\n",
       "      <td>114.0</td>\n",
       "      <td>29.0</td>\n",
       "      <td>9833.0</td>\n",
       "      <td>300.0</td>\n",
       "      <td>0.275362</td>\n",
       "      <td>0.002941</td>\n",
       "      <td>0.797203</td>\n",
       "    </tr>\n",
       "    <tr>\n",
       "      <th>CPUB</th>\n",
       "      <td>0.0</td>\n",
       "      <td>0.0</td>\n",
       "      <td>10203.0</td>\n",
       "      <td>73.0</td>\n",
       "      <td>0.000000</td>\n",
       "      <td>0.000000</td>\n",
       "      <td>NaN</td>\n",
       "    </tr>\n",
       "    <tr>\n",
       "      <th>IDOC</th>\n",
       "      <td>0.0</td>\n",
       "      <td>0.0</td>\n",
       "      <td>10196.0</td>\n",
       "      <td>80.0</td>\n",
       "      <td>0.000000</td>\n",
       "      <td>0.000000</td>\n",
       "      <td>NaN</td>\n",
       "    </tr>\n",
       "    <tr>\n",
       "      <th>DOMV</th>\n",
       "      <td>90.0</td>\n",
       "      <td>16.0</td>\n",
       "      <td>9736.0</td>\n",
       "      <td>434.0</td>\n",
       "      <td>0.171756</td>\n",
       "      <td>0.001641</td>\n",
       "      <td>0.849057</td>\n",
       "    </tr>\n",
       "    <tr>\n",
       "      <th>SEXA</th>\n",
       "      <td>407.0</td>\n",
       "      <td>21.0</td>\n",
       "      <td>9534.0</td>\n",
       "      <td>314.0</td>\n",
       "      <td>0.564494</td>\n",
       "      <td>0.002198</td>\n",
       "      <td>0.950935</td>\n",
       "    </tr>\n",
       "    <tr>\n",
       "      <th>POLB</th>\n",
       "      <td>17.0</td>\n",
       "      <td>2.0</td>\n",
       "      <td>10117.0</td>\n",
       "      <td>140.0</td>\n",
       "      <td>0.108280</td>\n",
       "      <td>0.000198</td>\n",
       "      <td>0.894737</td>\n",
       "    </tr>\n",
       "    <tr>\n",
       "      <th>POLM</th>\n",
       "      <td>46.0</td>\n",
       "      <td>10.0</td>\n",
       "      <td>9963.0</td>\n",
       "      <td>257.0</td>\n",
       "      <td>0.151815</td>\n",
       "      <td>0.001003</td>\n",
       "      <td>0.821429</td>\n",
       "    </tr>\n",
       "    <tr>\n",
       "      <th>GUNV</th>\n",
       "      <td>3287.0</td>\n",
       "      <td>187.0</td>\n",
       "      <td>6140.0</td>\n",
       "      <td>662.0</td>\n",
       "      <td>0.832363</td>\n",
       "      <td>0.029556</td>\n",
       "      <td>0.946172</td>\n",
       "    </tr>\n",
       "    <tr>\n",
       "      <th>GLBTQ</th>\n",
       "      <td>0.0</td>\n",
       "      <td>0.0</td>\n",
       "      <td>10227.0</td>\n",
       "      <td>49.0</td>\n",
       "      <td>0.000000</td>\n",
       "      <td>0.000000</td>\n",
       "      <td>NaN</td>\n",
       "    </tr>\n",
       "    <tr>\n",
       "      <th>JUVE</th>\n",
       "      <td>204.0</td>\n",
       "      <td>119.0</td>\n",
       "      <td>9132.0</td>\n",
       "      <td>821.0</td>\n",
       "      <td>0.199024</td>\n",
       "      <td>0.012863</td>\n",
       "      <td>0.631579</td>\n",
       "    </tr>\n",
       "    <tr>\n",
       "      <th>REEN</th>\n",
       "      <td>0.0</td>\n",
       "      <td>0.0</td>\n",
       "      <td>10240.0</td>\n",
       "      <td>36.0</td>\n",
       "      <td>0.000000</td>\n",
       "      <td>0.000000</td>\n",
       "      <td>NaN</td>\n",
       "    </tr>\n",
       "    <tr>\n",
       "      <th>VIOL</th>\n",
       "      <td>3155.0</td>\n",
       "      <td>1275.0</td>\n",
       "      <td>4491.0</td>\n",
       "      <td>1355.0</td>\n",
       "      <td>0.699557</td>\n",
       "      <td>0.221124</td>\n",
       "      <td>0.712190</td>\n",
       "    </tr>\n",
       "    <tr>\n",
       "      <th>BEAT</th>\n",
       "      <td>10.0</td>\n",
       "      <td>1.0</td>\n",
       "      <td>10169.0</td>\n",
       "      <td>96.0</td>\n",
       "      <td>0.094340</td>\n",
       "      <td>0.000098</td>\n",
       "      <td>0.909091</td>\n",
       "    </tr>\n",
       "    <tr>\n",
       "      <th>PROB</th>\n",
       "      <td>2.0</td>\n",
       "      <td>0.0</td>\n",
       "      <td>10181.0</td>\n",
       "      <td>93.0</td>\n",
       "      <td>0.021053</td>\n",
       "      <td>0.000000</td>\n",
       "      <td>1.000000</td>\n",
       "    </tr>\n",
       "    <tr>\n",
       "      <th>PARL</th>\n",
       "      <td>0.0</td>\n",
       "      <td>0.0</td>\n",
       "      <td>10170.0</td>\n",
       "      <td>106.0</td>\n",
       "      <td>0.000000</td>\n",
       "      <td>0.000000</td>\n",
       "      <td>NaN</td>\n",
       "    </tr>\n",
       "    <tr>\n",
       "      <th>CPLY</th>\n",
       "      <td>1.0</td>\n",
       "      <td>0.0</td>\n",
       "      <td>10110.0</td>\n",
       "      <td>165.0</td>\n",
       "      <td>0.006024</td>\n",
       "      <td>0.000000</td>\n",
       "      <td>1.000000</td>\n",
       "    </tr>\n",
       "    <tr>\n",
       "      <th>DRUG</th>\n",
       "      <td>198.0</td>\n",
       "      <td>12.0</td>\n",
       "      <td>9524.0</td>\n",
       "      <td>542.0</td>\n",
       "      <td>0.267568</td>\n",
       "      <td>0.001258</td>\n",
       "      <td>0.942857</td>\n",
       "    </tr>\n",
       "    <tr>\n",
       "      <th>CPS</th>\n",
       "      <td>119.0</td>\n",
       "      <td>21.0</td>\n",
       "      <td>9939.0</td>\n",
       "      <td>197.0</td>\n",
       "      <td>0.376582</td>\n",
       "      <td>0.002108</td>\n",
       "      <td>0.850000</td>\n",
       "    </tr>\n",
       "    <tr>\n",
       "      <th>GANG</th>\n",
       "      <td>402.0</td>\n",
       "      <td>57.0</td>\n",
       "      <td>9229.0</td>\n",
       "      <td>588.0</td>\n",
       "      <td>0.406061</td>\n",
       "      <td>0.006138</td>\n",
       "      <td>0.875817</td>\n",
       "    </tr>\n",
       "    <tr>\n",
       "      <th>ILSP</th>\n",
       "      <td>40.0</td>\n",
       "      <td>6.0</td>\n",
       "      <td>10035.0</td>\n",
       "      <td>195.0</td>\n",
       "      <td>0.170213</td>\n",
       "      <td>0.000598</td>\n",
       "      <td>0.869565</td>\n",
       "    </tr>\n",
       "    <tr>\n",
       "      <th>HOMI</th>\n",
       "      <td>2551.0</td>\n",
       "      <td>361.0</td>\n",
       "      <td>6699.0</td>\n",
       "      <td>665.0</td>\n",
       "      <td>0.793221</td>\n",
       "      <td>0.051133</td>\n",
       "      <td>0.876030</td>\n",
       "    </tr>\n",
       "    <tr>\n",
       "      <th>IPRA</th>\n",
       "      <td>5.0</td>\n",
       "      <td>2.0</td>\n",
       "      <td>10181.0</td>\n",
       "      <td>88.0</td>\n",
       "      <td>0.053763</td>\n",
       "      <td>0.000196</td>\n",
       "      <td>0.714286</td>\n",
       "    </tr>\n",
       "    <tr>\n",
       "      <th>CPBD</th>\n",
       "      <td>0.0</td>\n",
       "      <td>0.0</td>\n",
       "      <td>10237.0</td>\n",
       "      <td>39.0</td>\n",
       "      <td>0.000000</td>\n",
       "      <td>0.000000</td>\n",
       "      <td>NaN</td>\n",
       "    </tr>\n",
       "    <tr>\n",
       "      <th>IMMG</th>\n",
       "      <td>0.0</td>\n",
       "      <td>0.0</td>\n",
       "      <td>10242.0</td>\n",
       "      <td>34.0</td>\n",
       "      <td>0.000000</td>\n",
       "      <td>0.000000</td>\n",
       "      <td>NaN</td>\n",
       "    </tr>\n",
       "    <tr>\n",
       "      <th>ENVI</th>\n",
       "      <td>0.0</td>\n",
       "      <td>0.0</td>\n",
       "      <td>10264.0</td>\n",
       "      <td>12.0</td>\n",
       "      <td>0.000000</td>\n",
       "      <td>0.000000</td>\n",
       "      <td>NaN</td>\n",
       "    </tr>\n",
       "    <tr>\n",
       "      <th>UNSPC</th>\n",
       "      <td>1017.0</td>\n",
       "      <td>445.0</td>\n",
       "      <td>7047.0</td>\n",
       "      <td>1767.0</td>\n",
       "      <td>0.365302</td>\n",
       "      <td>0.059397</td>\n",
       "      <td>0.695622</td>\n",
       "    </tr>\n",
       "    <tr>\n",
       "      <th>ILSC</th>\n",
       "      <td>0.0</td>\n",
       "      <td>0.0</td>\n",
       "      <td>10224.0</td>\n",
       "      <td>52.0</td>\n",
       "      <td>0.000000</td>\n",
       "      <td>0.000000</td>\n",
       "      <td>NaN</td>\n",
       "    </tr>\n",
       "    <tr>\n",
       "      <th>ARSN</th>\n",
       "      <td>15.0</td>\n",
       "      <td>5.0</td>\n",
       "      <td>10164.0</td>\n",
       "      <td>92.0</td>\n",
       "      <td>0.140187</td>\n",
       "      <td>0.000492</td>\n",
       "      <td>0.750000</td>\n",
       "    </tr>\n",
       "    <tr>\n",
       "      <th>BURG</th>\n",
       "      <td>25.0</td>\n",
       "      <td>6.0</td>\n",
       "      <td>9885.0</td>\n",
       "      <td>360.0</td>\n",
       "      <td>0.064935</td>\n",
       "      <td>0.000607</td>\n",
       "      <td>0.806452</td>\n",
       "    </tr>\n",
       "    <tr>\n",
       "      <th>DUI</th>\n",
       "      <td>143.0</td>\n",
       "      <td>27.0</td>\n",
       "      <td>9883.0</td>\n",
       "      <td>223.0</td>\n",
       "      <td>0.390710</td>\n",
       "      <td>0.002725</td>\n",
       "      <td>0.841176</td>\n",
       "    </tr>\n",
       "    <tr>\n",
       "      <th>FRUD</th>\n",
       "      <td>186.0</td>\n",
       "      <td>35.0</td>\n",
       "      <td>9757.0</td>\n",
       "      <td>298.0</td>\n",
       "      <td>0.384298</td>\n",
       "      <td>0.003574</td>\n",
       "      <td>0.841629</td>\n",
       "    </tr>\n",
       "    <tr>\n",
       "      <th>ROBB</th>\n",
       "      <td>742.0</td>\n",
       "      <td>72.0</td>\n",
       "      <td>8762.0</td>\n",
       "      <td>700.0</td>\n",
       "      <td>0.514563</td>\n",
       "      <td>0.008150</td>\n",
       "      <td>0.911548</td>\n",
       "    </tr>\n",
       "    <tr>\n",
       "      <th>TASR</th>\n",
       "      <td>0.0</td>\n",
       "      <td>0.0</td>\n",
       "      <td>10243.0</td>\n",
       "      <td>33.0</td>\n",
       "      <td>0.000000</td>\n",
       "      <td>0.000000</td>\n",
       "      <td>NaN</td>\n",
       "    </tr>\n",
       "  </tbody>\n",
       "</table>\n",
       "</div>"
      ],
      "text/plain": [
       "           TP      FP       TN      FN       TPR       FPR       PPV\n",
       "OEMC      0.0     0.0  10243.0    33.0  0.000000  0.000000       NaN\n",
       "CPD    4428.0  1190.0   3751.0   907.0  0.829991  0.240842  0.788181\n",
       "SAO     311.0   113.0   9165.0   687.0  0.311623  0.012179  0.733491\n",
       "CCCC     70.0    34.0   9511.0   661.0  0.095759  0.003562  0.673077\n",
       "CCJ      37.0     9.0   9997.0   233.0  0.137037  0.000899  0.804348\n",
       "CCSP    114.0    29.0   9833.0   300.0  0.275362  0.002941  0.797203\n",
       "CPUB      0.0     0.0  10203.0    73.0  0.000000  0.000000       NaN\n",
       "IDOC      0.0     0.0  10196.0    80.0  0.000000  0.000000       NaN\n",
       "DOMV     90.0    16.0   9736.0   434.0  0.171756  0.001641  0.849057\n",
       "SEXA    407.0    21.0   9534.0   314.0  0.564494  0.002198  0.950935\n",
       "POLB     17.0     2.0  10117.0   140.0  0.108280  0.000198  0.894737\n",
       "POLM     46.0    10.0   9963.0   257.0  0.151815  0.001003  0.821429\n",
       "GUNV   3287.0   187.0   6140.0   662.0  0.832363  0.029556  0.946172\n",
       "GLBTQ     0.0     0.0  10227.0    49.0  0.000000  0.000000       NaN\n",
       "JUVE    204.0   119.0   9132.0   821.0  0.199024  0.012863  0.631579\n",
       "REEN      0.0     0.0  10240.0    36.0  0.000000  0.000000       NaN\n",
       "VIOL   3155.0  1275.0   4491.0  1355.0  0.699557  0.221124  0.712190\n",
       "BEAT     10.0     1.0  10169.0    96.0  0.094340  0.000098  0.909091\n",
       "PROB      2.0     0.0  10181.0    93.0  0.021053  0.000000  1.000000\n",
       "PARL      0.0     0.0  10170.0   106.0  0.000000  0.000000       NaN\n",
       "CPLY      1.0     0.0  10110.0   165.0  0.006024  0.000000  1.000000\n",
       "DRUG    198.0    12.0   9524.0   542.0  0.267568  0.001258  0.942857\n",
       "CPS     119.0    21.0   9939.0   197.0  0.376582  0.002108  0.850000\n",
       "GANG    402.0    57.0   9229.0   588.0  0.406061  0.006138  0.875817\n",
       "ILSP     40.0     6.0  10035.0   195.0  0.170213  0.000598  0.869565\n",
       "HOMI   2551.0   361.0   6699.0   665.0  0.793221  0.051133  0.876030\n",
       "IPRA      5.0     2.0  10181.0    88.0  0.053763  0.000196  0.714286\n",
       "CPBD      0.0     0.0  10237.0    39.0  0.000000  0.000000       NaN\n",
       "IMMG      0.0     0.0  10242.0    34.0  0.000000  0.000000       NaN\n",
       "ENVI      0.0     0.0  10264.0    12.0  0.000000  0.000000       NaN\n",
       "UNSPC  1017.0   445.0   7047.0  1767.0  0.365302  0.059397  0.695622\n",
       "ILSC      0.0     0.0  10224.0    52.0  0.000000  0.000000       NaN\n",
       "ARSN     15.0     5.0  10164.0    92.0  0.140187  0.000492  0.750000\n",
       "BURG     25.0     6.0   9885.0   360.0  0.064935  0.000607  0.806452\n",
       "DUI     143.0    27.0   9883.0   223.0  0.390710  0.002725  0.841176\n",
       "FRUD    186.0    35.0   9757.0   298.0  0.384298  0.003574  0.841629\n",
       "ROBB    742.0    72.0   8762.0   700.0  0.514563  0.008150  0.911548\n",
       "TASR      0.0     0.0  10243.0    33.0  0.000000  0.000000       NaN"
      ]
     },
     "execution_count": 8,
     "metadata": {},
     "output_type": "execute_result"
    }
   ],
   "source": [
    "perf = pd.DataFrame()\n",
    "\n",
    "for i in range(Y_hat.shape[1]):\n",
    "    tag = tst.columns[7+i]\n",
    "    perf.loc['TP', tag] = sum((Y_hat[:,i] > .5) & (Y_tst[:,i] == 1))\n",
    "    perf.loc['FP', tag] = sum((Y_hat[:,i] > .5) & (Y_tst[:,i] == 0))\n",
    "    perf.loc['TN', tag] = sum((Y_hat[:,i] < .5) & (Y_tst[:,i] == 0))\n",
    "    perf.loc['FN', tag] = sum((Y_hat[:,i] < .5) & (Y_tst[:,i] == 1))\n",
    "    perf.loc['TPR', tag] = perf.loc['TP', tag] / (perf.loc['TP', tag] + perf.loc['FN', tag])\n",
    "    perf.loc['FPR', tag] = perf.loc['FP', tag] / (perf.loc['FP', tag] + perf.loc['TN', tag])\n",
    "    perf.loc['PPV', tag] = perf.loc['TP', tag] / (perf.loc['TP', tag] + perf.loc['FP', tag])\n",
    "\n",
    "perf = perf.T\n",
    "perf"
   ]
  },
  {
   "cell_type": "code",
   "execution_count": 9,
   "metadata": {
    "collapsed": false
   },
   "outputs": [
    {
     "data": {
      "image/png": "[encoded data removed]",
      "text/plain": [
       "<matplotlib.figure.Figure at 0x215f28568d0>"
      ]
     },
     "metadata": {},
     "output_type": "display_data"
    }
   ],
   "source": [
    "perf['TPR'].plot(kind='bar', ylim=[0,1], width=.9)\n",
    "plt.ylabel('TPR');"
   ]
  },
  {
   "cell_type": "code",
   "execution_count": 10,
   "metadata": {
    "collapsed": false
   },
   "outputs": [
    {
     "data": {
      "image/png": "[encoded data removed]",
      "text/plain": [
       "<matplotlib.figure.Figure at 0x215d6dfabe0>"
      ]
     },
     "metadata": {},
     "output_type": "display_data"
    }
   ],
   "source": [
    "(1 - perf['FPR']).plot(kind='bar', ylim=[0,1], width=.9)\n",
    "plt.ylabel('1 - FPR');"
   ]
  },
  {
   "cell_type": "code",
   "execution_count": 11,
   "metadata": {
    "collapsed": false
   },
   "outputs": [
    {
     "data": {
      "image/png": "[encoded data removed]",
      "text/plain": [
       "<matplotlib.figure.Figure at 0x215812b8dd8>"
      ]
     },
     "metadata": {},
     "output_type": "display_data"
    }
   ],
   "source": [
    "perf['PPV'].plot(kind='bar', ylim=[0,1], width=.9)\n",
    "plt.ylabel('PPV');"
   ]
  },
  {
   "cell_type": "code",
   "execution_count": 12,
   "metadata": {
    "collapsed": false
   },
   "outputs": [
    {
     "data": {
      "text/plain": [
       "[<matplotlib.lines.Line2D at 0x2158135f5f8>]"
      ]
     },
     "execution_count": 12,
     "metadata": {},
     "output_type": "execute_result"
    },
    {
     "data": {
      "image/png": "[encoded data removed]",
      "text/plain": [
       "<matplotlib.figure.Figure at 0x215f2838470>"
      ]
     },
     "metadata": {},
     "output_type": "display_data"
    }
   ],
   "source": [
    "plt.plot(X_tst[:, 0].todense())"
   ]
  },
  {
   "cell_type": "code",
   "execution_count": null,
   "metadata": {
    "collapsed": true
   },
   "outputs": [],
   "source": []
  },
  {
   "cell_type": "code",
   "execution_count": 13,
   "metadata": {
    "collapsed": true
   },
   "outputs": [],
   "source": [
    "import benchmark_tagging as bt"
   ]
  },
  {
   "cell_type": "code",
   "execution_count": 14,
   "metadata": {
    "collapsed": false
   },
   "outputs": [
    {
     "name": "stdout",
     "output_type": "stream",
     "text": [
      "[0.95618132205806439, 0.95612088729355793, 0.95526961160931056, 0.95598873980466759]\n"
     ]
    }
   ],
   "source": [
    "print(bt.benchmark(\n",
    "    lambda: sklearn.multiclass.OneVsRestClassifier(\n",
    "        sklearn.linear_model.LogisticRegression()\n",
    "    ),\n",
    "    tfidf_transformer.transform(vectorizer.transform(crime_df['bodytext'].values)),\n",
    "    crime_df.loc[:, 'OEMC':'TASR'].values\n",
    "))"
   ]
  },
  {
   "cell_type": "code",
   "execution_count": 15,
   "metadata": {
    "collapsed": true
   },
   "outputs": [],
   "source": [
    "from importlib import reload"
   ]
  },
  {
   "cell_type": "code",
   "execution_count": 16,
   "metadata": {
    "collapsed": false
   },
   "outputs": [
    {
     "data": {
      "text/plain": [
       "<module 'benchmark_tagging' from 'C:\\\\Users\\\\kevin.rose\\\\Documents\\\\GitHub\\\\cjp-article-tagging\\\\src\\\\benchmark_tagging.py'>"
      ]
     },
     "execution_count": 16,
     "metadata": {},
     "output_type": "execute_result"
    }
   ],
   "source": [
    "reload(bt)"
   ]
  },
  {
   "cell_type": "code",
   "execution_count": 2,
   "metadata": {
    "collapsed": true
   },
   "outputs": [],
   "source": [
    "import numpy as np"
   ]
  },
  {
   "cell_type": "code",
   "execution_count": 3,
   "metadata": {
    "collapsed": false
   },
   "outputs": [
    {
     "name": "stdout",
     "output_type": "stream",
     "text": [
      "0.955890140191\n"
     ]
    }
   ],
   "source": [
    "print(np.mean([0.95618132205806439, 0.95612088729355793, 0.95526961160931056, 0.95598873980466759]))"
   ]
  },
  {
   "cell_type": "code",
   "execution_count": null,
   "metadata": {
    "collapsed": true
   },
   "outputs": [],
   "source": []
  }
 ],
 "metadata": {
  "anaconda-cloud": {},
  "kernelspec": {
   "display_name": "Python [conda env:py35]",
   "language": "python",
   "name": "conda-env-py35-py"
  },
  "language_info": {
   "codemirror_mode": {
    "name": "ipython",
    "version": 3
   },
   "file_extension": ".py",
   "mimetype": "text/x-python",
   "name": "python",
   "nbconvert_exporter": "python",
   "pygments_lexer": "ipython3",
   "version": "3.5.2"
  }
 },
 "nbformat": 4,
 "nbformat_minor": 2
}
