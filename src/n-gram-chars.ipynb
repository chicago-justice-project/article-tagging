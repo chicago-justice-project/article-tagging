{
 "cells": [
  {
   "cell_type": "code",
   "execution_count": 1,
   "metadata": {
    "collapsed": true
   },
   "outputs": [],
   "source": [
    "import load_data as ld\n",
    "import matplotlib\n",
    "import matplotlib.pyplot as plt\n",
    "import seaborn as sns\n",
    "import numpy as np\n",
    "import pandas as pd\n",
    "import sklearn\n",
    "import sklearn.feature_extraction.text\n",
    "import sklearn.multiclass\n",
    "import sklearn.linear_model\n",
    "% matplotlib inline\n",
    "plt.rcParams['figure.figsize'] = 12, 8"
   ]
  },
  {
   "cell_type": "code",
   "execution_count": 2,
   "metadata": {
    "collapsed": false
   },
   "outputs": [
    {
     "name": "stderr",
     "output_type": "stream",
     "text": [
      "C:\\Users\\kevin.rose\\AppData\\Local\\Continuum\\Anaconda2\\envs\\py35\\lib\\site-packages\\IPython\\core\\interactiveshell.py:2881: DtypeWarning: Columns (3) have mixed types. Specify dtype option on import or set low_memory=False.\n",
      "  exec(code_obj, self.user_global_ns, self.user_ns)\n"
     ]
    }
   ],
   "source": [
    "df = ld.load_data()"
   ]
  },
  {
   "cell_type": "code",
   "execution_count": 3,
   "metadata": {
    "collapsed": false
   },
   "outputs": [
    {
     "name": "stdout",
     "output_type": "stream",
     "text": [
      "(112091, 45)\n",
      "(34253, 45)\n",
      "(23977, 45)\n",
      "(10276, 45)\n"
     ]
    }
   ],
   "source": [
    "crime_df = df.ix[df['relevant'], :]\n",
    "print(crime_df.shape)\n",
    "crime_df = crime_df.ix[crime_df.loc[:, 'OEMC':'TASR'].any(1), :]\n",
    "print(crime_df.shape)\n",
    "\n",
    "idx = np.random.permutation(crime_df.shape[0])\n",
    "trn = crime_df.iloc[idx[:int(crime_df.shape[0] * 0.7)], :]\n",
    "tst = crime_df.iloc[idx[int(crime_df.shape[0] * 0.7):], :]\n",
    "print(trn.shape)\n",
    "print(tst.shape)"
   ]
  },
  {
   "cell_type": "code",
   "execution_count": 4,
   "metadata": {
    "collapsed": false
   },
   "outputs": [],
   "source": [
    "# vectorize data\n",
    "vectorizer = sklearn.feature_extraction.text.CountVectorizer(analyzer='char_wb',\n",
    "                                                             ngram_range=(3,5))\n",
    "X = vectorizer.fit_transform(trn['bodytext'].values)\n",
    "\n",
    "Y = trn.loc[:, 'OEMC':'TASR'].values"
   ]
  },
  {
   "cell_type": "code",
   "execution_count": 5,
   "metadata": {
    "collapsed": false
   },
   "outputs": [
    {
     "data": {
      "text/plain": [
       "(23977, 1079436)"
      ]
     },
     "execution_count": 5,
     "metadata": {},
     "output_type": "execute_result"
    }
   ],
   "source": [
    "X.shape"
   ]
  },
  {
   "cell_type": "code",
   "execution_count": 6,
   "metadata": {
    "collapsed": false
   },
   "outputs": [
    {
     "data": {
      "text/plain": [
       "OneVsRestClassifier(estimator=LogisticRegression(C=1.0, class_weight=None, dual=False, fit_intercept=True,\n",
       "          intercept_scaling=1, max_iter=100, multi_class='ovr', n_jobs=1,\n",
       "          penalty='l2', random_state=None, solver='liblinear', tol=0.0001,\n",
       "          verbose=0, warm_start=False),\n",
       "          n_jobs=1)"
      ]
     },
     "execution_count": 6,
     "metadata": {},
     "output_type": "execute_result"
    }
   ],
   "source": [
    "clf = sklearn.multiclass.OneVsRestClassifier(\n",
    "    sklearn.linear_model.LogisticRegression()\n",
    ")\n",
    "clf.fit(X, Y)"
   ]
  },
  {
   "cell_type": "code",
   "execution_count": 7,
   "metadata": {
    "collapsed": false
   },
   "outputs": [],
   "source": [
    "X_tst = vectorizer.transform(tst['bodytext'].values)\n",
    "Y_tst = tst.loc[:, 'OEMC':'TASR'].values\n",
    "\n",
    "Y_hat = clf.predict_proba(X_tst)"
   ]
  },
  {
   "cell_type": "code",
   "execution_count": 8,
   "metadata": {
    "collapsed": false,
    "scrolled": false
   },
   "outputs": [
    {
     "data": {
      "text/html": [
       "<div>\n",
       "<table border=\"1\" class=\"dataframe\">\n",
       "  <thead>\n",
       "    <tr style=\"text-align: right;\">\n",
       "      <th></th>\n",
       "      <th>TP</th>\n",
       "      <th>FP</th>\n",
       "      <th>TN</th>\n",
       "      <th>FN</th>\n",
       "      <th>TPR</th>\n",
       "      <th>FPR</th>\n",
       "      <th>PPV</th>\n",
       "    </tr>\n",
       "  </thead>\n",
       "  <tbody>\n",
       "    <tr>\n",
       "      <th>OEMC</th>\n",
       "      <td>10.0</td>\n",
       "      <td>9.0</td>\n",
       "      <td>10237.0</td>\n",
       "      <td>20.0</td>\n",
       "      <td>0.333333</td>\n",
       "      <td>0.000878</td>\n",
       "      <td>0.526316</td>\n",
       "    </tr>\n",
       "    <tr>\n",
       "      <th>CPD</th>\n",
       "      <td>4442.0</td>\n",
       "      <td>1072.0</td>\n",
       "      <td>3919.0</td>\n",
       "      <td>843.0</td>\n",
       "      <td>0.840492</td>\n",
       "      <td>0.214787</td>\n",
       "      <td>0.805586</td>\n",
       "    </tr>\n",
       "    <tr>\n",
       "      <th>SAO</th>\n",
       "      <td>625.0</td>\n",
       "      <td>272.0</td>\n",
       "      <td>9009.0</td>\n",
       "      <td>370.0</td>\n",
       "      <td>0.628141</td>\n",
       "      <td>0.029307</td>\n",
       "      <td>0.696767</td>\n",
       "    </tr>\n",
       "    <tr>\n",
       "      <th>CCCC</th>\n",
       "      <td>346.0</td>\n",
       "      <td>271.0</td>\n",
       "      <td>9261.0</td>\n",
       "      <td>398.0</td>\n",
       "      <td>0.465054</td>\n",
       "      <td>0.028431</td>\n",
       "      <td>0.560778</td>\n",
       "    </tr>\n",
       "    <tr>\n",
       "      <th>CCJ</th>\n",
       "      <td>110.0</td>\n",
       "      <td>74.0</td>\n",
       "      <td>9974.0</td>\n",
       "      <td>118.0</td>\n",
       "      <td>0.482456</td>\n",
       "      <td>0.007365</td>\n",
       "      <td>0.597826</td>\n",
       "    </tr>\n",
       "    <tr>\n",
       "      <th>CCSP</th>\n",
       "      <td>230.0</td>\n",
       "      <td>83.0</td>\n",
       "      <td>9812.0</td>\n",
       "      <td>151.0</td>\n",
       "      <td>0.603675</td>\n",
       "      <td>0.008388</td>\n",
       "      <td>0.734824</td>\n",
       "    </tr>\n",
       "    <tr>\n",
       "      <th>CPUB</th>\n",
       "      <td>22.0</td>\n",
       "      <td>20.0</td>\n",
       "      <td>10184.0</td>\n",
       "      <td>50.0</td>\n",
       "      <td>0.305556</td>\n",
       "      <td>0.001960</td>\n",
       "      <td>0.523810</td>\n",
       "    </tr>\n",
       "    <tr>\n",
       "      <th>IDOC</th>\n",
       "      <td>30.0</td>\n",
       "      <td>22.0</td>\n",
       "      <td>10166.0</td>\n",
       "      <td>58.0</td>\n",
       "      <td>0.340909</td>\n",
       "      <td>0.002159</td>\n",
       "      <td>0.576923</td>\n",
       "    </tr>\n",
       "    <tr>\n",
       "      <th>DOMV</th>\n",
       "      <td>340.0</td>\n",
       "      <td>124.0</td>\n",
       "      <td>9637.0</td>\n",
       "      <td>175.0</td>\n",
       "      <td>0.660194</td>\n",
       "      <td>0.012704</td>\n",
       "      <td>0.732759</td>\n",
       "    </tr>\n",
       "    <tr>\n",
       "      <th>SEXA</th>\n",
       "      <td>618.0</td>\n",
       "      <td>78.0</td>\n",
       "      <td>9483.0</td>\n",
       "      <td>97.0</td>\n",
       "      <td>0.864336</td>\n",
       "      <td>0.008158</td>\n",
       "      <td>0.887931</td>\n",
       "    </tr>\n",
       "    <tr>\n",
       "      <th>POLB</th>\n",
       "      <td>103.0</td>\n",
       "      <td>28.0</td>\n",
       "      <td>10074.0</td>\n",
       "      <td>71.0</td>\n",
       "      <td>0.591954</td>\n",
       "      <td>0.002772</td>\n",
       "      <td>0.786260</td>\n",
       "    </tr>\n",
       "    <tr>\n",
       "      <th>POLM</th>\n",
       "      <td>180.0</td>\n",
       "      <td>99.0</td>\n",
       "      <td>9872.0</td>\n",
       "      <td>125.0</td>\n",
       "      <td>0.590164</td>\n",
       "      <td>0.009929</td>\n",
       "      <td>0.645161</td>\n",
       "    </tr>\n",
       "    <tr>\n",
       "      <th>GUNV</th>\n",
       "      <td>3562.0</td>\n",
       "      <td>261.0</td>\n",
       "      <td>6028.0</td>\n",
       "      <td>425.0</td>\n",
       "      <td>0.893404</td>\n",
       "      <td>0.041501</td>\n",
       "      <td>0.931729</td>\n",
       "    </tr>\n",
       "    <tr>\n",
       "      <th>GLBTQ</th>\n",
       "      <td>28.0</td>\n",
       "      <td>5.0</td>\n",
       "      <td>10223.0</td>\n",
       "      <td>20.0</td>\n",
       "      <td>0.583333</td>\n",
       "      <td>0.000489</td>\n",
       "      <td>0.848485</td>\n",
       "    </tr>\n",
       "    <tr>\n",
       "      <th>JUVE</th>\n",
       "      <td>459.0</td>\n",
       "      <td>241.0</td>\n",
       "      <td>8965.0</td>\n",
       "      <td>611.0</td>\n",
       "      <td>0.428972</td>\n",
       "      <td>0.026179</td>\n",
       "      <td>0.655714</td>\n",
       "    </tr>\n",
       "    <tr>\n",
       "      <th>REEN</th>\n",
       "      <td>12.0</td>\n",
       "      <td>9.0</td>\n",
       "      <td>10219.0</td>\n",
       "      <td>36.0</td>\n",
       "      <td>0.250000</td>\n",
       "      <td>0.000880</td>\n",
       "      <td>0.571429</td>\n",
       "    </tr>\n",
       "    <tr>\n",
       "      <th>VIOL</th>\n",
       "      <td>3323.0</td>\n",
       "      <td>1222.0</td>\n",
       "      <td>4605.0</td>\n",
       "      <td>1126.0</td>\n",
       "      <td>0.746909</td>\n",
       "      <td>0.209713</td>\n",
       "      <td>0.731133</td>\n",
       "    </tr>\n",
       "    <tr>\n",
       "      <th>BEAT</th>\n",
       "      <td>39.0</td>\n",
       "      <td>24.0</td>\n",
       "      <td>10147.0</td>\n",
       "      <td>66.0</td>\n",
       "      <td>0.371429</td>\n",
       "      <td>0.002360</td>\n",
       "      <td>0.619048</td>\n",
       "    </tr>\n",
       "    <tr>\n",
       "      <th>PROB</th>\n",
       "      <td>28.0</td>\n",
       "      <td>14.0</td>\n",
       "      <td>10174.0</td>\n",
       "      <td>60.0</td>\n",
       "      <td>0.318182</td>\n",
       "      <td>0.001374</td>\n",
       "      <td>0.666667</td>\n",
       "    </tr>\n",
       "    <tr>\n",
       "      <th>PARL</th>\n",
       "      <td>46.0</td>\n",
       "      <td>24.0</td>\n",
       "      <td>10133.0</td>\n",
       "      <td>73.0</td>\n",
       "      <td>0.386555</td>\n",
       "      <td>0.002363</td>\n",
       "      <td>0.657143</td>\n",
       "    </tr>\n",
       "    <tr>\n",
       "      <th>CPLY</th>\n",
       "      <td>49.0</td>\n",
       "      <td>69.0</td>\n",
       "      <td>10059.0</td>\n",
       "      <td>99.0</td>\n",
       "      <td>0.331081</td>\n",
       "      <td>0.006813</td>\n",
       "      <td>0.415254</td>\n",
       "    </tr>\n",
       "    <tr>\n",
       "      <th>DRUG</th>\n",
       "      <td>455.0</td>\n",
       "      <td>131.0</td>\n",
       "      <td>9446.0</td>\n",
       "      <td>244.0</td>\n",
       "      <td>0.650930</td>\n",
       "      <td>0.013679</td>\n",
       "      <td>0.776451</td>\n",
       "    </tr>\n",
       "    <tr>\n",
       "      <th>CPS</th>\n",
       "      <td>211.0</td>\n",
       "      <td>54.0</td>\n",
       "      <td>9911.0</td>\n",
       "      <td>100.0</td>\n",
       "      <td>0.678457</td>\n",
       "      <td>0.005419</td>\n",
       "      <td>0.796226</td>\n",
       "    </tr>\n",
       "    <tr>\n",
       "      <th>GANG</th>\n",
       "      <td>640.0</td>\n",
       "      <td>146.0</td>\n",
       "      <td>9164.0</td>\n",
       "      <td>326.0</td>\n",
       "      <td>0.662526</td>\n",
       "      <td>0.015682</td>\n",
       "      <td>0.814249</td>\n",
       "    </tr>\n",
       "    <tr>\n",
       "      <th>ILSP</th>\n",
       "      <td>118.0</td>\n",
       "      <td>46.0</td>\n",
       "      <td>9969.0</td>\n",
       "      <td>143.0</td>\n",
       "      <td>0.452107</td>\n",
       "      <td>0.004593</td>\n",
       "      <td>0.719512</td>\n",
       "    </tr>\n",
       "    <tr>\n",
       "      <th>HOMI</th>\n",
       "      <td>2746.0</td>\n",
       "      <td>374.0</td>\n",
       "      <td>6711.0</td>\n",
       "      <td>445.0</td>\n",
       "      <td>0.860545</td>\n",
       "      <td>0.052788</td>\n",
       "      <td>0.880128</td>\n",
       "    </tr>\n",
       "    <tr>\n",
       "      <th>IPRA</th>\n",
       "      <td>62.0</td>\n",
       "      <td>27.0</td>\n",
       "      <td>10138.0</td>\n",
       "      <td>49.0</td>\n",
       "      <td>0.558559</td>\n",
       "      <td>0.002656</td>\n",
       "      <td>0.696629</td>\n",
       "    </tr>\n",
       "    <tr>\n",
       "      <th>CPBD</th>\n",
       "      <td>2.0</td>\n",
       "      <td>15.0</td>\n",
       "      <td>10218.0</td>\n",
       "      <td>41.0</td>\n",
       "      <td>0.046512</td>\n",
       "      <td>0.001466</td>\n",
       "      <td>0.117647</td>\n",
       "    </tr>\n",
       "    <tr>\n",
       "      <th>IMMG</th>\n",
       "      <td>23.0</td>\n",
       "      <td>5.0</td>\n",
       "      <td>10233.0</td>\n",
       "      <td>15.0</td>\n",
       "      <td>0.605263</td>\n",
       "      <td>0.000488</td>\n",
       "      <td>0.821429</td>\n",
       "    </tr>\n",
       "    <tr>\n",
       "      <th>ENVI</th>\n",
       "      <td>9.0</td>\n",
       "      <td>0.0</td>\n",
       "      <td>10264.0</td>\n",
       "      <td>3.0</td>\n",
       "      <td>0.750000</td>\n",
       "      <td>0.000000</td>\n",
       "      <td>1.000000</td>\n",
       "    </tr>\n",
       "    <tr>\n",
       "      <th>UNSPC</th>\n",
       "      <td>1590.0</td>\n",
       "      <td>828.0</td>\n",
       "      <td>6656.0</td>\n",
       "      <td>1202.0</td>\n",
       "      <td>0.569484</td>\n",
       "      <td>0.110636</td>\n",
       "      <td>0.657568</td>\n",
       "    </tr>\n",
       "    <tr>\n",
       "      <th>ILSC</th>\n",
       "      <td>16.0</td>\n",
       "      <td>16.0</td>\n",
       "      <td>10194.0</td>\n",
       "      <td>50.0</td>\n",
       "      <td>0.242424</td>\n",
       "      <td>0.001567</td>\n",
       "      <td>0.500000</td>\n",
       "    </tr>\n",
       "    <tr>\n",
       "      <th>ARSN</th>\n",
       "      <td>80.0</td>\n",
       "      <td>17.0</td>\n",
       "      <td>10146.0</td>\n",
       "      <td>33.0</td>\n",
       "      <td>0.707965</td>\n",
       "      <td>0.001673</td>\n",
       "      <td>0.824742</td>\n",
       "    </tr>\n",
       "    <tr>\n",
       "      <th>BURG</th>\n",
       "      <td>215.0</td>\n",
       "      <td>97.0</td>\n",
       "      <td>9801.0</td>\n",
       "      <td>163.0</td>\n",
       "      <td>0.568783</td>\n",
       "      <td>0.009800</td>\n",
       "      <td>0.689103</td>\n",
       "    </tr>\n",
       "    <tr>\n",
       "      <th>DUI</th>\n",
       "      <td>259.0</td>\n",
       "      <td>40.0</td>\n",
       "      <td>9882.0</td>\n",
       "      <td>95.0</td>\n",
       "      <td>0.731638</td>\n",
       "      <td>0.004031</td>\n",
       "      <td>0.866221</td>\n",
       "    </tr>\n",
       "    <tr>\n",
       "      <th>FRUD</th>\n",
       "      <td>329.0</td>\n",
       "      <td>95.0</td>\n",
       "      <td>9717.0</td>\n",
       "      <td>135.0</td>\n",
       "      <td>0.709052</td>\n",
       "      <td>0.009682</td>\n",
       "      <td>0.775943</td>\n",
       "    </tr>\n",
       "    <tr>\n",
       "      <th>ROBB</th>\n",
       "      <td>1066.0</td>\n",
       "      <td>192.0</td>\n",
       "      <td>8624.0</td>\n",
       "      <td>394.0</td>\n",
       "      <td>0.730137</td>\n",
       "      <td>0.021779</td>\n",
       "      <td>0.847377</td>\n",
       "    </tr>\n",
       "    <tr>\n",
       "      <th>TASR</th>\n",
       "      <td>16.0</td>\n",
       "      <td>2.0</td>\n",
       "      <td>10231.0</td>\n",
       "      <td>27.0</td>\n",
       "      <td>0.372093</td>\n",
       "      <td>0.000195</td>\n",
       "      <td>0.888889</td>\n",
       "    </tr>\n",
       "  </tbody>\n",
       "</table>\n",
       "</div>"
      ],
      "text/plain": [
       "           TP      FP       TN      FN       TPR       FPR       PPV\n",
       "OEMC     10.0     9.0  10237.0    20.0  0.333333  0.000878  0.526316\n",
       "CPD    4442.0  1072.0   3919.0   843.0  0.840492  0.214787  0.805586\n",
       "SAO     625.0   272.0   9009.0   370.0  0.628141  0.029307  0.696767\n",
       "CCCC    346.0   271.0   9261.0   398.0  0.465054  0.028431  0.560778\n",
       "CCJ     110.0    74.0   9974.0   118.0  0.482456  0.007365  0.597826\n",
       "CCSP    230.0    83.0   9812.0   151.0  0.603675  0.008388  0.734824\n",
       "CPUB     22.0    20.0  10184.0    50.0  0.305556  0.001960  0.523810\n",
       "IDOC     30.0    22.0  10166.0    58.0  0.340909  0.002159  0.576923\n",
       "DOMV    340.0   124.0   9637.0   175.0  0.660194  0.012704  0.732759\n",
       "SEXA    618.0    78.0   9483.0    97.0  0.864336  0.008158  0.887931\n",
       "POLB    103.0    28.0  10074.0    71.0  0.591954  0.002772  0.786260\n",
       "POLM    180.0    99.0   9872.0   125.0  0.590164  0.009929  0.645161\n",
       "GUNV   3562.0   261.0   6028.0   425.0  0.893404  0.041501  0.931729\n",
       "GLBTQ    28.0     5.0  10223.0    20.0  0.583333  0.000489  0.848485\n",
       "JUVE    459.0   241.0   8965.0   611.0  0.428972  0.026179  0.655714\n",
       "REEN     12.0     9.0  10219.0    36.0  0.250000  0.000880  0.571429\n",
       "VIOL   3323.0  1222.0   4605.0  1126.0  0.746909  0.209713  0.731133\n",
       "BEAT     39.0    24.0  10147.0    66.0  0.371429  0.002360  0.619048\n",
       "PROB     28.0    14.0  10174.0    60.0  0.318182  0.001374  0.666667\n",
       "PARL     46.0    24.0  10133.0    73.0  0.386555  0.002363  0.657143\n",
       "CPLY     49.0    69.0  10059.0    99.0  0.331081  0.006813  0.415254\n",
       "DRUG    455.0   131.0   9446.0   244.0  0.650930  0.013679  0.776451\n",
       "CPS     211.0    54.0   9911.0   100.0  0.678457  0.005419  0.796226\n",
       "GANG    640.0   146.0   9164.0   326.0  0.662526  0.015682  0.814249\n",
       "ILSP    118.0    46.0   9969.0   143.0  0.452107  0.004593  0.719512\n",
       "HOMI   2746.0   374.0   6711.0   445.0  0.860545  0.052788  0.880128\n",
       "IPRA     62.0    27.0  10138.0    49.0  0.558559  0.002656  0.696629\n",
       "CPBD      2.0    15.0  10218.0    41.0  0.046512  0.001466  0.117647\n",
       "IMMG     23.0     5.0  10233.0    15.0  0.605263  0.000488  0.821429\n",
       "ENVI      9.0     0.0  10264.0     3.0  0.750000  0.000000  1.000000\n",
       "UNSPC  1590.0   828.0   6656.0  1202.0  0.569484  0.110636  0.657568\n",
       "ILSC     16.0    16.0  10194.0    50.0  0.242424  0.001567  0.500000\n",
       "ARSN     80.0    17.0  10146.0    33.0  0.707965  0.001673  0.824742\n",
       "BURG    215.0    97.0   9801.0   163.0  0.568783  0.009800  0.689103\n",
       "DUI     259.0    40.0   9882.0    95.0  0.731638  0.004031  0.866221\n",
       "FRUD    329.0    95.0   9717.0   135.0  0.709052  0.009682  0.775943\n",
       "ROBB   1066.0   192.0   8624.0   394.0  0.730137  0.021779  0.847377\n",
       "TASR     16.0     2.0  10231.0    27.0  0.372093  0.000195  0.888889"
      ]
     },
     "execution_count": 8,
     "metadata": {},
     "output_type": "execute_result"
    }
   ],
   "source": [
    "perf = pd.DataFrame()\n",
    "\n",
    "for i in range(Y_hat.shape[1]):\n",
    "    tag = tst.columns[7+i]\n",
    "    perf.loc['TP', tag] = sum((Y_hat[:,i] > .5) & (Y_tst[:,i] == 1))\n",
    "    perf.loc['FP', tag] = sum((Y_hat[:,i] > .5) & (Y_tst[:,i] == 0))\n",
    "    perf.loc['TN', tag] = sum((Y_hat[:,i] < .5) & (Y_tst[:,i] == 0))\n",
    "    perf.loc['FN', tag] = sum((Y_hat[:,i] < .5) & (Y_tst[:,i] == 1))\n",
    "    perf.loc['TPR', tag] = perf.loc['TP', tag] / (perf.loc['TP', tag] + perf.loc['FN', tag])\n",
    "    perf.loc['FPR', tag] = perf.loc['FP', tag] / (perf.loc['FP', tag] + perf.loc['TN', tag])\n",
    "    perf.loc['PPV', tag] = perf.loc['TP', tag] / (perf.loc['TP', tag] + perf.loc['FP', tag])\n",
    "\n",
    "perf = perf.T\n",
    "perf"
   ]
  },
  {
   "cell_type": "code",
   "execution_count": 9,
   "metadata": {
    "collapsed": false
   },
   "outputs": [
    {
     "data": {
      "image/png": "[encoded data removed]",
      "text/plain": [
       "<matplotlib.figure.Figure at 0x1f28439d358>"
      ]
     },
     "metadata": {},
     "output_type": "display_data"
    }
   ],
   "source": [
    "perf['TPR'].plot(kind='bar', ylim=[0,1], width=0.9)\n",
    "plt.ylabel('TPR');"
   ]
  },
  {
   "cell_type": "code",
   "execution_count": 10,
   "metadata": {
    "collapsed": false
   },
   "outputs": [
    {
     "data": {
      "image/png": "[encoded data removed]",
      "text/plain": [
       "<matplotlib.figure.Figure at 0x1f2840be0b8>"
      ]
     },
     "metadata": {},
     "output_type": "display_data"
    }
   ],
   "source": [
    "(1 - perf['FPR']).plot(kind='bar', ylim=[0,1], width=0.9)\n",
    "plt.ylabel('1 - FPR');"
   ]
  },
  {
   "cell_type": "code",
   "execution_count": 11,
   "metadata": {
    "collapsed": false
   },
   "outputs": [
    {
     "data": {
      "image/png": "[encoded data removed]",
      "text/plain": [
       "<matplotlib.figure.Figure at 0x1f2844df748>"
      ]
     },
     "metadata": {},
     "output_type": "display_data"
    }
   ],
   "source": [
    "perf['PPV'].plot(kind='bar', ylim=[0,1], width=0.9)\n",
    "plt.ylabel('PPV');"
   ]
  },
  {
   "cell_type": "code",
   "execution_count": 12,
   "metadata": {
    "collapsed": true
   },
   "outputs": [],
   "source": [
    "import benchmark_tagging as bt"
   ]
  },
  {
   "cell_type": "code",
   "execution_count": 13,
   "metadata": {
    "collapsed": false
   },
   "outputs": [
    {
     "name": "stdout",
     "output_type": "stream",
     "text": [
      "[0.96286781877627281, 0.96307245984867573, 0.96251621111636965, 0.96264221221042801]\n"
     ]
    }
   ],
   "source": [
    "print(bt.benchmark(\n",
    "    lambda: sklearn.multiclass.OneVsRestClassifier(\n",
    "        sklearn.linear_model.LogisticRegression()\n",
    "    ),\n",
    "    vectorizer.transform(crime_df['bodytext'].values),\n",
    "    crime_df.loc[:, 'OEMC':'TASR'].values\n",
    "))"
   ]
  },
  {
   "cell_type": "code",
   "execution_count": 14,
   "metadata": {
    "collapsed": false
   },
   "outputs": [
    {
     "data": {
      "text/plain": [
       "<module 'benchmark_tagging' from 'C:\\\\Users\\\\kevin.rose\\\\Documents\\\\GitHub\\\\cjp-article-tagging\\\\src\\\\benchmark_tagging.py'>"
      ]
     },
     "execution_count": 14,
     "metadata": {},
     "output_type": "execute_result"
    }
   ],
   "source": [
    "from importlib import reload\n",
    "reload(bt)"
   ]
  },
  {
   "cell_type": "code",
   "execution_count": 15,
   "metadata": {
    "collapsed": false
   },
   "outputs": [
    {
     "data": {
      "text/plain": [
       "0.9627746754879366"
      ]
     },
     "execution_count": 15,
     "metadata": {},
     "output_type": "execute_result"
    }
   ],
   "source": [
    "np.mean([0.96286781877627281, 0.96307245984867573, 0.96251621111636965, 0.96264221221042801])"
   ]
  },
  {
   "cell_type": "code",
   "execution_count": null,
   "metadata": {
    "collapsed": true
   },
   "outputs": [],
   "source": []
  }
 ],
 "metadata": {
  "anaconda-cloud": {},
  "kernelspec": {
   "display_name": "Python [conda env:py35]",
   "language": "python",
   "name": "conda-env-py35-py"
  },
  "language_info": {
   "codemirror_mode": {
    "name": "ipython",
    "version": 3
   },
   "file_extension": ".py",
   "mimetype": "text/x-python",
   "name": "python",
   "nbconvert_exporter": "python",
   "pygments_lexer": "ipython3",
   "version": "3.5.2"
  }
 },
 "nbformat": 4,
 "nbformat_minor": 2
}
