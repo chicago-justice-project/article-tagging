{
 "cells": [
  {
   "cell_type": "code",
   "execution_count": 1,
   "metadata": {
    "collapsed": true
   },
   "outputs": [],
   "source": [
    "import load_data as ld\n",
    "import matplotlib\n",
    "import matplotlib.pyplot as plt\n",
    "import seaborn as sns\n",
    "import numpy as np\n",
    "import pandas as pd\n",
    "import sklearn\n",
    "import sklearn.feature_extraction.text\n",
    "import sklearn.multiclass\n",
    "import sklearn.linear_model\n",
    "% matplotlib inline\n",
    "plt.rcParams['figure.figsize'] = 12, 8"
   ]
  },
  {
   "cell_type": "code",
   "execution_count": 2,
   "metadata": {
    "collapsed": false
   },
   "outputs": [
    {
     "name": "stderr",
     "output_type": "stream",
     "text": [
      "C:\\Users\\kevin.rose\\AppData\\Local\\Continuum\\Anaconda2\\envs\\py35\\lib\\site-packages\\IPython\\core\\interactiveshell.py:2881: DtypeWarning: Columns (3) have mixed types. Specify dtype option on import or set low_memory=False.\n",
      "  exec(code_obj, self.user_global_ns, self.user_ns)\n"
     ]
    }
   ],
   "source": [
    "df = ld.load_data()"
   ]
  },
  {
   "cell_type": "code",
   "execution_count": 3,
   "metadata": {
    "collapsed": false
   },
   "outputs": [
    {
     "name": "stdout",
     "output_type": "stream",
     "text": [
      "(112091, 45)\n",
      "(34253, 45)\n",
      "(23977, 45)\n",
      "(10276, 45)\n"
     ]
    }
   ],
   "source": [
    "crime_df = df.ix[df['relevant'], :]\n",
    "print(crime_df.shape)\n",
    "crime_df = crime_df.ix[crime_df.loc[:, 'OEMC':'TASR'].any(1), :]\n",
    "print(crime_df.shape)\n",
    "\n",
    "idx = np.random.permutation(crime_df.shape[0])\n",
    "trn = crime_df.iloc[idx[:int(crime_df.shape[0] * 0.7)], :]\n",
    "tst = crime_df.iloc[idx[int(crime_df.shape[0] * 0.7):], :]\n",
    "print(trn.shape)\n",
    "print(tst.shape)"
   ]
  },
  {
   "cell_type": "code",
   "execution_count": 4,
   "metadata": {
    "collapsed": false
   },
   "outputs": [],
   "source": [
    "# vectorize data\n",
    "vectorizer = sklearn.feature_extraction.text.CountVectorizer()\n",
    "X = vectorizer.fit_transform(trn['bodytext'].values)\n",
    "\n",
    "Y = trn.loc[:, 'OEMC':'TASR'].values"
   ]
  },
  {
   "cell_type": "code",
   "execution_count": 5,
   "metadata": {
    "collapsed": false
   },
   "outputs": [
    {
     "data": {
      "text/plain": [
       "(23977, 118167)"
      ]
     },
     "execution_count": 5,
     "metadata": {},
     "output_type": "execute_result"
    }
   ],
   "source": [
    "X.shape"
   ]
  },
  {
   "cell_type": "code",
   "execution_count": 13,
   "metadata": {
    "collapsed": false
   },
   "outputs": [
    {
     "ename": "AttributeError",
     "evalue": "module 'sklearn' has no attribute 'ensemble'",
     "output_type": "error",
     "traceback": [
      "\u001b[0;31m---------------------------------------------------------------------------\u001b[0m",
      "\u001b[0;31mAttributeError\u001b[0m                            Traceback (most recent call last)",
      "\u001b[0;32m<ipython-input-13-948a23fb0279>\u001b[0m in \u001b[0;36m<module>\u001b[0;34m()\u001b[0m\n\u001b[1;32m      1\u001b[0m clf = sklearn.multiclass.OneVsRestClassifier(\n\u001b[0;32m----> 2\u001b[0;31m     \u001b[0msklearn\u001b[0m\u001b[1;33m.\u001b[0m\u001b[0mensemble\u001b[0m\u001b[1;33m.\u001b[0m\u001b[0mLogisticRegression\u001b[0m\u001b[1;33m(\u001b[0m\u001b[1;33m)\u001b[0m\u001b[1;33m\u001b[0m\u001b[0m\n\u001b[0m\u001b[1;32m      3\u001b[0m )\n\u001b[1;32m      4\u001b[0m \u001b[0mclf\u001b[0m\u001b[1;33m.\u001b[0m\u001b[0mfit\u001b[0m\u001b[1;33m(\u001b[0m\u001b[0mX\u001b[0m\u001b[1;33m,\u001b[0m \u001b[0mY\u001b[0m\u001b[1;33m)\u001b[0m\u001b[1;33m\u001b[0m\u001b[0m\n",
      "\u001b[0;31mAttributeError\u001b[0m: module 'sklearn' has no attribute 'ensemble'"
     ]
    }
   ],
   "source": [
    "clf = sklearn.multiclass.OneVsRestClassifier(\n",
    "    sklearn.ensemble.LogisticRegression()\n",
    ")\n",
    "clf.fit(X, Y)"
   ]
  },
  {
   "cell_type": "code",
   "execution_count": 7,
   "metadata": {
    "collapsed": false
   },
   "outputs": [],
   "source": [
    "X_tst = vectorizer.transform(tst['bodytext'].values)\n",
    "Y_tst = tst.loc[:, 'OEMC':'TASR'].values\n",
    "\n",
    "Y_hat = clf.predict_proba(X_tst)"
   ]
  },
  {
   "cell_type": "code",
   "execution_count": 8,
   "metadata": {
    "collapsed": false,
    "scrolled": false
   },
   "outputs": [
    {
     "data": {
      "text/html": [
       "<div>\n",
       "<table border=\"1\" class=\"dataframe\">\n",
       "  <thead>\n",
       "    <tr style=\"text-align: right;\">\n",
       "      <th></th>\n",
       "      <th>TP</th>\n",
       "      <th>FP</th>\n",
       "      <th>TN</th>\n",
       "      <th>FN</th>\n",
       "      <th>TPR</th>\n",
       "      <th>FPR</th>\n",
       "      <th>PPV</th>\n",
       "    </tr>\n",
       "  </thead>\n",
       "  <tbody>\n",
       "    <tr>\n",
       "      <th>OEMC</th>\n",
       "      <td>7.0</td>\n",
       "      <td>5.0</td>\n",
       "      <td>10228.0</td>\n",
       "      <td>36.0</td>\n",
       "      <td>0.162791</td>\n",
       "      <td>0.000489</td>\n",
       "      <td>0.583333</td>\n",
       "    </tr>\n",
       "    <tr>\n",
       "      <th>CPD</th>\n",
       "      <td>4434.0</td>\n",
       "      <td>1100.0</td>\n",
       "      <td>3882.0</td>\n",
       "      <td>860.0</td>\n",
       "      <td>0.837552</td>\n",
       "      <td>0.220795</td>\n",
       "      <td>0.801229</td>\n",
       "    </tr>\n",
       "    <tr>\n",
       "      <th>SAO</th>\n",
       "      <td>602.0</td>\n",
       "      <td>238.0</td>\n",
       "      <td>9026.0</td>\n",
       "      <td>410.0</td>\n",
       "      <td>0.594862</td>\n",
       "      <td>0.025691</td>\n",
       "      <td>0.716667</td>\n",
       "    </tr>\n",
       "    <tr>\n",
       "      <th>CCCC</th>\n",
       "      <td>346.0</td>\n",
       "      <td>240.0</td>\n",
       "      <td>9318.0</td>\n",
       "      <td>372.0</td>\n",
       "      <td>0.481894</td>\n",
       "      <td>0.025110</td>\n",
       "      <td>0.590444</td>\n",
       "    </tr>\n",
       "    <tr>\n",
       "      <th>CCJ</th>\n",
       "      <td>100.0</td>\n",
       "      <td>51.0</td>\n",
       "      <td>10008.0</td>\n",
       "      <td>117.0</td>\n",
       "      <td>0.460829</td>\n",
       "      <td>0.005070</td>\n",
       "      <td>0.662252</td>\n",
       "    </tr>\n",
       "    <tr>\n",
       "      <th>CCSP</th>\n",
       "      <td>224.0</td>\n",
       "      <td>87.0</td>\n",
       "      <td>9812.0</td>\n",
       "      <td>153.0</td>\n",
       "      <td>0.594164</td>\n",
       "      <td>0.008789</td>\n",
       "      <td>0.720257</td>\n",
       "    </tr>\n",
       "    <tr>\n",
       "      <th>CPUB</th>\n",
       "      <td>16.0</td>\n",
       "      <td>11.0</td>\n",
       "      <td>10209.0</td>\n",
       "      <td>40.0</td>\n",
       "      <td>0.285714</td>\n",
       "      <td>0.001076</td>\n",
       "      <td>0.592593</td>\n",
       "    </tr>\n",
       "    <tr>\n",
       "      <th>IDOC</th>\n",
       "      <td>33.0</td>\n",
       "      <td>20.0</td>\n",
       "      <td>10169.0</td>\n",
       "      <td>54.0</td>\n",
       "      <td>0.379310</td>\n",
       "      <td>0.001963</td>\n",
       "      <td>0.622642</td>\n",
       "    </tr>\n",
       "    <tr>\n",
       "      <th>DOMV</th>\n",
       "      <td>319.0</td>\n",
       "      <td>105.0</td>\n",
       "      <td>9654.0</td>\n",
       "      <td>198.0</td>\n",
       "      <td>0.617021</td>\n",
       "      <td>0.010759</td>\n",
       "      <td>0.752358</td>\n",
       "    </tr>\n",
       "    <tr>\n",
       "      <th>SEXA</th>\n",
       "      <td>636.0</td>\n",
       "      <td>66.0</td>\n",
       "      <td>9451.0</td>\n",
       "      <td>123.0</td>\n",
       "      <td>0.837945</td>\n",
       "      <td>0.006935</td>\n",
       "      <td>0.905983</td>\n",
       "    </tr>\n",
       "    <tr>\n",
       "      <th>POLB</th>\n",
       "      <td>104.0</td>\n",
       "      <td>30.0</td>\n",
       "      <td>10065.0</td>\n",
       "      <td>77.0</td>\n",
       "      <td>0.574586</td>\n",
       "      <td>0.002972</td>\n",
       "      <td>0.776119</td>\n",
       "    </tr>\n",
       "    <tr>\n",
       "      <th>POLM</th>\n",
       "      <td>178.0</td>\n",
       "      <td>68.0</td>\n",
       "      <td>9888.0</td>\n",
       "      <td>142.0</td>\n",
       "      <td>0.556250</td>\n",
       "      <td>0.006830</td>\n",
       "      <td>0.723577</td>\n",
       "    </tr>\n",
       "    <tr>\n",
       "      <th>GUNV</th>\n",
       "      <td>3541.0</td>\n",
       "      <td>275.0</td>\n",
       "      <td>6075.0</td>\n",
       "      <td>385.0</td>\n",
       "      <td>0.901936</td>\n",
       "      <td>0.043307</td>\n",
       "      <td>0.927935</td>\n",
       "    </tr>\n",
       "    <tr>\n",
       "      <th>GLBTQ</th>\n",
       "      <td>20.0</td>\n",
       "      <td>4.0</td>\n",
       "      <td>10230.0</td>\n",
       "      <td>22.0</td>\n",
       "      <td>0.476190</td>\n",
       "      <td>0.000391</td>\n",
       "      <td>0.833333</td>\n",
       "    </tr>\n",
       "    <tr>\n",
       "      <th>JUVE</th>\n",
       "      <td>519.0</td>\n",
       "      <td>340.0</td>\n",
       "      <td>8886.0</td>\n",
       "      <td>531.0</td>\n",
       "      <td>0.494286</td>\n",
       "      <td>0.036852</td>\n",
       "      <td>0.604191</td>\n",
       "    </tr>\n",
       "    <tr>\n",
       "      <th>REEN</th>\n",
       "      <td>13.0</td>\n",
       "      <td>10.0</td>\n",
       "      <td>10228.0</td>\n",
       "      <td>25.0</td>\n",
       "      <td>0.342105</td>\n",
       "      <td>0.000977</td>\n",
       "      <td>0.565217</td>\n",
       "    </tr>\n",
       "    <tr>\n",
       "      <th>VIOL</th>\n",
       "      <td>3363.0</td>\n",
       "      <td>1180.0</td>\n",
       "      <td>4535.0</td>\n",
       "      <td>1198.0</td>\n",
       "      <td>0.737338</td>\n",
       "      <td>0.206474</td>\n",
       "      <td>0.740260</td>\n",
       "    </tr>\n",
       "    <tr>\n",
       "      <th>BEAT</th>\n",
       "      <td>50.0</td>\n",
       "      <td>34.0</td>\n",
       "      <td>10137.0</td>\n",
       "      <td>55.0</td>\n",
       "      <td>0.476190</td>\n",
       "      <td>0.003343</td>\n",
       "      <td>0.595238</td>\n",
       "    </tr>\n",
       "    <tr>\n",
       "      <th>PROB</th>\n",
       "      <td>36.0</td>\n",
       "      <td>21.0</td>\n",
       "      <td>10165.0</td>\n",
       "      <td>54.0</td>\n",
       "      <td>0.400000</td>\n",
       "      <td>0.002062</td>\n",
       "      <td>0.631579</td>\n",
       "    </tr>\n",
       "    <tr>\n",
       "      <th>PARL</th>\n",
       "      <td>50.0</td>\n",
       "      <td>21.0</td>\n",
       "      <td>10131.0</td>\n",
       "      <td>74.0</td>\n",
       "      <td>0.403226</td>\n",
       "      <td>0.002069</td>\n",
       "      <td>0.704225</td>\n",
       "    </tr>\n",
       "    <tr>\n",
       "      <th>CPLY</th>\n",
       "      <td>47.0</td>\n",
       "      <td>47.0</td>\n",
       "      <td>10066.0</td>\n",
       "      <td>116.0</td>\n",
       "      <td>0.288344</td>\n",
       "      <td>0.004647</td>\n",
       "      <td>0.500000</td>\n",
       "    </tr>\n",
       "    <tr>\n",
       "      <th>DRUG</th>\n",
       "      <td>439.0</td>\n",
       "      <td>94.0</td>\n",
       "      <td>9452.0</td>\n",
       "      <td>291.0</td>\n",
       "      <td>0.601370</td>\n",
       "      <td>0.009847</td>\n",
       "      <td>0.823640</td>\n",
       "    </tr>\n",
       "    <tr>\n",
       "      <th>CPS</th>\n",
       "      <td>210.0</td>\n",
       "      <td>55.0</td>\n",
       "      <td>9911.0</td>\n",
       "      <td>100.0</td>\n",
       "      <td>0.677419</td>\n",
       "      <td>0.005519</td>\n",
       "      <td>0.792453</td>\n",
       "    </tr>\n",
       "    <tr>\n",
       "      <th>GANG</th>\n",
       "      <td>566.0</td>\n",
       "      <td>126.0</td>\n",
       "      <td>9207.0</td>\n",
       "      <td>377.0</td>\n",
       "      <td>0.600212</td>\n",
       "      <td>0.013500</td>\n",
       "      <td>0.817919</td>\n",
       "    </tr>\n",
       "    <tr>\n",
       "      <th>ILSP</th>\n",
       "      <td>110.0</td>\n",
       "      <td>48.0</td>\n",
       "      <td>9988.0</td>\n",
       "      <td>130.0</td>\n",
       "      <td>0.458333</td>\n",
       "      <td>0.004783</td>\n",
       "      <td>0.696203</td>\n",
       "    </tr>\n",
       "    <tr>\n",
       "      <th>HOMI</th>\n",
       "      <td>2735.0</td>\n",
       "      <td>442.0</td>\n",
       "      <td>6619.0</td>\n",
       "      <td>480.0</td>\n",
       "      <td>0.850700</td>\n",
       "      <td>0.062597</td>\n",
       "      <td>0.860875</td>\n",
       "    </tr>\n",
       "    <tr>\n",
       "      <th>IPRA</th>\n",
       "      <td>74.0</td>\n",
       "      <td>24.0</td>\n",
       "      <td>10136.0</td>\n",
       "      <td>42.0</td>\n",
       "      <td>0.637931</td>\n",
       "      <td>0.002362</td>\n",
       "      <td>0.755102</td>\n",
       "    </tr>\n",
       "    <tr>\n",
       "      <th>CPBD</th>\n",
       "      <td>2.0</td>\n",
       "      <td>12.0</td>\n",
       "      <td>10216.0</td>\n",
       "      <td>46.0</td>\n",
       "      <td>0.041667</td>\n",
       "      <td>0.001173</td>\n",
       "      <td>0.142857</td>\n",
       "    </tr>\n",
       "    <tr>\n",
       "      <th>IMMG</th>\n",
       "      <td>21.0</td>\n",
       "      <td>5.0</td>\n",
       "      <td>10228.0</td>\n",
       "      <td>22.0</td>\n",
       "      <td>0.488372</td>\n",
       "      <td>0.000489</td>\n",
       "      <td>0.807692</td>\n",
       "    </tr>\n",
       "    <tr>\n",
       "      <th>ENVI</th>\n",
       "      <td>3.0</td>\n",
       "      <td>0.0</td>\n",
       "      <td>10268.0</td>\n",
       "      <td>5.0</td>\n",
       "      <td>0.375000</td>\n",
       "      <td>0.000000</td>\n",
       "      <td>1.000000</td>\n",
       "    </tr>\n",
       "    <tr>\n",
       "      <th>UNSPC</th>\n",
       "      <td>1616.0</td>\n",
       "      <td>811.0</td>\n",
       "      <td>6682.0</td>\n",
       "      <td>1167.0</td>\n",
       "      <td>0.580668</td>\n",
       "      <td>0.108234</td>\n",
       "      <td>0.665843</td>\n",
       "    </tr>\n",
       "    <tr>\n",
       "      <th>ILSC</th>\n",
       "      <td>15.0</td>\n",
       "      <td>10.0</td>\n",
       "      <td>10213.0</td>\n",
       "      <td>38.0</td>\n",
       "      <td>0.283019</td>\n",
       "      <td>0.000978</td>\n",
       "      <td>0.600000</td>\n",
       "    </tr>\n",
       "    <tr>\n",
       "      <th>ARSN</th>\n",
       "      <td>69.0</td>\n",
       "      <td>12.0</td>\n",
       "      <td>10165.0</td>\n",
       "      <td>30.0</td>\n",
       "      <td>0.696970</td>\n",
       "      <td>0.001179</td>\n",
       "      <td>0.851852</td>\n",
       "    </tr>\n",
       "    <tr>\n",
       "      <th>BURG</th>\n",
       "      <td>221.0</td>\n",
       "      <td>83.0</td>\n",
       "      <td>9796.0</td>\n",
       "      <td>176.0</td>\n",
       "      <td>0.556675</td>\n",
       "      <td>0.008402</td>\n",
       "      <td>0.726974</td>\n",
       "    </tr>\n",
       "    <tr>\n",
       "      <th>DUI</th>\n",
       "      <td>267.0</td>\n",
       "      <td>37.0</td>\n",
       "      <td>9883.0</td>\n",
       "      <td>89.0</td>\n",
       "      <td>0.750000</td>\n",
       "      <td>0.003730</td>\n",
       "      <td>0.878289</td>\n",
       "    </tr>\n",
       "    <tr>\n",
       "      <th>FRUD</th>\n",
       "      <td>336.0</td>\n",
       "      <td>79.0</td>\n",
       "      <td>9706.0</td>\n",
       "      <td>155.0</td>\n",
       "      <td>0.684318</td>\n",
       "      <td>0.008074</td>\n",
       "      <td>0.809639</td>\n",
       "    </tr>\n",
       "    <tr>\n",
       "      <th>ROBB</th>\n",
       "      <td>1113.0</td>\n",
       "      <td>216.0</td>\n",
       "      <td>8557.0</td>\n",
       "      <td>390.0</td>\n",
       "      <td>0.740519</td>\n",
       "      <td>0.024621</td>\n",
       "      <td>0.837472</td>\n",
       "    </tr>\n",
       "    <tr>\n",
       "      <th>TASR</th>\n",
       "      <td>24.0</td>\n",
       "      <td>2.0</td>\n",
       "      <td>10236.0</td>\n",
       "      <td>14.0</td>\n",
       "      <td>0.631579</td>\n",
       "      <td>0.000195</td>\n",
       "      <td>0.923077</td>\n",
       "    </tr>\n",
       "  </tbody>\n",
       "</table>\n",
       "</div>"
      ],
      "text/plain": [
       "           TP      FP       TN      FN       TPR       FPR       PPV\n",
       "OEMC      7.0     5.0  10228.0    36.0  0.162791  0.000489  0.583333\n",
       "CPD    4434.0  1100.0   3882.0   860.0  0.837552  0.220795  0.801229\n",
       "SAO     602.0   238.0   9026.0   410.0  0.594862  0.025691  0.716667\n",
       "CCCC    346.0   240.0   9318.0   372.0  0.481894  0.025110  0.590444\n",
       "CCJ     100.0    51.0  10008.0   117.0  0.460829  0.005070  0.662252\n",
       "CCSP    224.0    87.0   9812.0   153.0  0.594164  0.008789  0.720257\n",
       "CPUB     16.0    11.0  10209.0    40.0  0.285714  0.001076  0.592593\n",
       "IDOC     33.0    20.0  10169.0    54.0  0.379310  0.001963  0.622642\n",
       "DOMV    319.0   105.0   9654.0   198.0  0.617021  0.010759  0.752358\n",
       "SEXA    636.0    66.0   9451.0   123.0  0.837945  0.006935  0.905983\n",
       "POLB    104.0    30.0  10065.0    77.0  0.574586  0.002972  0.776119\n",
       "POLM    178.0    68.0   9888.0   142.0  0.556250  0.006830  0.723577\n",
       "GUNV   3541.0   275.0   6075.0   385.0  0.901936  0.043307  0.927935\n",
       "GLBTQ    20.0     4.0  10230.0    22.0  0.476190  0.000391  0.833333\n",
       "JUVE    519.0   340.0   8886.0   531.0  0.494286  0.036852  0.604191\n",
       "REEN     13.0    10.0  10228.0    25.0  0.342105  0.000977  0.565217\n",
       "VIOL   3363.0  1180.0   4535.0  1198.0  0.737338  0.206474  0.740260\n",
       "BEAT     50.0    34.0  10137.0    55.0  0.476190  0.003343  0.595238\n",
       "PROB     36.0    21.0  10165.0    54.0  0.400000  0.002062  0.631579\n",
       "PARL     50.0    21.0  10131.0    74.0  0.403226  0.002069  0.704225\n",
       "CPLY     47.0    47.0  10066.0   116.0  0.288344  0.004647  0.500000\n",
       "DRUG    439.0    94.0   9452.0   291.0  0.601370  0.009847  0.823640\n",
       "CPS     210.0    55.0   9911.0   100.0  0.677419  0.005519  0.792453\n",
       "GANG    566.0   126.0   9207.0   377.0  0.600212  0.013500  0.817919\n",
       "ILSP    110.0    48.0   9988.0   130.0  0.458333  0.004783  0.696203\n",
       "HOMI   2735.0   442.0   6619.0   480.0  0.850700  0.062597  0.860875\n",
       "IPRA     74.0    24.0  10136.0    42.0  0.637931  0.002362  0.755102\n",
       "CPBD      2.0    12.0  10216.0    46.0  0.041667  0.001173  0.142857\n",
       "IMMG     21.0     5.0  10228.0    22.0  0.488372  0.000489  0.807692\n",
       "ENVI      3.0     0.0  10268.0     5.0  0.375000  0.000000  1.000000\n",
       "UNSPC  1616.0   811.0   6682.0  1167.0  0.580668  0.108234  0.665843\n",
       "ILSC     15.0    10.0  10213.0    38.0  0.283019  0.000978  0.600000\n",
       "ARSN     69.0    12.0  10165.0    30.0  0.696970  0.001179  0.851852\n",
       "BURG    221.0    83.0   9796.0   176.0  0.556675  0.008402  0.726974\n",
       "DUI     267.0    37.0   9883.0    89.0  0.750000  0.003730  0.878289\n",
       "FRUD    336.0    79.0   9706.0   155.0  0.684318  0.008074  0.809639\n",
       "ROBB   1113.0   216.0   8557.0   390.0  0.740519  0.024621  0.837472\n",
       "TASR     24.0     2.0  10236.0    14.0  0.631579  0.000195  0.923077"
      ]
     },
     "execution_count": 8,
     "metadata": {},
     "output_type": "execute_result"
    }
   ],
   "source": [
    "perf = pd.DataFrame()\n",
    "\n",
    "for i in range(Y_hat.shape[1]):\n",
    "    tag = tst.columns[7+i]\n",
    "    perf.loc['TP', tag] = sum((Y_hat[:,i] > .5) & (Y_tst[:,i] == 1))\n",
    "    perf.loc['FP', tag] = sum((Y_hat[:,i] > .5) & (Y_tst[:,i] == 0))\n",
    "    perf.loc['TN', tag] = sum((Y_hat[:,i] < .5) & (Y_tst[:,i] == 0))\n",
    "    perf.loc['FN', tag] = sum((Y_hat[:,i] < .5) & (Y_tst[:,i] == 1))\n",
    "    perf.loc['TPR', tag] = perf.loc['TP', tag] / (perf.loc['TP', tag] + perf.loc['FN', tag])\n",
    "    perf.loc['FPR', tag] = perf.loc['FP', tag] / (perf.loc['FP', tag] + perf.loc['TN', tag])\n",
    "    perf.loc['PPV', tag] = perf.loc['TP', tag] / (perf.loc['TP', tag] + perf.loc['FP', tag])\n",
    "\n",
    "perf = perf.T\n",
    "perf"
   ]
  },
  {
   "cell_type": "code",
   "execution_count": 9,
   "metadata": {
    "collapsed": false
   },
   "outputs": [
    {
     "data": {
      "image/png": "[encoded data removed]",
      "text/plain": [
       "<matplotlib.figure.Figure at 0x189dca9cf60>"
      ]
     },
     "metadata": {},
     "output_type": "display_data"
    }
   ],
   "source": [
    "perf['TPR'].plot(kind='bar', ylim=[0,1], width=0.9)\n",
    "plt.ylabel('TPR');"
   ]
  },
  {
   "cell_type": "code",
   "execution_count": 10,
   "metadata": {
    "collapsed": false
   },
   "outputs": [
    {
     "data": {
      "image/png": "[encoded data removed]",
      "text/plain": [
       "<matplotlib.figure.Figure at 0x189dba40d68>"
      ]
     },
     "metadata": {},
     "output_type": "display_data"
    }
   ],
   "source": [
    "(1 - perf['FPR']).plot(kind='bar', ylim=[0,1], width=0.9)\n",
    "plt.ylabel('1 - FPR');"
   ]
  },
  {
   "cell_type": "code",
   "execution_count": 11,
   "metadata": {
    "collapsed": false
   },
   "outputs": [
    {
     "data": {
      "image/png": "[encoded data removed]",
      "text/plain": [
       "<matplotlib.figure.Figure at 0x189c221d978>"
      ]
     },
     "metadata": {},
     "output_type": "display_data"
    }
   ],
   "source": [
    "perf['PPV'].plot(kind='bar', ylim=[0,1], width=0.9)\n",
    "plt.ylabel('PPV');"
   ]
  },
  {
   "cell_type": "code",
   "execution_count": null,
   "metadata": {
    "collapsed": true
   },
   "outputs": [],
   "source": [
    "import benchmark_tagging as bt"
   ]
  },
  {
   "cell_type": "code",
   "execution_count": null,
   "metadata": {
    "collapsed": false
   },
   "outputs": [],
   "source": [
    "benchmark_out = bt.benchmark(\n",
    "    lambda: sklearn.multiclass.OneVsRestClassifier(\n",
    "        sklearn.linear_model.LogisticRegression()\n",
    "    ),\n",
    "    vectorizer.transform(crime_df['bodytext'].values),\n",
    "    crime_df.loc[:, 'OEMC':'TASR'].values\n",
    ")\n",
    "\n",
    "print(benchmark['acc'])\n",
    "print(benchmark['acc'].mean())"
   ]
  },
  {
   "cell_type": "code",
   "execution_count": null,
   "metadata": {
    "collapsed": true
   },
   "outputs": [],
   "source": []
  }
 ],
 "metadata": {
  "anaconda-cloud": {},
  "kernelspec": {
   "display_name": "Python [conda env:py35]",
   "language": "python",
   "name": "conda-env-py35-py"
  },
  "language_info": {
   "codemirror_mode": {
    "name": "ipython",
    "version": 3
   },
   "file_extension": ".py",
   "mimetype": "text/x-python",
   "name": "python",
   "nbconvert_exporter": "python",
   "pygments_lexer": "ipython3",
   "version": "3.5.2"
  }
 },
 "nbformat": 4,
 "nbformat_minor": 2
}
