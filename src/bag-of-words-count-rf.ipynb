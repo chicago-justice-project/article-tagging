{
 "cells": [
  {
   "cell_type": "code",
   "execution_count": 1,
   "metadata": {
    "collapsed": true
   },
   "outputs": [],
   "source": [
    "import load_data as ld\n",
    "import matplotlib\n",
    "import matplotlib.pyplot as plt\n",
    "import seaborn as sns\n",
    "import numpy as np\n",
    "import pandas as pd\n",
    "import sklearn\n",
    "import sklearn.feature_extraction.text\n",
    "import sklearn.multiclass\n",
    "import sklearn.ensemble\n",
    "% matplotlib inline\n",
    "plt.rcParams['figure.figsize'] = 12, 8"
   ]
  },
  {
   "cell_type": "code",
   "execution_count": 2,
   "metadata": {
    "collapsed": false
   },
   "outputs": [
    {
     "name": "stderr",
     "output_type": "stream",
     "text": [
      "C:\\Users\\kevin.rose\\AppData\\Local\\Continuum\\Anaconda2\\envs\\py35\\lib\\site-packages\\IPython\\core\\interactiveshell.py:2881: DtypeWarning: Columns (3) have mixed types. Specify dtype option on import or set low_memory=False.\n",
      "  exec(code_obj, self.user_global_ns, self.user_ns)\n"
     ]
    }
   ],
   "source": [
    "df = ld.load_data()"
   ]
  },
  {
   "cell_type": "code",
   "execution_count": 3,
   "metadata": {
    "collapsed": false
   },
   "outputs": [
    {
     "name": "stdout",
     "output_type": "stream",
     "text": [
      "(112091, 45)\n",
      "(34253, 45)\n",
      "(23977, 45)\n",
      "(10276, 45)\n"
     ]
    }
   ],
   "source": [
    "crime_df = df.ix[df['relevant'], :]\n",
    "print(crime_df.shape)\n",
    "crime_df = crime_df.ix[crime_df.loc[:, 'OEMC':'TASR'].any(1), :]\n",
    "print(crime_df.shape)\n",
    "\n",
    "idx = np.random.permutation(crime_df.shape[0])\n",
    "trn = crime_df.iloc[idx[:int(crime_df.shape[0] * 0.7)], :]\n",
    "tst = crime_df.iloc[idx[int(crime_df.shape[0] * 0.7):], :]\n",
    "print(trn.shape)\n",
    "print(tst.shape)"
   ]
  },
  {
   "cell_type": "code",
   "execution_count": 4,
   "metadata": {
    "collapsed": false
   },
   "outputs": [],
   "source": [
    "# vectorize data\n",
    "vectorizer = sklearn.feature_extraction.text.CountVectorizer()\n",
    "X = vectorizer.fit_transform(trn['bodytext'].values)\n",
    "\n",
    "Y = trn.loc[:, 'OEMC':'TASR'].values"
   ]
  },
  {
   "cell_type": "code",
   "execution_count": 5,
   "metadata": {
    "collapsed": false
   },
   "outputs": [
    {
     "data": {
      "text/plain": [
       "(23977, 118775)"
      ]
     },
     "execution_count": 5,
     "metadata": {},
     "output_type": "execute_result"
    }
   ],
   "source": [
    "X.shape"
   ]
  },
  {
   "cell_type": "code",
   "execution_count": 13,
   "metadata": {
    "collapsed": false
   },
   "outputs": [
    {
     "data": {
      "text/plain": [
       "OneVsRestClassifier(estimator=AdaBoostClassifier(algorithm='SAMME.R', base_estimator=None,\n",
       "          learning_rate=1.0, n_estimators=50, random_state=None),\n",
       "          n_jobs=1)"
      ]
     },
     "execution_count": 13,
     "metadata": {},
     "output_type": "execute_result"
    }
   ],
   "source": [
    "clf = sklearn.multiclass.OneVsRestClassifier(\n",
    "    sklearn.ensemble.AdaBoostClassifier()\n",
    ")\n",
    "clf.fit(X, Y)"
   ]
  },
  {
   "cell_type": "code",
   "execution_count": 14,
   "metadata": {
    "collapsed": false
   },
   "outputs": [],
   "source": [
    "X_tst = vectorizer.transform(tst['bodytext'].values)\n",
    "Y_tst = tst.loc[:, 'OEMC':'TASR'].values\n",
    "\n",
    "Y_hat = clf.predict_proba(X_tst)"
   ]
  },
  {
   "cell_type": "code",
   "execution_count": 15,
   "metadata": {
    "collapsed": false,
    "scrolled": false
   },
   "outputs": [
    {
     "data": {
      "text/html": [
       "<div>\n",
       "<table border=\"1\" class=\"dataframe\">\n",
       "  <thead>\n",
       "    <tr style=\"text-align: right;\">\n",
       "      <th></th>\n",
       "      <th>TP</th>\n",
       "      <th>FP</th>\n",
       "      <th>TN</th>\n",
       "      <th>FN</th>\n",
       "      <th>TPR</th>\n",
       "      <th>FPR</th>\n",
       "      <th>PPV</th>\n",
       "    </tr>\n",
       "  </thead>\n",
       "  <tbody>\n",
       "    <tr>\n",
       "      <th>OEMC</th>\n",
       "      <td>5.0</td>\n",
       "      <td>8.0</td>\n",
       "      <td>10233.0</td>\n",
       "      <td>30.0</td>\n",
       "      <td>0.142857</td>\n",
       "      <td>0.000781</td>\n",
       "      <td>0.384615</td>\n",
       "    </tr>\n",
       "    <tr>\n",
       "      <th>CPD</th>\n",
       "      <td>4689.0</td>\n",
       "      <td>1377.0</td>\n",
       "      <td>3641.0</td>\n",
       "      <td>569.0</td>\n",
       "      <td>0.891784</td>\n",
       "      <td>0.274412</td>\n",
       "      <td>0.772997</td>\n",
       "    </tr>\n",
       "    <tr>\n",
       "      <th>SAO</th>\n",
       "      <td>580.0</td>\n",
       "      <td>233.0</td>\n",
       "      <td>9026.0</td>\n",
       "      <td>437.0</td>\n",
       "      <td>0.570305</td>\n",
       "      <td>0.025165</td>\n",
       "      <td>0.713407</td>\n",
       "    </tr>\n",
       "    <tr>\n",
       "      <th>CCCC</th>\n",
       "      <td>268.0</td>\n",
       "      <td>216.0</td>\n",
       "      <td>9307.0</td>\n",
       "      <td>485.0</td>\n",
       "      <td>0.355910</td>\n",
       "      <td>0.022682</td>\n",
       "      <td>0.553719</td>\n",
       "    </tr>\n",
       "    <tr>\n",
       "      <th>CCJ</th>\n",
       "      <td>113.0</td>\n",
       "      <td>77.0</td>\n",
       "      <td>9958.0</td>\n",
       "      <td>128.0</td>\n",
       "      <td>0.468880</td>\n",
       "      <td>0.007673</td>\n",
       "      <td>0.594737</td>\n",
       "    </tr>\n",
       "    <tr>\n",
       "      <th>CCSP</th>\n",
       "      <td>275.0</td>\n",
       "      <td>103.0</td>\n",
       "      <td>9783.0</td>\n",
       "      <td>115.0</td>\n",
       "      <td>0.705128</td>\n",
       "      <td>0.010419</td>\n",
       "      <td>0.727513</td>\n",
       "    </tr>\n",
       "    <tr>\n",
       "      <th>CPUB</th>\n",
       "      <td>27.0</td>\n",
       "      <td>38.0</td>\n",
       "      <td>10180.0</td>\n",
       "      <td>31.0</td>\n",
       "      <td>0.465517</td>\n",
       "      <td>0.003719</td>\n",
       "      <td>0.415385</td>\n",
       "    </tr>\n",
       "    <tr>\n",
       "      <th>IDOC</th>\n",
       "      <td>35.0</td>\n",
       "      <td>30.0</td>\n",
       "      <td>10161.0</td>\n",
       "      <td>50.0</td>\n",
       "      <td>0.411765</td>\n",
       "      <td>0.002944</td>\n",
       "      <td>0.538462</td>\n",
       "    </tr>\n",
       "    <tr>\n",
       "      <th>DOMV</th>\n",
       "      <td>243.0</td>\n",
       "      <td>134.0</td>\n",
       "      <td>9622.0</td>\n",
       "      <td>277.0</td>\n",
       "      <td>0.467308</td>\n",
       "      <td>0.013735</td>\n",
       "      <td>0.644562</td>\n",
       "    </tr>\n",
       "    <tr>\n",
       "      <th>SEXA</th>\n",
       "      <td>582.0</td>\n",
       "      <td>79.0</td>\n",
       "      <td>9442.0</td>\n",
       "      <td>173.0</td>\n",
       "      <td>0.770861</td>\n",
       "      <td>0.008297</td>\n",
       "      <td>0.880484</td>\n",
       "    </tr>\n",
       "    <tr>\n",
       "      <th>POLB</th>\n",
       "      <td>94.0</td>\n",
       "      <td>41.0</td>\n",
       "      <td>10040.0</td>\n",
       "      <td>101.0</td>\n",
       "      <td>0.482051</td>\n",
       "      <td>0.004067</td>\n",
       "      <td>0.696296</td>\n",
       "    </tr>\n",
       "    <tr>\n",
       "      <th>POLM</th>\n",
       "      <td>138.0</td>\n",
       "      <td>72.0</td>\n",
       "      <td>9854.0</td>\n",
       "      <td>212.0</td>\n",
       "      <td>0.394286</td>\n",
       "      <td>0.007254</td>\n",
       "      <td>0.657143</td>\n",
       "    </tr>\n",
       "    <tr>\n",
       "      <th>GUNV</th>\n",
       "      <td>3368.0</td>\n",
       "      <td>242.0</td>\n",
       "      <td>6054.0</td>\n",
       "      <td>612.0</td>\n",
       "      <td>0.846231</td>\n",
       "      <td>0.038437</td>\n",
       "      <td>0.932964</td>\n",
       "    </tr>\n",
       "    <tr>\n",
       "      <th>GLBTQ</th>\n",
       "      <td>27.0</td>\n",
       "      <td>6.0</td>\n",
       "      <td>10216.0</td>\n",
       "      <td>27.0</td>\n",
       "      <td>0.500000</td>\n",
       "      <td>0.000587</td>\n",
       "      <td>0.818182</td>\n",
       "    </tr>\n",
       "    <tr>\n",
       "      <th>JUVE</th>\n",
       "      <td>334.0</td>\n",
       "      <td>256.0</td>\n",
       "      <td>8941.0</td>\n",
       "      <td>745.0</td>\n",
       "      <td>0.309546</td>\n",
       "      <td>0.027835</td>\n",
       "      <td>0.566102</td>\n",
       "    </tr>\n",
       "    <tr>\n",
       "      <th>REEN</th>\n",
       "      <td>6.0</td>\n",
       "      <td>16.0</td>\n",
       "      <td>10226.0</td>\n",
       "      <td>28.0</td>\n",
       "      <td>0.176471</td>\n",
       "      <td>0.001562</td>\n",
       "      <td>0.272727</td>\n",
       "    </tr>\n",
       "    <tr>\n",
       "      <th>VIOL</th>\n",
       "      <td>2959.0</td>\n",
       "      <td>1220.0</td>\n",
       "      <td>4555.0</td>\n",
       "      <td>1542.0</td>\n",
       "      <td>0.657409</td>\n",
       "      <td>0.211255</td>\n",
       "      <td>0.708064</td>\n",
       "    </tr>\n",
       "    <tr>\n",
       "      <th>BEAT</th>\n",
       "      <td>36.0</td>\n",
       "      <td>40.0</td>\n",
       "      <td>10133.0</td>\n",
       "      <td>67.0</td>\n",
       "      <td>0.349515</td>\n",
       "      <td>0.003932</td>\n",
       "      <td>0.473684</td>\n",
       "    </tr>\n",
       "    <tr>\n",
       "      <th>PROB</th>\n",
       "      <td>30.0</td>\n",
       "      <td>43.0</td>\n",
       "      <td>10140.0</td>\n",
       "      <td>63.0</td>\n",
       "      <td>0.322581</td>\n",
       "      <td>0.004223</td>\n",
       "      <td>0.410959</td>\n",
       "    </tr>\n",
       "    <tr>\n",
       "      <th>PARL</th>\n",
       "      <td>57.0</td>\n",
       "      <td>37.0</td>\n",
       "      <td>10123.0</td>\n",
       "      <td>59.0</td>\n",
       "      <td>0.491379</td>\n",
       "      <td>0.003642</td>\n",
       "      <td>0.606383</td>\n",
       "    </tr>\n",
       "    <tr>\n",
       "      <th>CPLY</th>\n",
       "      <td>25.0</td>\n",
       "      <td>39.0</td>\n",
       "      <td>10081.0</td>\n",
       "      <td>131.0</td>\n",
       "      <td>0.160256</td>\n",
       "      <td>0.003854</td>\n",
       "      <td>0.390625</td>\n",
       "    </tr>\n",
       "    <tr>\n",
       "      <th>DRUG</th>\n",
       "      <td>360.0</td>\n",
       "      <td>104.0</td>\n",
       "      <td>9457.0</td>\n",
       "      <td>355.0</td>\n",
       "      <td>0.503497</td>\n",
       "      <td>0.010878</td>\n",
       "      <td>0.775862</td>\n",
       "    </tr>\n",
       "    <tr>\n",
       "      <th>CPS</th>\n",
       "      <td>179.0</td>\n",
       "      <td>72.0</td>\n",
       "      <td>9908.0</td>\n",
       "      <td>117.0</td>\n",
       "      <td>0.604730</td>\n",
       "      <td>0.007214</td>\n",
       "      <td>0.713147</td>\n",
       "    </tr>\n",
       "    <tr>\n",
       "      <th>GANG</th>\n",
       "      <td>786.0</td>\n",
       "      <td>228.0</td>\n",
       "      <td>9046.0</td>\n",
       "      <td>216.0</td>\n",
       "      <td>0.784431</td>\n",
       "      <td>0.024585</td>\n",
       "      <td>0.775148</td>\n",
       "    </tr>\n",
       "    <tr>\n",
       "      <th>ILSP</th>\n",
       "      <td>109.0</td>\n",
       "      <td>53.0</td>\n",
       "      <td>9991.0</td>\n",
       "      <td>123.0</td>\n",
       "      <td>0.469828</td>\n",
       "      <td>0.005277</td>\n",
       "      <td>0.672840</td>\n",
       "    </tr>\n",
       "    <tr>\n",
       "      <th>HOMI</th>\n",
       "      <td>2598.0</td>\n",
       "      <td>392.0</td>\n",
       "      <td>6623.0</td>\n",
       "      <td>663.0</td>\n",
       "      <td>0.796688</td>\n",
       "      <td>0.055880</td>\n",
       "      <td>0.868896</td>\n",
       "    </tr>\n",
       "    <tr>\n",
       "      <th>IPRA</th>\n",
       "      <td>77.0</td>\n",
       "      <td>33.0</td>\n",
       "      <td>10131.0</td>\n",
       "      <td>35.0</td>\n",
       "      <td>0.687500</td>\n",
       "      <td>0.003247</td>\n",
       "      <td>0.700000</td>\n",
       "    </tr>\n",
       "    <tr>\n",
       "      <th>CPBD</th>\n",
       "      <td>0.0</td>\n",
       "      <td>2.0</td>\n",
       "      <td>10227.0</td>\n",
       "      <td>47.0</td>\n",
       "      <td>0.000000</td>\n",
       "      <td>0.000196</td>\n",
       "      <td>0.000000</td>\n",
       "    </tr>\n",
       "    <tr>\n",
       "      <th>IMMG</th>\n",
       "      <td>30.0</td>\n",
       "      <td>8.0</td>\n",
       "      <td>10220.0</td>\n",
       "      <td>18.0</td>\n",
       "      <td>0.625000</td>\n",
       "      <td>0.000782</td>\n",
       "      <td>0.789474</td>\n",
       "    </tr>\n",
       "    <tr>\n",
       "      <th>ENVI</th>\n",
       "      <td>2.0</td>\n",
       "      <td>1.0</td>\n",
       "      <td>10261.0</td>\n",
       "      <td>12.0</td>\n",
       "      <td>0.142857</td>\n",
       "      <td>0.000097</td>\n",
       "      <td>0.666667</td>\n",
       "    </tr>\n",
       "    <tr>\n",
       "      <th>UNSPC</th>\n",
       "      <td>891.0</td>\n",
       "      <td>595.0</td>\n",
       "      <td>6863.0</td>\n",
       "      <td>1927.0</td>\n",
       "      <td>0.316182</td>\n",
       "      <td>0.079780</td>\n",
       "      <td>0.599596</td>\n",
       "    </tr>\n",
       "    <tr>\n",
       "      <th>ILSC</th>\n",
       "      <td>6.0</td>\n",
       "      <td>22.0</td>\n",
       "      <td>10201.0</td>\n",
       "      <td>47.0</td>\n",
       "      <td>0.113208</td>\n",
       "      <td>0.002152</td>\n",
       "      <td>0.214286</td>\n",
       "    </tr>\n",
       "    <tr>\n",
       "      <th>ARSN</th>\n",
       "      <td>69.0</td>\n",
       "      <td>24.0</td>\n",
       "      <td>10145.0</td>\n",
       "      <td>38.0</td>\n",
       "      <td>0.644860</td>\n",
       "      <td>0.002360</td>\n",
       "      <td>0.741935</td>\n",
       "    </tr>\n",
       "    <tr>\n",
       "      <th>BURG</th>\n",
       "      <td>140.0</td>\n",
       "      <td>79.0</td>\n",
       "      <td>9802.0</td>\n",
       "      <td>255.0</td>\n",
       "      <td>0.354430</td>\n",
       "      <td>0.007995</td>\n",
       "      <td>0.639269</td>\n",
       "    </tr>\n",
       "    <tr>\n",
       "      <th>DUI</th>\n",
       "      <td>233.0</td>\n",
       "      <td>46.0</td>\n",
       "      <td>9875.0</td>\n",
       "      <td>122.0</td>\n",
       "      <td>0.656338</td>\n",
       "      <td>0.004637</td>\n",
       "      <td>0.835125</td>\n",
       "    </tr>\n",
       "    <tr>\n",
       "      <th>FRUD</th>\n",
       "      <td>247.0</td>\n",
       "      <td>89.0</td>\n",
       "      <td>9742.0</td>\n",
       "      <td>198.0</td>\n",
       "      <td>0.555056</td>\n",
       "      <td>0.009053</td>\n",
       "      <td>0.735119</td>\n",
       "    </tr>\n",
       "    <tr>\n",
       "      <th>ROBB</th>\n",
       "      <td>940.0</td>\n",
       "      <td>194.0</td>\n",
       "      <td>8632.0</td>\n",
       "      <td>510.0</td>\n",
       "      <td>0.648276</td>\n",
       "      <td>0.021981</td>\n",
       "      <td>0.828924</td>\n",
       "    </tr>\n",
       "    <tr>\n",
       "      <th>TASR</th>\n",
       "      <td>23.0</td>\n",
       "      <td>10.0</td>\n",
       "      <td>10226.0</td>\n",
       "      <td>17.0</td>\n",
       "      <td>0.575000</td>\n",
       "      <td>0.000977</td>\n",
       "      <td>0.696970</td>\n",
       "    </tr>\n",
       "  </tbody>\n",
       "</table>\n",
       "</div>"
      ],
      "text/plain": [
       "           TP      FP       TN      FN       TPR       FPR       PPV\n",
       "OEMC      5.0     8.0  10233.0    30.0  0.142857  0.000781  0.384615\n",
       "CPD    4689.0  1377.0   3641.0   569.0  0.891784  0.274412  0.772997\n",
       "SAO     580.0   233.0   9026.0   437.0  0.570305  0.025165  0.713407\n",
       "CCCC    268.0   216.0   9307.0   485.0  0.355910  0.022682  0.553719\n",
       "CCJ     113.0    77.0   9958.0   128.0  0.468880  0.007673  0.594737\n",
       "CCSP    275.0   103.0   9783.0   115.0  0.705128  0.010419  0.727513\n",
       "CPUB     27.0    38.0  10180.0    31.0  0.465517  0.003719  0.415385\n",
       "IDOC     35.0    30.0  10161.0    50.0  0.411765  0.002944  0.538462\n",
       "DOMV    243.0   134.0   9622.0   277.0  0.467308  0.013735  0.644562\n",
       "SEXA    582.0    79.0   9442.0   173.0  0.770861  0.008297  0.880484\n",
       "POLB     94.0    41.0  10040.0   101.0  0.482051  0.004067  0.696296\n",
       "POLM    138.0    72.0   9854.0   212.0  0.394286  0.007254  0.657143\n",
       "GUNV   3368.0   242.0   6054.0   612.0  0.846231  0.038437  0.932964\n",
       "GLBTQ    27.0     6.0  10216.0    27.0  0.500000  0.000587  0.818182\n",
       "JUVE    334.0   256.0   8941.0   745.0  0.309546  0.027835  0.566102\n",
       "REEN      6.0    16.0  10226.0    28.0  0.176471  0.001562  0.272727\n",
       "VIOL   2959.0  1220.0   4555.0  1542.0  0.657409  0.211255  0.708064\n",
       "BEAT     36.0    40.0  10133.0    67.0  0.349515  0.003932  0.473684\n",
       "PROB     30.0    43.0  10140.0    63.0  0.322581  0.004223  0.410959\n",
       "PARL     57.0    37.0  10123.0    59.0  0.491379  0.003642  0.606383\n",
       "CPLY     25.0    39.0  10081.0   131.0  0.160256  0.003854  0.390625\n",
       "DRUG    360.0   104.0   9457.0   355.0  0.503497  0.010878  0.775862\n",
       "CPS     179.0    72.0   9908.0   117.0  0.604730  0.007214  0.713147\n",
       "GANG    786.0   228.0   9046.0   216.0  0.784431  0.024585  0.775148\n",
       "ILSP    109.0    53.0   9991.0   123.0  0.469828  0.005277  0.672840\n",
       "HOMI   2598.0   392.0   6623.0   663.0  0.796688  0.055880  0.868896\n",
       "IPRA     77.0    33.0  10131.0    35.0  0.687500  0.003247  0.700000\n",
       "CPBD      0.0     2.0  10227.0    47.0  0.000000  0.000196  0.000000\n",
       "IMMG     30.0     8.0  10220.0    18.0  0.625000  0.000782  0.789474\n",
       "ENVI      2.0     1.0  10261.0    12.0  0.142857  0.000097  0.666667\n",
       "UNSPC   891.0   595.0   6863.0  1927.0  0.316182  0.079780  0.599596\n",
       "ILSC      6.0    22.0  10201.0    47.0  0.113208  0.002152  0.214286\n",
       "ARSN     69.0    24.0  10145.0    38.0  0.644860  0.002360  0.741935\n",
       "BURG    140.0    79.0   9802.0   255.0  0.354430  0.007995  0.639269\n",
       "DUI     233.0    46.0   9875.0   122.0  0.656338  0.004637  0.835125\n",
       "FRUD    247.0    89.0   9742.0   198.0  0.555056  0.009053  0.735119\n",
       "ROBB    940.0   194.0   8632.0   510.0  0.648276  0.021981  0.828924\n",
       "TASR     23.0    10.0  10226.0    17.0  0.575000  0.000977  0.696970"
      ]
     },
     "execution_count": 15,
     "metadata": {},
     "output_type": "execute_result"
    }
   ],
   "source": [
    "perf = pd.DataFrame()\n",
    "\n",
    "for i in range(Y_hat.shape[1]):\n",
    "    tag = tst.columns[7+i]\n",
    "    perf.loc['TP', tag] = sum((Y_hat[:,i] > .5) & (Y_tst[:,i] == 1))\n",
    "    perf.loc['FP', tag] = sum((Y_hat[:,i] > .5) & (Y_tst[:,i] == 0))\n",
    "    perf.loc['TN', tag] = sum((Y_hat[:,i] < .5) & (Y_tst[:,i] == 0))\n",
    "    perf.loc['FN', tag] = sum((Y_hat[:,i] < .5) & (Y_tst[:,i] == 1))\n",
    "    perf.loc['TPR', tag] = perf.loc['TP', tag] / (perf.loc['TP', tag] + perf.loc['FN', tag])\n",
    "    perf.loc['FPR', tag] = perf.loc['FP', tag] / (perf.loc['FP', tag] + perf.loc['TN', tag])\n",
    "    perf.loc['PPV', tag] = perf.loc['TP', tag] / (perf.loc['TP', tag] + perf.loc['FP', tag])\n",
    "\n",
    "perf = perf.T\n",
    "perf"
   ]
  },
  {
   "cell_type": "code",
   "execution_count": 16,
   "metadata": {
    "collapsed": false
   },
   "outputs": [
    {
     "data": {
      "image/png": "[encoded data removed]",
      "text/plain": [
       "<matplotlib.figure.Figure at 0x23f7fdfb080>"
      ]
     },
     "metadata": {},
     "output_type": "display_data"
    }
   ],
   "source": [
    "perf['TPR'].plot(kind='bar', ylim=[0,1], width=0.9)\n",
    "plt.ylabel('TPR');"
   ]
  },
  {
   "cell_type": "code",
   "execution_count": 17,
   "metadata": {
    "collapsed": false
   },
   "outputs": [
    {
     "data": {
      "image/png": "[encoded data removed]",
      "text/plain": [
       "<matplotlib.figure.Figure at 0x23f7fb47f28>"
      ]
     },
     "metadata": {},
     "output_type": "display_data"
    }
   ],
   "source": [
    "(1 - perf['FPR']).plot(kind='bar', ylim=[0,1], width=0.9)\n",
    "plt.ylabel('1 - FPR');"
   ]
  },
  {
   "cell_type": "code",
   "execution_count": 18,
   "metadata": {
    "collapsed": false
   },
   "outputs": [
    {
     "data": {
      "image/png": "[encoded data removed]",
      "text/plain": [
       "<matplotlib.figure.Figure at 0x23f321b1550>"
      ]
     },
     "metadata": {},
     "output_type": "display_data"
    }
   ],
   "source": [
    "perf['PPV'].plot(kind='bar', ylim=[0,1], width=0.9)\n",
    "plt.ylabel('PPV');"
   ]
  },
  {
   "cell_type": "code",
   "execution_count": null,
   "metadata": {
    "collapsed": true
   },
   "outputs": [],
   "source": [
    "import benchmark_tagging as bt"
   ]
  },
  {
   "cell_type": "code",
   "execution_count": null,
   "metadata": {
    "collapsed": false
   },
   "outputs": [],
   "source": [
    "benchmark_out = bt.benchmark(\n",
    "    lambda: sklearn.multiclass.OneVsRestClassifier(\n",
    "        sklearn.ensemble.RandomForestClassifier()\n",
    "    ),\n",
    "    vectorizer.transform(crime_df['bodytext'].values),\n",
    "    crime_df.loc[:, 'OEMC':'TASR'].values\n",
    ")\n",
    "\n",
    "print(benchmark['acc'])\n",
    "print(benchmark['acc'].mean())"
   ]
  },
  {
   "cell_type": "code",
   "execution_count": null,
   "metadata": {
    "collapsed": true
   },
   "outputs": [],
   "source": []
  }
 ],
 "metadata": {
  "anaconda-cloud": {},
  "kernelspec": {
   "display_name": "Python [conda env:py35]",
   "language": "python",
   "name": "conda-env-py35-py"
  },
  "language_info": {
   "codemirror_mode": {
    "name": "ipython",
    "version": 3
   },
   "file_extension": ".py",
   "mimetype": "text/x-python",
   "name": "python",
   "nbconvert_exporter": "python",
   "pygments_lexer": "ipython3",
   "version": "3.5.2"
  }
 },
 "nbformat": 4,
 "nbformat_minor": 2
}
