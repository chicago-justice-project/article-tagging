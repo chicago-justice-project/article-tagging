{
 "cells": [
  {
   "cell_type": "code",
   "execution_count": 1,
   "metadata": {
    "collapsed": false
   },
   "outputs": [],
   "source": [
    "import load_data as ld\n",
    "import matplotlib\n",
    "import matplotlib.pyplot as plt\n",
    "import numpy as np\n",
    "import pandas as pd\n",
    "import sklearn.feature_extraction.text\n",
    "import sklearn.multiclass\n",
    "import sklearn.linear_model\n",
    "% matplotlib inline\n",
    "plt.rcParams['figure.figsize'] = 12, 8"
   ]
  },
  {
   "cell_type": "code",
   "execution_count": 2,
   "metadata": {
    "collapsed": false
   },
   "outputs": [
    {
     "name": "stderr",
     "output_type": "stream",
     "text": [
      "C:\\Users\\kevin.rose\\AppData\\Local\\Continuum\\Anaconda2\\envs\\py35\\lib\\site-packages\\IPython\\core\\interactiveshell.py:2881: DtypeWarning: Columns (3) have mixed types. Specify dtype option on import or set low_memory=False.\n",
      "  exec(code_obj, self.user_global_ns, self.user_ns)\n"
     ]
    }
   ],
   "source": [
    "df = ld.load_data()"
   ]
  },
  {
   "cell_type": "code",
   "execution_count": 3,
   "metadata": {
    "collapsed": false
   },
   "outputs": [
    {
     "name": "stdout",
     "output_type": "stream",
     "text": [
      "(112091, 45)\n",
      "(34253, 45)\n",
      "(23977, 45)\n",
      "(10276, 45)\n"
     ]
    }
   ],
   "source": [
    "crime_df = df.ix[df['relevant'], :]\n",
    "print(crime_df.shape)\n",
    "crime_df = crime_df.ix[crime_df.loc[:, 'OEMC':'TASR'].any(1), :]\n",
    "print(crime_df.shape)\n",
    "\n",
    "idx = np.random.permutation(crime_df.shape[0])\n",
    "trn = crime_df.iloc[idx[:int(crime_df.shape[0] * 0.7)], :]\n",
    "tst = crime_df.iloc[idx[int(crime_df.shape[0] * 0.7):], :]\n",
    "print(trn.shape)\n",
    "print(tst.shape)"
   ]
  },
  {
   "cell_type": "code",
   "execution_count": 4,
   "metadata": {
    "collapsed": false
   },
   "outputs": [],
   "source": [
    "# vectorize data\n",
    "vectorizer = sklearn.feature_extraction.text.CountVectorizer(min_df=1)\n",
    "X = vectorizer.fit_transform(trn['bodytext'].values)\n",
    "\n",
    "tfidf_transformer = sklearn.feature_extraction.text.TfidfTransformer(use_idf=True,\n",
    "                                                                    smooth_idf=True)\n",
    "X = tfidf_transformer.fit_transform(X)\n",
    "\n",
    "Y = trn.loc[:, 'OEMC':'TASR'].values"
   ]
  },
  {
   "cell_type": "code",
   "execution_count": 5,
   "metadata": {
    "collapsed": false
   },
   "outputs": [
    {
     "data": {
      "text/plain": [
       "(23977, 118873)"
      ]
     },
     "execution_count": 5,
     "metadata": {},
     "output_type": "execute_result"
    }
   ],
   "source": [
    "X.shape"
   ]
  },
  {
   "cell_type": "code",
   "execution_count": 6,
   "metadata": {
    "collapsed": false
   },
   "outputs": [
    {
     "data": {
      "text/plain": [
       "OneVsRestClassifier(estimator=LogisticRegression(C=1.0, class_weight=None, dual=False, fit_intercept=True,\n",
       "          intercept_scaling=1, max_iter=100, multi_class='ovr', n_jobs=1,\n",
       "          penalty='l2', random_state=None, solver='liblinear', tol=0.0001,\n",
       "          verbose=0, warm_start=False),\n",
       "          n_jobs=1)"
      ]
     },
     "execution_count": 6,
     "metadata": {},
     "output_type": "execute_result"
    }
   ],
   "source": [
    "clf = sklearn.multiclass.OneVsRestClassifier(\n",
    "    sklearn.linear_model.LogisticRegression()\n",
    ")\n",
    "clf.fit(X, Y)"
   ]
  },
  {
   "cell_type": "code",
   "execution_count": 7,
   "metadata": {
    "collapsed": false
   },
   "outputs": [],
   "source": [
    "X_tst = tfidf_transformer.transform(vectorizer.transform(tst['bodytext'].values))\n",
    "Y_tst = tst.loc[:, 'OEMC':'TASR'].values\n",
    "\n",
    "Y_hat = clf.predict_proba(X_tst)"
   ]
  },
  {
   "cell_type": "code",
   "execution_count": 8,
   "metadata": {
    "collapsed": false,
    "scrolled": false
   },
   "outputs": [
    {
     "data": {
      "text/html": [
       "<div>\n",
       "<table border=\"1\" class=\"dataframe\">\n",
       "  <thead>\n",
       "    <tr style=\"text-align: right;\">\n",
       "      <th></th>\n",
       "      <th>TP</th>\n",
       "      <th>FP</th>\n",
       "      <th>TN</th>\n",
       "      <th>FN</th>\n",
       "      <th>TPR</th>\n",
       "      <th>FPR</th>\n",
       "      <th>PPV</th>\n",
       "    </tr>\n",
       "  </thead>\n",
       "  <tbody>\n",
       "    <tr>\n",
       "      <th>OEMC</th>\n",
       "      <td>0.0</td>\n",
       "      <td>0.0</td>\n",
       "      <td>10231.0</td>\n",
       "      <td>45.0</td>\n",
       "      <td>0.000000</td>\n",
       "      <td>0.000000</td>\n",
       "      <td>NaN</td>\n",
       "    </tr>\n",
       "    <tr>\n",
       "      <th>CPD</th>\n",
       "      <td>4505.0</td>\n",
       "      <td>1029.0</td>\n",
       "      <td>3934.0</td>\n",
       "      <td>808.0</td>\n",
       "      <td>0.847920</td>\n",
       "      <td>0.207334</td>\n",
       "      <td>0.814059</td>\n",
       "    </tr>\n",
       "    <tr>\n",
       "      <th>SAO</th>\n",
       "      <td>332.0</td>\n",
       "      <td>82.0</td>\n",
       "      <td>9199.0</td>\n",
       "      <td>663.0</td>\n",
       "      <td>0.333668</td>\n",
       "      <td>0.008835</td>\n",
       "      <td>0.801932</td>\n",
       "    </tr>\n",
       "    <tr>\n",
       "      <th>CCCC</th>\n",
       "      <td>95.0</td>\n",
       "      <td>31.0</td>\n",
       "      <td>9505.0</td>\n",
       "      <td>645.0</td>\n",
       "      <td>0.128378</td>\n",
       "      <td>0.003251</td>\n",
       "      <td>0.753968</td>\n",
       "    </tr>\n",
       "    <tr>\n",
       "      <th>CCJ</th>\n",
       "      <td>57.0</td>\n",
       "      <td>8.0</td>\n",
       "      <td>9992.0</td>\n",
       "      <td>219.0</td>\n",
       "      <td>0.206522</td>\n",
       "      <td>0.000800</td>\n",
       "      <td>0.876923</td>\n",
       "    </tr>\n",
       "    <tr>\n",
       "      <th>CCSP</th>\n",
       "      <td>146.0</td>\n",
       "      <td>24.0</td>\n",
       "      <td>9851.0</td>\n",
       "      <td>255.0</td>\n",
       "      <td>0.364090</td>\n",
       "      <td>0.002430</td>\n",
       "      <td>0.858824</td>\n",
       "    </tr>\n",
       "    <tr>\n",
       "      <th>CPUB</th>\n",
       "      <td>0.0</td>\n",
       "      <td>0.0</td>\n",
       "      <td>10212.0</td>\n",
       "      <td>64.0</td>\n",
       "      <td>0.000000</td>\n",
       "      <td>0.000000</td>\n",
       "      <td>NaN</td>\n",
       "    </tr>\n",
       "    <tr>\n",
       "      <th>IDOC</th>\n",
       "      <td>1.0</td>\n",
       "      <td>0.0</td>\n",
       "      <td>10189.0</td>\n",
       "      <td>86.0</td>\n",
       "      <td>0.011494</td>\n",
       "      <td>0.000000</td>\n",
       "      <td>1.000000</td>\n",
       "    </tr>\n",
       "    <tr>\n",
       "      <th>DOMV</th>\n",
       "      <td>143.0</td>\n",
       "      <td>26.0</td>\n",
       "      <td>9741.0</td>\n",
       "      <td>366.0</td>\n",
       "      <td>0.280943</td>\n",
       "      <td>0.002662</td>\n",
       "      <td>0.846154</td>\n",
       "    </tr>\n",
       "    <tr>\n",
       "      <th>SEXA</th>\n",
       "      <td>484.0</td>\n",
       "      <td>29.0</td>\n",
       "      <td>9506.0</td>\n",
       "      <td>257.0</td>\n",
       "      <td>0.653171</td>\n",
       "      <td>0.003041</td>\n",
       "      <td>0.943470</td>\n",
       "    </tr>\n",
       "    <tr>\n",
       "      <th>POLB</th>\n",
       "      <td>48.0</td>\n",
       "      <td>3.0</td>\n",
       "      <td>10098.0</td>\n",
       "      <td>127.0</td>\n",
       "      <td>0.274286</td>\n",
       "      <td>0.000297</td>\n",
       "      <td>0.941176</td>\n",
       "    </tr>\n",
       "    <tr>\n",
       "      <th>POLM</th>\n",
       "      <td>84.0</td>\n",
       "      <td>20.0</td>\n",
       "      <td>9928.0</td>\n",
       "      <td>244.0</td>\n",
       "      <td>0.256098</td>\n",
       "      <td>0.002010</td>\n",
       "      <td>0.807692</td>\n",
       "    </tr>\n",
       "    <tr>\n",
       "      <th>GUNV</th>\n",
       "      <td>3422.0</td>\n",
       "      <td>211.0</td>\n",
       "      <td>6112.0</td>\n",
       "      <td>531.0</td>\n",
       "      <td>0.865672</td>\n",
       "      <td>0.033370</td>\n",
       "      <td>0.941921</td>\n",
       "    </tr>\n",
       "    <tr>\n",
       "      <th>GLBTQ</th>\n",
       "      <td>1.0</td>\n",
       "      <td>0.0</td>\n",
       "      <td>10226.0</td>\n",
       "      <td>49.0</td>\n",
       "      <td>0.020000</td>\n",
       "      <td>0.000000</td>\n",
       "      <td>1.000000</td>\n",
       "    </tr>\n",
       "    <tr>\n",
       "      <th>JUVE</th>\n",
       "      <td>302.0</td>\n",
       "      <td>118.0</td>\n",
       "      <td>9092.0</td>\n",
       "      <td>764.0</td>\n",
       "      <td>0.283302</td>\n",
       "      <td>0.012812</td>\n",
       "      <td>0.719048</td>\n",
       "    </tr>\n",
       "    <tr>\n",
       "      <th>REEN</th>\n",
       "      <td>0.0</td>\n",
       "      <td>0.0</td>\n",
       "      <td>10240.0</td>\n",
       "      <td>36.0</td>\n",
       "      <td>0.000000</td>\n",
       "      <td>0.000000</td>\n",
       "      <td>NaN</td>\n",
       "    </tr>\n",
       "    <tr>\n",
       "      <th>VIOL</th>\n",
       "      <td>3380.0</td>\n",
       "      <td>1104.0</td>\n",
       "      <td>4622.0</td>\n",
       "      <td>1170.0</td>\n",
       "      <td>0.742857</td>\n",
       "      <td>0.192805</td>\n",
       "      <td>0.753791</td>\n",
       "    </tr>\n",
       "    <tr>\n",
       "      <th>BEAT</th>\n",
       "      <td>22.0</td>\n",
       "      <td>3.0</td>\n",
       "      <td>10167.0</td>\n",
       "      <td>84.0</td>\n",
       "      <td>0.207547</td>\n",
       "      <td>0.000295</td>\n",
       "      <td>0.880000</td>\n",
       "    </tr>\n",
       "    <tr>\n",
       "      <th>PROB</th>\n",
       "      <td>7.0</td>\n",
       "      <td>0.0</td>\n",
       "      <td>10180.0</td>\n",
       "      <td>89.0</td>\n",
       "      <td>0.072917</td>\n",
       "      <td>0.000000</td>\n",
       "      <td>1.000000</td>\n",
       "    </tr>\n",
       "    <tr>\n",
       "      <th>PARL</th>\n",
       "      <td>3.0</td>\n",
       "      <td>0.0</td>\n",
       "      <td>10157.0</td>\n",
       "      <td>116.0</td>\n",
       "      <td>0.025210</td>\n",
       "      <td>0.000000</td>\n",
       "      <td>1.000000</td>\n",
       "    </tr>\n",
       "    <tr>\n",
       "      <th>CPLY</th>\n",
       "      <td>2.0</td>\n",
       "      <td>1.0</td>\n",
       "      <td>10110.0</td>\n",
       "      <td>163.0</td>\n",
       "      <td>0.012121</td>\n",
       "      <td>0.000099</td>\n",
       "      <td>0.666667</td>\n",
       "    </tr>\n",
       "    <tr>\n",
       "      <th>DRUG</th>\n",
       "      <td>253.0</td>\n",
       "      <td>24.0</td>\n",
       "      <td>9563.0</td>\n",
       "      <td>436.0</td>\n",
       "      <td>0.367199</td>\n",
       "      <td>0.002503</td>\n",
       "      <td>0.913357</td>\n",
       "    </tr>\n",
       "    <tr>\n",
       "      <th>CPS</th>\n",
       "      <td>125.0</td>\n",
       "      <td>16.0</td>\n",
       "      <td>9967.0</td>\n",
       "      <td>168.0</td>\n",
       "      <td>0.426621</td>\n",
       "      <td>0.001603</td>\n",
       "      <td>0.886525</td>\n",
       "    </tr>\n",
       "    <tr>\n",
       "      <th>GANG</th>\n",
       "      <td>502.0</td>\n",
       "      <td>71.0</td>\n",
       "      <td>9229.0</td>\n",
       "      <td>474.0</td>\n",
       "      <td>0.514344</td>\n",
       "      <td>0.007634</td>\n",
       "      <td>0.876091</td>\n",
       "    </tr>\n",
       "    <tr>\n",
       "      <th>ILSP</th>\n",
       "      <td>58.0</td>\n",
       "      <td>8.0</td>\n",
       "      <td>10012.0</td>\n",
       "      <td>198.0</td>\n",
       "      <td>0.226562</td>\n",
       "      <td>0.000798</td>\n",
       "      <td>0.878788</td>\n",
       "    </tr>\n",
       "    <tr>\n",
       "      <th>HOMI</th>\n",
       "      <td>2693.0</td>\n",
       "      <td>311.0</td>\n",
       "      <td>6684.0</td>\n",
       "      <td>588.0</td>\n",
       "      <td>0.820786</td>\n",
       "      <td>0.044460</td>\n",
       "      <td>0.896471</td>\n",
       "    </tr>\n",
       "    <tr>\n",
       "      <th>IPRA</th>\n",
       "      <td>23.0</td>\n",
       "      <td>7.0</td>\n",
       "      <td>10158.0</td>\n",
       "      <td>88.0</td>\n",
       "      <td>0.207207</td>\n",
       "      <td>0.000689</td>\n",
       "      <td>0.766667</td>\n",
       "    </tr>\n",
       "    <tr>\n",
       "      <th>CPBD</th>\n",
       "      <td>0.0</td>\n",
       "      <td>0.0</td>\n",
       "      <td>10229.0</td>\n",
       "      <td>47.0</td>\n",
       "      <td>0.000000</td>\n",
       "      <td>0.000000</td>\n",
       "      <td>NaN</td>\n",
       "    </tr>\n",
       "    <tr>\n",
       "      <th>IMMG</th>\n",
       "      <td>0.0</td>\n",
       "      <td>0.0</td>\n",
       "      <td>10238.0</td>\n",
       "      <td>38.0</td>\n",
       "      <td>0.000000</td>\n",
       "      <td>0.000000</td>\n",
       "      <td>NaN</td>\n",
       "    </tr>\n",
       "    <tr>\n",
       "      <th>ENVI</th>\n",
       "      <td>0.0</td>\n",
       "      <td>0.0</td>\n",
       "      <td>10260.0</td>\n",
       "      <td>16.0</td>\n",
       "      <td>0.000000</td>\n",
       "      <td>0.000000</td>\n",
       "      <td>NaN</td>\n",
       "    </tr>\n",
       "    <tr>\n",
       "      <th>UNSPC</th>\n",
       "      <td>1301.0</td>\n",
       "      <td>438.0</td>\n",
       "      <td>7023.0</td>\n",
       "      <td>1514.0</td>\n",
       "      <td>0.462167</td>\n",
       "      <td>0.058705</td>\n",
       "      <td>0.748131</td>\n",
       "    </tr>\n",
       "    <tr>\n",
       "      <th>ILSC</th>\n",
       "      <td>0.0</td>\n",
       "      <td>0.0</td>\n",
       "      <td>10231.0</td>\n",
       "      <td>45.0</td>\n",
       "      <td>0.000000</td>\n",
       "      <td>0.000000</td>\n",
       "      <td>NaN</td>\n",
       "    </tr>\n",
       "    <tr>\n",
       "      <th>ARSN</th>\n",
       "      <td>28.0</td>\n",
       "      <td>7.0</td>\n",
       "      <td>10157.0</td>\n",
       "      <td>84.0</td>\n",
       "      <td>0.250000</td>\n",
       "      <td>0.000689</td>\n",
       "      <td>0.800000</td>\n",
       "    </tr>\n",
       "    <tr>\n",
       "      <th>BURG</th>\n",
       "      <td>82.0</td>\n",
       "      <td>13.0</td>\n",
       "      <td>9908.0</td>\n",
       "      <td>273.0</td>\n",
       "      <td>0.230986</td>\n",
       "      <td>0.001310</td>\n",
       "      <td>0.863158</td>\n",
       "    </tr>\n",
       "    <tr>\n",
       "      <th>DUI</th>\n",
       "      <td>166.0</td>\n",
       "      <td>27.0</td>\n",
       "      <td>9911.0</td>\n",
       "      <td>172.0</td>\n",
       "      <td>0.491124</td>\n",
       "      <td>0.002717</td>\n",
       "      <td>0.860104</td>\n",
       "    </tr>\n",
       "    <tr>\n",
       "      <th>FRUD</th>\n",
       "      <td>199.0</td>\n",
       "      <td>44.0</td>\n",
       "      <td>9774.0</td>\n",
       "      <td>259.0</td>\n",
       "      <td>0.434498</td>\n",
       "      <td>0.004482</td>\n",
       "      <td>0.818930</td>\n",
       "    </tr>\n",
       "    <tr>\n",
       "      <th>ROBB</th>\n",
       "      <td>862.0</td>\n",
       "      <td>81.0</td>\n",
       "      <td>8702.0</td>\n",
       "      <td>631.0</td>\n",
       "      <td>0.577361</td>\n",
       "      <td>0.009222</td>\n",
       "      <td>0.914104</td>\n",
       "    </tr>\n",
       "    <tr>\n",
       "      <th>TASR</th>\n",
       "      <td>0.0</td>\n",
       "      <td>0.0</td>\n",
       "      <td>10246.0</td>\n",
       "      <td>30.0</td>\n",
       "      <td>0.000000</td>\n",
       "      <td>0.000000</td>\n",
       "      <td>NaN</td>\n",
       "    </tr>\n",
       "  </tbody>\n",
       "</table>\n",
       "</div>"
      ],
      "text/plain": [
       "           TP      FP       TN      FN       TPR       FPR       PPV\n",
       "OEMC      0.0     0.0  10231.0    45.0  0.000000  0.000000       NaN\n",
       "CPD    4505.0  1029.0   3934.0   808.0  0.847920  0.207334  0.814059\n",
       "SAO     332.0    82.0   9199.0   663.0  0.333668  0.008835  0.801932\n",
       "CCCC     95.0    31.0   9505.0   645.0  0.128378  0.003251  0.753968\n",
       "CCJ      57.0     8.0   9992.0   219.0  0.206522  0.000800  0.876923\n",
       "CCSP    146.0    24.0   9851.0   255.0  0.364090  0.002430  0.858824\n",
       "CPUB      0.0     0.0  10212.0    64.0  0.000000  0.000000       NaN\n",
       "IDOC      1.0     0.0  10189.0    86.0  0.011494  0.000000  1.000000\n",
       "DOMV    143.0    26.0   9741.0   366.0  0.280943  0.002662  0.846154\n",
       "SEXA    484.0    29.0   9506.0   257.0  0.653171  0.003041  0.943470\n",
       "POLB     48.0     3.0  10098.0   127.0  0.274286  0.000297  0.941176\n",
       "POLM     84.0    20.0   9928.0   244.0  0.256098  0.002010  0.807692\n",
       "GUNV   3422.0   211.0   6112.0   531.0  0.865672  0.033370  0.941921\n",
       "GLBTQ     1.0     0.0  10226.0    49.0  0.020000  0.000000  1.000000\n",
       "JUVE    302.0   118.0   9092.0   764.0  0.283302  0.012812  0.719048\n",
       "REEN      0.0     0.0  10240.0    36.0  0.000000  0.000000       NaN\n",
       "VIOL   3380.0  1104.0   4622.0  1170.0  0.742857  0.192805  0.753791\n",
       "BEAT     22.0     3.0  10167.0    84.0  0.207547  0.000295  0.880000\n",
       "PROB      7.0     0.0  10180.0    89.0  0.072917  0.000000  1.000000\n",
       "PARL      3.0     0.0  10157.0   116.0  0.025210  0.000000  1.000000\n",
       "CPLY      2.0     1.0  10110.0   163.0  0.012121  0.000099  0.666667\n",
       "DRUG    253.0    24.0   9563.0   436.0  0.367199  0.002503  0.913357\n",
       "CPS     125.0    16.0   9967.0   168.0  0.426621  0.001603  0.886525\n",
       "GANG    502.0    71.0   9229.0   474.0  0.514344  0.007634  0.876091\n",
       "ILSP     58.0     8.0  10012.0   198.0  0.226562  0.000798  0.878788\n",
       "HOMI   2693.0   311.0   6684.0   588.0  0.820786  0.044460  0.896471\n",
       "IPRA     23.0     7.0  10158.0    88.0  0.207207  0.000689  0.766667\n",
       "CPBD      0.0     0.0  10229.0    47.0  0.000000  0.000000       NaN\n",
       "IMMG      0.0     0.0  10238.0    38.0  0.000000  0.000000       NaN\n",
       "ENVI      0.0     0.0  10260.0    16.0  0.000000  0.000000       NaN\n",
       "UNSPC  1301.0   438.0   7023.0  1514.0  0.462167  0.058705  0.748131\n",
       "ILSC      0.0     0.0  10231.0    45.0  0.000000  0.000000       NaN\n",
       "ARSN     28.0     7.0  10157.0    84.0  0.250000  0.000689  0.800000\n",
       "BURG     82.0    13.0   9908.0   273.0  0.230986  0.001310  0.863158\n",
       "DUI     166.0    27.0   9911.0   172.0  0.491124  0.002717  0.860104\n",
       "FRUD    199.0    44.0   9774.0   259.0  0.434498  0.004482  0.818930\n",
       "ROBB    862.0    81.0   8702.0   631.0  0.577361  0.009222  0.914104\n",
       "TASR      0.0     0.0  10246.0    30.0  0.000000  0.000000       NaN"
      ]
     },
     "execution_count": 8,
     "metadata": {},
     "output_type": "execute_result"
    }
   ],
   "source": [
    "perf = pd.DataFrame()\n",
    "\n",
    "for i in range(Y_hat.shape[1]):\n",
    "    tag = tst.columns[7+i]\n",
    "    perf.loc['TP', tag] = sum((Y_hat[:,i] > .5) & (Y_tst[:,i] == 1))\n",
    "    perf.loc['FP', tag] = sum((Y_hat[:,i] > .5) & (Y_tst[:,i] == 0))\n",
    "    perf.loc['TN', tag] = sum((Y_hat[:,i] < .5) & (Y_tst[:,i] == 0))\n",
    "    perf.loc['FN', tag] = sum((Y_hat[:,i] < .5) & (Y_tst[:,i] == 1))\n",
    "    perf.loc['TPR', tag] = perf.loc['TP', tag] / (perf.loc['TP', tag] + perf.loc['FN', tag])\n",
    "    perf.loc['FPR', tag] = perf.loc['FP', tag] / (perf.loc['FP', tag] + perf.loc['TN', tag])\n",
    "    perf.loc['PPV', tag] = perf.loc['TP', tag] / (perf.loc['TP', tag] + perf.loc['FP', tag])\n",
    "\n",
    "perf = perf.T\n",
    "perf"
   ]
  },
  {
   "cell_type": "code",
   "execution_count": 9,
   "metadata": {
    "collapsed": false
   },
   "outputs": [
    {
     "data": {
      "image/png": "[encoded data removed]",
      "text/plain": [
       "<matplotlib.figure.Figure at 0x1870fed5390>"
      ]
     },
     "metadata": {},
     "output_type": "display_data"
    }
   ],
   "source": [
    "perf['TPR'].plot(kind='bar', ylim=[0,1], width=.9)\n",
    "plt.ylabel('TPR');"
   ]
  },
  {
   "cell_type": "code",
   "execution_count": 10,
   "metadata": {
    "collapsed": false
   },
   "outputs": [
    {
     "data": {
      "image/png": "[encoded data removed]",
      "text/plain": [
       "<matplotlib.figure.Figure at 0x18759fac390>"
      ]
     },
     "metadata": {},
     "output_type": "display_data"
    }
   ],
   "source": [
    "(1 - perf['FPR']).plot(kind='bar', ylim=[0,1], width=.9)\n",
    "plt.ylabel('1 - FPR');"
   ]
  },
  {
   "cell_type": "code",
   "execution_count": 11,
   "metadata": {
    "collapsed": false
   },
   "outputs": [
    {
     "data": {
      "image/png": "[encoded data removed]",
      "text/plain": [
       "<matplotlib.figure.Figure at 0x187587497b8>"
      ]
     },
     "metadata": {},
     "output_type": "display_data"
    }
   ],
   "source": [
    "perf['PPV'].plot(kind='bar', ylim=[0,1], width=.9)\n",
    "plt.ylabel('PPV');"
   ]
  },
  {
   "cell_type": "code",
   "execution_count": 12,
   "metadata": {
    "collapsed": false
   },
   "outputs": [
    {
     "data": {
      "text/plain": [
       "[<matplotlib.lines.Line2D at 0x18759d93e10>]"
      ]
     },
     "execution_count": 12,
     "metadata": {},
     "output_type": "execute_result"
    },
    {
     "data": {
      "image/png": "[encoded data removed]",
      "text/plain": [
       "<matplotlib.figure.Figure at 0x18759dce5c0>"
      ]
     },
     "metadata": {},
     "output_type": "display_data"
    }
   ],
   "source": [
    "plt.plot(X_tst[:, 0].todense())"
   ]
  },
  {
   "cell_type": "code",
   "execution_count": null,
   "metadata": {
    "collapsed": true
   },
   "outputs": [],
   "source": []
  },
  {
   "cell_type": "code",
   "execution_count": 13,
   "metadata": {
    "collapsed": true
   },
   "outputs": [],
   "source": [
    "import benchmark_tagging as bt"
   ]
  },
  {
   "cell_type": "code",
   "execution_count": 14,
   "metadata": {
    "collapsed": false
   },
   "outputs": [
    {
     "name": "stdout",
     "output_type": "stream",
     "text": [
      "[0.96019444922441555, 0.96012219032926238, 0.95974726024450363, 0.96029428938456152]\n"
     ]
    }
   ],
   "source": [
    "print(bt.benchmark(\n",
    "    lambda: sklearn.multiclass.OneVsRestClassifier(\n",
    "        sklearn.linear_model.LogisticRegression()\n",
    "    ),\n",
    "    tfidf_transformer.transform(vectorizer.transform(crime_df['bodytext'].values)),\n",
    "    crime_df.loc[:, 'OEMC':'TASR'].values\n",
    "))"
   ]
  },
  {
   "cell_type": "code",
   "execution_count": 15,
   "metadata": {
    "collapsed": true
   },
   "outputs": [],
   "source": [
    "from importlib import reload"
   ]
  },
  {
   "cell_type": "code",
   "execution_count": 16,
   "metadata": {
    "collapsed": false
   },
   "outputs": [
    {
     "data": {
      "text/plain": [
       "<module 'benchmark_tagging' from 'C:\\\\Users\\\\kevin.rose\\\\Documents\\\\GitHub\\\\cjp-article-tagging\\\\src\\\\benchmark_tagging.py'>"
      ]
     },
     "execution_count": 16,
     "metadata": {},
     "output_type": "execute_result"
    }
   ],
   "source": [
    "reload(bt)"
   ]
  },
  {
   "cell_type": "code",
   "execution_count": 17,
   "metadata": {
    "collapsed": false
   },
   "outputs": [
    {
     "name": "stdout",
     "output_type": "stream",
     "text": [
      "0.960089547296\n"
     ]
    }
   ],
   "source": [
    "print(np.mean([0.96019444922441555, 0.96012219032926238, 0.95974726024450363, 0.96029428938456152]))"
   ]
  },
  {
   "cell_type": "code",
   "execution_count": null,
   "metadata": {
    "collapsed": true
   },
   "outputs": [],
   "source": []
  }
 ],
 "metadata": {
  "anaconda-cloud": {},
  "kernelspec": {
   "display_name": "Python [conda env:py35]",
   "language": "python",
   "name": "conda-env-py35-py"
  },
  "language_info": {
   "codemirror_mode": {
    "name": "ipython",
    "version": 3
   },
   "file_extension": ".py",
   "mimetype": "text/x-python",
   "name": "python",
   "nbconvert_exporter": "python",
   "pygments_lexer": "ipython3",
   "version": "3.5.2"
  }
 },
 "nbformat": 4,
 "nbformat_minor": 2
}
