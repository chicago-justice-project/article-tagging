{
 "cells": [
  {
   "cell_type": "code",
   "execution_count": null,
   "metadata": {
    "collapsed": true
   },
   "outputs": [],
   "source": [
    "import load_data as ld\n",
    "import matplotlib\n",
    "import matplotlib.pyplot as plt\n",
    "import seaborn as sns\n",
    "import numpy as np\n",
    "import pandas as pd\n",
    "import sklearn\n",
    "import sklearn.feature_extraction.text\n",
    "import sklearn.multiclass\n",
    "import sklearn.linear_model\n",
    "% matplotlib inline\n",
    "plt.rcParams['figure.figsize'] = 12, 8"
   ]
  },
  {
   "cell_type": "code",
   "execution_count": null,
   "metadata": {
    "collapsed": false
   },
   "outputs": [
    {
     "name": "stderr",
     "output_type": "stream",
     "text": [
      "C:\\Users\\kevin.rose\\AppData\\Local\\Continuum\\Anaconda2\\envs\\py35\\lib\\site-packages\\IPython\\core\\interactiveshell.py:2881: DtypeWarning: Columns (3) have mixed types. Specify dtype option on import or set low_memory=False.\n",
      "  exec(code_obj, self.user_global_ns, self.user_ns)\n"
     ]
    }
   ],
   "source": [
    "df = ld.load_data()"
   ]
  },
  {
   "cell_type": "code",
   "execution_count": null,
   "metadata": {
    "collapsed": false
   },
   "outputs": [],
   "source": [
    "crime_df = df.ix[df['relevant'], :]\n",
    "print(crime_df.shape)\n",
    "crime_df = crime_df.ix[crime_df.loc[:, 'OEMC':'TASR'].any(1), :]\n",
    "print(crime_df.shape)\n",
    "\n",
    "idx = np.random.permutation(crime_df.shape[0])\n",
    "trn = crime_df.iloc[idx[:int(crime_df.shape[0] * 0.7)], :]\n",
    "tst = crime_df.iloc[idx[int(crime_df.shape[0] * 0.7):], :]\n",
    "print(trn.shape)\n",
    "print(tst.shape)"
   ]
  },
  {
   "cell_type": "code",
   "execution_count": null,
   "metadata": {
    "collapsed": true
   },
   "outputs": [],
   "source": [
    "crime_df.loc[:, 'OEMC':'TASR'].columns()"
   ]
  },
  {
   "cell_type": "code",
   "execution_count": null,
   "metadata": {
    "collapsed": true
   },
   "outputs": [],
   "source": []
  },
  {
   "cell_type": "code",
   "execution_count": null,
   "metadata": {
    "collapsed": true
   },
   "outputs": [],
   "source": []
  },
  {
   "cell_type": "code",
   "execution_count": null,
   "metadata": {
    "collapsed": true
   },
   "outputs": [],
   "source": []
  },
  {
   "cell_type": "code",
   "execution_count": 4,
   "metadata": {
    "collapsed": false
   },
   "outputs": [],
   "source": [
    "# vectorize data\n",
    "vectorizer = sklearn.feature_extraction.text.CountVectorizer(binary=True)\n",
    "X = vectorizer.fit_transform(trn['bodytext'].values)\n",
    "\n",
    "Y = trn.loc[:, 'OEMC':'TASR'].values"
   ]
  },
  {
   "cell_type": "code",
   "execution_count": 5,
   "metadata": {
    "collapsed": false
   },
   "outputs": [
    {
     "data": {
      "text/plain": [
       "(23977, 118645)"
      ]
     },
     "execution_count": 5,
     "metadata": {},
     "output_type": "execute_result"
    }
   ],
   "source": [
    "X.shape"
   ]
  },
  {
   "cell_type": "code",
   "execution_count": 6,
   "metadata": {
    "collapsed": false
   },
   "outputs": [
    {
     "data": {
      "text/plain": [
       "OneVsRestClassifier(estimator=LogisticRegression(C=1.0, class_weight=None, dual=False, fit_intercept=True,\n",
       "          intercept_scaling=1, max_iter=100, multi_class='ovr', n_jobs=1,\n",
       "          penalty='l2', random_state=None, solver='liblinear', tol=0.0001,\n",
       "          verbose=0, warm_start=False),\n",
       "          n_jobs=1)"
      ]
     },
     "execution_count": 6,
     "metadata": {},
     "output_type": "execute_result"
    }
   ],
   "source": [
    "clf = sklearn.multiclass.OneVsRestClassifier(\n",
    "    sklearn.linear_model.LogisticRegression()\n",
    ")\n",
    "clf.fit(X, Y)"
   ]
  },
  {
   "cell_type": "code",
   "execution_count": 7,
   "metadata": {
    "collapsed": false
   },
   "outputs": [],
   "source": [
    "X_tst = vectorizer.transform(tst['bodytext'].values)\n",
    "Y_tst = tst.loc[:, 'OEMC':'TASR'].values\n",
    "\n",
    "Y_hat = clf.predict_proba(X_tst)"
   ]
  },
  {
   "cell_type": "code",
   "execution_count": 8,
   "metadata": {
    "collapsed": false,
    "scrolled": false
   },
   "outputs": [
    {
     "data": {
      "text/html": [
       "<div>\n",
       "<table border=\"1\" class=\"dataframe\">\n",
       "  <thead>\n",
       "    <tr style=\"text-align: right;\">\n",
       "      <th></th>\n",
       "      <th>TP</th>\n",
       "      <th>FP</th>\n",
       "      <th>TN</th>\n",
       "      <th>FN</th>\n",
       "      <th>TPR</th>\n",
       "      <th>FPR</th>\n",
       "      <th>PPV</th>\n",
       "    </tr>\n",
       "  </thead>\n",
       "  <tbody>\n",
       "    <tr>\n",
       "      <th>OEMC</th>\n",
       "      <td>7.0</td>\n",
       "      <td>1.0</td>\n",
       "      <td>10240.0</td>\n",
       "      <td>28.0</td>\n",
       "      <td>0.200000</td>\n",
       "      <td>0.000098</td>\n",
       "      <td>0.875000</td>\n",
       "    </tr>\n",
       "    <tr>\n",
       "      <th>CPD</th>\n",
       "      <td>4389.0</td>\n",
       "      <td>1058.0</td>\n",
       "      <td>3978.0</td>\n",
       "      <td>851.0</td>\n",
       "      <td>0.837595</td>\n",
       "      <td>0.210087</td>\n",
       "      <td>0.805765</td>\n",
       "    </tr>\n",
       "    <tr>\n",
       "      <th>SAO</th>\n",
       "      <td>659.0</td>\n",
       "      <td>242.0</td>\n",
       "      <td>8991.0</td>\n",
       "      <td>384.0</td>\n",
       "      <td>0.631831</td>\n",
       "      <td>0.026210</td>\n",
       "      <td>0.731410</td>\n",
       "    </tr>\n",
       "    <tr>\n",
       "      <th>CCCC</th>\n",
       "      <td>358.0</td>\n",
       "      <td>235.0</td>\n",
       "      <td>9323.0</td>\n",
       "      <td>360.0</td>\n",
       "      <td>0.498607</td>\n",
       "      <td>0.024587</td>\n",
       "      <td>0.603710</td>\n",
       "    </tr>\n",
       "    <tr>\n",
       "      <th>CCJ</th>\n",
       "      <td>132.0</td>\n",
       "      <td>49.0</td>\n",
       "      <td>9969.0</td>\n",
       "      <td>126.0</td>\n",
       "      <td>0.511628</td>\n",
       "      <td>0.004891</td>\n",
       "      <td>0.729282</td>\n",
       "    </tr>\n",
       "    <tr>\n",
       "      <th>CCSP</th>\n",
       "      <td>298.0</td>\n",
       "      <td>73.0</td>\n",
       "      <td>9783.0</td>\n",
       "      <td>122.0</td>\n",
       "      <td>0.709524</td>\n",
       "      <td>0.007407</td>\n",
       "      <td>0.803235</td>\n",
       "    </tr>\n",
       "    <tr>\n",
       "      <th>CPUB</th>\n",
       "      <td>30.0</td>\n",
       "      <td>13.0</td>\n",
       "      <td>10199.0</td>\n",
       "      <td>34.0</td>\n",
       "      <td>0.468750</td>\n",
       "      <td>0.001273</td>\n",
       "      <td>0.697674</td>\n",
       "    </tr>\n",
       "    <tr>\n",
       "      <th>IDOC</th>\n",
       "      <td>34.0</td>\n",
       "      <td>11.0</td>\n",
       "      <td>10171.0</td>\n",
       "      <td>60.0</td>\n",
       "      <td>0.361702</td>\n",
       "      <td>0.001080</td>\n",
       "      <td>0.755556</td>\n",
       "    </tr>\n",
       "    <tr>\n",
       "      <th>DOMV</th>\n",
       "      <td>325.0</td>\n",
       "      <td>114.0</td>\n",
       "      <td>9653.0</td>\n",
       "      <td>184.0</td>\n",
       "      <td>0.638507</td>\n",
       "      <td>0.011672</td>\n",
       "      <td>0.740319</td>\n",
       "    </tr>\n",
       "    <tr>\n",
       "      <th>SEXA</th>\n",
       "      <td>600.0</td>\n",
       "      <td>65.0</td>\n",
       "      <td>9501.0</td>\n",
       "      <td>110.0</td>\n",
       "      <td>0.845070</td>\n",
       "      <td>0.006795</td>\n",
       "      <td>0.902256</td>\n",
       "    </tr>\n",
       "    <tr>\n",
       "      <th>POLB</th>\n",
       "      <td>90.0</td>\n",
       "      <td>35.0</td>\n",
       "      <td>10088.0</td>\n",
       "      <td>63.0</td>\n",
       "      <td>0.588235</td>\n",
       "      <td>0.003457</td>\n",
       "      <td>0.720000</td>\n",
       "    </tr>\n",
       "    <tr>\n",
       "      <th>POLM</th>\n",
       "      <td>167.0</td>\n",
       "      <td>46.0</td>\n",
       "      <td>9906.0</td>\n",
       "      <td>157.0</td>\n",
       "      <td>0.515432</td>\n",
       "      <td>0.004622</td>\n",
       "      <td>0.784038</td>\n",
       "    </tr>\n",
       "    <tr>\n",
       "      <th>GUNV</th>\n",
       "      <td>3569.0</td>\n",
       "      <td>303.0</td>\n",
       "      <td>6026.0</td>\n",
       "      <td>378.0</td>\n",
       "      <td>0.904231</td>\n",
       "      <td>0.047875</td>\n",
       "      <td>0.921746</td>\n",
       "    </tr>\n",
       "    <tr>\n",
       "      <th>GLBTQ</th>\n",
       "      <td>23.0</td>\n",
       "      <td>2.0</td>\n",
       "      <td>10224.0</td>\n",
       "      <td>27.0</td>\n",
       "      <td>0.460000</td>\n",
       "      <td>0.000196</td>\n",
       "      <td>0.920000</td>\n",
       "    </tr>\n",
       "    <tr>\n",
       "      <th>JUVE</th>\n",
       "      <td>535.0</td>\n",
       "      <td>338.0</td>\n",
       "      <td>8858.0</td>\n",
       "      <td>545.0</td>\n",
       "      <td>0.495370</td>\n",
       "      <td>0.036755</td>\n",
       "      <td>0.612829</td>\n",
       "    </tr>\n",
       "    <tr>\n",
       "      <th>REEN</th>\n",
       "      <td>2.0</td>\n",
       "      <td>5.0</td>\n",
       "      <td>10224.0</td>\n",
       "      <td>45.0</td>\n",
       "      <td>0.042553</td>\n",
       "      <td>0.000489</td>\n",
       "      <td>0.285714</td>\n",
       "    </tr>\n",
       "    <tr>\n",
       "      <th>VIOL</th>\n",
       "      <td>3332.0</td>\n",
       "      <td>1106.0</td>\n",
       "      <td>4605.0</td>\n",
       "      <td>1233.0</td>\n",
       "      <td>0.729901</td>\n",
       "      <td>0.193661</td>\n",
       "      <td>0.750789</td>\n",
       "    </tr>\n",
       "    <tr>\n",
       "      <th>BEAT</th>\n",
       "      <td>38.0</td>\n",
       "      <td>19.0</td>\n",
       "      <td>10159.0</td>\n",
       "      <td>60.0</td>\n",
       "      <td>0.387755</td>\n",
       "      <td>0.001867</td>\n",
       "      <td>0.666667</td>\n",
       "    </tr>\n",
       "    <tr>\n",
       "      <th>PROB</th>\n",
       "      <td>33.0</td>\n",
       "      <td>9.0</td>\n",
       "      <td>10169.0</td>\n",
       "      <td>65.0</td>\n",
       "      <td>0.336735</td>\n",
       "      <td>0.000884</td>\n",
       "      <td>0.785714</td>\n",
       "    </tr>\n",
       "    <tr>\n",
       "      <th>PARL</th>\n",
       "      <td>58.0</td>\n",
       "      <td>13.0</td>\n",
       "      <td>10126.0</td>\n",
       "      <td>79.0</td>\n",
       "      <td>0.423358</td>\n",
       "      <td>0.001282</td>\n",
       "      <td>0.816901</td>\n",
       "    </tr>\n",
       "    <tr>\n",
       "      <th>CPLY</th>\n",
       "      <td>41.0</td>\n",
       "      <td>25.0</td>\n",
       "      <td>10082.0</td>\n",
       "      <td>128.0</td>\n",
       "      <td>0.242604</td>\n",
       "      <td>0.002474</td>\n",
       "      <td>0.621212</td>\n",
       "    </tr>\n",
       "    <tr>\n",
       "      <th>DRUG</th>\n",
       "      <td>457.0</td>\n",
       "      <td>105.0</td>\n",
       "      <td>9497.0</td>\n",
       "      <td>217.0</td>\n",
       "      <td>0.678042</td>\n",
       "      <td>0.010935</td>\n",
       "      <td>0.813167</td>\n",
       "    </tr>\n",
       "    <tr>\n",
       "      <th>CPS</th>\n",
       "      <td>197.0</td>\n",
       "      <td>37.0</td>\n",
       "      <td>9936.0</td>\n",
       "      <td>106.0</td>\n",
       "      <td>0.650165</td>\n",
       "      <td>0.003710</td>\n",
       "      <td>0.841880</td>\n",
       "    </tr>\n",
       "    <tr>\n",
       "      <th>GANG</th>\n",
       "      <td>737.0</td>\n",
       "      <td>164.0</td>\n",
       "      <td>9133.0</td>\n",
       "      <td>242.0</td>\n",
       "      <td>0.752809</td>\n",
       "      <td>0.017640</td>\n",
       "      <td>0.817980</td>\n",
       "    </tr>\n",
       "    <tr>\n",
       "      <th>ILSP</th>\n",
       "      <td>135.0</td>\n",
       "      <td>38.0</td>\n",
       "      <td>9987.0</td>\n",
       "      <td>116.0</td>\n",
       "      <td>0.537849</td>\n",
       "      <td>0.003791</td>\n",
       "      <td>0.780347</td>\n",
       "    </tr>\n",
       "    <tr>\n",
       "      <th>HOMI</th>\n",
       "      <td>2770.0</td>\n",
       "      <td>388.0</td>\n",
       "      <td>6635.0</td>\n",
       "      <td>483.0</td>\n",
       "      <td>0.851522</td>\n",
       "      <td>0.055247</td>\n",
       "      <td>0.877137</td>\n",
       "    </tr>\n",
       "    <tr>\n",
       "      <th>IPRA</th>\n",
       "      <td>77.0</td>\n",
       "      <td>24.0</td>\n",
       "      <td>10141.0</td>\n",
       "      <td>34.0</td>\n",
       "      <td>0.693694</td>\n",
       "      <td>0.002361</td>\n",
       "      <td>0.762376</td>\n",
       "    </tr>\n",
       "    <tr>\n",
       "      <th>CPBD</th>\n",
       "      <td>4.0</td>\n",
       "      <td>8.0</td>\n",
       "      <td>10228.0</td>\n",
       "      <td>36.0</td>\n",
       "      <td>0.100000</td>\n",
       "      <td>0.000782</td>\n",
       "      <td>0.333333</td>\n",
       "    </tr>\n",
       "    <tr>\n",
       "      <th>IMMG</th>\n",
       "      <td>22.0</td>\n",
       "      <td>2.0</td>\n",
       "      <td>10233.0</td>\n",
       "      <td>19.0</td>\n",
       "      <td>0.536585</td>\n",
       "      <td>0.000195</td>\n",
       "      <td>0.916667</td>\n",
       "    </tr>\n",
       "    <tr>\n",
       "      <th>ENVI</th>\n",
       "      <td>3.0</td>\n",
       "      <td>0.0</td>\n",
       "      <td>10265.0</td>\n",
       "      <td>8.0</td>\n",
       "      <td>0.272727</td>\n",
       "      <td>0.000000</td>\n",
       "      <td>1.000000</td>\n",
       "    </tr>\n",
       "    <tr>\n",
       "      <th>UNSPC</th>\n",
       "      <td>1613.0</td>\n",
       "      <td>975.0</td>\n",
       "      <td>6522.0</td>\n",
       "      <td>1166.0</td>\n",
       "      <td>0.580425</td>\n",
       "      <td>0.130052</td>\n",
       "      <td>0.623261</td>\n",
       "    </tr>\n",
       "    <tr>\n",
       "      <th>ILSC</th>\n",
       "      <td>9.0</td>\n",
       "      <td>5.0</td>\n",
       "      <td>10219.0</td>\n",
       "      <td>43.0</td>\n",
       "      <td>0.173077</td>\n",
       "      <td>0.000489</td>\n",
       "      <td>0.642857</td>\n",
       "    </tr>\n",
       "    <tr>\n",
       "      <th>ARSN</th>\n",
       "      <td>77.0</td>\n",
       "      <td>7.0</td>\n",
       "      <td>10157.0</td>\n",
       "      <td>35.0</td>\n",
       "      <td>0.687500</td>\n",
       "      <td>0.000689</td>\n",
       "      <td>0.916667</td>\n",
       "    </tr>\n",
       "    <tr>\n",
       "      <th>BURG</th>\n",
       "      <td>215.0</td>\n",
       "      <td>69.0</td>\n",
       "      <td>9815.0</td>\n",
       "      <td>177.0</td>\n",
       "      <td>0.548469</td>\n",
       "      <td>0.006981</td>\n",
       "      <td>0.757042</td>\n",
       "    </tr>\n",
       "    <tr>\n",
       "      <th>DUI</th>\n",
       "      <td>285.0</td>\n",
       "      <td>42.0</td>\n",
       "      <td>9881.0</td>\n",
       "      <td>68.0</td>\n",
       "      <td>0.807365</td>\n",
       "      <td>0.004233</td>\n",
       "      <td>0.871560</td>\n",
       "    </tr>\n",
       "    <tr>\n",
       "      <th>FRUD</th>\n",
       "      <td>316.0</td>\n",
       "      <td>81.0</td>\n",
       "      <td>9709.0</td>\n",
       "      <td>170.0</td>\n",
       "      <td>0.650206</td>\n",
       "      <td>0.008274</td>\n",
       "      <td>0.795970</td>\n",
       "    </tr>\n",
       "    <tr>\n",
       "      <th>ROBB</th>\n",
       "      <td>1132.0</td>\n",
       "      <td>192.0</td>\n",
       "      <td>8602.0</td>\n",
       "      <td>350.0</td>\n",
       "      <td>0.763833</td>\n",
       "      <td>0.021833</td>\n",
       "      <td>0.854985</td>\n",
       "    </tr>\n",
       "    <tr>\n",
       "      <th>TASR</th>\n",
       "      <td>13.0</td>\n",
       "      <td>2.0</td>\n",
       "      <td>10240.0</td>\n",
       "      <td>21.0</td>\n",
       "      <td>0.382353</td>\n",
       "      <td>0.000195</td>\n",
       "      <td>0.866667</td>\n",
       "    </tr>\n",
       "  </tbody>\n",
       "</table>\n",
       "</div>"
      ],
      "text/plain": [
       "           TP      FP       TN      FN       TPR       FPR       PPV\n",
       "OEMC      7.0     1.0  10240.0    28.0  0.200000  0.000098  0.875000\n",
       "CPD    4389.0  1058.0   3978.0   851.0  0.837595  0.210087  0.805765\n",
       "SAO     659.0   242.0   8991.0   384.0  0.631831  0.026210  0.731410\n",
       "CCCC    358.0   235.0   9323.0   360.0  0.498607  0.024587  0.603710\n",
       "CCJ     132.0    49.0   9969.0   126.0  0.511628  0.004891  0.729282\n",
       "CCSP    298.0    73.0   9783.0   122.0  0.709524  0.007407  0.803235\n",
       "CPUB     30.0    13.0  10199.0    34.0  0.468750  0.001273  0.697674\n",
       "IDOC     34.0    11.0  10171.0    60.0  0.361702  0.001080  0.755556\n",
       "DOMV    325.0   114.0   9653.0   184.0  0.638507  0.011672  0.740319\n",
       "SEXA    600.0    65.0   9501.0   110.0  0.845070  0.006795  0.902256\n",
       "POLB     90.0    35.0  10088.0    63.0  0.588235  0.003457  0.720000\n",
       "POLM    167.0    46.0   9906.0   157.0  0.515432  0.004622  0.784038\n",
       "GUNV   3569.0   303.0   6026.0   378.0  0.904231  0.047875  0.921746\n",
       "GLBTQ    23.0     2.0  10224.0    27.0  0.460000  0.000196  0.920000\n",
       "JUVE    535.0   338.0   8858.0   545.0  0.495370  0.036755  0.612829\n",
       "REEN      2.0     5.0  10224.0    45.0  0.042553  0.000489  0.285714\n",
       "VIOL   3332.0  1106.0   4605.0  1233.0  0.729901  0.193661  0.750789\n",
       "BEAT     38.0    19.0  10159.0    60.0  0.387755  0.001867  0.666667\n",
       "PROB     33.0     9.0  10169.0    65.0  0.336735  0.000884  0.785714\n",
       "PARL     58.0    13.0  10126.0    79.0  0.423358  0.001282  0.816901\n",
       "CPLY     41.0    25.0  10082.0   128.0  0.242604  0.002474  0.621212\n",
       "DRUG    457.0   105.0   9497.0   217.0  0.678042  0.010935  0.813167\n",
       "CPS     197.0    37.0   9936.0   106.0  0.650165  0.003710  0.841880\n",
       "GANG    737.0   164.0   9133.0   242.0  0.752809  0.017640  0.817980\n",
       "ILSP    135.0    38.0   9987.0   116.0  0.537849  0.003791  0.780347\n",
       "HOMI   2770.0   388.0   6635.0   483.0  0.851522  0.055247  0.877137\n",
       "IPRA     77.0    24.0  10141.0    34.0  0.693694  0.002361  0.762376\n",
       "CPBD      4.0     8.0  10228.0    36.0  0.100000  0.000782  0.333333\n",
       "IMMG     22.0     2.0  10233.0    19.0  0.536585  0.000195  0.916667\n",
       "ENVI      3.0     0.0  10265.0     8.0  0.272727  0.000000  1.000000\n",
       "UNSPC  1613.0   975.0   6522.0  1166.0  0.580425  0.130052  0.623261\n",
       "ILSC      9.0     5.0  10219.0    43.0  0.173077  0.000489  0.642857\n",
       "ARSN     77.0     7.0  10157.0    35.0  0.687500  0.000689  0.916667\n",
       "BURG    215.0    69.0   9815.0   177.0  0.548469  0.006981  0.757042\n",
       "DUI     285.0    42.0   9881.0    68.0  0.807365  0.004233  0.871560\n",
       "FRUD    316.0    81.0   9709.0   170.0  0.650206  0.008274  0.795970\n",
       "ROBB   1132.0   192.0   8602.0   350.0  0.763833  0.021833  0.854985\n",
       "TASR     13.0     2.0  10240.0    21.0  0.382353  0.000195  0.866667"
      ]
     },
     "execution_count": 8,
     "metadata": {},
     "output_type": "execute_result"
    }
   ],
   "source": [
    "perf = pd.DataFrame()\n",
    "\n",
    "for i in range(Y_hat.shape[1]):\n",
    "    tag = tst.columns[7+i]\n",
    "    perf.loc['TP', tag] = sum((Y_hat[:,i] > .5) & (Y_tst[:,i] == 1))\n",
    "    perf.loc['FP', tag] = sum((Y_hat[:,i] > .5) & (Y_tst[:,i] == 0))\n",
    "    perf.loc['TN', tag] = sum((Y_hat[:,i] < .5) & (Y_tst[:,i] == 0))\n",
    "    perf.loc['FN', tag] = sum((Y_hat[:,i] < .5) & (Y_tst[:,i] == 1))\n",
    "    perf.loc['TPR', tag] = perf.loc['TP', tag] / (perf.loc['TP', tag] + perf.loc['FN', tag])\n",
    "    perf.loc['FPR', tag] = perf.loc['FP', tag] / (perf.loc['FP', tag] + perf.loc['TN', tag])\n",
    "    perf.loc['PPV', tag] = perf.loc['TP', tag] / (perf.loc['TP', tag] + perf.loc['FP', tag])\n",
    "\n",
    "perf = perf.T\n",
    "perf"
   ]
  },
  {
   "cell_type": "code",
   "execution_count": 9,
   "metadata": {
    "collapsed": false
   },
   "outputs": [
    {
     "data": {
      "image/png": "[encoded data removed]",
      "text/plain": [
       "<matplotlib.figure.Figure at 0x2076ac3f3c8>"
      ]
     },
     "metadata": {},
     "output_type": "display_data"
    }
   ],
   "source": [
    "perf['TPR'].plot(kind='bar', ylim=[0,1], width=0.9)\n",
    "plt.ylabel('TPR');"
   ]
  },
  {
   "cell_type": "code",
   "execution_count": 10,
   "metadata": {
    "collapsed": false
   },
   "outputs": [
    {
     "data": {
      "image/png": "[encoded data removed]",
      "text/plain": [
       "<matplotlib.figure.Figure at 0x20769b257f0>"
      ]
     },
     "metadata": {},
     "output_type": "display_data"
    }
   ],
   "source": [
    "(1 - perf['FPR']).plot(kind='bar', ylim=[0,1], width=0.9)\n",
    "plt.ylabel('1 - FPR');"
   ]
  },
  {
   "cell_type": "code",
   "execution_count": 11,
   "metadata": {
    "collapsed": false
   },
   "outputs": [
    {
     "data": {
      "image/png": "[encoded data removed]",
      "text/plain": [
       "<matplotlib.figure.Figure at 0x2076919ba90>"
      ]
     },
     "metadata": {},
     "output_type": "display_data"
    }
   ],
   "source": [
    "perf['PPV'].plot(kind='bar', ylim=[0,1], width=0.9)\n",
    "plt.ylabel('PPV');"
   ]
  },
  {
   "cell_type": "code",
   "execution_count": 12,
   "metadata": {
    "collapsed": true
   },
   "outputs": [],
   "source": [
    "import benchmark_tagging as bt"
   ]
  },
  {
   "cell_type": "code",
   "execution_count": 13,
   "metadata": {
    "collapsed": false
   },
   "outputs": [
    {
     "name": "stdout",
     "output_type": "stream",
     "text": [
      "[0.96336561862385994, 0.96390529634842681, 0.96352729306625196, 0.96433554398667465]\n"
     ]
    }
   ],
   "source": [
    "print(bt.benchmark(\n",
    "    lambda: sklearn.multiclass.OneVsRestClassifier(\n",
    "        sklearn.linear_model.LogisticRegression()\n",
    "    ),\n",
    "    vectorizer.transform(crime_df['bodytext'].values),\n",
    "    crime_df.loc[:, 'OEMC':'TASR'].values\n",
    "))"
   ]
  },
  {
   "cell_type": "code",
   "execution_count": 14,
   "metadata": {
    "collapsed": false
   },
   "outputs": [
    {
     "data": {
      "text/plain": [
       "<module 'benchmark_tagging' from 'C:\\\\Users\\\\kevin.rose\\\\Documents\\\\GitHub\\\\cjp-article-tagging\\\\src\\\\benchmark_tagging.py'>"
      ]
     },
     "execution_count": 14,
     "metadata": {},
     "output_type": "execute_result"
    }
   ],
   "source": [
    "from importlib import reload\n",
    "reload(bt)"
   ]
  },
  {
   "cell_type": "code",
   "execution_count": 15,
   "metadata": {
    "collapsed": false
   },
   "outputs": [
    {
     "data": {
      "text/plain": [
       "0.96378343800630328"
      ]
     },
     "execution_count": 15,
     "metadata": {},
     "output_type": "execute_result"
    }
   ],
   "source": [
    "np.mean([0.96336561862385994, 0.96390529634842681, 0.96352729306625196, 0.96433554398667465])"
   ]
  },
  {
   "cell_type": "code",
   "execution_count": null,
   "metadata": {
    "collapsed": true
   },
   "outputs": [],
   "source": []
  }
 ],
 "metadata": {
  "anaconda-cloud": {},
  "kernelspec": {
   "display_name": "Python [conda env:py35]",
   "language": "python",
   "name": "conda-env-py35-py"
  },
  "language_info": {
   "codemirror_mode": {
    "name": "ipython",
    "version": 3
   },
   "file_extension": ".py",
   "mimetype": "text/x-python",
   "name": "python",
   "nbconvert_exporter": "python",
   "pygments_lexer": "ipython3",
   "version": "3.5.2"
  }
 },
 "nbformat": 4,
 "nbformat_minor": 2
}
