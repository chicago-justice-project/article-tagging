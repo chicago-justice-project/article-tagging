{
 "cells": [
  {
   "cell_type": "code",
   "execution_count": 1,
   "metadata": {
    "collapsed": true
   },
   "outputs": [],
   "source": [
    "import load_data as ld\n",
    "import matplotlib\n",
    "import matplotlib.pyplot as plt\n",
    "import seaborn as sns\n",
    "import numpy as np\n",
    "import pandas as pd\n",
    "import sklearn\n",
    "import sklearn.feature_extraction.text\n",
    "import sklearn.multiclass\n",
    "import sklearn.linear_model\n",
    "% matplotlib inline\n",
    "plt.rcParams['figure.figsize'] = 12, 8"
   ]
  },
  {
   "cell_type": "code",
   "execution_count": 2,
   "metadata": {
    "collapsed": false
   },
   "outputs": [
    {
     "name": "stderr",
     "output_type": "stream",
     "text": [
      "C:\\Users\\kevin.rose\\AppData\\Local\\Continuum\\Anaconda2\\envs\\py35\\lib\\site-packages\\IPython\\core\\interactiveshell.py:2881: DtypeWarning: Columns (3) have mixed types. Specify dtype option on import or set low_memory=False.\n",
      "  exec(code_obj, self.user_global_ns, self.user_ns)\n"
     ]
    }
   ],
   "source": [
    "df = ld.load_data()"
   ]
  },
  {
   "cell_type": "code",
   "execution_count": 3,
   "metadata": {
    "collapsed": false
   },
   "outputs": [
    {
     "name": "stdout",
     "output_type": "stream",
     "text": [
      "(112091, 45)\n",
      "(34253, 45)\n",
      "(23977, 45)\n",
      "(10276, 45)\n"
     ]
    }
   ],
   "source": [
    "crime_df = df.ix[df['relevant'], :]\n",
    "print(crime_df.shape)\n",
    "crime_df = crime_df.ix[crime_df.loc[:, 'OEMC':'TASR'].any(1), :]\n",
    "print(crime_df.shape)\n",
    "\n",
    "idx = np.random.permutation(crime_df.shape[0])\n",
    "trn = crime_df.iloc[idx[:int(crime_df.shape[0] * 0.7)], :]\n",
    "tst = crime_df.iloc[idx[int(crime_df.shape[0] * 0.7):], :]\n",
    "print(trn.shape)\n",
    "print(tst.shape)"
   ]
  },
  {
   "cell_type": "code",
   "execution_count": 4,
   "metadata": {
    "collapsed": false
   },
   "outputs": [],
   "source": [
    "# vectorize data\n",
    "from nltk import word_tokenize          \n",
    "from nltk.stem import WordNetLemmatizer \n",
    "class LemmaTokenizer(object):\n",
    "    def __init__(self):\n",
    "        self.wnl = WordNetLemmatizer()\n",
    "    def __call__(self, doc):\n",
    "        return [self.wnl.lemmatize(t) for t in word_tokenize(doc)]\n",
    "\n",
    "vectorizer = sklearn.feature_extraction.text.CountVectorizer(tokenizer=LemmaTokenizer())\n",
    "X = vectorizer.fit_transform(trn['bodytext'].values)\n",
    "\n",
    "Y = trn.loc[:, 'OEMC':'TASR'].values"
   ]
  },
  {
   "cell_type": "code",
   "execution_count": 4,
   "metadata": {
    "collapsed": false
   },
   "outputs": [
    {
     "data": {
      "text/plain": [
       "(271808, 45)"
      ]
     },
     "execution_count": 4,
     "metadata": {},
     "output_type": "execute_result"
    }
   ],
   "source": [
    "df.shape"
   ]
  },
  {
   "cell_type": "code",
   "execution_count": 5,
   "metadata": {
    "collapsed": false
   },
   "outputs": [
    {
     "data": {
      "text/plain": [
       "(23977, 169727)"
      ]
     },
     "execution_count": 5,
     "metadata": {},
     "output_type": "execute_result"
    }
   ],
   "source": [
    "X.shape"
   ]
  },
  {
   "cell_type": "code",
   "execution_count": 6,
   "metadata": {
    "collapsed": false
   },
   "outputs": [
    {
     "data": {
      "text/plain": [
       "OneVsRestClassifier(estimator=LogisticRegression(C=1.0, class_weight=None, dual=False, fit_intercept=True,\n",
       "          intercept_scaling=1, max_iter=100, multi_class='ovr', n_jobs=1,\n",
       "          penalty='l2', random_state=None, solver='liblinear', tol=0.0001,\n",
       "          verbose=0, warm_start=False),\n",
       "          n_jobs=1)"
      ]
     },
     "execution_count": 6,
     "metadata": {},
     "output_type": "execute_result"
    }
   ],
   "source": [
    "clf = sklearn.multiclass.OneVsRestClassifier(\n",
    "    sklearn.linear_model.LogisticRegression()\n",
    ")\n",
    "clf.fit(X, Y)"
   ]
  },
  {
   "cell_type": "code",
   "execution_count": 7,
   "metadata": {
    "collapsed": false
   },
   "outputs": [],
   "source": [
    "X_tst = vectorizer.transform(tst['bodytext'].values)\n",
    "Y_tst = tst.loc[:, 'OEMC':'TASR'].values\n",
    "\n",
    "Y_hat = clf.predict_proba(X_tst)"
   ]
  },
  {
   "cell_type": "code",
   "execution_count": 8,
   "metadata": {
    "collapsed": false,
    "scrolled": false
   },
   "outputs": [
    {
     "data": {
      "text/html": [
       "<div>\n",
       "<table border=\"1\" class=\"dataframe\">\n",
       "  <thead>\n",
       "    <tr style=\"text-align: right;\">\n",
       "      <th></th>\n",
       "      <th>TP</th>\n",
       "      <th>FP</th>\n",
       "      <th>TN</th>\n",
       "      <th>FN</th>\n",
       "      <th>TPR</th>\n",
       "      <th>FPR</th>\n",
       "      <th>PPV</th>\n",
       "    </tr>\n",
       "  </thead>\n",
       "  <tbody>\n",
       "    <tr>\n",
       "      <th>OEMC</th>\n",
       "      <td>6.0</td>\n",
       "      <td>7.0</td>\n",
       "      <td>10241.0</td>\n",
       "      <td>22.0</td>\n",
       "      <td>0.214286</td>\n",
       "      <td>0.000683</td>\n",
       "      <td>0.461538</td>\n",
       "    </tr>\n",
       "    <tr>\n",
       "      <th>CPD</th>\n",
       "      <td>4446.0</td>\n",
       "      <td>1103.0</td>\n",
       "      <td>3866.0</td>\n",
       "      <td>861.0</td>\n",
       "      <td>0.837761</td>\n",
       "      <td>0.221976</td>\n",
       "      <td>0.801225</td>\n",
       "    </tr>\n",
       "    <tr>\n",
       "      <th>SAO</th>\n",
       "      <td>600.0</td>\n",
       "      <td>241.0</td>\n",
       "      <td>9037.0</td>\n",
       "      <td>398.0</td>\n",
       "      <td>0.601202</td>\n",
       "      <td>0.025975</td>\n",
       "      <td>0.713436</td>\n",
       "    </tr>\n",
       "    <tr>\n",
       "      <th>CCCC</th>\n",
       "      <td>352.0</td>\n",
       "      <td>253.0</td>\n",
       "      <td>9277.0</td>\n",
       "      <td>394.0</td>\n",
       "      <td>0.471850</td>\n",
       "      <td>0.026548</td>\n",
       "      <td>0.581818</td>\n",
       "    </tr>\n",
       "    <tr>\n",
       "      <th>CCJ</th>\n",
       "      <td>125.0</td>\n",
       "      <td>51.0</td>\n",
       "      <td>9968.0</td>\n",
       "      <td>132.0</td>\n",
       "      <td>0.486381</td>\n",
       "      <td>0.005090</td>\n",
       "      <td>0.710227</td>\n",
       "    </tr>\n",
       "    <tr>\n",
       "      <th>CCSP</th>\n",
       "      <td>246.0</td>\n",
       "      <td>74.0</td>\n",
       "      <td>9803.0</td>\n",
       "      <td>153.0</td>\n",
       "      <td>0.616541</td>\n",
       "      <td>0.007492</td>\n",
       "      <td>0.768750</td>\n",
       "    </tr>\n",
       "    <tr>\n",
       "      <th>CPUB</th>\n",
       "      <td>20.0</td>\n",
       "      <td>10.0</td>\n",
       "      <td>10204.0</td>\n",
       "      <td>42.0</td>\n",
       "      <td>0.322581</td>\n",
       "      <td>0.000979</td>\n",
       "      <td>0.666667</td>\n",
       "    </tr>\n",
       "    <tr>\n",
       "      <th>IDOC</th>\n",
       "      <td>32.0</td>\n",
       "      <td>20.0</td>\n",
       "      <td>10182.0</td>\n",
       "      <td>42.0</td>\n",
       "      <td>0.432432</td>\n",
       "      <td>0.001960</td>\n",
       "      <td>0.615385</td>\n",
       "    </tr>\n",
       "    <tr>\n",
       "      <th>DOMV</th>\n",
       "      <td>328.0</td>\n",
       "      <td>122.0</td>\n",
       "      <td>9608.0</td>\n",
       "      <td>218.0</td>\n",
       "      <td>0.600733</td>\n",
       "      <td>0.012539</td>\n",
       "      <td>0.728889</td>\n",
       "    </tr>\n",
       "    <tr>\n",
       "      <th>SEXA</th>\n",
       "      <td>629.0</td>\n",
       "      <td>57.0</td>\n",
       "      <td>9476.0</td>\n",
       "      <td>114.0</td>\n",
       "      <td>0.846568</td>\n",
       "      <td>0.005979</td>\n",
       "      <td>0.916910</td>\n",
       "    </tr>\n",
       "    <tr>\n",
       "      <th>POLB</th>\n",
       "      <td>100.0</td>\n",
       "      <td>40.0</td>\n",
       "      <td>10050.0</td>\n",
       "      <td>86.0</td>\n",
       "      <td>0.537634</td>\n",
       "      <td>0.003964</td>\n",
       "      <td>0.714286</td>\n",
       "    </tr>\n",
       "    <tr>\n",
       "      <th>POLM</th>\n",
       "      <td>185.0</td>\n",
       "      <td>76.0</td>\n",
       "      <td>9863.0</td>\n",
       "      <td>152.0</td>\n",
       "      <td>0.548961</td>\n",
       "      <td>0.007647</td>\n",
       "      <td>0.708812</td>\n",
       "    </tr>\n",
       "    <tr>\n",
       "      <th>GUNV</th>\n",
       "      <td>3498.0</td>\n",
       "      <td>252.0</td>\n",
       "      <td>6034.0</td>\n",
       "      <td>492.0</td>\n",
       "      <td>0.876692</td>\n",
       "      <td>0.040089</td>\n",
       "      <td>0.932800</td>\n",
       "    </tr>\n",
       "    <tr>\n",
       "      <th>GLBTQ</th>\n",
       "      <td>28.0</td>\n",
       "      <td>9.0</td>\n",
       "      <td>10212.0</td>\n",
       "      <td>27.0</td>\n",
       "      <td>0.509091</td>\n",
       "      <td>0.000881</td>\n",
       "      <td>0.756757</td>\n",
       "    </tr>\n",
       "    <tr>\n",
       "      <th>JUVE</th>\n",
       "      <td>517.0</td>\n",
       "      <td>244.0</td>\n",
       "      <td>8933.0</td>\n",
       "      <td>582.0</td>\n",
       "      <td>0.470428</td>\n",
       "      <td>0.026588</td>\n",
       "      <td>0.679369</td>\n",
       "    </tr>\n",
       "    <tr>\n",
       "      <th>REEN</th>\n",
       "      <td>12.0</td>\n",
       "      <td>12.0</td>\n",
       "      <td>10225.0</td>\n",
       "      <td>27.0</td>\n",
       "      <td>0.307692</td>\n",
       "      <td>0.001172</td>\n",
       "      <td>0.500000</td>\n",
       "    </tr>\n",
       "    <tr>\n",
       "      <th>VIOL</th>\n",
       "      <td>3393.0</td>\n",
       "      <td>1140.0</td>\n",
       "      <td>4532.0</td>\n",
       "      <td>1211.0</td>\n",
       "      <td>0.736968</td>\n",
       "      <td>0.200987</td>\n",
       "      <td>0.748511</td>\n",
       "    </tr>\n",
       "    <tr>\n",
       "      <th>BEAT</th>\n",
       "      <td>41.0</td>\n",
       "      <td>24.0</td>\n",
       "      <td>10144.0</td>\n",
       "      <td>67.0</td>\n",
       "      <td>0.379630</td>\n",
       "      <td>0.002360</td>\n",
       "      <td>0.630769</td>\n",
       "    </tr>\n",
       "    <tr>\n",
       "      <th>PROB</th>\n",
       "      <td>40.0</td>\n",
       "      <td>20.0</td>\n",
       "      <td>10161.0</td>\n",
       "      <td>55.0</td>\n",
       "      <td>0.421053</td>\n",
       "      <td>0.001964</td>\n",
       "      <td>0.666667</td>\n",
       "    </tr>\n",
       "    <tr>\n",
       "      <th>PARL</th>\n",
       "      <td>48.0</td>\n",
       "      <td>18.0</td>\n",
       "      <td>10149.0</td>\n",
       "      <td>61.0</td>\n",
       "      <td>0.440367</td>\n",
       "      <td>0.001770</td>\n",
       "      <td>0.727273</td>\n",
       "    </tr>\n",
       "    <tr>\n",
       "      <th>CPLY</th>\n",
       "      <td>45.0</td>\n",
       "      <td>49.0</td>\n",
       "      <td>10080.0</td>\n",
       "      <td>102.0</td>\n",
       "      <td>0.306122</td>\n",
       "      <td>0.004838</td>\n",
       "      <td>0.478723</td>\n",
       "    </tr>\n",
       "    <tr>\n",
       "      <th>DRUG</th>\n",
       "      <td>418.0</td>\n",
       "      <td>89.0</td>\n",
       "      <td>9465.0</td>\n",
       "      <td>304.0</td>\n",
       "      <td>0.578947</td>\n",
       "      <td>0.009315</td>\n",
       "      <td>0.824458</td>\n",
       "    </tr>\n",
       "    <tr>\n",
       "      <th>CPS</th>\n",
       "      <td>192.0</td>\n",
       "      <td>45.0</td>\n",
       "      <td>9932.0</td>\n",
       "      <td>107.0</td>\n",
       "      <td>0.642140</td>\n",
       "      <td>0.004510</td>\n",
       "      <td>0.810127</td>\n",
       "    </tr>\n",
       "    <tr>\n",
       "      <th>GANG</th>\n",
       "      <td>621.0</td>\n",
       "      <td>144.0</td>\n",
       "      <td>9157.0</td>\n",
       "      <td>354.0</td>\n",
       "      <td>0.636923</td>\n",
       "      <td>0.015482</td>\n",
       "      <td>0.811765</td>\n",
       "    </tr>\n",
       "    <tr>\n",
       "      <th>ILSP</th>\n",
       "      <td>119.0</td>\n",
       "      <td>48.0</td>\n",
       "      <td>9985.0</td>\n",
       "      <td>124.0</td>\n",
       "      <td>0.489712</td>\n",
       "      <td>0.004784</td>\n",
       "      <td>0.712575</td>\n",
       "    </tr>\n",
       "    <tr>\n",
       "      <th>HOMI</th>\n",
       "      <td>2735.0</td>\n",
       "      <td>384.0</td>\n",
       "      <td>6669.0</td>\n",
       "      <td>488.0</td>\n",
       "      <td>0.848588</td>\n",
       "      <td>0.054445</td>\n",
       "      <td>0.876884</td>\n",
       "    </tr>\n",
       "    <tr>\n",
       "      <th>IPRA</th>\n",
       "      <td>75.0</td>\n",
       "      <td>21.0</td>\n",
       "      <td>10136.0</td>\n",
       "      <td>44.0</td>\n",
       "      <td>0.630252</td>\n",
       "      <td>0.002068</td>\n",
       "      <td>0.781250</td>\n",
       "    </tr>\n",
       "    <tr>\n",
       "      <th>CPBD</th>\n",
       "      <td>2.0</td>\n",
       "      <td>8.0</td>\n",
       "      <td>10219.0</td>\n",
       "      <td>47.0</td>\n",
       "      <td>0.040816</td>\n",
       "      <td>0.000782</td>\n",
       "      <td>0.200000</td>\n",
       "    </tr>\n",
       "    <tr>\n",
       "      <th>IMMG</th>\n",
       "      <td>16.0</td>\n",
       "      <td>5.0</td>\n",
       "      <td>10242.0</td>\n",
       "      <td>13.0</td>\n",
       "      <td>0.551724</td>\n",
       "      <td>0.000488</td>\n",
       "      <td>0.761905</td>\n",
       "    </tr>\n",
       "    <tr>\n",
       "      <th>ENVI</th>\n",
       "      <td>4.0</td>\n",
       "      <td>0.0</td>\n",
       "      <td>10264.0</td>\n",
       "      <td>8.0</td>\n",
       "      <td>0.333333</td>\n",
       "      <td>0.000000</td>\n",
       "      <td>1.000000</td>\n",
       "    </tr>\n",
       "    <tr>\n",
       "      <th>UNSPC</th>\n",
       "      <td>1492.0</td>\n",
       "      <td>788.0</td>\n",
       "      <td>6773.0</td>\n",
       "      <td>1223.0</td>\n",
       "      <td>0.549540</td>\n",
       "      <td>0.104219</td>\n",
       "      <td>0.654386</td>\n",
       "    </tr>\n",
       "    <tr>\n",
       "      <th>ILSC</th>\n",
       "      <td>13.0</td>\n",
       "      <td>8.0</td>\n",
       "      <td>10220.0</td>\n",
       "      <td>35.0</td>\n",
       "      <td>0.270833</td>\n",
       "      <td>0.000782</td>\n",
       "      <td>0.619048</td>\n",
       "    </tr>\n",
       "    <tr>\n",
       "      <th>ARSN</th>\n",
       "      <td>72.0</td>\n",
       "      <td>12.0</td>\n",
       "      <td>10163.0</td>\n",
       "      <td>29.0</td>\n",
       "      <td>0.712871</td>\n",
       "      <td>0.001179</td>\n",
       "      <td>0.857143</td>\n",
       "    </tr>\n",
       "    <tr>\n",
       "      <th>BURG</th>\n",
       "      <td>227.0</td>\n",
       "      <td>73.0</td>\n",
       "      <td>9799.0</td>\n",
       "      <td>177.0</td>\n",
       "      <td>0.561881</td>\n",
       "      <td>0.007395</td>\n",
       "      <td>0.756667</td>\n",
       "    </tr>\n",
       "    <tr>\n",
       "      <th>DUI</th>\n",
       "      <td>258.0</td>\n",
       "      <td>43.0</td>\n",
       "      <td>9887.0</td>\n",
       "      <td>88.0</td>\n",
       "      <td>0.745665</td>\n",
       "      <td>0.004330</td>\n",
       "      <td>0.857143</td>\n",
       "    </tr>\n",
       "    <tr>\n",
       "      <th>FRUD</th>\n",
       "      <td>295.0</td>\n",
       "      <td>94.0</td>\n",
       "      <td>9743.0</td>\n",
       "      <td>144.0</td>\n",
       "      <td>0.671982</td>\n",
       "      <td>0.009556</td>\n",
       "      <td>0.758355</td>\n",
       "    </tr>\n",
       "    <tr>\n",
       "      <th>ROBB</th>\n",
       "      <td>1105.0</td>\n",
       "      <td>234.0</td>\n",
       "      <td>8582.0</td>\n",
       "      <td>355.0</td>\n",
       "      <td>0.756849</td>\n",
       "      <td>0.026543</td>\n",
       "      <td>0.825243</td>\n",
       "    </tr>\n",
       "    <tr>\n",
       "      <th>TASR</th>\n",
       "      <td>14.0</td>\n",
       "      <td>4.0</td>\n",
       "      <td>10234.0</td>\n",
       "      <td>24.0</td>\n",
       "      <td>0.368421</td>\n",
       "      <td>0.000391</td>\n",
       "      <td>0.777778</td>\n",
       "    </tr>\n",
       "  </tbody>\n",
       "</table>\n",
       "</div>"
      ],
      "text/plain": [
       "           TP      FP       TN      FN       TPR       FPR       PPV\n",
       "OEMC      6.0     7.0  10241.0    22.0  0.214286  0.000683  0.461538\n",
       "CPD    4446.0  1103.0   3866.0   861.0  0.837761  0.221976  0.801225\n",
       "SAO     600.0   241.0   9037.0   398.0  0.601202  0.025975  0.713436\n",
       "CCCC    352.0   253.0   9277.0   394.0  0.471850  0.026548  0.581818\n",
       "CCJ     125.0    51.0   9968.0   132.0  0.486381  0.005090  0.710227\n",
       "CCSP    246.0    74.0   9803.0   153.0  0.616541  0.007492  0.768750\n",
       "CPUB     20.0    10.0  10204.0    42.0  0.322581  0.000979  0.666667\n",
       "IDOC     32.0    20.0  10182.0    42.0  0.432432  0.001960  0.615385\n",
       "DOMV    328.0   122.0   9608.0   218.0  0.600733  0.012539  0.728889\n",
       "SEXA    629.0    57.0   9476.0   114.0  0.846568  0.005979  0.916910\n",
       "POLB    100.0    40.0  10050.0    86.0  0.537634  0.003964  0.714286\n",
       "POLM    185.0    76.0   9863.0   152.0  0.548961  0.007647  0.708812\n",
       "GUNV   3498.0   252.0   6034.0   492.0  0.876692  0.040089  0.932800\n",
       "GLBTQ    28.0     9.0  10212.0    27.0  0.509091  0.000881  0.756757\n",
       "JUVE    517.0   244.0   8933.0   582.0  0.470428  0.026588  0.679369\n",
       "REEN     12.0    12.0  10225.0    27.0  0.307692  0.001172  0.500000\n",
       "VIOL   3393.0  1140.0   4532.0  1211.0  0.736968  0.200987  0.748511\n",
       "BEAT     41.0    24.0  10144.0    67.0  0.379630  0.002360  0.630769\n",
       "PROB     40.0    20.0  10161.0    55.0  0.421053  0.001964  0.666667\n",
       "PARL     48.0    18.0  10149.0    61.0  0.440367  0.001770  0.727273\n",
       "CPLY     45.0    49.0  10080.0   102.0  0.306122  0.004838  0.478723\n",
       "DRUG    418.0    89.0   9465.0   304.0  0.578947  0.009315  0.824458\n",
       "CPS     192.0    45.0   9932.0   107.0  0.642140  0.004510  0.810127\n",
       "GANG    621.0   144.0   9157.0   354.0  0.636923  0.015482  0.811765\n",
       "ILSP    119.0    48.0   9985.0   124.0  0.489712  0.004784  0.712575\n",
       "HOMI   2735.0   384.0   6669.0   488.0  0.848588  0.054445  0.876884\n",
       "IPRA     75.0    21.0  10136.0    44.0  0.630252  0.002068  0.781250\n",
       "CPBD      2.0     8.0  10219.0    47.0  0.040816  0.000782  0.200000\n",
       "IMMG     16.0     5.0  10242.0    13.0  0.551724  0.000488  0.761905\n",
       "ENVI      4.0     0.0  10264.0     8.0  0.333333  0.000000  1.000000\n",
       "UNSPC  1492.0   788.0   6773.0  1223.0  0.549540  0.104219  0.654386\n",
       "ILSC     13.0     8.0  10220.0    35.0  0.270833  0.000782  0.619048\n",
       "ARSN     72.0    12.0  10163.0    29.0  0.712871  0.001179  0.857143\n",
       "BURG    227.0    73.0   9799.0   177.0  0.561881  0.007395  0.756667\n",
       "DUI     258.0    43.0   9887.0    88.0  0.745665  0.004330  0.857143\n",
       "FRUD    295.0    94.0   9743.0   144.0  0.671982  0.009556  0.758355\n",
       "ROBB   1105.0   234.0   8582.0   355.0  0.756849  0.026543  0.825243\n",
       "TASR     14.0     4.0  10234.0    24.0  0.368421  0.000391  0.777778"
      ]
     },
     "execution_count": 8,
     "metadata": {},
     "output_type": "execute_result"
    }
   ],
   "source": [
    "perf = pd.DataFrame()\n",
    "\n",
    "for i in range(Y_hat.shape[1]):\n",
    "    tag = tst.columns[7+i]\n",
    "    perf.loc['TP', tag] = sum((Y_hat[:,i] > .5) & (Y_tst[:,i] == 1))\n",
    "    perf.loc['FP', tag] = sum((Y_hat[:,i] > .5) & (Y_tst[:,i] == 0))\n",
    "    perf.loc['TN', tag] = sum((Y_hat[:,i] < .5) & (Y_tst[:,i] == 0))\n",
    "    perf.loc['FN', tag] = sum((Y_hat[:,i] < .5) & (Y_tst[:,i] == 1))\n",
    "    perf.loc['TPR', tag] = perf.loc['TP', tag] / (perf.loc['TP', tag] + perf.loc['FN', tag])\n",
    "    perf.loc['FPR', tag] = perf.loc['FP', tag] / (perf.loc['FP', tag] + perf.loc['TN', tag])\n",
    "    perf.loc['PPV', tag] = perf.loc['TP', tag] / (perf.loc['TP', tag] + perf.loc['FP', tag])\n",
    "\n",
    "perf = perf.T\n",
    "perf"
   ]
  },
  {
   "cell_type": "code",
   "execution_count": 9,
   "metadata": {
    "collapsed": false
   },
   "outputs": [
    {
     "data": {
      "image/png": "[encoded data removed]",
      "text/plain": [
       "<matplotlib.figure.Figure at 0x1d8ff7aa358>"
      ]
     },
     "metadata": {},
     "output_type": "display_data"
    }
   ],
   "source": [
    "perf['TPR'].plot(kind='bar', ylim=[0,1], width=0.9)\n",
    "plt.ylabel('TPR');"
   ]
  },
  {
   "cell_type": "code",
   "execution_count": 10,
   "metadata": {
    "collapsed": false
   },
   "outputs": [
    {
     "data": {
      "image/png": "[encoded data removed]",
      "text/plain": [
       "<matplotlib.figure.Figure at 0x1d9010bd860>"
      ]
     },
     "metadata": {},
     "output_type": "display_data"
    }
   ],
   "source": [
    "(1 - perf['FPR']).plot(kind='bar', ylim=[0,1], width=0.9)\n",
    "plt.ylabel('1 - FPR');"
   ]
  },
  {
   "cell_type": "code",
   "execution_count": 11,
   "metadata": {
    "collapsed": false
   },
   "outputs": [
    {
     "data": {
      "image/png": "[encoded data removed]",
      "text/plain": [
       "<matplotlib.figure.Figure at 0x1d8ff5e44e0>"
      ]
     },
     "metadata": {},
     "output_type": "display_data"
    }
   ],
   "source": [
    "perf['PPV'].plot(kind='bar', ylim=[0,1], width=0.9)\n",
    "plt.ylabel('PPV');"
   ]
  },
  {
   "cell_type": "code",
   "execution_count": 12,
   "metadata": {
    "collapsed": true
   },
   "outputs": [],
   "source": [
    "import benchmark_tagging as bt"
   ]
  },
  {
   "cell_type": "code",
   "execution_count": 13,
   "metadata": {
    "collapsed": false
   },
   "outputs": [
    {
     "name": "stdout",
     "output_type": "stream",
     "text": [
      "[0.9634670222965166, 0.9636625137525584, 0.96294645875461748, 0.96352421986883596]\n"
     ]
    }
   ],
   "source": [
    "print(bt.benchmark(\n",
    "    lambda: sklearn.multiclass.OneVsRestClassifier(\n",
    "        sklearn.linear_model.LogisticRegression()\n",
    "    ),\n",
    "    vectorizer.transform(crime_df['bodytext'].values),\n",
    "    crime_df.loc[:, 'OEMC':'TASR'].values\n",
    "))"
   ]
  },
  {
   "cell_type": "code",
   "execution_count": 14,
   "metadata": {
    "collapsed": false
   },
   "outputs": [
    {
     "data": {
      "text/plain": [
       "<module 'benchmark_tagging' from 'C:\\\\Users\\\\kevin.rose\\\\Documents\\\\GitHub\\\\cjp-article-tagging\\\\src\\\\benchmark_tagging.py'>"
      ]
     },
     "execution_count": 14,
     "metadata": {},
     "output_type": "execute_result"
    }
   ],
   "source": [
    "from importlib import reload\n",
    "reload(bt)"
   ]
  },
  {
   "cell_type": "code",
   "execution_count": 15,
   "metadata": {
    "collapsed": false
   },
   "outputs": [
    {
     "data": {
      "text/plain": [
       "0.96340005366813208"
      ]
     },
     "execution_count": 15,
     "metadata": {},
     "output_type": "execute_result"
    }
   ],
   "source": [
    "np.mean([0.9634670222965166, 0.9636625137525584, 0.96294645875461748, 0.96352421986883596])"
   ]
  },
  {
   "cell_type": "code",
   "execution_count": null,
   "metadata": {
    "collapsed": true
   },
   "outputs": [],
   "source": []
  }
 ],
 "metadata": {
  "anaconda-cloud": {},
  "kernelspec": {
   "display_name": "Python [conda env:py35]",
   "language": "python",
   "name": "conda-env-py35-py"
  },
  "language_info": {
   "codemirror_mode": {
    "name": "ipython",
    "version": 3
   },
   "file_extension": ".py",
   "mimetype": "text/x-python",
   "name": "python",
   "nbconvert_exporter": "python",
   "pygments_lexer": "ipython3",
   "version": "3.5.2"
  }
 },
 "nbformat": 4,
 "nbformat_minor": 2
}
