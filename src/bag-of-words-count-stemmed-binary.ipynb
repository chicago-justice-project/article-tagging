{
 "cells": [
  {
   "cell_type": "code",
   "execution_count": 1,
   "metadata": {
    "collapsed": true
   },
   "outputs": [],
   "source": [
    "import load_data as ld\n",
    "import matplotlib\n",
    "import matplotlib.pyplot as plt\n",
    "import seaborn as sns\n",
    "import numpy as np\n",
    "import pandas as pd\n",
    "import sklearn\n",
    "import sklearn.feature_extraction.text\n",
    "import sklearn.multiclass\n",
    "import sklearn.linear_model\n",
    "% matplotlib inline\n",
    "plt.rcParams['figure.figsize'] = 12, 8"
   ]
  },
  {
   "cell_type": "code",
   "execution_count": 2,
   "metadata": {
    "collapsed": false
   },
   "outputs": [
    {
     "name": "stderr",
     "output_type": "stream",
     "text": [
      "C:\\Users\\kevin.rose\\AppData\\Local\\Continuum\\Anaconda2\\envs\\py35\\lib\\site-packages\\IPython\\core\\interactiveshell.py:2881: DtypeWarning: Columns (3) have mixed types. Specify dtype option on import or set low_memory=False.\n",
      "  exec(code_obj, self.user_global_ns, self.user_ns)\n"
     ]
    }
   ],
   "source": [
    "df = ld.load_data()"
   ]
  },
  {
   "cell_type": "code",
   "execution_count": 3,
   "metadata": {
    "collapsed": true
   },
   "outputs": [],
   "source": [
    "# TODO: Augment training data with not relevant"
   ]
  },
  {
   "cell_type": "code",
   "execution_count": 4,
   "metadata": {
    "collapsed": false
   },
   "outputs": [
    {
     "name": "stdout",
     "output_type": "stream",
     "text": [
      "(36986, 45)\n",
      "(39986, 45)\n",
      "(27990, 45)\n",
      "(11996, 45)\n"
     ]
    }
   ],
   "source": [
    "crime_df = df.ix[df.loc[:, 'OEMC':'TASR'].any(1), :]\n",
    "print(crime_df.shape)\n",
    "crime_df = crime_df.append(df.ix[~df['relevant'], :].sample(n=3000, axis=0))\n",
    "print(crime_df.shape)\n",
    "\n",
    "idx = np.random.permutation(crime_df.shape[0])\n",
    "trn = crime_df.iloc[idx[:int(crime_df.shape[0] * 0.7)], :]\n",
    "tst = crime_df.iloc[idx[int(crime_df.shape[0] * 0.7):], :]\n",
    "print(trn.shape)\n",
    "print(tst.shape)"
   ]
  },
  {
   "cell_type": "code",
   "execution_count": 5,
   "metadata": {
    "collapsed": false
   },
   "outputs": [],
   "source": [
    "# vectorize data\n",
    "from nltk import word_tokenize          \n",
    "from nltk.stem import WordNetLemmatizer \n",
    "class LemmaTokenizer(object):\n",
    "    def __init__(self):\n",
    "        self.wnl = WordNetLemmatizer()\n",
    "    def __call__(self, doc):\n",
    "        return [self.wnl.lemmatize(t) for t in word_tokenize(doc)]\n",
    "\n",
    "vectorizer = sklearn.feature_extraction.text.CountVectorizer(tokenizer=LemmaTokenizer(),\n",
    "                                                             binary=True)\n",
    "X = vectorizer.fit_transform(trn['bodytext'].values)\n",
    "\n",
    "Y = trn.loc[:, 'OEMC':'TASR'].values"
   ]
  },
  {
   "cell_type": "code",
   "execution_count": 6,
   "metadata": {
    "collapsed": false
   },
   "outputs": [
    {
     "data": {
      "text/plain": [
       "(27990, 224764)"
      ]
     },
     "execution_count": 6,
     "metadata": {},
     "output_type": "execute_result"
    }
   ],
   "source": [
    "X.shape"
   ]
  },
  {
   "cell_type": "code",
   "execution_count": 7,
   "metadata": {
    "collapsed": true
   },
   "outputs": [],
   "source": [
    "import benchmark_tagging as bt"
   ]
  },
  {
   "cell_type": "code",
   "execution_count": 8,
   "metadata": {
    "collapsed": false
   },
   "outputs": [],
   "source": [
    "bench_results = bt.benchmark(\n",
    "    lambda: sklearn.multiclass.OneVsRestClassifier(\n",
    "        sklearn.linear_model.LogisticRegression()\n",
    "    ),\n",
    "    vectorizer.transform(crime_df['bodytext'].values),\n",
    "    crime_df.loc[:, 'OEMC':'TASR'].values\n",
    ")"
   ]
  },
  {
   "cell_type": "code",
   "execution_count": 9,
   "metadata": {
    "collapsed": false
   },
   "outputs": [],
   "source": [
    "fpr = pd.DataFrame(bench_results['fpr'], columns=crime_df.columns.values[7:]).T\n",
    "\n",
    "tpr = pd.DataFrame(bench_results['tpr'], columns=crime_df.columns.values[7:]).T\n",
    "\n",
    "ppv = pd.DataFrame(bench_results['ppv'], columns=crime_df.columns.values[7:]).T"
   ]
  },
  {
   "cell_type": "code",
   "execution_count": 10,
   "metadata": {
    "collapsed": false,
    "scrolled": false
   },
   "outputs": [
    {
     "data": {
      "image/png": "[encoded data removed]",
      "text/plain": [
       "<matplotlib.figure.Figure at 0x1ff1d774da0>"
      ]
     },
     "metadata": {},
     "output_type": "display_data"
    }
   ],
   "source": [
    "f, axs = plt.subplots(3,1)\n",
    "tpr.mean(axis=1).plot(kind='bar', ax=axs[0])\n",
    "axs[0].set_ylabel('TPR')\n",
    "axs[0].set_xticklabels([])\n",
    "axs[0].set_ylim([0, 1])\n",
    "ppv.mean(axis=1).plot(kind='bar', ax=axs[1])\n",
    "axs[1].set_ylabel('PPV')\n",
    "axs[1].set_xticklabels([])\n",
    "axs[1].set_ylim([0, 1])\n",
    "(1 - fpr).mean(axis=1).plot(kind='bar', ax=axs[2])\n",
    "axs[2].set_ylabel('1 - FPR')\n",
    "axs[2].set_ylim([0, 1])\n",
    "plt.tight_layout()\n",
    "plt.show()"
   ]
  },
  {
   "cell_type": "code",
   "execution_count": 11,
   "metadata": {
    "collapsed": false,
    "scrolled": true
   },
   "outputs": [],
   "source": [
    "bt.predict_articles(bench_results['clfs'][0], vectorizer, df)"
   ]
  },
  {
   "cell_type": "code",
   "execution_count": 12,
   "metadata": {
    "collapsed": false
   },
   "outputs": [
    {
     "data": {
      "text/plain": [
       "112091"
      ]
     },
     "execution_count": 12,
     "metadata": {},
     "output_type": "execute_result"
    }
   ],
   "source": [
    "(df['relevant']).sum()"
   ]
  },
  {
   "cell_type": "code",
   "execution_count": 13,
   "metadata": {
    "collapsed": false
   },
   "outputs": [
    {
     "data": {
      "text/plain": [
       "159717"
      ]
     },
     "execution_count": 13,
     "metadata": {},
     "output_type": "execute_result"
    }
   ],
   "source": [
    "(~df['relevant']).sum()"
   ]
  },
  {
   "cell_type": "code",
   "execution_count": 14,
   "metadata": {
    "collapsed": true
   },
   "outputs": [],
   "source": [
    "pd.set_option('display.max_columns', 100)\n",
    "pd.set_option('display.float_format', lambda x: '%.6f' % x)"
   ]
  },
  {
   "cell_type": "code",
   "execution_count": 15,
   "metadata": {
    "collapsed": false
   },
   "outputs": [
    {
     "name": "stdout",
     "output_type": "stream",
     "text": [
      "Preview: Blackhawks-Islanders\n"
     ]
    }
   ],
   "source": [
    "not_rel = df.ix[~df['relevant'], :]\n",
    "print(not_rel.iloc[-1,2])"
   ]
  },
  {
   "cell_type": "code",
   "execution_count": 16,
   "metadata": {
    "collapsed": true
   },
   "outputs": [],
   "source": [
    "homicide_articles = df.ix[df['HOMI'] == True, 'bodytext']"
   ]
  },
  {
   "cell_type": "code",
   "execution_count": 17,
   "metadata": {
    "collapsed": false
   },
   "outputs": [],
   "source": [
    "import addresses"
   ]
  },
  {
   "cell_type": "code",
   "execution_count": 18,
   "metadata": {
    "collapsed": false
   },
   "outputs": [
    {
     "data": {
      "text/plain": [
       "[('2700 block of North Albany Avenue', '')]"
      ]
     },
     "execution_count": 18,
     "metadata": {},
     "output_type": "execute_result"
    }
   ],
   "source": [
    "addresses.parse_addresses(' '.join(\"\"\"Police were notified at 4:17 a.m. and the body was found in an alley on the\n",
    "2700 block of\n",
    "North Albany Avenue, according to Sullivan.\"\"\".split('\\n')))"
   ]
  },
  {
   "cell_type": "code",
   "execution_count": 33,
   "metadata": {
    "collapsed": false,
    "scrolled": true
   },
   "outputs": [
    {
     "name": "stdout",
     "output_type": "stream",
     "text": [
      "[('Unabomber and Chicago', ''), ('Blackmail and Extortion', ''), ('Genes and Chromosomes', ''), ('Johnson & Johnson', ''), ('Blackmail and Extortion', ''), ('Genes and C', '')]\n"
     ]
    }
   ],
   "source": [
    "print(addresses.parse_addresses(' '.join(homicide_articles.iloc[8].split('\\n'))))"
   ]
  },
  {
   "cell_type": "code",
   "execution_count": 34,
   "metadata": {
    "collapsed": false
   },
   "outputs": [
    {
     "name": "stdout",
     "output_type": "stream",
     "text": [
      "By KAREN HAWKINS  Associated Press\n",
      "\n",
      "9:15 p.m. CDT  ,  May 19, 2011\n",
      "\n",
      "CHICAGO--\n",
      "\n",
      "Could the Unabomber and Chicago's [ Tylenol ][1] poisoner be one and the same?\n",
      "[ FBI ][2] agents investigating the Tylenol killings, unsolved for nearly 30\n",
      "years, want Ted Kaczynski's [ DNA ][3] , but they aren't saying whether\n",
      "there's any reason to believe he might be a match.\n",
      "\n",
      "  \n",
      "Chicago FBI spokeswoman Cynthia Yates said the bureau wants DNA from \"numerous\n",
      "individuals\" including Kaczynski, although she wouldn't provide details about\n",
      "any of the others. The FBI's efforts to get Kaczynski's DNA became publicly\n",
      "known because of a court motion he filed seeking to keep materials he claims\n",
      "would exonerate him in the Tylenol case: items from his Montana cabin that the\n",
      "U.S. Marshals Service is auctioning off.\n",
      "\n",
      "  \n",
      "\n",
      "  * [ Topics ][4]\n",
      "  * [ Tylenol (drug) ][1]\n",
      "  * [ Justice System ][5]\n",
      "  * [ Police Investigations ][6]\n",
      "  * [ See more topics » ][7]\n",
      "\n",
      "    * X \n",
      "\n",
      "[ FBI ][2]\n",
      "\n",
      "[ Crimes ][8]\n",
      "\n",
      "[ Human Body ][9]\n",
      "\n",
      "[ Biotechnology Industry ][10]\n",
      "\n",
      "[ Chemicals ][11]\n",
      "\n",
      "[ DNA ][3]\n",
      "\n",
      "[ Homes ][12]\n",
      "\n",
      "[ Auction Service ][13]\n",
      "\n",
      "[ Prisons ][14]\n",
      "\n",
      "[ Emergency Incidents ][15]\n",
      "\n",
      "[ Prosecution ][16]\n",
      "\n",
      "[ Lawyers ][17]\n",
      "\n",
      "[ Washington, DC ][18]\n",
      "\n",
      "[ Punishment ][19]\n",
      "\n",
      "[ Blackmail and Extortion ][20]\n",
      "\n",
      "[ Murder ][21]\n",
      "\n",
      "[ California ][22]\n",
      "\n",
      "[ Genes and Chromosomes ][23]\n",
      "\n",
      "[ Colorado ][24]\n",
      "\n",
      "[ Sacramento ][25]\n",
      "\n",
      "Kaczynski lived in the tiny cabin as he sent off mail bombs that killed three\n",
      "people and wounded several others in attacks that began in the late 1970s. The\n",
      "FBI dubbed the man the Unabomber because the bombs originally targeted\n",
      "university professors and airline executives.\n",
      "\n",
      "  \n",
      "Kaczynski, who grew up in the Chicago area, was captured in 1996, pleaded\n",
      "guilty two years later and is serving a life sentence in federal prison in [\n",
      "Colorado ][24] .\n",
      "\n",
      "  \n",
      "He has declined to voluntarily provide a DNA sample to agents investigating\n",
      "the Tylenol poisonings, which left seven people dead in the space of three\n",
      "days beginning Sept. 29, 1982. The victims took cyanide-laced Tylenol from\n",
      "packages that had been tampered with.\n",
      "\n",
      "  \n",
      "The deaths triggered a national scare and a huge recall, and eventually led to\n",
      "the widespread adoption of tamperproof packaging for over-the-counter drugs.\n",
      "\n",
      "  \n",
      "Kaczynski's attorney, John Balasz, said he's \"completely convinced\" that\n",
      "Kaczynski had no involvement in Tylenol case, and added that he thinks the FBI\n",
      "wants his DNA not because they have evidence linking him, but because they\n",
      "want to definitively rule him out as a suspect.\n",
      "\n",
      "  \n",
      "\"You've got to ask the FBI how serious they are. I think it's probably more\n",
      "that they want to exclude him,\" Balasz said.\n",
      "\n",
      "  \n",
      "Yates declined to say whether the FBI would try to compel Kaczynski to give a\n",
      "sample. In the motion he filed over his belongings, Kaczynski said the\n",
      "officials who notified him of the FBI's request told him the agency was\n",
      "prepared to go to court to get the DNA.\n",
      "\n",
      "  \n",
      "Kaczynski said, without elaborating, that he would provide a sample \"if the\n",
      "FBI would satisfy a certain condition that is not relevant here,\" but Balasz\n",
      "said the government will need to go to court to get one.\n",
      "\n",
      "  \n",
      "Kaczynski filed the court motion May 9 in [ California ][22] , where he was\n",
      "tried. The [ Sacramento ][25] Bee first reported on the filing in Thursday's\n",
      "paper. Kaczynski wants to keep certain items taken from his cabin in 1996,\n",
      "including journals he says could prove his whereabouts in 1982 and other\n",
      "evidence that could clear him in the Tylenol case.\n",
      "\n",
      "  \n",
      "The government auction of Kaczynski's materials began Wednesday and runs\n",
      "through June 2.\n",
      "\n",
      "  \n",
      "Among the items available is his manifesto, which helped lead to his arrest\n",
      "after newspapers published it and Kaczynski's brother recognized his writing\n",
      "style and anti-technology beliefs. His books, clothing, typewriters and\n",
      "sneakers are also up for auction. The cabin itself is on display at the\n",
      "Newseum in [ Washington, D.C. ][18]\n",
      "\n",
      "  \n",
      "Last year, the U.S. Marshals netted about $580 million for state and local law\n",
      "enforcement agencies and $345 million for victims by holding auctions of items\n",
      "seized in asset-forfeiture cases.\n",
      "\n",
      "  \n",
      "In a response to Kaczynski's motion filed Monday, federal prosecutors said the\n",
      "courts lack the jurisdiction to bar the government from auctioning the items.\n",
      "They also said Kaczynski hasn't been indicted in connection with the Tylenol\n",
      "investigation and that \"no such federal prosecution is currently planned.\"\n",
      "\n",
      "  \n",
      "The FBI collected DNA samples from Kaczynski after his arrest, but that\n",
      "material \"might have degraded to the point that it is not usable,\" said Ross\n",
      "Rice with the FBI in Chicago. \"It's always best to have a current sample.\"\n",
      "\n",
      "  \n",
      "Officials are barred from taking a DNA sample from Kaczynski without either\n",
      "his consent or a court order. Rice said it will be up to prosecutors to decide\n",
      "whether to go to court to get the [ genetic ][23] material.\n",
      "\n",
      "  \n",
      "\"Even though he's a prisoner, he still has rights,\" Rice said.\n",
      "\n",
      "  \n",
      "The Tylenol poisonings case has stymied investigators for nearly 30 years, and\n",
      "no charges have ever been filed in the deaths.\n",
      "\n",
      "  \n",
      "In 2009, federal agents searched the Boston home of James W. Lewis, who served\n",
      "more than 12 years in prison for sending an extortion note to Tylenol maker\n",
      "Johnson & Johnson demanding $1 million to \"stop the killing.\" Lewis has denied\n",
      "involvement in the poisonings.\n",
      "\n",
      "  \n",
      "A friend of Lewis, Roger Nicholson, told The Associated Press early last year\n",
      "that Lewis and his wife had given DNA samples and fingerprints to\n",
      "investigators.\n",
      "\n",
      "  \n",
      "Kaczynski, for his part, said in his motion that he has \"never even possessed\n",
      "any potassium cyanide\" -- the poison used in the Tylenol killings.\n",
      "\n",
      "  \n",
      "Helen Jensen, a former nurse who accompanied investigators to the home of one\n",
      "of the victims, said she hopes this latest news isn't a dead end like so many\n",
      "before. She said she still occasionally talks to the grandmother of a 12-year-\n",
      "old girl who died and that \"her whole family was destroyed by it.\"\n",
      "\n",
      "  \n",
      "\"It sure would be nice to finally get some end to the whole thing, for the\n",
      "people that are survivors,\" Jensen said.\n",
      "\n",
      "  \n",
      "------   \n",
      "  \n",
      "Associated Press writer Don Babwin contributed to this report.\n",
      "\n",
      "  \n",
      "AP-WF-05-20-11 0506GMT\n",
      "\n",
      "   [1]: /topic/health/drugs-medicines/tylenol-%28drug%29-HEDAR000002157160.topic\n",
      " (Tylenol (drug))\n",
      "   [2]: /topic/crime-law-justice/crimes/fbi-ORGOV000008.topic (FBI)\n",
      "   [3]: /topic/health/human-body/dna-HHA000078.topic (DNA)\n",
      "   [4]: /topic\n",
      "   [5]: /topic/crime-law-justice/justice-system/02002000.topic (Justice System)\n",
      "   [6]: /topic/crime-law-justice/police/police-investigations/02003002.topic (Po\n",
      "lice Investigations)\n",
      "   [7]: #\n",
      "   [8]: /topic/crime-law-justice/crimes/02001000.topic (Crimes)\n",
      "   [9]: /topic/health/human-body/0700000037.topic (Human Body)\n",
      "   [10]: /topic/economy-business-finance/chemicals/biotechnology-industry/040020\n",
      "01.topic (Biotechnology Industry)\n",
      "   [11]: /topic/economy-business-finance/chemicals/04002000.topic (Chemicals)\n",
      "   [12]: /topic/services-shopping/real-estate/homes/T50025002.topic (Homes)\n",
      "   [13]: /topic/economy-business-finance/financial-business-services/auction-ser\n",
      "vice/04006020.topic (Auction Service)\n",
      "   [14]: /topic/crime-law-justice/prisons/02005000.topic (Prisons)\n",
      "   [15]: /topic/disasters-accidents/emergency-incidents/03014000.topic (Emergenc\n",
      "y Incidents)\n",
      "   [16]: /topic/crime-law-justice/prosecution/02009000.topic (Prosecution)\n",
      "   [17]: /topic/crime-law-justice/justice-system/lawyers/02002001.topic (Lawyers\n",
      ")\n",
      "   [18]: /topic/us/washington-dc-PLGEO100101200000000.topic (Washington, DC)\n",
      "   [19]: /topic/crime-law-justice/punishment/02004000.topic (Punishment)\n",
      "   [20]: /topic/crime-law-justice/crimes/blackmail-extortion/02001000688.topic (\n",
      "Blackmail and Extortion)\n",
      "   [21]: /topic/crime-law-justice/crimes/murder/02001001.topic (Murder)\n",
      "   [22]: /topic/us/california-PLGEO100100100000000.topic (California)\n",
      "   [23]: /topic/health/human-body/genes-chromosomes-HHA000024.topic (Genes and C\n",
      "hromosomes)\n",
      "   [24]: /topic/us/colorado-PLGEO1001017000000000.topic (Colorado)\n",
      "   [25]: /topic/us/california/sacramento-county/sacramento-PLGEO100101101011129.\n",
      "topic (Sacramento)\n",
      "\n"
     ]
    }
   ],
   "source": [
    "print(homicide_articles.iloc[8])"
   ]
  },
  {
   "cell_type": "code",
   "execution_count": 35,
   "metadata": {
    "collapsed": true
   },
   "outputs": [],
   "source": [
    "import pickle"
   ]
  },
  {
   "cell_type": "code",
   "execution_count": 46,
   "metadata": {
    "collapsed": false
   },
   "outputs": [],
   "source": [
    "with open('model.pkl', 'wb') as f:\n",
    "    pickle.dump(bench_results['clfs'][0], f)\n",
    "with open('vectorizer.pkl', 'wb') as f:\n",
    "    pickle.dump(vectorizer, f)"
   ]
  },
  {
   "cell_type": "code",
   "execution_count": 48,
   "metadata": {
    "collapsed": false
   },
   "outputs": [
    {
     "data": {
      "text/plain": [
       "['OEMC',\n",
       " 'CPD',\n",
       " 'SAO',\n",
       " 'CCCC',\n",
       " 'CCJ',\n",
       " 'CCSP',\n",
       " 'CPUB',\n",
       " 'IDOC',\n",
       " 'DOMV',\n",
       " 'SEXA',\n",
       " 'POLB',\n",
       " 'POLM',\n",
       " 'GUNV',\n",
       " 'GLBTQ',\n",
       " 'JUVE',\n",
       " 'REEN',\n",
       " 'VIOL',\n",
       " 'BEAT',\n",
       " 'PROB',\n",
       " 'PARL',\n",
       " 'CPLY',\n",
       " 'DRUG',\n",
       " 'CPS',\n",
       " 'GANG',\n",
       " 'ILSP',\n",
       " 'HOMI',\n",
       " 'IPRA',\n",
       " 'CPBD',\n",
       " 'IMMG',\n",
       " 'ENVI',\n",
       " 'UNSPC',\n",
       " 'ILSC',\n",
       " 'ARSN',\n",
       " 'BURG',\n",
       " 'DUI',\n",
       " 'FRUD',\n",
       " 'ROBB',\n",
       " 'TASR']"
      ]
     },
     "execution_count": 48,
     "metadata": {},
     "output_type": "execute_result"
    }
   ],
   "source": [
    "df.columns[7:].tolist()"
   ]
  },
  {
   "cell_type": "code",
   "execution_count": null,
   "metadata": {
    "collapsed": true
   },
   "outputs": [],
   "source": []
  }
 ],
 "metadata": {
  "anaconda-cloud": {},
  "kernelspec": {
   "display_name": "Python [conda env:py35]",
   "language": "python",
   "name": "conda-env-py35-py"
  },
  "language_info": {
   "codemirror_mode": {
    "name": "ipython",
    "version": 3
   },
   "file_extension": ".py",
   "mimetype": "text/x-python",
   "name": "python",
   "nbconvert_exporter": "python",
   "pygments_lexer": "ipython3",
   "version": "3.5.2"
  }
 },
 "nbformat": 4,
 "nbformat_minor": 2
}
