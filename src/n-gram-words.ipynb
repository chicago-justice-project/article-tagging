{
 "cells": [
  {
   "cell_type": "code",
   "execution_count": 1,
   "metadata": {
    "collapsed": true
   },
   "outputs": [],
   "source": [
    "import load_data as ld\n",
    "import matplotlib\n",
    "import matplotlib.pyplot as plt\n",
    "import seaborn as sns\n",
    "import numpy as np\n",
    "import pandas as pd\n",
    "import sklearn\n",
    "import sklearn.feature_extraction.text\n",
    "import sklearn.multiclass\n",
    "import sklearn.linear_model\n",
    "% matplotlib inline\n",
    "plt.rcParams['figure.figsize'] = 12, 8"
   ]
  },
  {
   "cell_type": "code",
   "execution_count": 2,
   "metadata": {
    "collapsed": false
   },
   "outputs": [
    {
     "name": "stderr",
     "output_type": "stream",
     "text": [
      "C:\\Users\\kevin.rose\\AppData\\Local\\Continuum\\Anaconda2\\envs\\py35\\lib\\site-packages\\IPython\\core\\interactiveshell.py:2881: DtypeWarning: Columns (3) have mixed types. Specify dtype option on import or set low_memory=False.\n",
      "  exec(code_obj, self.user_global_ns, self.user_ns)\n"
     ]
    }
   ],
   "source": [
    "df = ld.load_data()"
   ]
  },
  {
   "cell_type": "code",
   "execution_count": 3,
   "metadata": {
    "collapsed": false
   },
   "outputs": [
    {
     "name": "stdout",
     "output_type": "stream",
     "text": [
      "(112091, 45)\n",
      "(34253, 45)\n",
      "(23977, 45)\n",
      "(10276, 45)\n"
     ]
    }
   ],
   "source": [
    "crime_df = df.ix[df['relevant'], :]\n",
    "print(crime_df.shape)\n",
    "crime_df = crime_df.ix[crime_df.loc[:, 'OEMC':'TASR'].any(1), :]\n",
    "print(crime_df.shape)\n",
    "\n",
    "idx = np.random.permutation(crime_df.shape[0])\n",
    "trn = crime_df.iloc[idx[:int(crime_df.shape[0] * 0.7)], :]\n",
    "tst = crime_df.iloc[idx[int(crime_df.shape[0] * 0.7):], :]\n",
    "print(trn.shape)\n",
    "print(tst.shape)"
   ]
  },
  {
   "cell_type": "code",
   "execution_count": 4,
   "metadata": {
    "collapsed": false
   },
   "outputs": [],
   "source": [
    "# vectorize data\n",
    "vectorizer = sklearn.feature_extraction.text.CountVectorizer(binary=True,\n",
    "                                                             ngram_range=(2,2))\n",
    "X = vectorizer.fit_transform(trn['bodytext'].values)\n",
    "\n",
    "Y = trn.loc[:, 'OEMC':'TASR'].values"
   ]
  },
  {
   "cell_type": "code",
   "execution_count": 5,
   "metadata": {
    "collapsed": false
   },
   "outputs": [
    {
     "data": {
      "text/plain": [
       "(23977, 1514837)"
      ]
     },
     "execution_count": 5,
     "metadata": {},
     "output_type": "execute_result"
    }
   ],
   "source": [
    "X.shape"
   ]
  },
  {
   "cell_type": "code",
   "execution_count": 6,
   "metadata": {
    "collapsed": false
   },
   "outputs": [
    {
     "data": {
      "text/plain": [
       "OneVsRestClassifier(estimator=LogisticRegression(C=1.0, class_weight=None, dual=False, fit_intercept=True,\n",
       "          intercept_scaling=1, max_iter=100, multi_class='ovr', n_jobs=1,\n",
       "          penalty='l2', random_state=None, solver='liblinear', tol=0.0001,\n",
       "          verbose=0, warm_start=False),\n",
       "          n_jobs=1)"
      ]
     },
     "execution_count": 6,
     "metadata": {},
     "output_type": "execute_result"
    }
   ],
   "source": [
    "clf = sklearn.multiclass.OneVsRestClassifier(\n",
    "    sklearn.linear_model.LogisticRegression()\n",
    ")\n",
    "clf.fit(X, Y)"
   ]
  },
  {
   "cell_type": "code",
   "execution_count": 7,
   "metadata": {
    "collapsed": false
   },
   "outputs": [],
   "source": [
    "X_tst = vectorizer.transform(tst['bodytext'].values)\n",
    "Y_tst = tst.loc[:, 'OEMC':'TASR'].values\n",
    "\n",
    "Y_hat = clf.predict_proba(X_tst)"
   ]
  },
  {
   "cell_type": "code",
   "execution_count": 8,
   "metadata": {
    "collapsed": false,
    "scrolled": false
   },
   "outputs": [
    {
     "data": {
      "text/html": [
       "<div>\n",
       "<table border=\"1\" class=\"dataframe\">\n",
       "  <thead>\n",
       "    <tr style=\"text-align: right;\">\n",
       "      <th></th>\n",
       "      <th>TP</th>\n",
       "      <th>FP</th>\n",
       "      <th>TN</th>\n",
       "      <th>FN</th>\n",
       "      <th>TPR</th>\n",
       "      <th>FPR</th>\n",
       "      <th>PPV</th>\n",
       "    </tr>\n",
       "  </thead>\n",
       "  <tbody>\n",
       "    <tr>\n",
       "      <th>OEMC</th>\n",
       "      <td>6.0</td>\n",
       "      <td>2.0</td>\n",
       "      <td>10236.0</td>\n",
       "      <td>32.0</td>\n",
       "      <td>0.157895</td>\n",
       "      <td>0.000195</td>\n",
       "      <td>0.750000</td>\n",
       "    </tr>\n",
       "    <tr>\n",
       "      <th>CPD</th>\n",
       "      <td>4515.0</td>\n",
       "      <td>873.0</td>\n",
       "      <td>4034.0</td>\n",
       "      <td>854.0</td>\n",
       "      <td>0.840939</td>\n",
       "      <td>0.177909</td>\n",
       "      <td>0.837973</td>\n",
       "    </tr>\n",
       "    <tr>\n",
       "      <th>SAO</th>\n",
       "      <td>639.0</td>\n",
       "      <td>192.0</td>\n",
       "      <td>9114.0</td>\n",
       "      <td>331.0</td>\n",
       "      <td>0.658763</td>\n",
       "      <td>0.020632</td>\n",
       "      <td>0.768953</td>\n",
       "    </tr>\n",
       "    <tr>\n",
       "      <th>CCCC</th>\n",
       "      <td>315.0</td>\n",
       "      <td>108.0</td>\n",
       "      <td>9414.0</td>\n",
       "      <td>439.0</td>\n",
       "      <td>0.417772</td>\n",
       "      <td>0.011342</td>\n",
       "      <td>0.744681</td>\n",
       "    </tr>\n",
       "    <tr>\n",
       "      <th>CCJ</th>\n",
       "      <td>126.0</td>\n",
       "      <td>27.0</td>\n",
       "      <td>10009.0</td>\n",
       "      <td>114.0</td>\n",
       "      <td>0.525000</td>\n",
       "      <td>0.002690</td>\n",
       "      <td>0.823529</td>\n",
       "    </tr>\n",
       "    <tr>\n",
       "      <th>CCSP</th>\n",
       "      <td>255.0</td>\n",
       "      <td>59.0</td>\n",
       "      <td>9818.0</td>\n",
       "      <td>144.0</td>\n",
       "      <td>0.639098</td>\n",
       "      <td>0.005973</td>\n",
       "      <td>0.812102</td>\n",
       "    </tr>\n",
       "    <tr>\n",
       "      <th>CPUB</th>\n",
       "      <td>21.0</td>\n",
       "      <td>2.0</td>\n",
       "      <td>10203.0</td>\n",
       "      <td>50.0</td>\n",
       "      <td>0.295775</td>\n",
       "      <td>0.000196</td>\n",
       "      <td>0.913043</td>\n",
       "    </tr>\n",
       "    <tr>\n",
       "      <th>IDOC</th>\n",
       "      <td>21.0</td>\n",
       "      <td>8.0</td>\n",
       "      <td>10172.0</td>\n",
       "      <td>75.0</td>\n",
       "      <td>0.218750</td>\n",
       "      <td>0.000786</td>\n",
       "      <td>0.724138</td>\n",
       "    </tr>\n",
       "    <tr>\n",
       "      <th>DOMV</th>\n",
       "      <td>249.0</td>\n",
       "      <td>53.0</td>\n",
       "      <td>9727.0</td>\n",
       "      <td>247.0</td>\n",
       "      <td>0.502016</td>\n",
       "      <td>0.005419</td>\n",
       "      <td>0.824503</td>\n",
       "    </tr>\n",
       "    <tr>\n",
       "      <th>SEXA</th>\n",
       "      <td>534.0</td>\n",
       "      <td>21.0</td>\n",
       "      <td>9536.0</td>\n",
       "      <td>185.0</td>\n",
       "      <td>0.742698</td>\n",
       "      <td>0.002197</td>\n",
       "      <td>0.962162</td>\n",
       "    </tr>\n",
       "    <tr>\n",
       "      <th>POLB</th>\n",
       "      <td>62.0</td>\n",
       "      <td>14.0</td>\n",
       "      <td>10093.0</td>\n",
       "      <td>107.0</td>\n",
       "      <td>0.366864</td>\n",
       "      <td>0.001385</td>\n",
       "      <td>0.815789</td>\n",
       "    </tr>\n",
       "    <tr>\n",
       "      <th>POLM</th>\n",
       "      <td>143.0</td>\n",
       "      <td>38.0</td>\n",
       "      <td>9917.0</td>\n",
       "      <td>178.0</td>\n",
       "      <td>0.445483</td>\n",
       "      <td>0.003817</td>\n",
       "      <td>0.790055</td>\n",
       "    </tr>\n",
       "    <tr>\n",
       "      <th>GUNV</th>\n",
       "      <td>3476.0</td>\n",
       "      <td>198.0</td>\n",
       "      <td>6106.0</td>\n",
       "      <td>496.0</td>\n",
       "      <td>0.875126</td>\n",
       "      <td>0.031409</td>\n",
       "      <td>0.946108</td>\n",
       "    </tr>\n",
       "    <tr>\n",
       "      <th>GLBTQ</th>\n",
       "      <td>5.0</td>\n",
       "      <td>2.0</td>\n",
       "      <td>10236.0</td>\n",
       "      <td>33.0</td>\n",
       "      <td>0.131579</td>\n",
       "      <td>0.000195</td>\n",
       "      <td>0.714286</td>\n",
       "    </tr>\n",
       "    <tr>\n",
       "      <th>JUVE</th>\n",
       "      <td>442.0</td>\n",
       "      <td>188.0</td>\n",
       "      <td>9007.0</td>\n",
       "      <td>639.0</td>\n",
       "      <td>0.408881</td>\n",
       "      <td>0.020446</td>\n",
       "      <td>0.701587</td>\n",
       "    </tr>\n",
       "    <tr>\n",
       "      <th>REEN</th>\n",
       "      <td>5.0</td>\n",
       "      <td>1.0</td>\n",
       "      <td>10245.0</td>\n",
       "      <td>25.0</td>\n",
       "      <td>0.166667</td>\n",
       "      <td>0.000098</td>\n",
       "      <td>0.833333</td>\n",
       "    </tr>\n",
       "    <tr>\n",
       "      <th>VIOL</th>\n",
       "      <td>3382.0</td>\n",
       "      <td>954.0</td>\n",
       "      <td>4752.0</td>\n",
       "      <td>1188.0</td>\n",
       "      <td>0.740044</td>\n",
       "      <td>0.167192</td>\n",
       "      <td>0.779982</td>\n",
       "    </tr>\n",
       "    <tr>\n",
       "      <th>BEAT</th>\n",
       "      <td>23.0</td>\n",
       "      <td>10.0</td>\n",
       "      <td>10172.0</td>\n",
       "      <td>71.0</td>\n",
       "      <td>0.244681</td>\n",
       "      <td>0.000982</td>\n",
       "      <td>0.696970</td>\n",
       "    </tr>\n",
       "    <tr>\n",
       "      <th>PROB</th>\n",
       "      <td>22.0</td>\n",
       "      <td>6.0</td>\n",
       "      <td>10180.0</td>\n",
       "      <td>68.0</td>\n",
       "      <td>0.244444</td>\n",
       "      <td>0.000589</td>\n",
       "      <td>0.785714</td>\n",
       "    </tr>\n",
       "    <tr>\n",
       "      <th>PARL</th>\n",
       "      <td>34.0</td>\n",
       "      <td>15.0</td>\n",
       "      <td>10152.0</td>\n",
       "      <td>75.0</td>\n",
       "      <td>0.311927</td>\n",
       "      <td>0.001475</td>\n",
       "      <td>0.693878</td>\n",
       "    </tr>\n",
       "    <tr>\n",
       "      <th>CPLY</th>\n",
       "      <td>27.0</td>\n",
       "      <td>10.0</td>\n",
       "      <td>10105.0</td>\n",
       "      <td>134.0</td>\n",
       "      <td>0.167702</td>\n",
       "      <td>0.000989</td>\n",
       "      <td>0.729730</td>\n",
       "    </tr>\n",
       "    <tr>\n",
       "      <th>DRUG</th>\n",
       "      <td>367.0</td>\n",
       "      <td>58.0</td>\n",
       "      <td>9485.0</td>\n",
       "      <td>366.0</td>\n",
       "      <td>0.500682</td>\n",
       "      <td>0.006078</td>\n",
       "      <td>0.863529</td>\n",
       "    </tr>\n",
       "    <tr>\n",
       "      <th>CPS</th>\n",
       "      <td>196.0</td>\n",
       "      <td>21.0</td>\n",
       "      <td>9949.0</td>\n",
       "      <td>110.0</td>\n",
       "      <td>0.640523</td>\n",
       "      <td>0.002106</td>\n",
       "      <td>0.903226</td>\n",
       "    </tr>\n",
       "    <tr>\n",
       "      <th>GANG</th>\n",
       "      <td>610.0</td>\n",
       "      <td>134.0</td>\n",
       "      <td>9120.0</td>\n",
       "      <td>412.0</td>\n",
       "      <td>0.596869</td>\n",
       "      <td>0.014480</td>\n",
       "      <td>0.819892</td>\n",
       "    </tr>\n",
       "    <tr>\n",
       "      <th>ILSP</th>\n",
       "      <td>164.0</td>\n",
       "      <td>34.0</td>\n",
       "      <td>9989.0</td>\n",
       "      <td>89.0</td>\n",
       "      <td>0.648221</td>\n",
       "      <td>0.003392</td>\n",
       "      <td>0.828283</td>\n",
       "    </tr>\n",
       "    <tr>\n",
       "      <th>HOMI</th>\n",
       "      <td>2804.0</td>\n",
       "      <td>313.0</td>\n",
       "      <td>6657.0</td>\n",
       "      <td>502.0</td>\n",
       "      <td>0.848155</td>\n",
       "      <td>0.044907</td>\n",
       "      <td>0.899583</td>\n",
       "    </tr>\n",
       "    <tr>\n",
       "      <th>IPRA</th>\n",
       "      <td>65.0</td>\n",
       "      <td>16.0</td>\n",
       "      <td>10140.0</td>\n",
       "      <td>55.0</td>\n",
       "      <td>0.541667</td>\n",
       "      <td>0.001575</td>\n",
       "      <td>0.802469</td>\n",
       "    </tr>\n",
       "    <tr>\n",
       "      <th>CPBD</th>\n",
       "      <td>3.0</td>\n",
       "      <td>4.0</td>\n",
       "      <td>10233.0</td>\n",
       "      <td>36.0</td>\n",
       "      <td>0.076923</td>\n",
       "      <td>0.000391</td>\n",
       "      <td>0.428571</td>\n",
       "    </tr>\n",
       "    <tr>\n",
       "      <th>IMMG</th>\n",
       "      <td>10.0</td>\n",
       "      <td>2.0</td>\n",
       "      <td>10232.0</td>\n",
       "      <td>32.0</td>\n",
       "      <td>0.238095</td>\n",
       "      <td>0.000195</td>\n",
       "      <td>0.833333</td>\n",
       "    </tr>\n",
       "    <tr>\n",
       "      <th>ENVI</th>\n",
       "      <td>1.0</td>\n",
       "      <td>0.0</td>\n",
       "      <td>10268.0</td>\n",
       "      <td>7.0</td>\n",
       "      <td>0.125000</td>\n",
       "      <td>0.000000</td>\n",
       "      <td>1.000000</td>\n",
       "    </tr>\n",
       "    <tr>\n",
       "      <th>UNSPC</th>\n",
       "      <td>1508.0</td>\n",
       "      <td>637.0</td>\n",
       "      <td>6866.0</td>\n",
       "      <td>1265.0</td>\n",
       "      <td>0.543815</td>\n",
       "      <td>0.084899</td>\n",
       "      <td>0.703030</td>\n",
       "    </tr>\n",
       "    <tr>\n",
       "      <th>ILSC</th>\n",
       "      <td>4.0</td>\n",
       "      <td>2.0</td>\n",
       "      <td>10227.0</td>\n",
       "      <td>43.0</td>\n",
       "      <td>0.085106</td>\n",
       "      <td>0.000196</td>\n",
       "      <td>0.666667</td>\n",
       "    </tr>\n",
       "    <tr>\n",
       "      <th>ARSN</th>\n",
       "      <td>42.0</td>\n",
       "      <td>5.0</td>\n",
       "      <td>10161.0</td>\n",
       "      <td>68.0</td>\n",
       "      <td>0.381818</td>\n",
       "      <td>0.000492</td>\n",
       "      <td>0.893617</td>\n",
       "    </tr>\n",
       "    <tr>\n",
       "      <th>BURG</th>\n",
       "      <td>146.0</td>\n",
       "      <td>31.0</td>\n",
       "      <td>9857.0</td>\n",
       "      <td>242.0</td>\n",
       "      <td>0.376289</td>\n",
       "      <td>0.003135</td>\n",
       "      <td>0.824859</td>\n",
       "    </tr>\n",
       "    <tr>\n",
       "      <th>DUI</th>\n",
       "      <td>253.0</td>\n",
       "      <td>34.0</td>\n",
       "      <td>9883.0</td>\n",
       "      <td>106.0</td>\n",
       "      <td>0.704735</td>\n",
       "      <td>0.003428</td>\n",
       "      <td>0.881533</td>\n",
       "    </tr>\n",
       "    <tr>\n",
       "      <th>FRUD</th>\n",
       "      <td>255.0</td>\n",
       "      <td>46.0</td>\n",
       "      <td>9759.0</td>\n",
       "      <td>216.0</td>\n",
       "      <td>0.541401</td>\n",
       "      <td>0.004691</td>\n",
       "      <td>0.847176</td>\n",
       "    </tr>\n",
       "    <tr>\n",
       "      <th>ROBB</th>\n",
       "      <td>960.0</td>\n",
       "      <td>135.0</td>\n",
       "      <td>8702.0</td>\n",
       "      <td>479.0</td>\n",
       "      <td>0.667130</td>\n",
       "      <td>0.015277</td>\n",
       "      <td>0.876712</td>\n",
       "    </tr>\n",
       "    <tr>\n",
       "      <th>TASR</th>\n",
       "      <td>6.0</td>\n",
       "      <td>0.0</td>\n",
       "      <td>10237.0</td>\n",
       "      <td>33.0</td>\n",
       "      <td>0.153846</td>\n",
       "      <td>0.000000</td>\n",
       "      <td>1.000000</td>\n",
       "    </tr>\n",
       "  </tbody>\n",
       "</table>\n",
       "</div>"
      ],
      "text/plain": [
       "           TP     FP       TN      FN       TPR       FPR       PPV\n",
       "OEMC      6.0    2.0  10236.0    32.0  0.157895  0.000195  0.750000\n",
       "CPD    4515.0  873.0   4034.0   854.0  0.840939  0.177909  0.837973\n",
       "SAO     639.0  192.0   9114.0   331.0  0.658763  0.020632  0.768953\n",
       "CCCC    315.0  108.0   9414.0   439.0  0.417772  0.011342  0.744681\n",
       "CCJ     126.0   27.0  10009.0   114.0  0.525000  0.002690  0.823529\n",
       "CCSP    255.0   59.0   9818.0   144.0  0.639098  0.005973  0.812102\n",
       "CPUB     21.0    2.0  10203.0    50.0  0.295775  0.000196  0.913043\n",
       "IDOC     21.0    8.0  10172.0    75.0  0.218750  0.000786  0.724138\n",
       "DOMV    249.0   53.0   9727.0   247.0  0.502016  0.005419  0.824503\n",
       "SEXA    534.0   21.0   9536.0   185.0  0.742698  0.002197  0.962162\n",
       "POLB     62.0   14.0  10093.0   107.0  0.366864  0.001385  0.815789\n",
       "POLM    143.0   38.0   9917.0   178.0  0.445483  0.003817  0.790055\n",
       "GUNV   3476.0  198.0   6106.0   496.0  0.875126  0.031409  0.946108\n",
       "GLBTQ     5.0    2.0  10236.0    33.0  0.131579  0.000195  0.714286\n",
       "JUVE    442.0  188.0   9007.0   639.0  0.408881  0.020446  0.701587\n",
       "REEN      5.0    1.0  10245.0    25.0  0.166667  0.000098  0.833333\n",
       "VIOL   3382.0  954.0   4752.0  1188.0  0.740044  0.167192  0.779982\n",
       "BEAT     23.0   10.0  10172.0    71.0  0.244681  0.000982  0.696970\n",
       "PROB     22.0    6.0  10180.0    68.0  0.244444  0.000589  0.785714\n",
       "PARL     34.0   15.0  10152.0    75.0  0.311927  0.001475  0.693878\n",
       "CPLY     27.0   10.0  10105.0   134.0  0.167702  0.000989  0.729730\n",
       "DRUG    367.0   58.0   9485.0   366.0  0.500682  0.006078  0.863529\n",
       "CPS     196.0   21.0   9949.0   110.0  0.640523  0.002106  0.903226\n",
       "GANG    610.0  134.0   9120.0   412.0  0.596869  0.014480  0.819892\n",
       "ILSP    164.0   34.0   9989.0    89.0  0.648221  0.003392  0.828283\n",
       "HOMI   2804.0  313.0   6657.0   502.0  0.848155  0.044907  0.899583\n",
       "IPRA     65.0   16.0  10140.0    55.0  0.541667  0.001575  0.802469\n",
       "CPBD      3.0    4.0  10233.0    36.0  0.076923  0.000391  0.428571\n",
       "IMMG     10.0    2.0  10232.0    32.0  0.238095  0.000195  0.833333\n",
       "ENVI      1.0    0.0  10268.0     7.0  0.125000  0.000000  1.000000\n",
       "UNSPC  1508.0  637.0   6866.0  1265.0  0.543815  0.084899  0.703030\n",
       "ILSC      4.0    2.0  10227.0    43.0  0.085106  0.000196  0.666667\n",
       "ARSN     42.0    5.0  10161.0    68.0  0.381818  0.000492  0.893617\n",
       "BURG    146.0   31.0   9857.0   242.0  0.376289  0.003135  0.824859\n",
       "DUI     253.0   34.0   9883.0   106.0  0.704735  0.003428  0.881533\n",
       "FRUD    255.0   46.0   9759.0   216.0  0.541401  0.004691  0.847176\n",
       "ROBB    960.0  135.0   8702.0   479.0  0.667130  0.015277  0.876712\n",
       "TASR      6.0    0.0  10237.0    33.0  0.153846  0.000000  1.000000"
      ]
     },
     "execution_count": 8,
     "metadata": {},
     "output_type": "execute_result"
    }
   ],
   "source": [
    "perf = pd.DataFrame()\n",
    "\n",
    "for i in range(Y_hat.shape[1]):\n",
    "    tag = tst.columns[7+i]\n",
    "    perf.loc['TP', tag] = sum((Y_hat[:,i] > .5) & (Y_tst[:,i] == 1))\n",
    "    perf.loc['FP', tag] = sum((Y_hat[:,i] > .5) & (Y_tst[:,i] == 0))\n",
    "    perf.loc['TN', tag] = sum((Y_hat[:,i] < .5) & (Y_tst[:,i] == 0))\n",
    "    perf.loc['FN', tag] = sum((Y_hat[:,i] < .5) & (Y_tst[:,i] == 1))\n",
    "    perf.loc['TPR', tag] = perf.loc['TP', tag] / (perf.loc['TP', tag] + perf.loc['FN', tag])\n",
    "    perf.loc['FPR', tag] = perf.loc['FP', tag] / (perf.loc['FP', tag] + perf.loc['TN', tag])\n",
    "    perf.loc['PPV', tag] = perf.loc['TP', tag] / (perf.loc['TP', tag] + perf.loc['FP', tag])\n",
    "\n",
    "perf = perf.T\n",
    "perf"
   ]
  },
  {
   "cell_type": "code",
   "execution_count": 9,
   "metadata": {
    "collapsed": false,
    "scrolled": false
   },
   "outputs": [
    {
     "data": {
      "image/png": "[encoded data removed]",
      "text/plain": [
       "<matplotlib.figure.Figure at 0x1d78cdaa6d8>"
      ]
     },
     "metadata": {},
     "output_type": "display_data"
    }
   ],
   "source": [
    "perf['TPR'].plot(kind='bar', ylim=[0,1], width=0.9)\n",
    "plt.ylabel('TPR');"
   ]
  },
  {
   "cell_type": "code",
   "execution_count": 10,
   "metadata": {
    "collapsed": false
   },
   "outputs": [
    {
     "data": {
      "image/png": "[encoded data removed]",
      "text/plain": [
       "<matplotlib.figure.Figure at 0x1d7f3a51128>"
      ]
     },
     "metadata": {},
     "output_type": "display_data"
    }
   ],
   "source": [
    "(1 - perf['FPR']).plot(kind='bar', ylim=[0,1], width=0.9)\n",
    "plt.ylabel('1 - FPR');"
   ]
  },
  {
   "cell_type": "code",
   "execution_count": 11,
   "metadata": {
    "collapsed": false
   },
   "outputs": [
    {
     "data": {
      "image/png": "[encoded data removed]",
      "text/plain": [
       "<matplotlib.figure.Figure at 0x1d7e6c0f860>"
      ]
     },
     "metadata": {},
     "output_type": "display_data"
    }
   ],
   "source": [
    "perf['PPV'].plot(kind='bar', ylim=[0,1], width=0.9)\n",
    "plt.ylabel('PPV');"
   ]
  },
  {
   "cell_type": "code",
   "execution_count": 12,
   "metadata": {
    "collapsed": true
   },
   "outputs": [],
   "source": [
    "import benchmark_tagging as bt"
   ]
  },
  {
   "cell_type": "code",
   "execution_count": 13,
   "metadata": {
    "collapsed": false
   },
   "outputs": [
    {
     "name": "stdout",
     "output_type": "stream",
     "text": [
      "[0.96518166621598367, 0.96507618456394406, 0.96487949992931643, 0.9657184828238996]\n"
     ]
    }
   ],
   "source": [
    "print(bt.benchmark(\n",
    "    lambda: sklearn.multiclass.OneVsRestClassifier(\n",
    "        sklearn.linear_model.LogisticRegression()\n",
    "    ),\n",
    "    vectorizer.transform(crime_df['bodytext'].values),\n",
    "    crime_df.loc[:, 'OEMC':'TASR'].values\n",
    "))"
   ]
  },
  {
   "cell_type": "code",
   "execution_count": 14,
   "metadata": {
    "collapsed": false
   },
   "outputs": [
    {
     "data": {
      "text/plain": [
       "<module 'benchmark_tagging' from 'C:\\\\Users\\\\kevin.rose\\\\Documents\\\\GitHub\\\\cjp-article-tagging\\\\src\\\\benchmark_tagging.py'>"
      ]
     },
     "execution_count": 14,
     "metadata": {},
     "output_type": "execute_result"
    }
   ],
   "source": [
    "from importlib import reload\n",
    "reload(bt)"
   ]
  },
  {
   "cell_type": "code",
   "execution_count": 15,
   "metadata": {
    "collapsed": false
   },
   "outputs": [
    {
     "name": "stdout",
     "output_type": "stream",
     "text": [
      "0.965213958383\n"
     ]
    }
   ],
   "source": [
    "print(np.mean([0.96518166621598367, 0.96507618456394406, 0.96487949992931643, 0.9657184828238996]))"
   ]
  },
  {
   "cell_type": "code",
   "execution_count": null,
   "metadata": {
    "collapsed": true
   },
   "outputs": [],
   "source": []
  }
 ],
 "metadata": {
  "anaconda-cloud": {},
  "kernelspec": {
   "display_name": "Python [conda env:py35]",
   "language": "python",
   "name": "conda-env-py35-py"
  },
  "language_info": {
   "codemirror_mode": {
    "name": "ipython",
    "version": 3
   },
   "file_extension": ".py",
   "mimetype": "text/x-python",
   "name": "python",
   "nbconvert_exporter": "python",
   "pygments_lexer": "ipython3",
   "version": "3.5.2"
  }
 },
 "nbformat": 4,
 "nbformat_minor": 2
}
